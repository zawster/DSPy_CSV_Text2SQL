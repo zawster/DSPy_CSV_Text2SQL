{
  "cells": [
    {
      "cell_type": "code",
      "source": [],
      "metadata": {
        "id": "gIuN4gBNcIGD"
      },
      "execution_count": null,
      "outputs": []
    },
    {
      "cell_type": "code",
      "execution_count": 2,
      "metadata": {
        "colab": {
          "base_uri": "https://localhost:8080/"
        },
        "id": "Yl1q4WYlbem-",
        "outputId": "a87ceb84-a5cf-4576-9427-d52050d788ed"
      },
      "outputs": [
        {
          "output_type": "stream",
          "name": "stdout",
          "text": [
            "\u001b[2K     \u001b[90m━━━━━━━━━━━━━━━━━━━━━━━━━━━━━━━━━━━━━━━━\u001b[0m \u001b[32m276.3/276.3 kB\u001b[0m \u001b[31m5.2 MB/s\u001b[0m eta \u001b[36m0:00:00\u001b[0m\n",
            "\u001b[2K     \u001b[90m━━━━━━━━━━━━━━━━━━━━━━━━━━━━━━━━━━━━━━━━\u001b[0m \u001b[32m547.8/547.8 kB\u001b[0m \u001b[31m9.0 MB/s\u001b[0m eta \u001b[36m0:00:00\u001b[0m\n",
            "\u001b[2K     \u001b[90m━━━━━━━━━━━━━━━━━━━━━━━━━━━━━━━━━━━━━━━━\u001b[0m \u001b[32m302.2/302.2 kB\u001b[0m \u001b[31m10.8 MB/s\u001b[0m eta \u001b[36m0:00:00\u001b[0m\n",
            "\u001b[2K     \u001b[90m━━━━━━━━━━━━━━━━━━━━━━━━━━━━━━━━━━━━━━━━\u001b[0m \u001b[32m328.5/328.5 kB\u001b[0m \u001b[31m12.9 MB/s\u001b[0m eta \u001b[36m0:00:00\u001b[0m\n",
            "\u001b[2K     \u001b[90m━━━━━━━━━━━━━━━━━━━━━━━━━━━━━━━━━━━━━━━━\u001b[0m \u001b[32m380.1/380.1 kB\u001b[0m \u001b[31m14.8 MB/s\u001b[0m eta \u001b[36m0:00:00\u001b[0m\n",
            "\u001b[2K     \u001b[90m━━━━━━━━━━━━━━━━━━━━━━━━━━━━━━━━━━━━━━━━\u001b[0m \u001b[32m65.8/65.8 kB\u001b[0m \u001b[31m12.7 MB/s\u001b[0m eta \u001b[36m0:00:00\u001b[0m\n",
            "\u001b[2K     \u001b[90m━━━━━━━━━━━━━━━━━━━━━━━━━━━━━━━━━━━━━━━━\u001b[0m \u001b[32m53.6/53.6 kB\u001b[0m \u001b[31m6.7 MB/s\u001b[0m eta \u001b[36m0:00:00\u001b[0m\n",
            "\u001b[2K     \u001b[90m━━━━━━━━━━━━━━━━━━━━━━━━━━━━━━━━━━━━━━━━\u001b[0m \u001b[32m525.5/525.5 kB\u001b[0m \u001b[31m16.0 MB/s\u001b[0m eta \u001b[36m0:00:00\u001b[0m\n",
            "\u001b[2K     \u001b[90m━━━━━━━━━━━━━━━━━━━━━━━━━━━━━━━━━━━━━━━━\u001b[0m \u001b[32m2.4/2.4 MB\u001b[0m \u001b[31m24.4 MB/s\u001b[0m eta \u001b[36m0:00:00\u001b[0m\n",
            "\u001b[2K     \u001b[90m━━━━━━━━━━━━━━━━━━━━━━━━━━━━━━━━━━━━━━━━\u001b[0m \u001b[32m92.0/92.0 kB\u001b[0m \u001b[31m15.5 MB/s\u001b[0m eta \u001b[36m0:00:00\u001b[0m\n",
            "\u001b[2K     \u001b[90m━━━━━━━━━━━━━━━━━━━━━━━━━━━━━━━━━━━━━━━━\u001b[0m \u001b[32m62.4/62.4 kB\u001b[0m \u001b[31m11.8 MB/s\u001b[0m eta \u001b[36m0:00:00\u001b[0m\n",
            "\u001b[2K     \u001b[90m━━━━━━━━━━━━━━━━━━━━━━━━━━━━━━━━━━━━━━━━\u001b[0m \u001b[32m41.3/41.3 kB\u001b[0m \u001b[31m7.2 MB/s\u001b[0m eta \u001b[36m0:00:00\u001b[0m\n",
            "\u001b[2K     \u001b[90m━━━━━━━━━━━━━━━━━━━━━━━━━━━━━━━━━━━━━━━━\u001b[0m \u001b[32m5.4/5.4 MB\u001b[0m \u001b[31m41.2 MB/s\u001b[0m eta \u001b[36m0:00:00\u001b[0m\n",
            "\u001b[2K     \u001b[90m━━━━━━━━━━━━━━━━━━━━━━━━━━━━━━━━━━━━━━━━\u001b[0m \u001b[32m6.8/6.8 MB\u001b[0m \u001b[31m61.5 MB/s\u001b[0m eta \u001b[36m0:00:00\u001b[0m\n",
            "\u001b[2K     \u001b[90m━━━━━━━━━━━━━━━━━━━━━━━━━━━━━━━━━━━━━━━━\u001b[0m \u001b[32m59.9/59.9 kB\u001b[0m \u001b[31m9.5 MB/s\u001b[0m eta \u001b[36m0:00:00\u001b[0m\n",
            "\u001b[2K     \u001b[90m━━━━━━━━━━━━━━━━━━━━━━━━━━━━━━━━━━━━━━━━\u001b[0m \u001b[32m107.0/107.0 kB\u001b[0m \u001b[31m18.0 MB/s\u001b[0m eta \u001b[36m0:00:00\u001b[0m\n",
            "\u001b[2K     \u001b[90m━━━━━━━━━━━━━━━━━━━━━━━━━━━━━━━━━━━━━━━━\u001b[0m \u001b[32m67.3/67.3 kB\u001b[0m \u001b[31m13.2 MB/s\u001b[0m eta \u001b[36m0:00:00\u001b[0m\n",
            "\u001b[?25h  Installing build dependencies ... \u001b[?25l\u001b[?25hdone\n",
            "  Getting requirements to build wheel ... \u001b[?25l\u001b[?25hdone\n",
            "  Preparing metadata (pyproject.toml) ... \u001b[?25l\u001b[?25hdone\n",
            "\u001b[2K     \u001b[90m━━━━━━━━━━━━━━━━━━━━━━━━━━━━━━━━━━━━━━━━\u001b[0m \u001b[32m283.7/283.7 kB\u001b[0m \u001b[31m41.1 MB/s\u001b[0m eta \u001b[36m0:00:00\u001b[0m\n",
            "\u001b[2K     \u001b[90m━━━━━━━━━━━━━━━━━━━━━━━━━━━━━━━━━━━━━━━━\u001b[0m \u001b[32m1.7/1.7 MB\u001b[0m \u001b[31m66.1 MB/s\u001b[0m eta \u001b[36m0:00:00\u001b[0m\n",
            "\u001b[2K     \u001b[90m━━━━━━━━━━━━━━━━━━━━━━━━━━━━━━━━━━━━━━━━\u001b[0m \u001b[32m67.6/67.6 kB\u001b[0m \u001b[31m11.5 MB/s\u001b[0m eta \u001b[36m0:00:00\u001b[0m\n",
            "\u001b[2K     \u001b[90m━━━━━━━━━━━━━━━━━━━━━━━━━━━━━━━━━━━━━━━━\u001b[0m \u001b[32m141.1/141.1 kB\u001b[0m \u001b[31m25.4 MB/s\u001b[0m eta \u001b[36m0:00:00\u001b[0m\n",
            "\u001b[2K     \u001b[90m━━━━━━━━━━━━━━━━━━━━━━━━━━━━━━━━━━━━━━━━\u001b[0m \u001b[32m75.6/75.6 kB\u001b[0m \u001b[31m11.8 MB/s\u001b[0m eta \u001b[36m0:00:00\u001b[0m\n",
            "\u001b[2K     \u001b[90m━━━━━━━━━━━━━━━━━━━━━━━━━━━━━━━━━━━━━━━━\u001b[0m \u001b[32m40.8/40.8 MB\u001b[0m \u001b[31m16.8 MB/s\u001b[0m eta \u001b[36m0:00:00\u001b[0m\n",
            "\u001b[2K     \u001b[90m━━━━━━━━━━━━━━━━━━━━━━━━━━━━━━━━━━━━━━━━\u001b[0m \u001b[32m116.3/116.3 kB\u001b[0m \u001b[31m18.9 MB/s\u001b[0m eta \u001b[36m0:00:00\u001b[0m\n",
            "\u001b[2K     \u001b[90m━━━━━━━━━━━━━━━━━━━━━━━━━━━━━━━━━━━━━━━━\u001b[0m \u001b[32m64.9/64.9 kB\u001b[0m \u001b[31m11.1 MB/s\u001b[0m eta \u001b[36m0:00:00\u001b[0m\n",
            "\u001b[2K     \u001b[90m━━━━━━━━━━━━━━━━━━━━━━━━━━━━━━━━━━━━━━━━\u001b[0m \u001b[32m194.1/194.1 kB\u001b[0m \u001b[31m28.4 MB/s\u001b[0m eta \u001b[36m0:00:00\u001b[0m\n",
            "\u001b[2K     \u001b[90m━━━━━━━━━━━━━━━━━━━━━━━━━━━━━━━━━━━━━━━━\u001b[0m \u001b[32m134.8/134.8 kB\u001b[0m \u001b[31m22.3 MB/s\u001b[0m eta \u001b[36m0:00:00\u001b[0m\n",
            "\u001b[2K     \u001b[90m━━━━━━━━━━━━━━━━━━━━━━━━━━━━━━━━━━━━━━━━\u001b[0m \u001b[32m233.0/233.0 kB\u001b[0m \u001b[31m36.6 MB/s\u001b[0m eta \u001b[36m0:00:00\u001b[0m\n",
            "\u001b[2K     \u001b[90m━━━━━━━━━━━━━━━━━━━━━━━━━━━━━━━━━━━━━━━━\u001b[0m \u001b[32m78.6/78.6 kB\u001b[0m \u001b[31m13.3 MB/s\u001b[0m eta \u001b[36m0:00:00\u001b[0m\n",
            "\u001b[2K     \u001b[90m━━━━━━━━━━━━━━━━━━━━━━━━━━━━━━━━━━━━━━━━\u001b[0m \u001b[32m71.9/71.9 kB\u001b[0m \u001b[31m12.8 MB/s\u001b[0m eta \u001b[36m0:00:00\u001b[0m\n",
            "\u001b[2K     \u001b[90m━━━━━━━━━━━━━━━━━━━━━━━━━━━━━━━━━━━━━━━━\u001b[0m \u001b[32m77.9/77.9 kB\u001b[0m \u001b[31m12.4 MB/s\u001b[0m eta \u001b[36m0:00:00\u001b[0m\n",
            "\u001b[2K     \u001b[90m━━━━━━━━━━━━━━━━━━━━━━━━━━━━━━━━━━━━━━━━\u001b[0m \u001b[32m58.3/58.3 kB\u001b[0m \u001b[31m11.6 MB/s\u001b[0m eta \u001b[36m0:00:00\u001b[0m\n",
            "\u001b[2K     \u001b[90m━━━━━━━━━━━━━━━━━━━━━━━━━━━━━━━━━━━━━━━━\u001b[0m \u001b[32m46.0/46.0 kB\u001b[0m \u001b[31m7.9 MB/s\u001b[0m eta \u001b[36m0:00:00\u001b[0m\n",
            "\u001b[2K     \u001b[90m━━━━━━━━━━━━━━━━━━━━━━━━━━━━━━━━━━━━━━━━\u001b[0m \u001b[32m52.5/52.5 kB\u001b[0m \u001b[31m10.1 MB/s\u001b[0m eta \u001b[36m0:00:00\u001b[0m\n",
            "\u001b[2K     \u001b[90m━━━━━━━━━━━━━━━━━━━━━━━━━━━━━━━━━━━━━━━━\u001b[0m \u001b[32m130.5/130.5 kB\u001b[0m \u001b[31m23.4 MB/s\u001b[0m eta \u001b[36m0:00:00\u001b[0m\n",
            "\u001b[2K     \u001b[90m━━━━━━━━━━━━━━━━━━━━━━━━━━━━━━━━━━━━━━━━\u001b[0m \u001b[32m341.4/341.4 kB\u001b[0m \u001b[31m48.1 MB/s\u001b[0m eta \u001b[36m0:00:00\u001b[0m\n",
            "\u001b[2K     \u001b[90m━━━━━━━━━━━━━━━━━━━━━━━━━━━━━━━━━━━━━━━━\u001b[0m \u001b[32m3.4/3.4 MB\u001b[0m \u001b[31m103.7 MB/s\u001b[0m eta \u001b[36m0:00:00\u001b[0m\n",
            "\u001b[2K     \u001b[90m━━━━━━━━━━━━━━━━━━━━━━━━━━━━━━━━━━━━━━━━\u001b[0m \u001b[32m1.2/1.2 MB\u001b[0m \u001b[31m81.4 MB/s\u001b[0m eta \u001b[36m0:00:00\u001b[0m\n",
            "\u001b[2K     \u001b[90m━━━━━━━━━━━━━━━━━━━━━━━━━━━━━━━━━━━━━━━━\u001b[0m \u001b[32m130.2/130.2 kB\u001b[0m \u001b[31m20.9 MB/s\u001b[0m eta \u001b[36m0:00:00\u001b[0m\n",
            "\u001b[2K     \u001b[90m━━━━━━━━━━━━━━━━━━━━━━━━━━━━━━━━━━━━━━━━\u001b[0m \u001b[32m307.7/307.7 kB\u001b[0m \u001b[31m33.6 MB/s\u001b[0m eta \u001b[36m0:00:00\u001b[0m\n",
            "\u001b[2K     \u001b[90m━━━━━━━━━━━━━━━━━━━━━━━━━━━━━━━━━━━━━━━━\u001b[0m \u001b[32m86.8/86.8 kB\u001b[0m \u001b[31m16.3 MB/s\u001b[0m eta \u001b[36m0:00:00\u001b[0m\n",
            "\u001b[?25h  Building wheel for pypika (pyproject.toml) ... \u001b[?25l\u001b[?25hdone\n",
            "\u001b[31mERROR: pip's dependency resolver does not currently take into account all the packages that are installed. This behaviour is the source of the following dependency conflicts.\n",
            "cudf-cu12 24.4.1 requires pyarrow<15.0.0a0,>=14.0.1, but you have pyarrow 16.1.0 which is incompatible.\n",
            "google-colab 1.0.0 requires requests==2.31.0, but you have requests 2.32.3 which is incompatible.\n",
            "ibis-framework 8.0.0 requires pyarrow<16,>=2, but you have pyarrow 16.1.0 which is incompatible.\u001b[0m\u001b[31m\n",
            "\u001b[0m"
          ]
        }
      ],
      "source": [
        "#Dependencies\n",
        "!pip install dspy-ai[chromadb] -Uqq\n",
        "!pip install termcolor -Uqq\n",
        "!pip install sqlalchemy -Uqq"
      ]
    },
    {
      "cell_type": "markdown",
      "metadata": {
        "id": "Fo3nYGSCbenB"
      },
      "source": [
        "#### Importing utilities"
      ]
    },
    {
      "cell_type": "code",
      "execution_count": 3,
      "metadata": {
        "id": "htY_35VdbenE"
      },
      "outputs": [],
      "source": [
        "#imports\n",
        "from bs4 import BeautifulSoup\n",
        "import urllib.request\n",
        "import ssl\n",
        "import openai\n",
        "import os\n",
        "import requests\n",
        "import warnings\n",
        "warnings.filterwarnings(\"ignore\")\n",
        "from tqdm import tqdm\n",
        "import pandas as pd\n",
        "import json\n",
        "from sqlalchemy import (\n",
        "    create_engine,\n",
        "    MetaData,\n",
        "    Table,\n",
        "    Column,\n",
        "    String,\n",
        "    Integer,\n",
        ")\n",
        "import re\n",
        "from sqlalchemy import inspect\n",
        "import sqlalchemy\n",
        "from sqlalchemy import text\n",
        "import dspy\n",
        "from typing import List\n",
        "from termcolor import colored\n",
        "import chromadb"
      ]
    },
    {
      "cell_type": "code",
      "execution_count": 4,
      "metadata": {
        "colab": {
          "base_uri": "https://localhost:8080/"
        },
        "id": "jB9jvfSJbenG",
        "outputId": "f0ec0b7b-defe-4e26-b5f8-b5c8ed48f908"
      },
      "outputs": [
        {
          "output_type": "execute_result",
          "data": {
            "text/plain": [
              "True"
            ]
          },
          "metadata": {},
          "execution_count": 4
        }
      ],
      "source": [
        "from dsp.modules.cache_utils import cache_turn_on\n",
        "\n",
        "cache_turn_on"
      ]
    },
    {
      "cell_type": "markdown",
      "source": [
        "### Loading data"
      ],
      "metadata": {
        "id": "ZM-FsGibqggF"
      }
    },
    {
      "cell_type": "code",
      "source": [],
      "metadata": {
        "id": "ftLf60fRqfKb"
      },
      "execution_count": null,
      "outputs": []
    },
    {
      "cell_type": "code",
      "execution_count": 11,
      "metadata": {
        "id": "iNs7oAo0benN"
      },
      "outputs": [],
      "source": [
        "df = pd.read_csv(\"ERP_Data/AP_SUPPLIERS.csv\")"
      ]
    },
    {
      "cell_type": "code",
      "source": [
        "df.head()"
      ],
      "metadata": {
        "colab": {
          "base_uri": "https://localhost:8080/",
          "height": 360
        },
        "id": "wj7gcDRxr4fk",
        "outputId": "9d1e51cf-9d36-46f4-f500-d9b28e9bdc02"
      },
      "execution_count": 12,
      "outputs": [
        {
          "output_type": "execute_result",
          "data": {
            "text/plain": [
              "   VENDOR_ID LAST_UPDATE_DATE    LAST_UPDATED_BY     VENDOR_NAME  \\\n",
              "0       7136        5/25/2024      Sylvia Brooks   Ware-Williams   \n",
              "1       8667        3/29/2024  Samuel Cunningham     Burnett PLC   \n",
              "2       2023        2/24/2024       Monica Scott   Martin-Hudson   \n",
              "3       6187        3/24/2024      Mark Reynolds  Spencer-Garner   \n",
              "4       9934        4/21/2024      Heidi Simpson      Moore-Gill   \n",
              "\n",
              "                 VENDOR_NAME_ALT SEGMENT1 SUMMARY_FLAG ENABLED_FLAG  \\\n",
              "0  Hernandez, George and Ramirez    throw            Y            N   \n",
              "1    Larson, Mcdaniel and Jarvis  trouble            Y            Y   \n",
              "2   Stewart, Franklin and George      say            Y            N   \n",
              "3                   Sullivan Ltd     when            N            Y   \n",
              "4        Glenn, Dawson and Lewis       if            Y            N   \n",
              "\n",
              "   LAST_UPDATE_LOGIN CREATION_DATE  ... AMOUNT_INCLUDES_TAX_FLAG  \\\n",
              "0             649559     2/28/2024  ...                        N   \n",
              "1             887153      3/5/2024  ...                        Y   \n",
              "2             435433     6/13/2024  ...                        Y   \n",
              "3             997477     6/16/2024  ...                        Y   \n",
              "4             600852      2/2/2024  ...                        Y   \n",
              "\n",
              "   PROGRAM_UPDATE_DATE VAT_REGISTRATION_NUM AUTO_CALCULATE_INTEREST_FLAG  \\\n",
              "0            4/10/2024               232818                            N   \n",
              "1             5/6/2024               983779                            Y   \n",
              "2            6/12/2024               995433                            N   \n",
              "3            3/16/2024               776490                            Y   \n",
              "4            5/21/2024               520238                            Y   \n",
              "\n",
              "   EXCLUDE_FREIGHT_FROM_DISCOUNT MATCH_OPTION OFFSET_TAX_FLAG  PARTY_ID  \\\n",
              "0                              N         foot               Y    962003   \n",
              "1                              Y   commercial               Y    936681   \n",
              "2                              N      outside               N    644458   \n",
              "3                              Y       father               Y    208584   \n",
              "4                              N      without               N    268863   \n",
              "\n",
              "  TCA_SYNC_VENDOR_NAME TCA_SYNC_VAT_REG_NUM  \n",
              "0              century               637630  \n",
              "1                 like               811016  \n",
              "2               lawyer               959161  \n",
              "3                truth               800789  \n",
              "4              imagine               881960  \n",
              "\n",
              "[5 rows x 47 columns]"
            ],
            "text/html": [
              "\n",
              "  <div id=\"df-db222e5c-5747-4a0a-bdfc-e78b8dca6e8a\" class=\"colab-df-container\">\n",
              "    <div>\n",
              "<style scoped>\n",
              "    .dataframe tbody tr th:only-of-type {\n",
              "        vertical-align: middle;\n",
              "    }\n",
              "\n",
              "    .dataframe tbody tr th {\n",
              "        vertical-align: top;\n",
              "    }\n",
              "\n",
              "    .dataframe thead th {\n",
              "        text-align: right;\n",
              "    }\n",
              "</style>\n",
              "<table border=\"1\" class=\"dataframe\">\n",
              "  <thead>\n",
              "    <tr style=\"text-align: right;\">\n",
              "      <th></th>\n",
              "      <th>VENDOR_ID</th>\n",
              "      <th>LAST_UPDATE_DATE</th>\n",
              "      <th>LAST_UPDATED_BY</th>\n",
              "      <th>VENDOR_NAME</th>\n",
              "      <th>VENDOR_NAME_ALT</th>\n",
              "      <th>SEGMENT1</th>\n",
              "      <th>SUMMARY_FLAG</th>\n",
              "      <th>ENABLED_FLAG</th>\n",
              "      <th>LAST_UPDATE_LOGIN</th>\n",
              "      <th>CREATION_DATE</th>\n",
              "      <th>...</th>\n",
              "      <th>AMOUNT_INCLUDES_TAX_FLAG</th>\n",
              "      <th>PROGRAM_UPDATE_DATE</th>\n",
              "      <th>VAT_REGISTRATION_NUM</th>\n",
              "      <th>AUTO_CALCULATE_INTEREST_FLAG</th>\n",
              "      <th>EXCLUDE_FREIGHT_FROM_DISCOUNT</th>\n",
              "      <th>MATCH_OPTION</th>\n",
              "      <th>OFFSET_TAX_FLAG</th>\n",
              "      <th>PARTY_ID</th>\n",
              "      <th>TCA_SYNC_VENDOR_NAME</th>\n",
              "      <th>TCA_SYNC_VAT_REG_NUM</th>\n",
              "    </tr>\n",
              "  </thead>\n",
              "  <tbody>\n",
              "    <tr>\n",
              "      <th>0</th>\n",
              "      <td>7136</td>\n",
              "      <td>5/25/2024</td>\n",
              "      <td>Sylvia Brooks</td>\n",
              "      <td>Ware-Williams</td>\n",
              "      <td>Hernandez, George and Ramirez</td>\n",
              "      <td>throw</td>\n",
              "      <td>Y</td>\n",
              "      <td>N</td>\n",
              "      <td>649559</td>\n",
              "      <td>2/28/2024</td>\n",
              "      <td>...</td>\n",
              "      <td>N</td>\n",
              "      <td>4/10/2024</td>\n",
              "      <td>232818</td>\n",
              "      <td>N</td>\n",
              "      <td>N</td>\n",
              "      <td>foot</td>\n",
              "      <td>Y</td>\n",
              "      <td>962003</td>\n",
              "      <td>century</td>\n",
              "      <td>637630</td>\n",
              "    </tr>\n",
              "    <tr>\n",
              "      <th>1</th>\n",
              "      <td>8667</td>\n",
              "      <td>3/29/2024</td>\n",
              "      <td>Samuel Cunningham</td>\n",
              "      <td>Burnett PLC</td>\n",
              "      <td>Larson, Mcdaniel and Jarvis</td>\n",
              "      <td>trouble</td>\n",
              "      <td>Y</td>\n",
              "      <td>Y</td>\n",
              "      <td>887153</td>\n",
              "      <td>3/5/2024</td>\n",
              "      <td>...</td>\n",
              "      <td>Y</td>\n",
              "      <td>5/6/2024</td>\n",
              "      <td>983779</td>\n",
              "      <td>Y</td>\n",
              "      <td>Y</td>\n",
              "      <td>commercial</td>\n",
              "      <td>Y</td>\n",
              "      <td>936681</td>\n",
              "      <td>like</td>\n",
              "      <td>811016</td>\n",
              "    </tr>\n",
              "    <tr>\n",
              "      <th>2</th>\n",
              "      <td>2023</td>\n",
              "      <td>2/24/2024</td>\n",
              "      <td>Monica Scott</td>\n",
              "      <td>Martin-Hudson</td>\n",
              "      <td>Stewart, Franklin and George</td>\n",
              "      <td>say</td>\n",
              "      <td>Y</td>\n",
              "      <td>N</td>\n",
              "      <td>435433</td>\n",
              "      <td>6/13/2024</td>\n",
              "      <td>...</td>\n",
              "      <td>Y</td>\n",
              "      <td>6/12/2024</td>\n",
              "      <td>995433</td>\n",
              "      <td>N</td>\n",
              "      <td>N</td>\n",
              "      <td>outside</td>\n",
              "      <td>N</td>\n",
              "      <td>644458</td>\n",
              "      <td>lawyer</td>\n",
              "      <td>959161</td>\n",
              "    </tr>\n",
              "    <tr>\n",
              "      <th>3</th>\n",
              "      <td>6187</td>\n",
              "      <td>3/24/2024</td>\n",
              "      <td>Mark Reynolds</td>\n",
              "      <td>Spencer-Garner</td>\n",
              "      <td>Sullivan Ltd</td>\n",
              "      <td>when</td>\n",
              "      <td>N</td>\n",
              "      <td>Y</td>\n",
              "      <td>997477</td>\n",
              "      <td>6/16/2024</td>\n",
              "      <td>...</td>\n",
              "      <td>Y</td>\n",
              "      <td>3/16/2024</td>\n",
              "      <td>776490</td>\n",
              "      <td>Y</td>\n",
              "      <td>Y</td>\n",
              "      <td>father</td>\n",
              "      <td>Y</td>\n",
              "      <td>208584</td>\n",
              "      <td>truth</td>\n",
              "      <td>800789</td>\n",
              "    </tr>\n",
              "    <tr>\n",
              "      <th>4</th>\n",
              "      <td>9934</td>\n",
              "      <td>4/21/2024</td>\n",
              "      <td>Heidi Simpson</td>\n",
              "      <td>Moore-Gill</td>\n",
              "      <td>Glenn, Dawson and Lewis</td>\n",
              "      <td>if</td>\n",
              "      <td>Y</td>\n",
              "      <td>N</td>\n",
              "      <td>600852</td>\n",
              "      <td>2/2/2024</td>\n",
              "      <td>...</td>\n",
              "      <td>Y</td>\n",
              "      <td>5/21/2024</td>\n",
              "      <td>520238</td>\n",
              "      <td>Y</td>\n",
              "      <td>N</td>\n",
              "      <td>without</td>\n",
              "      <td>N</td>\n",
              "      <td>268863</td>\n",
              "      <td>imagine</td>\n",
              "      <td>881960</td>\n",
              "    </tr>\n",
              "  </tbody>\n",
              "</table>\n",
              "<p>5 rows × 47 columns</p>\n",
              "</div>\n",
              "    <div class=\"colab-df-buttons\">\n",
              "\n",
              "  <div class=\"colab-df-container\">\n",
              "    <button class=\"colab-df-convert\" onclick=\"convertToInteractive('df-db222e5c-5747-4a0a-bdfc-e78b8dca6e8a')\"\n",
              "            title=\"Convert this dataframe to an interactive table.\"\n",
              "            style=\"display:none;\">\n",
              "\n",
              "  <svg xmlns=\"http://www.w3.org/2000/svg\" height=\"24px\" viewBox=\"0 -960 960 960\">\n",
              "    <path d=\"M120-120v-720h720v720H120Zm60-500h600v-160H180v160Zm220 220h160v-160H400v160Zm0 220h160v-160H400v160ZM180-400h160v-160H180v160Zm440 0h160v-160H620v160ZM180-180h160v-160H180v160Zm440 0h160v-160H620v160Z\"/>\n",
              "  </svg>\n",
              "    </button>\n",
              "\n",
              "  <style>\n",
              "    .colab-df-container {\n",
              "      display:flex;\n",
              "      gap: 12px;\n",
              "    }\n",
              "\n",
              "    .colab-df-convert {\n",
              "      background-color: #E8F0FE;\n",
              "      border: none;\n",
              "      border-radius: 50%;\n",
              "      cursor: pointer;\n",
              "      display: none;\n",
              "      fill: #1967D2;\n",
              "      height: 32px;\n",
              "      padding: 0 0 0 0;\n",
              "      width: 32px;\n",
              "    }\n",
              "\n",
              "    .colab-df-convert:hover {\n",
              "      background-color: #E2EBFA;\n",
              "      box-shadow: 0px 1px 2px rgba(60, 64, 67, 0.3), 0px 1px 3px 1px rgba(60, 64, 67, 0.15);\n",
              "      fill: #174EA6;\n",
              "    }\n",
              "\n",
              "    .colab-df-buttons div {\n",
              "      margin-bottom: 4px;\n",
              "    }\n",
              "\n",
              "    [theme=dark] .colab-df-convert {\n",
              "      background-color: #3B4455;\n",
              "      fill: #D2E3FC;\n",
              "    }\n",
              "\n",
              "    [theme=dark] .colab-df-convert:hover {\n",
              "      background-color: #434B5C;\n",
              "      box-shadow: 0px 1px 3px 1px rgba(0, 0, 0, 0.15);\n",
              "      filter: drop-shadow(0px 1px 2px rgba(0, 0, 0, 0.3));\n",
              "      fill: #FFFFFF;\n",
              "    }\n",
              "  </style>\n",
              "\n",
              "    <script>\n",
              "      const buttonEl =\n",
              "        document.querySelector('#df-db222e5c-5747-4a0a-bdfc-e78b8dca6e8a button.colab-df-convert');\n",
              "      buttonEl.style.display =\n",
              "        google.colab.kernel.accessAllowed ? 'block' : 'none';\n",
              "\n",
              "      async function convertToInteractive(key) {\n",
              "        const element = document.querySelector('#df-db222e5c-5747-4a0a-bdfc-e78b8dca6e8a');\n",
              "        const dataTable =\n",
              "          await google.colab.kernel.invokeFunction('convertToInteractive',\n",
              "                                                    [key], {});\n",
              "        if (!dataTable) return;\n",
              "\n",
              "        const docLinkHtml = 'Like what you see? Visit the ' +\n",
              "          '<a target=\"_blank\" href=https://colab.research.google.com/notebooks/data_table.ipynb>data table notebook</a>'\n",
              "          + ' to learn more about interactive tables.';\n",
              "        element.innerHTML = '';\n",
              "        dataTable['output_type'] = 'display_data';\n",
              "        await google.colab.output.renderOutput(dataTable, element);\n",
              "        const docLink = document.createElement('div');\n",
              "        docLink.innerHTML = docLinkHtml;\n",
              "        element.appendChild(docLink);\n",
              "      }\n",
              "    </script>\n",
              "  </div>\n",
              "\n",
              "\n",
              "<div id=\"df-326444e5-dcac-4f74-917a-fe4d3676ea28\">\n",
              "  <button class=\"colab-df-quickchart\" onclick=\"quickchart('df-326444e5-dcac-4f74-917a-fe4d3676ea28')\"\n",
              "            title=\"Suggest charts\"\n",
              "            style=\"display:none;\">\n",
              "\n",
              "<svg xmlns=\"http://www.w3.org/2000/svg\" height=\"24px\"viewBox=\"0 0 24 24\"\n",
              "     width=\"24px\">\n",
              "    <g>\n",
              "        <path d=\"M19 3H5c-1.1 0-2 .9-2 2v14c0 1.1.9 2 2 2h14c1.1 0 2-.9 2-2V5c0-1.1-.9-2-2-2zM9 17H7v-7h2v7zm4 0h-2V7h2v10zm4 0h-2v-4h2v4z\"/>\n",
              "    </g>\n",
              "</svg>\n",
              "  </button>\n",
              "\n",
              "<style>\n",
              "  .colab-df-quickchart {\n",
              "      --bg-color: #E8F0FE;\n",
              "      --fill-color: #1967D2;\n",
              "      --hover-bg-color: #E2EBFA;\n",
              "      --hover-fill-color: #174EA6;\n",
              "      --disabled-fill-color: #AAA;\n",
              "      --disabled-bg-color: #DDD;\n",
              "  }\n",
              "\n",
              "  [theme=dark] .colab-df-quickchart {\n",
              "      --bg-color: #3B4455;\n",
              "      --fill-color: #D2E3FC;\n",
              "      --hover-bg-color: #434B5C;\n",
              "      --hover-fill-color: #FFFFFF;\n",
              "      --disabled-bg-color: #3B4455;\n",
              "      --disabled-fill-color: #666;\n",
              "  }\n",
              "\n",
              "  .colab-df-quickchart {\n",
              "    background-color: var(--bg-color);\n",
              "    border: none;\n",
              "    border-radius: 50%;\n",
              "    cursor: pointer;\n",
              "    display: none;\n",
              "    fill: var(--fill-color);\n",
              "    height: 32px;\n",
              "    padding: 0;\n",
              "    width: 32px;\n",
              "  }\n",
              "\n",
              "  .colab-df-quickchart:hover {\n",
              "    background-color: var(--hover-bg-color);\n",
              "    box-shadow: 0 1px 2px rgba(60, 64, 67, 0.3), 0 1px 3px 1px rgba(60, 64, 67, 0.15);\n",
              "    fill: var(--button-hover-fill-color);\n",
              "  }\n",
              "\n",
              "  .colab-df-quickchart-complete:disabled,\n",
              "  .colab-df-quickchart-complete:disabled:hover {\n",
              "    background-color: var(--disabled-bg-color);\n",
              "    fill: var(--disabled-fill-color);\n",
              "    box-shadow: none;\n",
              "  }\n",
              "\n",
              "  .colab-df-spinner {\n",
              "    border: 2px solid var(--fill-color);\n",
              "    border-color: transparent;\n",
              "    border-bottom-color: var(--fill-color);\n",
              "    animation:\n",
              "      spin 1s steps(1) infinite;\n",
              "  }\n",
              "\n",
              "  @keyframes spin {\n",
              "    0% {\n",
              "      border-color: transparent;\n",
              "      border-bottom-color: var(--fill-color);\n",
              "      border-left-color: var(--fill-color);\n",
              "    }\n",
              "    20% {\n",
              "      border-color: transparent;\n",
              "      border-left-color: var(--fill-color);\n",
              "      border-top-color: var(--fill-color);\n",
              "    }\n",
              "    30% {\n",
              "      border-color: transparent;\n",
              "      border-left-color: var(--fill-color);\n",
              "      border-top-color: var(--fill-color);\n",
              "      border-right-color: var(--fill-color);\n",
              "    }\n",
              "    40% {\n",
              "      border-color: transparent;\n",
              "      border-right-color: var(--fill-color);\n",
              "      border-top-color: var(--fill-color);\n",
              "    }\n",
              "    60% {\n",
              "      border-color: transparent;\n",
              "      border-right-color: var(--fill-color);\n",
              "    }\n",
              "    80% {\n",
              "      border-color: transparent;\n",
              "      border-right-color: var(--fill-color);\n",
              "      border-bottom-color: var(--fill-color);\n",
              "    }\n",
              "    90% {\n",
              "      border-color: transparent;\n",
              "      border-bottom-color: var(--fill-color);\n",
              "    }\n",
              "  }\n",
              "</style>\n",
              "\n",
              "  <script>\n",
              "    async function quickchart(key) {\n",
              "      const quickchartButtonEl =\n",
              "        document.querySelector('#' + key + ' button');\n",
              "      quickchartButtonEl.disabled = true;  // To prevent multiple clicks.\n",
              "      quickchartButtonEl.classList.add('colab-df-spinner');\n",
              "      try {\n",
              "        const charts = await google.colab.kernel.invokeFunction(\n",
              "            'suggestCharts', [key], {});\n",
              "      } catch (error) {\n",
              "        console.error('Error during call to suggestCharts:', error);\n",
              "      }\n",
              "      quickchartButtonEl.classList.remove('colab-df-spinner');\n",
              "      quickchartButtonEl.classList.add('colab-df-quickchart-complete');\n",
              "    }\n",
              "    (() => {\n",
              "      let quickchartButtonEl =\n",
              "        document.querySelector('#df-326444e5-dcac-4f74-917a-fe4d3676ea28 button');\n",
              "      quickchartButtonEl.style.display =\n",
              "        google.colab.kernel.accessAllowed ? 'block' : 'none';\n",
              "    })();\n",
              "  </script>\n",
              "</div>\n",
              "\n",
              "    </div>\n",
              "  </div>\n"
            ],
            "application/vnd.google.colaboratory.intrinsic+json": {
              "type": "dataframe",
              "variable_name": "df"
            }
          },
          "metadata": {},
          "execution_count": 12
        }
      ]
    },
    {
      "cell_type": "markdown",
      "metadata": {
        "id": "KqCZBPLUbenT"
      },
      "source": [
        "## BUILD TABLE NAMES AND METADATA\n",
        "\n",
        "* Here I use a DSPy signature given the first 10 rows of the dataframe, I generate the table name and table explanation. It will help to dynamically select the correct table based on the query."
      ]
    },
    {
      "cell_type": "code",
      "execution_count": 13,
      "metadata": {
        "colab": {
          "base_uri": "https://localhost:8080/",
          "height": 139
        },
        "id": "U8inxu-ibenU",
        "outputId": "56d43dd6-3a12-4cdf-b832-7eb65d881b09"
      },
      "outputs": [
        {
          "output_type": "execute_result",
          "data": {
            "text/plain": [
              "',VENDOR_ID,LAST_UPDATE_DATE,LAST_UPDATED_BY,VENDOR_NAME,VENDOR_NAME_ALT,SEGMENT1,SUMMARY_FLAG,ENABLED_FLAG,LAST_UPDATE_LOGIN,CREATION_DATE,CREATED_BY,EMPLOYEE_ID,VENDOR_TYPE_LOOKUP_CODE,ONE_TIME_FLAG,TERMS_ID,ALWAYS_TAKE_DISC_FLAG,PAY_DATE_BASIS_LOOKUP_CODE,PAYMENT_PRIORITY,INVOICE_CURRENCY_CODE,PAYMENT_CURRENCY_CODE,INVOICE_AMOUNT_LIMIT,HOLD_ALL_PAYMENTS_FLAG,HOLD_FUTURE_PAYMENTS_FLAG,START_DATE_ACTIVE,END_DATE_ACTIVE,PAYMENT_METHOD_LOOKUP_CODE,BANK_ACCOUNT_NAME,BANK_ACCOUNT_NUM,BANK_NUM,BANK_ACCOUNT_TYPE,WOMEN_OWNED_FLAG,SMALL_BUSINESS_FLAG,HOLD_FLAG,TERMS_DATE_BASIS,HOLD_UNMATCHED_INVOICES_FLAG,AP_TAX_ROUNDING_RULE,AUTO_TAX_CALC_FLAG,AMOUNT_INCLUDES_TAX_FLAG,PROGRAM_UPDATE_DATE,VAT_REGISTRATION_NUM,AUTO_CALCULATE_INTEREST_FLAG,EXCLUDE_FREIGHT_FROM_DISCOUNT,MATCH_OPTION,OFFSET_TAX_FLAG,PARTY_ID,TCA_SYNC_VENDOR_NAME,TCA_SYNC_VAT_REG_NUM\\n0,7136,5/25/2024,Sylvia Brooks,Ware-Williams,\"Hernandez, George and Ramirez\",throw,Y,N,649559,2/28/2024,Shelly Glover,3554,reason,N,7524,Y,result,10,JPY,EUR,29934.35,Y,Y,6/12/2024,5/6/2024,CITI,\"Brown, Ruiz and Sherman\",752888,4808,FOREIGN_CURRENCY_ACCOUNT,Y,N,N,amount,N,hair,Y,N,4/10/2024,232818,N,N,foot,Y,962003,century,637630\\n1,8667,3/29/2024,Samuel Cunningham,Burnett PLC,\"Larson, Mcdaniel and Jarvis\",trouble,Y,Y,887153,3/5/2024,Mackenzie Smith,6961,good,Y,5499,Y,hear,10,GBP,EUR,35755.41,Y,Y,2/28/2024,2/4/2024,SEPA,Reed-Jackson,178739,4414,IRA,Y,N,N,future,N,cell,N,Y,5/6/2024,983779,Y,Y,commercial,Y,936681,like,811016\\n2,2023,2/24/2024,Monica Scott,Martin-Hudson,\"Stewart, Franklin and George\",say,Y,N,435433,6/13/2024,Sarah Barber,3278,big,Y,3372,Y,budget,4,JPY,USD,2162.4,Y,N,6/3/2024,1/7/2024,SPLIT,Brown-Weaver,395534,5662,JOINT_ACCOUNT,Y,N,Y,ask,N,small,N,Y,6/12/2024,995433,N,N,outside,N,644458,lawyer,959161\\n3,6187,3/24/2024,Mark Reynolds,Spencer-Garner,Sullivan Ltd,when,N,Y,997477,6/16/2024,Melissa Burns,9877,because,Y,3519,N,field,7,JPY,JPY,41683.3,N,N,6/7/2024,6/4/2024,MIP,Hall and Sons,912585,2418,CHECKING,N,Y,Y,whole,Y,science,Y,Y,3/16/2024,776490,Y,Y,father,Y,208584,truth,800789\\n4,9934,4/21/2024,Heidi Simpson,Moore-Gill,\"Glenn, Dawson and Lewis\",if,Y,N,600852,2/2/2024,Beth Mitchell,8827,building,Y,8218,N,garden,4,GBP,EUR,19832.67,Y,N,3/17/2024,1/10/2024,SEPA,Quinn-Peterson,423789,1779,SAVINGS,Y,Y,Y,last,N,TV,Y,Y,5/21/2024,520238,Y,N,without,N,268863,imagine,881960\\n5,8212,2/24/2024,Shawn Ramirez Jr.,Rodriguez Inc,Zamora-Barr,law,Y,Y,842292,3/9/2024,Cody Riggs,4693,treatment,Y,9806,Y,hotel,5,GBP,USD,43520.4,N,N,6/5/2024,2/11/2024,SEPA,\"Nichols, Stewart and Morgan\",355423,3056,BUSINESS_ACCOUNT,Y,N,N,affect,Y,benefit,N,N,1/29/2024,765576,Y,Y,course,Y,624117,loss,764353\\n6,2118,3/14/2024,Lori Johnson,\"Rocha, Adams and Hanson\",Smith Ltd,common,N,Y,828622,5/9/2024,Randy Freeman,1590,car,Y,7719,N,important,7,JPY,GBP,6118.22,Y,Y,1/14/2024,3/17/2024,CITI,\"Johnson, Gates and Buchanan\",269886,9972,BUSINESS_ACCOUNT,Y,Y,Y,Mrs,Y,line,Y,N,4/29/2024,170811,Y,Y,scene,Y,858332,lead,522745\\n7,5300,4/4/2024,George Rich,\"Mendoza, Clark and Mckenzie\",Huang Inc,another,Y,N,230098,3/31/2024,Dan Johnson,2089,deal,Y,3704,Y,keep,10,GBP,JPY,21530.89,Y,Y,6/15/2024,4/11/2024,EFT,Wilson-Bush,763713,7737,CHECKING,N,Y,Y,article,N,rock,Y,Y,5/18/2024,862838,Y,Y,chance,N,783149,director,539036\\n8,4131,2/1/2024,Elijah Stewart,\"Herman, Lawrence and Glenn\",Ramirez-George,style,Y,N,972334,4/6/2024,Eric Hancock,3507,nothing,N,5802,N,view,2,JPY,USD,45536.89,N,N,5/1/2024,5/25/2024,CITI,Frye Group,233951,5051,FOREIGN_CURRENCY_ACCOUNT,N,N,N,under,N,physical,Y,N,1/24/2024,750342,Y,Y,raise,N,862674,go,196483\\n9,4961,6/14/2024,Erika Scott,\"Barker, Dixon and Stone\",Carroll PLC,stay,N,N,532902,5/10/2024,Amber Thompson,7853,finally,N,6489,Y,wrong,6,USD,USD,49992.1,Y,N,2/24/2024,1/6/2024,CHK,Jones Group,562044,5616,IRA,N,N,N,check,N,guy,N,Y,2/12/2024,542614,Y,N,visit,Y,724070,most,562444\\n'"
            ],
            "application/vnd.google.colaboratory.intrinsic+json": {
              "type": "string"
            }
          },
          "metadata": {},
          "execution_count": 13
        }
      ],
      "source": [
        "df.head(10).to_csv()"
      ]
    },
    {
      "cell_type": "code",
      "execution_count": 18,
      "metadata": {
        "id": "9IaOKDGZbenU"
      },
      "outputs": [],
      "source": [
        "import os\n",
        "key = \"sk-shay-dev-nFHOym7NFDr95khZ87GYT3BlbkFJrqNYHwLMJFRDmsruwxUJ\"\n",
        "os.environ[\"OPENAI_API_KEY\"] = key\n",
        "openai.api_key = key"
      ]
    },
    {
      "cell_type": "code",
      "execution_count": 6,
      "metadata": {
        "id": "J4Nv4xSfbenU"
      },
      "outputs": [],
      "source": [
        "import dspy\n",
        "# turbo = dspy.OpenAI(model='gpt-3.5-turbo-instruct', max_tokens=250)\n",
        "turbo = dspy.OpenAI(model='gpt-3.5-turbo', max_tokens=250)\n",
        "dspy.settings.configure(lm=turbo)\n",
        "\n",
        "class SQLTableMetadata(dspy.Signature):\n",
        "    \"\"\"Give a suitable table name and description about the given table\"\"\"\n",
        "    pandas_dataframe_str = dspy.InputField(desc=\"First 10 rows of a pandas dataframe delimited by newline character\")\n",
        "    table_name = dspy.OutputField(desc=\"suitable table name\")\n",
        "    table_summary = dspy.OutputField(desc=\"a summary about the table\")\n",
        "\n",
        "class CoT(dspy.Module):\n",
        "    def __init__(self):\n",
        "        super().__init__()\n",
        "        self.prog = dspy.ChainOfThought(SQLTableMetadata)\n",
        "\n",
        "    def forward(self, pandas_dataframe_str):\n",
        "        return self.prog(pandas_dataframe_str=pandas_dataframe_str)\n",
        "\n",
        "cot = CoT()"
      ]
    },
    {
      "cell_type": "code",
      "source": [
        "cot(pandas_dataframe_str = df.head(10).to_csv())"
      ],
      "metadata": {
        "colab": {
          "base_uri": "https://localhost:8080/"
        },
        "id": "lWafjVFqcv9r",
        "outputId": "2f854c98-b9c3-4c2c-fa50-4601b87d17ce"
      },
      "execution_count": 15,
      "outputs": [
        {
          "output_type": "execute_result",
          "data": {
            "text/plain": [
              "Prediction(\n",
              "    rationale='produce the table summary. We have a dataset containing information about different vendors, including their IDs, names, payment details, currency codes, payment methods, and various flags indicating specific attributes. This table provides a comprehensive overview of vendor information that can be used for analysis and decision-making.',\n",
              "    table_name='Vendor Information Table',\n",
              "    table_summary='This table contains detailed information about various vendors, including their IDs, names, payment details, currency codes, payment methods, and flags indicating specific attributes. It can be used for analysis and decision-making related to vendor management.'\n",
              ")"
            ]
          },
          "metadata": {},
          "execution_count": 15
        }
      ]
    },
    {
      "cell_type": "code",
      "source": [
        "import pandas as pd\n",
        "import os\n",
        "import json\n",
        "from tqdm import tqdm\n",
        "\n",
        "def sanitize_column_name(col_name):\n",
        "    # Remove special characters and replace spaces with underscores\n",
        "    return re.sub(r\"\\W+\", \"_\", col_name)\n",
        "\n",
        "# Specify the directory containing the processed data\n",
        "processed_dir = \"ERP_Data\"\n",
        "\n",
        "# Initialize an empty list to store dictionaries\n",
        "all_infos_dict = []\n",
        "\n",
        "# Iterate over all directories within the processed directory\n",
        "# for country in os.listdir(processed_dir):\n",
        "#     print(country)\n",
        "#     country_dir = os.path.join(processed_dir, country)\n",
        "#     os.makedirs(country_dir, exist_ok=True)\n",
        "final_dir = os.path.join(processed_dir, \"\")\n",
        "\n",
        "\n",
        "# Iterate over all CSV files within the country directory\n",
        "for csv_file in tqdm(os.listdir(processed_dir)):\n",
        "    full_file_name = os.path.join(final_dir, csv_file)\n",
        "    if not full_file_name.endswith(\".csv\"):\n",
        "        continue\n",
        "    # print(full_file_name)\n",
        "\n",
        "    # Load the CSV file into a DataFrame\n",
        "    df = pd.read_csv(full_file_name)\n",
        "    df.dropna(how='all', inplace=True)\n",
        "\n",
        "    # Convert the DataFrame to a dictionary (example)\n",
        "    info_dict = df.to_dict(orient='records')[0]  # Convert the first row to a dict\n",
        "\n",
        "    # Save the DataFrame to a CSV file\n",
        "    save_name = full_file_name.split(\".\")[0].split(os.sep)[-1]\n",
        "    save_file_path = os.path.join(final_dir, f\"{save_name}_processed.csv\")\n",
        "    df.to_csv(save_file_path, index=False)\n",
        "\n",
        "    # Save the info_dict to a JSON file\n",
        "    with open(save_file_path.replace('.csv', '.json'), 'w') as outfile:\n",
        "        json.dump(info_dict, outfile)\n",
        "\n",
        "print(\"Processing completed.\")\n"
      ],
      "metadata": {
        "colab": {
          "base_uri": "https://localhost:8080/"
        },
        "id": "nlAd7onpsSHs",
        "outputId": "30d3ef90-8560-4a94-fb92-004b4a0b976c"
      },
      "execution_count": 7,
      "outputs": [
        {
          "output_type": "stream",
          "name": "stderr",
          "text": [
            "100%|██████████| 7/7 [00:00<00:00, 32.82it/s]"
          ]
        },
        {
          "output_type": "stream",
          "name": "stdout",
          "text": [
            "Processing completed.\n"
          ]
        },
        {
          "output_type": "stream",
          "name": "stderr",
          "text": [
            "\n"
          ]
        }
      ]
    },
    {
      "cell_type": "code",
      "execution_count": 8,
      "metadata": {
        "colab": {
          "base_uri": "https://localhost:8080/"
        },
        "id": "cRYWRhtkbenU",
        "outputId": "0b1d8a72-49f8-4345-facc-80c4bdb64668"
      },
      "outputs": [
        {
          "output_type": "stream",
          "name": "stderr",
          "text": [
            "\r  0%|          | 0/21 [00:00<?, ?it/s]"
          ]
        },
        {
          "output_type": "stream",
          "name": "stdout",
          "text": [
            "\n",
            "#### ERP_Data/PO_HEADERS_ALL_processed.json\n"
          ]
        },
        {
          "output_type": "stream",
          "name": "stderr",
          "text": [
            "\r 33%|███▎      | 7/21 [00:01<00:02,  5.59it/s]"
          ]
        },
        {
          "output_type": "stream",
          "name": "stdout",
          "text": [
            "Purchase_Order_Details\n",
            "This table contains detailed information about purchase orders, including header ID, agent ID, type, last update date, vendor details, shipping information, currency, approval status, and more.\n",
            "\n",
            "#### ERP_Data/AP_CHECKS_ALL_processed.json\n"
          ]
        },
        {
          "output_type": "stream",
          "name": "stderr",
          "text": [
            "\r 38%|███▊      | 8/21 [00:02<00:05,  2.47it/s]"
          ]
        },
        {
          "output_type": "stream",
          "name": "stdout",
          "text": [
            "Financial_Transactions_Details\n",
            "This table contains detailed information about financial transactions including amount, bank account details, check information, currency code, payment method, vendor details, and payment dates.\n",
            "\n",
            "#### ERP_Data/AP_INVOICE_DISTRIBUTIONS_ALL_processed.json\n"
          ]
        },
        {
          "output_type": "stream",
          "name": "stderr",
          "text": [
            "\r 48%|████▊     | 10/21 [00:04<00:06,  1.69it/s]"
          ]
        },
        {
          "output_type": "stream",
          "name": "stdout",
          "text": [
            "Financial_Transactions_Details\n",
            "This table contains details of financial transactions including accounting date, flags for accrual posting, assets addition, assets tracking, and cash posting, distribution line number, code combination ID, invoice ID, user information, transaction details, and other relevant information.\n",
            "\n",
            "#### ERP_Data/AP_SUPPLIERS_processed.json\n"
          ]
        },
        {
          "output_type": "stream",
          "name": "stderr",
          "text": [
            "\r 52%|█████▏    | 11/21 [00:06<00:08,  1.19it/s]"
          ]
        },
        {
          "output_type": "stream",
          "name": "stdout",
          "text": [
            "Vendor Information Table\n",
            "This table contains detailed information about various vendors, including their IDs, names, payment details, currency codes, payment methods, and flags indicating specific attributes. It can be used for analysis and decision-making related to vendor management.\n",
            "\n",
            "#### ERP_Data/AP_INVOICE_PAYMENTS_ALL_processed.json\n"
          ]
        },
        {
          "output_type": "stream",
          "name": "stderr",
          "text": [
            "\r 67%|██████▋   | 14/21 [00:08<00:05,  1.37it/s]"
          ]
        },
        {
          "output_type": "stream",
          "name": "stdout",
          "text": [
            "Accounting Events Data\n",
            "This table contains detailed information about various accounting events, including event ID, date, amount, payment details, bank account information, and more. Each row represents a different accounting event.\n",
            "\n",
            "#### ERP_Data/PO_DISTRIBUTIONS_ALL_processed.json\n"
          ]
        },
        {
          "output_type": "stream",
          "name": "stderr",
          "text": [
            "\r 76%|███████▌  | 16/21 [00:09<00:03,  1.50it/s]"
          ]
        },
        {
          "output_type": "stream",
          "name": "stdout",
          "text": [
            "Purchase_Order_Distributions\n",
            "This table contains details of purchase order distributions, including distribution ID, dates, quantities, amounts, and flags related to encumbrance and invoicing.\n",
            "\n",
            "#### ERP_Data/AP_INVOICES_ALL_processed.json\n"
          ]
        },
        {
          "output_type": "stream",
          "name": "stderr",
          "text": [
            "100%|██████████| 21/21 [00:11<00:00,  1.83it/s]"
          ]
        },
        {
          "output_type": "stream",
          "name": "stdout",
          "text": [
            "Invoice_Details\n",
            "This table contains detailed information about various invoices, including invoice ID, invoice number, vendor details, invoice amount, payment details, approval status, and more.\n"
          ]
        },
        {
          "output_type": "stream",
          "name": "stderr",
          "text": [
            "\n"
          ]
        }
      ],
      "source": [
        "processed_dir = \"ERP_Data\"\n",
        "dfs_str = []\n",
        "for files in tqdm(os.listdir(processed_dir)): # Building the summary and name for tables\n",
        "    if files.endswith(\"processed.csv\"):\n",
        "        file_name = files.split(\".\")[0]\n",
        "        csv_file_path = os.path.join(processed_dir,files)\n",
        "        df = pd.read_csv(csv_file_path,index_col=False)\n",
        "        json_file_path = os.path.join(processed_dir,f\"{file_name}.json\")\n",
        "        print(f\"\\n#### {json_file_path}\")\n",
        "        with open(json_file_path,'r') as f:\n",
        "            data = json.loads(f.read())\n",
        "            if 'table_name' in data and 'table_summary' in data:\n",
        "                # if data['table_name'] == \"\" or data['table_summary'] == \"\":\n",
        "                if data['table_summary'] == \"\":\n",
        "                    pass\n",
        "                else:\n",
        "                    continue\n",
        "        dfs_str.append(df.head(10).to_csv())\n",
        "        table_preds = cot(pandas_dataframe_str = df.head(10).to_csv())\n",
        "        print(table_preds.table_name)\n",
        "        print(table_preds.table_summary)\n",
        "        data['table_name'] = file_name\n",
        "        data['table_summary'] = table_preds.table_summary\n",
        "        with open(json_file_path,'w') as f:\n",
        "            json.dump(data, f)"
      ]
    },
    {
      "cell_type": "markdown",
      "metadata": {
        "id": "vXw4POqabenV"
      },
      "source": [
        "## NEXT TASKS\n",
        "1. Build database for each table\n",
        "2. Embed the table summary and table SCHEMA. Also, embed the table rows\n",
        "3. Retrieval at table level and embed the rows to retrieve relevant rows from the retrieved schema of table\n",
        "4. Text-to-SQL pipeline"
      ]
    },
    {
      "cell_type": "markdown",
      "metadata": {
        "id": "CndEXfYWbenV"
      },
      "source": [
        "#### BUILD THE SQLITE DATABASE FROM THE CSV FILES"
      ]
    },
    {
      "cell_type": "code",
      "execution_count": 9,
      "metadata": {
        "id": "XOvmmorhbenW"
      },
      "outputs": [],
      "source": [
        "# Function to create a sanitized column name\n",
        "def sanitize_column_name(col_name):\n",
        "    # Remove special characters and replace spaces with underscores\n",
        "    return re.sub(r\"\\W+\", \"_\", col_name)\n",
        "\n",
        "\n",
        "# Function to create a table from a DataFrame using SQLAlchemy\n",
        "def create_table_from_dataframe(\n",
        "    df: pd.DataFrame, table_name: str, engine, metadata_obj\n",
        "):\n",
        "    # Sanitize column names\n",
        "    sanitized_columns = {col: sanitize_column_name(col) for col in df.columns}\n",
        "    df = df.rename(columns=sanitized_columns)\n",
        "\n",
        "    # Dynamically create columns based on DataFrame columns and data types\n",
        "    columns = [\n",
        "        Column(col, String if dtype == \"object\" else Integer)\n",
        "        for col, dtype in zip(df.columns, df.dtypes)\n",
        "    ]\n",
        "\n",
        "    # Create a table with the defined columns\n",
        "    table = Table(table_name, metadata_obj, *columns)\n",
        "\n",
        "    # Create the table in the database\n",
        "    metadata_obj.create_all(engine)\n",
        "\n",
        "    # Insert data from DataFrame into the table\n",
        "    with engine.connect() as conn:\n",
        "        for _, row in df.iterrows():\n",
        "            insert_stmt = table.insert().values(**row.to_dict())\n",
        "            conn.execute(insert_stmt)\n",
        "        conn.commit()"
      ]
    },
    {
      "cell_type": "markdown",
      "metadata": {
        "id": "6BuLvzDzbenW"
      },
      "source": [
        "## DATABASE CREATION"
      ]
    },
    {
      "cell_type": "code",
      "execution_count": 10,
      "metadata": {
        "id": "69LkrLu0benX"
      },
      "outputs": [],
      "source": [
        "processed_dir  = \"ERP_Data\"\n",
        "def sqlalchemy_engine(region:str):\n",
        "    \"\"\"Create a SQLAlchemy engine for the given region\"\"\"\n",
        "    # Create a SQLAlchemy database for each region\n",
        "    engine = create_engine(f\"sqlite:///{region}.db\")\n",
        "    metadata_obj = MetaData()\n",
        "    # region_path = os.path.join(processed_dir,region)\n",
        "    dfs = []\n",
        "    for dataframes_path in os.listdir(processed_dir):\n",
        "        if dataframes_path.endswith(\"processed.csv\"):\n",
        "            df = pd.read_csv(os.path.join(processed_dir,dataframes_path),index_col=False)\n",
        "            dfs.append((dataframes_path,df))\n",
        "    pbar = tqdm(total=len(dfs),desc=f\"Creating tables for {region}\")\n",
        "    for _, df_table_name in enumerate(dfs):\n",
        "        table_name = df_table_name[0]\n",
        "        table_name = table_name.split(\".\")[0]\n",
        "        df = df_table_name[1]\n",
        "        # print(f\"Creating table: {table_name}\")\n",
        "        create_table_from_dataframe(df,table_name, engine, metadata_obj)\n",
        "        # print(f\"Done creating table for: {table_name}\")\n",
        "        pbar.update(1)\n",
        "    return engine"
      ]
    },
    {
      "cell_type": "code",
      "execution_count": 11,
      "metadata": {
        "colab": {
          "base_uri": "https://localhost:8080/"
        },
        "id": "mqHbnzZObenX",
        "outputId": "dac5e903-1cfb-479a-e32b-6e28cd9cb8f1"
      },
      "outputs": [
        {
          "output_type": "stream",
          "name": "stderr",
          "text": [
            "Creating tables for main: 100%|██████████| 7/7 [00:04<00:00,  1.45it/s]\n"
          ]
        }
      ],
      "source": [
        "db_engine = sqlalchemy_engine(\"main\")"
      ]
    },
    {
      "cell_type": "code",
      "execution_count": 12,
      "metadata": {
        "id": "I0hJ06gGbenX"
      },
      "outputs": [],
      "source": [
        "def get_table_infos(sql_engine:sqlalchemy.engine.base.Engine,region:str):\n",
        "    \"\"\"Get all the tables info in the database based on the given region\"\"\"\n",
        "    inspector = inspect(sql_engine)\n",
        "    table_names = inspector.get_table_names()\n",
        "    table_infos_dict = {tb: [] for tb in table_names}\n",
        "    for tb in table_names:\n",
        "        column_dict = inspector.get_columns(tb)\n",
        "        schema_str = \"\"\n",
        "        primary_keys = []\n",
        "        for col in column_dict:\n",
        "            schema_str += f\"{col['name']} ({col['type']}), \"\n",
        "            if col[\"primary_key\"] not in primary_keys:\n",
        "                primary_keys.append(col[\"name\"])\n",
        "        with open(os.path.join(processed_dir,f\"{tb}.json\")) as f:\n",
        "            table_info = json.loads(f.read())\n",
        "        table_infos_dict[tb] = [\n",
        "            {\n",
        "                \"table_info\": f\"Table {tb} has columns: {schema_str[:-2]}\",\n",
        "                \"table_summary\": f'{table_info[\"table_summary\"]}. ',\n",
        "            }\n",
        "        ]\n",
        "    return table_infos_dict"
      ]
    },
    {
      "cell_type": "code",
      "execution_count": 13,
      "metadata": {
        "id": "AvTdj9R_benY"
      },
      "outputs": [],
      "source": [
        "tb_dict = get_table_infos(db_engine,\"main\")"
      ]
    },
    {
      "cell_type": "code",
      "source": [
        "tb_dict"
      ],
      "metadata": {
        "colab": {
          "base_uri": "https://localhost:8080/"
        },
        "id": "T7O_9JueEaMM",
        "outputId": "317cc55f-6875-4924-f877-618bea8656b5"
      },
      "execution_count": 14,
      "outputs": [
        {
          "output_type": "execute_result",
          "data": {
            "text/plain": [
              "{'AP_CHECKS_ALL_processed': [{'table_info': 'Table AP_CHECKS_ALL_processed has columns: AMOUNT (INTEGER), BANK_ACCOUNT_ID (INTEGER), BANK_ACCOUNT_NAME (VARCHAR), CHECK_DATE (VARCHAR), CHECK_ID (INTEGER), CHECK_NUMBER (INTEGER), CURRENCY_CODE (VARCHAR), LAST_UPDATED_BY (VARCHAR), LAST_UPDATE_DATE (VARCHAR), PAYMENT_METHOD_LOOKUP_CODE (VARCHAR), PAYMENT_TYPE_FLAG (VARCHAR), ADDRESS_LINE1 (VARCHAR), CHECKRUN_NAME (VARCHAR), CITY (VARCHAR), COUNTRY (VARCHAR), CREATED_BY (VARCHAR), CREATION_DATE (VARCHAR), STATUS_LOOKUP_CODE (VARCHAR), VENDOR_NAME (VARCHAR), ZIP (INTEGER), BANK_ACCOUNT_NUM (INTEGER), BANK_ACCOUNT_TYPE (VARCHAR), BANK_NUM (INTEGER), CHECK_VOUCHER_NUM (INTEGER), CLEARED_AMOUNT (INTEGER), CLEARED_DATE (VARCHAR), ORG_ID (INTEGER), VENDOR_ID (INTEGER), VENDOR_SITE_ID (INTEGER), EXCHANGE_DATE (VARCHAR), CHECKRUN_ID (INTEGER), REQUEST_ID (INTEGER), POSITIVE_PAY_STATUS_CODE (VARCHAR), ANTICIPATED_VALUE_DATE (VARCHAR), CE_BANK_ACCT_USE_ID (INTEGER), PAYMENT_METHOD_CODE (VARCHAR), PARTY_ID (INTEGER), PARTY_SITE_ID (INTEGER), PAYMENT_PROFILE_ID (INTEGER), LEGAL_ENTITY_ID (INTEGER), PAYMENT_DOCUMENT_ID (INTEGER), COMPLETED_PMTS_GROUP_ID (INTEGER), PAYMENT_ID (INTEGER), PAYMENT_INSTRUCTION_ID (INTEGER), REMIT_TO_SUPPLIER_NAME (VARCHAR), REMIT_TO_SUPPLIER_ID (INTEGER), REMIT_TO_SUPPLIER_SITE (VARCHAR), REMIT_TO_SUPPLIER_SITE_ID (INTEGER), RELATIONSHIP_ID (INTEGER)',\n",
              "   'table_summary': 'This table contains detailed information about financial transactions including amount, bank account details, check information, currency code, payment method, vendor details, and payment dates.. '}],\n",
              " 'AP_INVOICES_ALL_processed': [{'table_info': 'Table AP_INVOICES_ALL_processed has columns: INVOICE_ID (INTEGER), INVOICE_NUM (INTEGER), VENDOR_ID (INTEGER), VENDOR_NAME (VARCHAR), PO_HEADER_ID (INTEGER), INVOICE_AMOUNT (INTEGER), INVOICE_DATE (VARCHAR), LAST_UPDATE_DATE (VARCHAR), LAST_UPDATED_BY (VARCHAR), SET_OF_BOOKS_ID (INTEGER), INVOICE_CURRENCY_CODE (VARCHAR), PAYMENT_CURRENCY_CODE (VARCHAR), PAYMENT_CROSS_RATE (INTEGER), VENDOR_SITE_ID (INTEGER), AMOUNT_PAID (INTEGER), DISCOUNT_AMOUNT_TAKEN (INTEGER), SOURCE (VARCHAR), INVOICE_TYPE_LOOKUP_CODE (VARCHAR), DESCRIPTION (VARCHAR), BATCH_ID (INTEGER), AMOUNT_APPLICABLE_TO_DISCOUNT (INTEGER), TAX_AMOUNT (INTEGER), TERMS_ID (INTEGER), TERMS_DATE (VARCHAR), PAYMENT_METHOD_CODE (VARCHAR), PAY_GROUP_LOOKUP_CODE (VARCHAR), ACCTS_PAY_CODE_COMBINATION_ID (INTEGER), PAYMENT_STATUS_FLAG (VARCHAR), CREATION_DATE (VARCHAR), LAST_UPDATE_LOGIN (INTEGER), EXCLUSIVE_PAYMENT_FLAG (VARCHAR), FREIGHT_AMOUNT (INTEGER), DOC_CATEGORY_CODE (VARCHAR), APPROVAL_STATUS (VARCHAR), APPROVAL_DESCRIPTION (VARCHAR), INVOICE_DISTRIBUTION_TOTAL (INTEGER), POSTING_STATUS (VARCHAR), PREPAY_FLAG (VARCHAR), VENDOR_PREPAY_AMOUNT (INTEGER), PAYMENT_AMOUNT_TOTAL (INTEGER), ORG_ID (INTEGER), PAYMENT_CROSS_RATE_DATE (VARCHAR), PAY_CURR_INVOICE_AMOUNT (INTEGER), APPROVAL_READY_FLAG (VARCHAR), APPROVAL_ITERATION (INTEGER), WFAPPROVAL_STATUS (VARCHAR), VALIDATION_REQUEST_ID (INTEGER), VALIDATED_TAX_AMOUNT (INTEGER), REQUESTER_ID (INTEGER), TOTAL_TAX_AMOUNT (INTEGER), TAXATION_COUNTRY (VARCHAR), LEGAL_ENTITY_ID (INTEGER), HISTORICAL_FLAG (VARCHAR), FORCE_REVALIDATION_FLAG (VARCHAR), URI_CHECK_DIGIT (INTEGER), SETTLEMENT_PRIORITY (INTEGER), PAYMENT_REASON_CODE (VARCHAR), PAYMENT_REASON_COMMENTS (VARCHAR), PARTY_ID (INTEGER), PARTY_SITE_ID (INTEGER), PAY_PROC_TRXN_TYPE_CODE (VARCHAR), PAYMENT_FUNCTION (VARCHAR), EXTERNAL_BANK_ACCOUNT_ID (INTEGER), DISC_IS_INV_LESS_TAX_FLAG (VARCHAR), EXCLUDE_FREIGHT_FROM_DISCOUNT (VARCHAR), RELATIONSHIP_ID (INTEGER), PO_MATCHED_FLAG (VARCHAR), VALIDATION_WORKER_ID (INTEGER), PAYMENT_METHOD_LOOKUP_CODE (VARCHAR)',\n",
              "   'table_summary': 'This table contains detailed information about various invoices, including invoice ID, invoice number, vendor details, invoice amount, payment details, approval status, and more.. '}],\n",
              " 'AP_INVOICE_DISTRIBUTIONS_ALL_processed': [{'table_info': 'Table AP_INVOICE_DISTRIBUTIONS_ALL_processed has columns: ACCOUNTING_DATE (VARCHAR), ACCRUAL_POSTED_FLAG (VARCHAR), ASSETS_ADDITION_FLAG (VARCHAR), ASSETS_TRACKING_FLAG (VARCHAR), CASH_POSTED_FLAG (VARCHAR), DISTRIBUTION_LINE_NUMBER (INTEGER), DIST_CODE_COMBINATION_ID (INTEGER), INVOICE_ID (INTEGER), LAST_UPDATED_BY (VARCHAR), LAST_UPDATE_DATE (VARCHAR), LINE_TYPE_LOOKUP_CODE (VARCHAR), PERIOD_NAME (VARCHAR), SET_OF_BOOKS_ID (INTEGER), AMOUNT (INTEGER), BATCH_ID (INTEGER), CREATED_BY (VARCHAR), CREATION_DATE (VARCHAR), DESCRIPTION (VARCHAR), LAST_UPDATE_LOGIN (INTEGER), PO_DISTRIBUTION_ID (INTEGER)',\n",
              "   'table_summary': 'This table contains details of financial transactions including accounting date, flags for accrual posting, assets addition, assets tracking, and cash posting, distribution line number, code combination ID, invoice ID, user information, transaction details, and other relevant information.. '}],\n",
              " 'AP_INVOICE_PAYMENTS_ALL_processed': [{'table_info': 'Table AP_INVOICE_PAYMENTS_ALL_processed has columns: ACCOUNTING_EVENT_ID (INTEGER), ACCOUNTING_DATE (VARCHAR), ACCRUAL_POSTED_FLAG (VARCHAR), AMOUNT (INTEGER), CASH_POSTED_FLAG (VARCHAR), CHECK_ID (INTEGER), INVOICE_ID (INTEGER), INVOICE_PAYMENT_ID (INTEGER), LAST_UPDATED_BY (VARCHAR), LAST_UPDATE_DATE (VARCHAR), PAYMENT_NUM (INTEGER), PERIOD_NAME (VARCHAR), POSTED_FLAG (VARCHAR), SET_OF_BOOKS_ID (INTEGER), ASSET_CODE_COMBINATION_ID (INTEGER), CREATED_BY (VARCHAR), CREATION_DATE (VARCHAR), LAST_UPDATE_LOGIN (INTEGER), BANK_ACCOUNT_NUM (INTEGER), BANK_ACCOUNT_TYPE (VARCHAR), BANK_NUM (INTEGER), DISCOUNT_LOST (INTEGER), EXCHANGE_DATE (VARCHAR), FUTURE_PAY_POSTED_FLAG (VARCHAR), ASSETS_ADDITION_FLAG (VARCHAR), INVOICE_PAYMENT_TYPE (VARCHAR), ORG_ID (INTEGER), EXTERNAL_BANK_ACCOUNT_ID (INTEGER), INVOICING_PARTY_ID (INTEGER), INVOICING_PARTY_SITE_ID (INTEGER), INVOICING_VENDOR_SITE_ID (INTEGER), REMIT_TO_SUPPLIER_NAME (VARCHAR), REMIT_TO_SUPPLIER_ID (INTEGER), REMIT_TO_SUPPLIER_SITE (VARCHAR), REMIT_TO_SUPPLIER_SITE_ID (INTEGER)',\n",
              "   'table_summary': 'This table contains detailed information about various accounting events, including event ID, date, amount, payment details, bank account information, and more. Each row represents a different accounting event.. '}],\n",
              " 'AP_SUPPLIERS_processed': [{'table_info': 'Table AP_SUPPLIERS_processed has columns: VENDOR_ID (INTEGER), LAST_UPDATE_DATE (VARCHAR), LAST_UPDATED_BY (VARCHAR), VENDOR_NAME (VARCHAR), VENDOR_NAME_ALT (VARCHAR), SEGMENT1 (VARCHAR), SUMMARY_FLAG (VARCHAR), ENABLED_FLAG (VARCHAR), LAST_UPDATE_LOGIN (INTEGER), CREATION_DATE (VARCHAR), CREATED_BY (VARCHAR), EMPLOYEE_ID (INTEGER), VENDOR_TYPE_LOOKUP_CODE (VARCHAR), ONE_TIME_FLAG (VARCHAR), TERMS_ID (INTEGER), ALWAYS_TAKE_DISC_FLAG (VARCHAR), PAY_DATE_BASIS_LOOKUP_CODE (VARCHAR), PAYMENT_PRIORITY (INTEGER), INVOICE_CURRENCY_CODE (VARCHAR), PAYMENT_CURRENCY_CODE (VARCHAR), INVOICE_AMOUNT_LIMIT (INTEGER), HOLD_ALL_PAYMENTS_FLAG (VARCHAR), HOLD_FUTURE_PAYMENTS_FLAG (VARCHAR), START_DATE_ACTIVE (VARCHAR), END_DATE_ACTIVE (VARCHAR), PAYMENT_METHOD_LOOKUP_CODE (VARCHAR), BANK_ACCOUNT_NAME (VARCHAR), BANK_ACCOUNT_NUM (INTEGER), BANK_NUM (INTEGER), BANK_ACCOUNT_TYPE (VARCHAR), WOMEN_OWNED_FLAG (VARCHAR), SMALL_BUSINESS_FLAG (VARCHAR), HOLD_FLAG (VARCHAR), TERMS_DATE_BASIS (VARCHAR), HOLD_UNMATCHED_INVOICES_FLAG (VARCHAR), AP_TAX_ROUNDING_RULE (VARCHAR), AUTO_TAX_CALC_FLAG (VARCHAR), AMOUNT_INCLUDES_TAX_FLAG (VARCHAR), PROGRAM_UPDATE_DATE (VARCHAR), VAT_REGISTRATION_NUM (INTEGER), AUTO_CALCULATE_INTEREST_FLAG (VARCHAR), EXCLUDE_FREIGHT_FROM_DISCOUNT (VARCHAR), MATCH_OPTION (VARCHAR), OFFSET_TAX_FLAG (VARCHAR), PARTY_ID (INTEGER), TCA_SYNC_VENDOR_NAME (VARCHAR), TCA_SYNC_VAT_REG_NUM (INTEGER)',\n",
              "   'table_summary': 'This table contains detailed information about various vendors, including their IDs, names, payment details, currency codes, payment methods, and flags indicating specific attributes. It can be used for analysis and decision-making related to vendor management.. '}],\n",
              " 'PO_DISTRIBUTIONS_ALL_processed': [{'table_info': 'Table PO_DISTRIBUTIONS_ALL_processed has columns: PO_DISTRIBUTION_ID (INTEGER), LAST_UPDATE_DATE (VARCHAR), LAST_UPDATED_BY (VARCHAR), PO_HEADER_ID (INTEGER), PO_LINE_ID (INTEGER), LINE_LOCATION_ID (INTEGER), SET_OF_BOOKS_ID (INTEGER), CODE_COMBINATION_ID (INTEGER), QUANTITY_ORDERED (INTEGER), LAST_UPDATE_LOGIN (INTEGER), CREATION_DATE (VARCHAR), CREATED_BY (VARCHAR), QUANTITY_DELIVERED (INTEGER), QUANTITY_BILLED (INTEGER), QUANTITY_CANCELLED (INTEGER), RATE_DATE (VARCHAR), RATE (INTEGER), AMOUNT_BILLED (INTEGER), ENCUMBERED_FLAG (VARCHAR), GL_CANCELLED_DATE (VARCHAR), DESTINATION_TYPE_CODE (VARCHAR), DESTINATION_ORGANIZATION_ID (INTEGER), DESTINATION_SUBINVENTORY (VARCHAR), ATTRIBUTE14 (VARCHAR), ATTRIBUTE15 (VARCHAR), WIP_ENTITY_ID (INTEGER), ACCRUAL_ACCOUNT_ID (INTEGER), VARIANCE_ACCOUNT_ID (INTEGER), PREVENT_ENCUMBRANCE_FLAG (VARCHAR), DESTINATION_CONTEXT (VARCHAR), DISTRIBUTION_NUM (INTEGER), REQUEST_ID (INTEGER), PROGRAM_APPLICATION_ID (INTEGER), PROGRAM_ID (INTEGER), PROGRAM_UPDATE_DATE (VARCHAR), ACCRUE_ON_RECEIPT_FLAG (VARCHAR), ORG_ID (INTEGER), DISTRIBUTION_TYPE (VARCHAR), WF_ITEM_KEY (INTEGER), INVOICED_VAL_IN_NTFN (INTEGER), PARTIAL_FUNDED_FLAG (VARCHAR), AMOUNT_CHANGED_FLAG (VARCHAR)',\n",
              "   'table_summary': 'This table contains details of purchase order distributions, including distribution ID, dates, quantities, amounts, and flags related to encumbrance and invoicing.. '}],\n",
              " 'PO_HEADERS_ALL_processed': [{'table_info': 'Table PO_HEADERS_ALL_processed has columns: PO_HEADER_ID (INTEGER), AGENT_ID (INTEGER), TYPE_LOOKUP_CODE (VARCHAR), LAST_UPDATE_DATE (VARCHAR), LAST_UPDATED_BY (VARCHAR), SUMMARY_FLAG (VARCHAR), ENABLED_FLAG (VARCHAR), LAST_UPDATE_LOGIN (INTEGER), CREATION_DATE (VARCHAR), CREATED_BY (VARCHAR), VENDOR_ID (INTEGER), VENDOR_SITE_ID (INTEGER), VENDOR_CONTACT_ID (INTEGER), SHIP_TO_LOCATION_ID (INTEGER), BILL_TO_LOCATION_ID (INTEGER), TERMS_ID (INTEGER), SHIP_VIA_LOOKUP_CODE (VARCHAR), FOB_LOOKUP_CODE (VARCHAR), FREIGHT_TERMS_LOOKUP_CODE (VARCHAR), STATUS_LOOKUP_CODE (VARCHAR), CURRENCY_CODE (VARCHAR), RATE_TYPE (VARCHAR), RATE_DATE (VARCHAR), RATE (INTEGER), END_DATE (VARCHAR), AUTHORIZATION_STATUS (VARCHAR), REVISION_NUM (INTEGER), REVISED_DATE (VARCHAR), APPROVED_FLAG (VARCHAR), APPROVED_DATE (VARCHAR), PRINT_COUNT (INTEGER), PRINTED_DATE (VARCHAR), CONFIRMING_ORDER_FLAG (VARCHAR), CLOSED_DATE (VARCHAR), CANCEL_FLAG (VARCHAR), FROZEN_FLAG (VARCHAR), ATTRIBUTE15 (VARCHAR), CLOSED_CODE (VARCHAR), REQUEST_ID (INTEGER), PROGRAM_APPLICATION_ID (INTEGER), PROGRAM_ID (INTEGER), PROGRAM_UPDATE_DATE (VARCHAR), ORG_ID (INTEGER), WF_ITEM_TYPE (VARCHAR), WF_ITEM_KEY (INTEGER), GLOBAL_AGREEMENT_FLAG (VARCHAR), PENDING_SIGNATURE_FLAG (VARCHAR), DOCUMENT_CREATION_METHOD (VARCHAR), CREATED_LANGUAGE (VARCHAR), STYLE_ID (INTEGER), CLM_DOCUMENT_NUMBER (INTEGER), CLM_EFFECTIVE_DATE (VARCHAR)',\n",
              "   'table_summary': 'This table contains detailed information about purchase orders, including header ID, agent ID, type, last update date, vendor details, shipping information, currency, approval status, and more.. '}]}"
            ]
          },
          "metadata": {},
          "execution_count": 14
        }
      ]
    },
    {
      "cell_type": "code",
      "execution_count": 37,
      "metadata": {
        "id": "jOOmbw08benY",
        "outputId": "52e1a7a2-b7a4-469b-fc42-60aada496233",
        "colab": {
          "base_uri": "https://localhost:8080/"
        }
      },
      "outputs": [
        {
          "output_type": "execute_result",
          "data": {
            "text/plain": [
              "{'AP_CHECKS_ALL_processed': [{'table_info': 'Table AP_CHECKS_ALL_processed has columns: AMOUNT (INTEGER), BANK_ACCOUNT_ID (INTEGER), BANK_ACCOUNT_NAME (VARCHAR), CHECK_DATE (VARCHAR), CHECK_ID (INTEGER), CHECK_NUMBER (INTEGER), CURRENCY_CODE (VARCHAR), LAST_UPDATED_BY (VARCHAR), LAST_UPDATE_DATE (VARCHAR), PAYMENT_METHOD_LOOKUP_CODE (VARCHAR), PAYMENT_TYPE_FLAG (VARCHAR), ADDRESS_LINE1 (VARCHAR), CHECKRUN_NAME (VARCHAR), CITY (VARCHAR), COUNTRY (VARCHAR), CREATED_BY (VARCHAR), CREATION_DATE (VARCHAR), STATUS_LOOKUP_CODE (VARCHAR), VENDOR_NAME (VARCHAR), ZIP (INTEGER), BANK_ACCOUNT_NUM (INTEGER), BANK_ACCOUNT_TYPE (VARCHAR), BANK_NUM (INTEGER), CHECK_VOUCHER_NUM (INTEGER), CLEARED_AMOUNT (INTEGER), CLEARED_DATE (VARCHAR), ORG_ID (INTEGER), VENDOR_ID (INTEGER), VENDOR_SITE_ID (INTEGER), EXCHANGE_DATE (VARCHAR), CHECKRUN_ID (INTEGER), REQUEST_ID (INTEGER), POSITIVE_PAY_STATUS_CODE (VARCHAR), ANTICIPATED_VALUE_DATE (VARCHAR), CE_BANK_ACCT_USE_ID (INTEGER), PAYMENT_METHOD_CODE (VARCHAR), PARTY_ID (INTEGER), PARTY_SITE_ID (INTEGER), PAYMENT_PROFILE_ID (INTEGER), LEGAL_ENTITY_ID (INTEGER), PAYMENT_DOCUMENT_ID (INTEGER), COMPLETED_PMTS_GROUP_ID (INTEGER), PAYMENT_ID (INTEGER), PAYMENT_INSTRUCTION_ID (INTEGER), REMIT_TO_SUPPLIER_NAME (VARCHAR), REMIT_TO_SUPPLIER_ID (INTEGER), REMIT_TO_SUPPLIER_SITE (VARCHAR), REMIT_TO_SUPPLIER_SITE_ID (INTEGER), RELATIONSHIP_ID (INTEGER)',\n",
              "   'table_summary': 'This table contains detailed information about financial transactions including amount, bank account details, check information, currency code, payment method, vendor details, and more. It can be used for analyzing payment transactions, tracking vendor payments, and monitoring financial activities.. '}],\n",
              " 'AP_INVOICES_ALL_processed': [{'table_info': 'Table AP_INVOICES_ALL_processed has columns: INVOICE_ID (INTEGER), INVOICE_NUM (INTEGER), VENDOR_ID (INTEGER), VENDOR_NAME (VARCHAR), PO_HEADER_ID (INTEGER), INVOICE_AMOUNT (INTEGER), INVOICE_DATE (VARCHAR), LAST_UPDATE_DATE (VARCHAR), LAST_UPDATED_BY (VARCHAR), SET_OF_BOOKS_ID (INTEGER), INVOICE_CURRENCY_CODE (VARCHAR), PAYMENT_CURRENCY_CODE (VARCHAR), PAYMENT_CROSS_RATE (INTEGER), VENDOR_SITE_ID (INTEGER), AMOUNT_PAID (INTEGER), DISCOUNT_AMOUNT_TAKEN (INTEGER), SOURCE (VARCHAR), INVOICE_TYPE_LOOKUP_CODE (VARCHAR), DESCRIPTION (VARCHAR), BATCH_ID (INTEGER), AMOUNT_APPLICABLE_TO_DISCOUNT (INTEGER), TAX_AMOUNT (INTEGER), TERMS_ID (INTEGER), TERMS_DATE (VARCHAR), PAYMENT_METHOD_CODE (VARCHAR), PAY_GROUP_LOOKUP_CODE (VARCHAR), ACCTS_PAY_CODE_COMBINATION_ID (INTEGER), PAYMENT_STATUS_FLAG (VARCHAR), CREATION_DATE (VARCHAR), LAST_UPDATE_LOGIN (INTEGER), EXCLUSIVE_PAYMENT_FLAG (VARCHAR), FREIGHT_AMOUNT (INTEGER), DOC_CATEGORY_CODE (VARCHAR), APPROVAL_STATUS (VARCHAR), APPROVAL_DESCRIPTION (VARCHAR), INVOICE_DISTRIBUTION_TOTAL (INTEGER), POSTING_STATUS (VARCHAR), PREPAY_FLAG (VARCHAR), VENDOR_PREPAY_AMOUNT (INTEGER), PAYMENT_AMOUNT_TOTAL (INTEGER), ORG_ID (INTEGER), PAYMENT_CROSS_RATE_DATE (VARCHAR), PAY_CURR_INVOICE_AMOUNT (INTEGER), APPROVAL_READY_FLAG (VARCHAR), APPROVAL_ITERATION (INTEGER), WFAPPROVAL_STATUS (VARCHAR), VALIDATION_REQUEST_ID (INTEGER), VALIDATED_TAX_AMOUNT (INTEGER), REQUESTER_ID (INTEGER), TOTAL_TAX_AMOUNT (INTEGER), TAXATION_COUNTRY (VARCHAR), LEGAL_ENTITY_ID (INTEGER), HISTORICAL_FLAG (VARCHAR), FORCE_REVALIDATION_FLAG (VARCHAR), URI_CHECK_DIGIT (INTEGER), SETTLEMENT_PRIORITY (INTEGER), PAYMENT_REASON_CODE (VARCHAR), PAYMENT_REASON_COMMENTS (VARCHAR), PARTY_ID (INTEGER), PARTY_SITE_ID (INTEGER), PAY_PROC_TRXN_TYPE_CODE (VARCHAR), PAYMENT_FUNCTION (VARCHAR), EXTERNAL_BANK_ACCOUNT_ID (INTEGER), DISC_IS_INV_LESS_TAX_FLAG (VARCHAR), EXCLUDE_FREIGHT_FROM_DISCOUNT (VARCHAR), RELATIONSHIP_ID (INTEGER), PO_MATCHED_FLAG (VARCHAR), VALIDATION_WORKER_ID (INTEGER), PAYMENT_METHOD_LOOKUP_CODE (VARCHAR)',\n",
              "   'table_summary': 'This table contains detailed information about invoices, including invoice IDs, invoice numbers, vendor details, invoice amounts, payment information, approval statuses, and more. By analyzing this data, we can gain insights into the invoicing process, payment statuses, and vendor relationships within the organization.. '}],\n",
              " 'AP_INVOICE_DISTRIBUTIONS_ALL_processed': [{'table_info': 'Table AP_INVOICE_DISTRIBUTIONS_ALL_processed has columns: ACCOUNTING_DATE (VARCHAR), ACCRUAL_POSTED_FLAG (VARCHAR), ASSETS_ADDITION_FLAG (VARCHAR), ASSETS_TRACKING_FLAG (VARCHAR), CASH_POSTED_FLAG (VARCHAR), DISTRIBUTION_LINE_NUMBER (INTEGER), DIST_CODE_COMBINATION_ID (INTEGER), INVOICE_ID (INTEGER), LAST_UPDATED_BY (VARCHAR), LAST_UPDATE_DATE (VARCHAR), LINE_TYPE_LOOKUP_CODE (VARCHAR), PERIOD_NAME (VARCHAR), SET_OF_BOOKS_ID (INTEGER), AMOUNT (INTEGER), BATCH_ID (INTEGER), CREATED_BY (VARCHAR), CREATION_DATE (VARCHAR), DESCRIPTION (VARCHAR), LAST_UPDATE_LOGIN (INTEGER), PO_DISTRIBUTION_ID (INTEGER)',\n",
              "   'table_summary': 'This table contains details of financial transactions including accounting date, flags for accrual posting, assets addition, assets tracking, and cash posting, distribution line number, code combination ID, invoice ID, user information, transaction details, and other relevant information.. '}],\n",
              " 'AP_INVOICE_PAYMENTS_ALL_processed': [{'table_info': 'Table AP_INVOICE_PAYMENTS_ALL_processed has columns: ACCOUNTING_EVENT_ID (INTEGER), ACCOUNTING_DATE (VARCHAR), ACCRUAL_POSTED_FLAG (VARCHAR), AMOUNT (INTEGER), CASH_POSTED_FLAG (VARCHAR), CHECK_ID (INTEGER), INVOICE_ID (INTEGER), INVOICE_PAYMENT_ID (INTEGER), LAST_UPDATED_BY (VARCHAR), LAST_UPDATE_DATE (VARCHAR), PAYMENT_NUM (INTEGER), PERIOD_NAME (VARCHAR), POSTED_FLAG (VARCHAR), SET_OF_BOOKS_ID (INTEGER), ASSET_CODE_COMBINATION_ID (INTEGER), CREATED_BY (VARCHAR), CREATION_DATE (VARCHAR), LAST_UPDATE_LOGIN (INTEGER), BANK_ACCOUNT_NUM (INTEGER), BANK_ACCOUNT_TYPE (VARCHAR), BANK_NUM (INTEGER), DISCOUNT_LOST (INTEGER), EXCHANGE_DATE (VARCHAR), FUTURE_PAY_POSTED_FLAG (VARCHAR), ASSETS_ADDITION_FLAG (VARCHAR), INVOICE_PAYMENT_TYPE (VARCHAR), ORG_ID (INTEGER), EXTERNAL_BANK_ACCOUNT_ID (INTEGER), INVOICING_PARTY_ID (INTEGER), INVOICING_PARTY_SITE_ID (INTEGER), INVOICING_VENDOR_SITE_ID (INTEGER), REMIT_TO_SUPPLIER_NAME (VARCHAR), REMIT_TO_SUPPLIER_ID (INTEGER), REMIT_TO_SUPPLIER_SITE (VARCHAR), REMIT_TO_SUPPLIER_SITE_ID (INTEGER)',\n",
              "   'table_summary': 'This table contains detailed information about accounting events, including event ID, date, flags for accrual and cash posting, amount, check and invoice details, payment information, bank details, and various other attributes related to accounting transactions.. '}],\n",
              " 'AP_SUPPLIERS_processed': [{'table_info': 'Table AP_SUPPLIERS_processed has columns: VENDOR_ID (INTEGER), LAST_UPDATE_DATE (VARCHAR), LAST_UPDATED_BY (VARCHAR), VENDOR_NAME (VARCHAR), VENDOR_NAME_ALT (VARCHAR), SEGMENT1 (VARCHAR), SUMMARY_FLAG (VARCHAR), ENABLED_FLAG (VARCHAR), LAST_UPDATE_LOGIN (INTEGER), CREATION_DATE (VARCHAR), CREATED_BY (VARCHAR), EMPLOYEE_ID (INTEGER), VENDOR_TYPE_LOOKUP_CODE (VARCHAR), ONE_TIME_FLAG (VARCHAR), TERMS_ID (INTEGER), ALWAYS_TAKE_DISC_FLAG (VARCHAR), PAY_DATE_BASIS_LOOKUP_CODE (VARCHAR), PAYMENT_PRIORITY (INTEGER), INVOICE_CURRENCY_CODE (VARCHAR), PAYMENT_CURRENCY_CODE (VARCHAR), INVOICE_AMOUNT_LIMIT (INTEGER), HOLD_ALL_PAYMENTS_FLAG (VARCHAR), HOLD_FUTURE_PAYMENTS_FLAG (VARCHAR), START_DATE_ACTIVE (VARCHAR), END_DATE_ACTIVE (VARCHAR), PAYMENT_METHOD_LOOKUP_CODE (VARCHAR), BANK_ACCOUNT_NAME (VARCHAR), BANK_ACCOUNT_NUM (INTEGER), BANK_NUM (INTEGER), BANK_ACCOUNT_TYPE (VARCHAR), WOMEN_OWNED_FLAG (VARCHAR), SMALL_BUSINESS_FLAG (VARCHAR), HOLD_FLAG (VARCHAR), TERMS_DATE_BASIS (VARCHAR), HOLD_UNMATCHED_INVOICES_FLAG (VARCHAR), AP_TAX_ROUNDING_RULE (VARCHAR), AUTO_TAX_CALC_FLAG (VARCHAR), AMOUNT_INCLUDES_TAX_FLAG (VARCHAR), PROGRAM_UPDATE_DATE (VARCHAR), VAT_REGISTRATION_NUM (INTEGER), AUTO_CALCULATE_INTEREST_FLAG (VARCHAR), EXCLUDE_FREIGHT_FROM_DISCOUNT (VARCHAR), MATCH_OPTION (VARCHAR), OFFSET_TAX_FLAG (VARCHAR), PARTY_ID (INTEGER), TCA_SYNC_VENDOR_NAME (VARCHAR), TCA_SYNC_VAT_REG_NUM (INTEGER)',\n",
              "   'table_summary': 'This table contains detailed information about various vendors, including their IDs, names, payment details, currency codes, payment methods, and flags indicating specific attributes. It can be used for analysis and decision-making related to vendor management.. '}],\n",
              " 'AP_SUPPLIER_SITES_ALL_processed': [{'table_info': 'Table AP_SUPPLIER_SITES_ALL_processed has columns: VENDOR_SITE_ID (INTEGER), LAST_UPDATE_DATE (VARCHAR), LAST_UPDATED_BY (VARCHAR), VENDOR_ID (INTEGER), VENDOR_SITE_CODE (INTEGER), LAST_UPDATE_LOGIN (INTEGER), CREATION_DATE (VARCHAR), CREATED_BY (VARCHAR), PURCHASING_SITE_FLAG (VARCHAR), RFQ_ONLY_SITE_FLAG (VARCHAR), PAY_SITE_FLAG (VARCHAR), ATTENTION_AR_FLAG (VARCHAR), ADDRESS_LINE1 (VARCHAR), COUNTRY (VARCHAR), PAYMENT_METHOD_LOOKUP_CODE (VARCHAR), BANK_ACCOUNT_NAME (VARCHAR), BANK_ACCOUNT_NUM (INTEGER), BANK_NUM (INTEGER), BANK_ACCOUNT_TYPE (VARCHAR), TERMS_DATE_BASIS (VARCHAR), ACCTS_PAY_CODE_COMBINATION_ID (INTEGER), PREPAY_CODE_COMBINATION_ID (INTEGER), PAY_GROUP_LOOKUP_CODE (VARCHAR), PAYMENT_PRIORITY (INTEGER), TERMS_ID (INTEGER), INVOICE_AMOUNT_LIMIT (INTEGER), PAY_DATE_BASIS_LOOKUP_CODE (VARCHAR), ALWAYS_TAKE_DISC_FLAG (VARCHAR), INVOICE_CURRENCY_CODE (VARCHAR), PAYMENT_CURRENCY_CODE (VARCHAR), HOLD_ALL_PAYMENTS_FLAG (VARCHAR), HOLD_FUTURE_PAYMENTS_FLAG (VARCHAR), HOLD_UNMATCHED_INVOICES_FLAG (VARCHAR), REQUEST_ID (INTEGER), PROGRAM_APPLICATION_ID (INTEGER), PROGRAM_ID (INTEGER), PROGRAM_UPDATE_DATE (VARCHAR), VALIDATION_NUMBER (INTEGER), EXCLUDE_FREIGHT_FROM_DISCOUNT (VARCHAR), ORG_ID (INTEGER), BANK_NUMBER (INTEGER), COUNTY (VARCHAR), ADDRESS_STYLE (VARCHAR), LANGUAGE (VARCHAR), ALLOW_AWT_FLAG (VARCHAR), PRIMARY_PAY_SITE_FLAG (VARCHAR), TOLERANCE_ID (INTEGER), LOCATION_ID (INTEGER), PARTY_SITE_ID (INTEGER)',\n",
              "   'table_summary': 'This table contains detailed information about vendor sites, including vendor IDs, addresses, payment methods, bank account details, and various flags indicating site attributes such as purchasing site flag, RFQ only site flag, and pay site flag.. '}],\n",
              " 'PO_DISTRIBUTIONS_ALL_processed': [{'table_info': 'Table PO_DISTRIBUTIONS_ALL_processed has columns: PO_DISTRIBUTION_ID (INTEGER), LAST_UPDATE_DATE (VARCHAR), LAST_UPDATED_BY (VARCHAR), PO_HEADER_ID (INTEGER), PO_LINE_ID (INTEGER), LINE_LOCATION_ID (INTEGER), SET_OF_BOOKS_ID (INTEGER), CODE_COMBINATION_ID (INTEGER), QUANTITY_ORDERED (INTEGER), LAST_UPDATE_LOGIN (INTEGER), CREATION_DATE (VARCHAR), CREATED_BY (VARCHAR), QUANTITY_DELIVERED (INTEGER), QUANTITY_BILLED (INTEGER), QUANTITY_CANCELLED (INTEGER), RATE_DATE (VARCHAR), RATE (INTEGER), AMOUNT_BILLED (INTEGER), ENCUMBERED_FLAG (VARCHAR), GL_CANCELLED_DATE (VARCHAR), DESTINATION_TYPE_CODE (VARCHAR), DESTINATION_ORGANIZATION_ID (INTEGER), DESTINATION_SUBINVENTORY (VARCHAR), ATTRIBUTE14 (VARCHAR), ATTRIBUTE15 (VARCHAR), WIP_ENTITY_ID (INTEGER), ACCRUAL_ACCOUNT_ID (INTEGER), VARIANCE_ACCOUNT_ID (INTEGER), PREVENT_ENCUMBRANCE_FLAG (VARCHAR), DESTINATION_CONTEXT (VARCHAR), DISTRIBUTION_NUM (INTEGER), REQUEST_ID (INTEGER), PROGRAM_APPLICATION_ID (INTEGER), PROGRAM_ID (INTEGER), PROGRAM_UPDATE_DATE (VARCHAR), ACCRUE_ON_RECEIPT_FLAG (VARCHAR), ORG_ID (INTEGER), DISTRIBUTION_TYPE (VARCHAR), WF_ITEM_KEY (INTEGER), INVOICED_VAL_IN_NTFN (INTEGER), PARTIAL_FUNDED_FLAG (VARCHAR), AMOUNT_CHANGED_FLAG (VARCHAR)',\n",
              "   'table_summary': 'This table contains details of purchase order distributions, including distribution ID, dates, quantities ordered, delivered, billed, and cancelled, amounts, and various flags related to encumbrance and invoicing.. '}],\n",
              " 'PO_HEADERS_ALL_processed': [{'table_info': 'Table PO_HEADERS_ALL_processed has columns: PO_HEADER_ID (INTEGER), AGENT_ID (INTEGER), TYPE_LOOKUP_CODE (VARCHAR), LAST_UPDATE_DATE (VARCHAR), LAST_UPDATED_BY (VARCHAR), SUMMARY_FLAG (VARCHAR), ENABLED_FLAG (VARCHAR), LAST_UPDATE_LOGIN (INTEGER), CREATION_DATE (VARCHAR), CREATED_BY (VARCHAR), VENDOR_ID (INTEGER), VENDOR_SITE_ID (INTEGER), VENDOR_CONTACT_ID (INTEGER), SHIP_TO_LOCATION_ID (INTEGER), BILL_TO_LOCATION_ID (INTEGER), TERMS_ID (INTEGER), SHIP_VIA_LOOKUP_CODE (VARCHAR), FOB_LOOKUP_CODE (VARCHAR), FREIGHT_TERMS_LOOKUP_CODE (VARCHAR), STATUS_LOOKUP_CODE (VARCHAR), CURRENCY_CODE (VARCHAR), RATE_TYPE (VARCHAR), RATE_DATE (VARCHAR), RATE (INTEGER), END_DATE (VARCHAR), AUTHORIZATION_STATUS (VARCHAR), REVISION_NUM (INTEGER), REVISED_DATE (VARCHAR), APPROVED_FLAG (VARCHAR), APPROVED_DATE (VARCHAR), PRINT_COUNT (INTEGER), PRINTED_DATE (VARCHAR), CONFIRMING_ORDER_FLAG (VARCHAR), CLOSED_DATE (VARCHAR), CANCEL_FLAG (VARCHAR), FROZEN_FLAG (VARCHAR), ATTRIBUTE15 (VARCHAR), CLOSED_CODE (VARCHAR), REQUEST_ID (INTEGER), PROGRAM_APPLICATION_ID (INTEGER), PROGRAM_ID (INTEGER), PROGRAM_UPDATE_DATE (VARCHAR), ORG_ID (INTEGER), WF_ITEM_TYPE (VARCHAR), WF_ITEM_KEY (INTEGER), GLOBAL_AGREEMENT_FLAG (VARCHAR), PENDING_SIGNATURE_FLAG (VARCHAR), DOCUMENT_CREATION_METHOD (VARCHAR), CREATED_LANGUAGE (VARCHAR), STYLE_ID (INTEGER), CLM_DOCUMENT_NUMBER (INTEGER), CLM_EFFECTIVE_DATE (VARCHAR)',\n",
              "   'table_summary': 'This table contains detailed information about purchase orders, including header ID, agent ID, type, last update date, vendor details, shipping information, status, currency, approval status, and other relevant attributes.. '}]}"
            ]
          },
          "metadata": {},
          "execution_count": 37
        }
      ],
      "source": [
        "tb_dict"
      ]
    },
    {
      "cell_type": "code",
      "source": [
        "type(tb_dict)"
      ],
      "metadata": {
        "colab": {
          "base_uri": "https://localhost:8080/"
        },
        "id": "xblO37iyBMAE",
        "outputId": "40dc6274-56a7-4bac-a7c2-8fd90aef0da2"
      },
      "execution_count": 15,
      "outputs": [
        {
          "output_type": "execute_result",
          "data": {
            "text/plain": [
              "dict"
            ]
          },
          "metadata": {},
          "execution_count": 15
        }
      ]
    },
    {
      "cell_type": "markdown",
      "metadata": {
        "id": "7SDF_U0NbenZ"
      },
      "source": [
        "## EMBEDDINGS\n",
        "\n",
        "1. Embed the table summary and table SCHEMA to get the table that the user is looking for\n",
        "2. Embed the table rows for each table, so as to get relevant rows from the retrieved table"
      ]
    },
    {
      "cell_type": "markdown",
      "metadata": {
        "id": "z5eYgOj7bena"
      },
      "source": [
        "## EMBED THE TABLE SUMMARY AND TABLE SCHEMA"
      ]
    },
    {
      "cell_type": "code",
      "source": [
        "os.environ['OPENAI_API_KEY'],"
      ],
      "metadata": {
        "colab": {
          "base_uri": "https://localhost:8080/"
        },
        "id": "9bhy4C88FKMM",
        "outputId": "29b4bea9-0e9b-4654-9044-12340cce17fd"
      },
      "execution_count": 19,
      "outputs": [
        {
          "output_type": "execute_result",
          "data": {
            "text/plain": [
              "('sk-shay-dev-nFHOym7NFDr95khZ87GYT3BlbkFJrqNYHwLMJFRDmsruwxUJ',)"
            ]
          },
          "metadata": {},
          "execution_count": 19
        }
      ]
    },
    {
      "cell_type": "code",
      "source": [
        "from chromadb.db.base import UniqueConstraintError  # Correct import statement"
      ],
      "metadata": {
        "id": "Pxlr9J4IKRCN"
      },
      "execution_count": 34,
      "outputs": []
    },
    {
      "cell_type": "code",
      "execution_count": 39,
      "metadata": {
        "id": "VXvTgSpcbena",
        "colab": {
          "base_uri": "https://localhost:8080/"
        },
        "outputId": "731d3d1f-06b2-4a1e-c964-077dfc106992"
      },
      "outputs": [
        {
          "output_type": "stream",
          "name": "stdout",
          "text": [
            "7 7\n"
          ]
        },
        {
          "output_type": "stream",
          "name": "stderr",
          "text": [
            "Embedding table info: 100%|██████████| 1/1 [00:00<00:00,  2.78it/s]\n"
          ]
        }
      ],
      "source": [
        "import chromadb\n",
        "import chromadb.utils.embedding_functions as embedding_functions\n",
        "from chromadb.utils.batch_utils import create_batches\n",
        "from chromadb.config import Settings\n",
        "\n",
        "emb_fn = embedding_functions.OpenAIEmbeddingFunction(\n",
        "                api_key=os.environ['OPENAI_API_KEY'],\n",
        "                model_name=\"text-embedding-3-small\")\n",
        "# EMBEDDING_MODEL = \"mixedbread-ai/mxbai-embed-large-v1\"\n",
        "# emb_fn = embedding_functions.HuggingFaceEmbeddingFunction(model_name=EMBEDDING_MODEL,api_key=os.environ[\"HF_API_KEY\"])\n",
        "def embed_table_info(region:str,tb_dict):\n",
        "    \"\"\"Embed the table summary and table SCHEMA to get the table that the user is looking for\"\"\"\n",
        "    settings = Settings(allow_reset=True)\n",
        "    client = chromadb.PersistentClient(path=\"./main_TABLE\", settings=settings)\n",
        "    # client = chromadb.PersistentClient(path=f\"{region}_TABLE\")\n",
        "    try:\n",
        "        table_collection = client.create_collection(name=\"table\",embedding_function=emb_fn)\n",
        "    except UniqueConstraintError:\n",
        "        print(\"Collection 'table' already exists. Skipping creation.\")\n",
        "\n",
        "    table_docs = []\n",
        "    table_metadata = []\n",
        "\n",
        "\n",
        "    for table_name,table_data in tb_dict.items():\n",
        "        table_docs.append(table_data[0]['table_info'] + \". \" + table_data[0]['table_summary'])\n",
        "        table_metadata.append({\"table_name\":table_name,'table_metadata':table_data[0]['table_info']})\n",
        "    table_ids = [f\"id{i}\" for i in range(len(table_docs))]\n",
        "    assert len(table_docs) == len(table_metadata)\n",
        "    print(len(table_docs),len(table_metadata))\n",
        "    # Create a batch of data to be sent to OpenAI Embedding API\n",
        "    batches = create_batches(api=client,ids=table_ids, documents=table_docs, metadatas=table_metadata)\n",
        "    for batch in tqdm(batches,desc=\"Embedding table info\"):\n",
        "        table_collection.add(ids=batch[0],\n",
        "                    documents=batch[3],\n",
        "                    metadatas=batch[2])\n",
        "\n",
        "embed_table_info(\"main\",tb_dict)"
      ]
    },
    {
      "cell_type": "markdown",
      "metadata": {
        "id": "Fwx7yfdabena"
      },
      "source": [
        "## For some strange reason, the `create_batches` was not batching the below documents, hence I had to do it manually"
      ]
    },
    {
      "cell_type": "code",
      "execution_count": 41,
      "metadata": {
        "id": "yNNe_0a8bena"
      },
      "outputs": [],
      "source": [
        "\n",
        "def embed_rows(region:str,batch_size:int=24):\n",
        "    client = chromadb.PersistentClient(path=f\"{region}_TABLE\")\n",
        "    # client.delete_collection(name=\"rows\")\n",
        "    settings = Settings(allow_reset=True)\n",
        "    client = chromadb.PersistentClient(path=\"./main_TABLE\", settings=settings)\n",
        "    # client = chromadb.PersistentClient(path=f\"{region}_TABLE\")\n",
        "    try:\n",
        "        rows_collection = client.create_collection(name=\"rows\",embedding_function=emb_fn)\n",
        "    except UniqueConstraintError:\n",
        "        print(\"Collection 'rows' already exists. Skipping creation.\")\n",
        "\n",
        "    rows_docs = []\n",
        "    rows_metadata = []\n",
        "    region_path = os.path.join(processed_dir,\"\")\n",
        "    for df_path in os.listdir(region_path):\n",
        "        df_full_path = os.path.join(region_path,df_path)\n",
        "        df = pd.read_csv(df_full_path,index_col=False)\n",
        "        for idx,row in df.iterrows():\n",
        "            row_str = \"\"\n",
        "            full_rows = []\n",
        "            for rv in row.values:\n",
        "                if isinstance(rv,str):\n",
        "                    row_str+= rv + \", \"\n",
        "                full_rows.append(str(rv))\n",
        "                row_str = row_str.replace('\"',\"\")\n",
        "                # row_str = row_str.replace(\"'\",'\"')\n",
        "            full_rows_str = \", \".join(full_rows)[:-2]\n",
        "            full_rows_str = full_rows_str.replace('\"',\"\")\n",
        "            rows_docs.append(row_str[:-2])\n",
        "            rows_metadata.append({\"table_name\":df_path.split(\".\")[0],\"region\":region,\"index\":idx,\"full_rows\":full_rows_str})\n",
        "    row_ids = [f\"id{i}\" for i in range(len(rows_docs))]\n",
        "    # print(len(rows_docs),len(rows_metadata))\n",
        "    assert len(rows_docs) == len(rows_metadata) == len(row_ids)\n",
        "    # return rows_docs,rows_metadata,row_ids\n",
        "    for start in tqdm(range(0,len(rows_docs),batch_size),desc=\"Embedding rows\"):\n",
        "        end = min(start+batch_size,len(rows_docs))\n",
        "        batch_ids = row_ids[start:end]\n",
        "        batch_rows = rows_docs[start:end]\n",
        "        batch_metadatas = rows_metadata[start:end]\n",
        "        rows_collection.add(ids=batch_ids,\n",
        "                    documents=batch_rows,\n",
        "                    metadatas=batch_metadatas)\n",
        "    # return batches"
      ]
    },
    {
      "cell_type": "code",
      "execution_count": 42,
      "metadata": {
        "id": "iN7UN5b3bena",
        "outputId": "39d89517-48f1-4e33-8afb-1ad162c6594a",
        "colab": {
          "base_uri": "https://localhost:8080/"
        }
      },
      "outputs": [
        {
          "output_type": "stream",
          "name": "stderr",
          "text": [
            "Embedding rows: 100%|██████████| 4/4 [00:26<00:00,  6.56s/it]\n"
          ]
        }
      ],
      "source": [
        "region = \"main\"\n",
        "# embed_table_info(region,tb_dict)\n",
        "embed_rows(region,2000)"
      ]
    },
    {
      "cell_type": "markdown",
      "metadata": {
        "id": "T62EH6Gobenf"
      },
      "source": [
        "## TEXT-TO-SQL PIPELINE"
      ]
    },
    {
      "cell_type": "markdown",
      "metadata": {
        "id": "tAmw3LY9benf"
      },
      "source": [
        "### LOAD DATABASE"
      ]
    },
    {
      "cell_type": "code",
      "execution_count": 43,
      "metadata": {
        "id": "lZj6UJm4beng"
      },
      "outputs": [],
      "source": [
        "db_dict = {\n",
        "    \"main\":db_engine,\n",
        "}\n",
        "\n",
        "def get_collections_db(region:str):\n",
        "    # Get the database for the given region, table collection and row collection\n",
        "    client = chromadb.PersistentClient(path=f\"{region}_TABLE\")\n",
        "    table_collection = client.get_collection(name=\"table\",embedding_function=emb_fn)\n",
        "    row_collection = client.get_collection(name=\"rows\",embedding_function=emb_fn)\n",
        "    return [db_dict[region],table_collection,row_collection]"
      ]
    },
    {
      "cell_type": "code",
      "execution_count": 44,
      "metadata": {
        "id": "St4pl7z4benh"
      },
      "outputs": [],
      "source": [
        "db_collection_dict = {\n",
        "    \"main\":get_collections_db(\"main\")\n",
        "}"
      ]
    },
    {
      "cell_type": "code",
      "execution_count": 45,
      "metadata": {
        "id": "9B0za5Ahbenh"
      },
      "outputs": [],
      "source": [
        "text_to_sql = dspy.OpenAI(model='gpt-3.5-turbo', max_tokens=1024)\n",
        "sql_to_answer = dspy.OpenAI(model='gpt-3.5-turbo',max_tokens=1024)\n",
        "\n",
        "# DSPy signature for converting text to SQL query\n",
        "class TextToSQLAnswer(dspy.Signature):\n",
        "    \"\"\"Convert natural language text to SQL using suitable schema(s) from multiple schema choices\"\"\"\n",
        "\n",
        "    question:str = dspy.InputField(desc=\"natural language input which will be converted to SQL\")\n",
        "    relevant_table_schemas_rows:str = dspy.InputField(desc=\"Multiple possible tables which has table name and corresponding columns, along with relevant rows from the table (values in the same order as columns above)\")\n",
        "    sql:str = dspy.OutputField(desc=\"Generate syntactically correct sqlite query with correct column names using suitable tables(s) and its rows.\\n Don't forget to add distinct.\\n Please rename the returned columns into suitable names.\\n DON'T OUTPUT anything else other than the sqlite query\")\n",
        "\n",
        "# DSPy signature for converting SQL query and question to natural language text\n",
        "class SQLReturnToAnswer(dspy.Signature):\n",
        "    \"\"\"Answer the question using the rows from the SQL query\"\"\"\n",
        "    question:str = dspy.InputField()\n",
        "    sql:str = dspy.InputField(desc=\"sqlite query that generated the rows\")\n",
        "    relevant_rows:str = dspy.InputField(desc=\"relevant rows to answer the question\")\n",
        "    answer:str = dspy.OutputField(desc=\"answer to the question using relevant rows and the sql query\")\n",
        "\n",
        "# If there is an SQLError, then rectify the error by trying again\n",
        "class SQLRectifier(dspy.Signature):\n",
        "    \"\"\"Correct the SQL query to resolve the error using the proper table names, columns and rows\"\"\"\n",
        "    input_sql:str = dspy.InputField(desc=\"sqlite query that needs to be fixed\")\n",
        "    error_str: str = dspy.InputField(desc=\"error that needs to be resolved\")\n",
        "    relevant_table_schemas_rows:str = dspy.InputField(desc=\"Multiple possible tables which has table name and corresponding columns, along with relevant rows from the table (values in the same order as columns above)\")\n",
        "    sql:str = dspy.OutputField(desc=\"corrected sqlite query to resolve the error and remove and any invalid syntax in the query.\\n Don't output anything else other than the sqlite query\")\n",
        "\n",
        "dspy.settings.configure(lm=text_to_sql)\n",
        "\n",
        "# Filter out the SQL Query\n",
        "def process_sql_str(sql_str:str):\n",
        "    sql_str = sql_str.replace(\"```\",\"\")\n",
        "    sql_str = sql_str.replace(\"sql\",\"\")\n",
        "    sql_str = sql_str.strip()\n",
        "    return sql_str"
      ]
    },
    {
      "cell_type": "markdown",
      "metadata": {
        "id": "yaOM7P4vbeni"
      },
      "source": [
        "<p align=\"center\">\n",
        "  <img src=\"https://raw.githubusercontent.com/Athe-kunal/Text-to-SQL/main/Schema.png\" alt=\"Sublime's custom image\"/>\n",
        "</p>"
      ]
    },
    {
      "cell_type": "code",
      "execution_count": 46,
      "metadata": {
        "id": "5-m9kJf4beni"
      },
      "outputs": [],
      "source": [
        "def get_table_results(table_collection_,question:str):\n",
        "    # question_emb = emb_fn.embed_with_retries(question)[0]\n",
        "    # Get the table results for the given question\n",
        "    table_results = table_collection_.query(\n",
        "        query_texts = question,\n",
        "        n_results = 5\n",
        "    )\n",
        "    # print(table_results['documents'][0])\n",
        "    return table_results\n",
        "\n",
        "def get_row_results(row_collection_,question,table_name:str):\n",
        "    # Get the row results for the given question\n",
        "    row_results = row_collection_.query(\n",
        "        query_texts = question,\n",
        "        where = {\"table_name\":table_name},\n",
        "        n_results = 5\n",
        "    )\n",
        "    print(row_results['documents'][0])\n",
        "    return row_results"
      ]
    },
    {
      "cell_type": "code",
      "execution_count": 47,
      "metadata": {
        "id": "sK-oPlaQbenj",
        "outputId": "8d82872c-e89a-4670-ec0b-2e531a0640ae",
        "colab": {
          "base_uri": "https://localhost:8080/"
        }
      },
      "outputs": [
        {
          "output_type": "stream",
          "name": "stdout",
          "text": [
            "Table name: AP_INVOICES_ALL_processed \n",
            "/* \n",
            "col : INVOICE_ID (INTEGER) | INVOICE_NUM (INTEGER) | VENDOR_ID (INTEGER) | VENDOR_NAME (VARCHAR) | PO_HEADER_ID (INTEGER) | INVOICE_AMOUNT (INTEGER) | INVOICE_DATE (VARCHAR) | LAST_UPDATE_DATE (VARCHAR) | LAST_UPDATED_BY (VARCHAR) | SET_OF_BOOKS_ID (INTEGER) | INVOICE_CURRENCY_CODE (VARCHAR) | PAYMENT_CURRENCY_CODE (VARCHAR) | PAYMENT_CROSS_RATE (INTEGER) | VENDOR_SITE_ID (INTEGER) | AMOUNT_PAID (INTEGER) | DISCOUNT_AMOUNT_TAKEN (INTEGER) | SOURCE (VARCHAR) | INVOICE_TYPE_LOOKUP_CODE (VARCHAR) | DESCRIPTION (VARCHAR) | BATCH_ID (INTEGER) | AMOUNT_APPLICABLE_TO_DISCOUNT (INTEGER) | TAX_AMOUNT (INTEGER) | TERMS_ID (INTEGER) | TERMS_DATE (VARCHAR) | PAYMENT_METHOD_CODE (VARCHAR) | PAY_GROUP_LOOKUP_CODE (VARCHAR) | ACCTS_PAY_CODE_COMBINATION_ID (INTEGER) | PAYMENT_STATUS_FLAG (VARCHAR) | CREATION_DATE (VARCHAR) | LAST_UPDATE_LOGIN (INTEGER) | EXCLUSIVE_PAYMENT_FLAG (VARCHAR) | FREIGHT_AMOUNT (INTEGER) | DOC_CATEGORY_CODE (VARCHAR) | APPROVAL_STATUS (VARCHAR) | APPROVAL_DESCRIPTION (VARCHAR) | INVOICE_DISTRIBUTION_TOTAL (INTEGER) | POSTING_STATUS (VARCHAR) | PREPAY_FLAG (VARCHAR) | VENDOR_PREPAY_AMOUNT (INTEGER) | PAYMENT_AMOUNT_TOTAL (INTEGER) | ORG_ID (INTEGER) | PAYMENT_CROSS_RATE_DATE (VARCHAR) | PAY_CURR_INVOICE_AMOUNT (INTEGER) | APPROVAL_READY_FLAG (VARCHAR) | APPROVAL_ITERATION (INTEGER) | WFAPPROVAL_STATUS (VARCHAR) | VALIDATION_REQUEST_ID (INTEGER) | VALIDATED_TAX_AMOUNT (INTEGER) | REQUESTER_ID (INTEGER) | TOTAL_TAX_AMOUNT (INTEGER) | TAXATION_COUNTRY (VARCHAR) | LEGAL_ENTITY_ID (INTEGER) | HISTORICAL_FLAG (VARCHAR) | FORCE_REVALIDATION_FLAG (VARCHAR) | URI_CHECK_DIGIT (INTEGER) | SETTLEMENT_PRIORITY (INTEGER) | PAYMENT_REASON_CODE (VARCHAR) | PAYMENT_REASON_COMMENTS (VARCHAR) | PARTY_ID (INTEGER) | PARTY_SITE_ID (INTEGER) | PAY_PROC_TRXN_TYPE_CODE (VARCHAR) | PAYMENT_FUNCTION (VARCHAR) | EXTERNAL_BANK_ACCOUNT_ID (INTEGER) | DISC_IS_INV_LESS_TAX_FLAG (VARCHAR) | EXCLUDE_FREIGHT_FROM_DISCOUNT (VARCHAR) | RELATIONSHIP_ID (INTEGER) | PO_MATCHED_FLAG (VARCHAR) | VALIDATION_WORKER_ID (INTEGER) | PAYMENT_METHOD_LOOKUP_CODE (VARCHAR)\n",
            "*/\n",
            "\n",
            "Table name: AP_INVOICE_PAYMENTS_ALL_processed \n",
            "/* \n",
            "col : ACCOUNTING_EVENT_ID (INTEGER) | ACCOUNTING_DATE (VARCHAR) | ACCRUAL_POSTED_FLAG (VARCHAR) | AMOUNT (INTEGER) | CASH_POSTED_FLAG (VARCHAR) | CHECK_ID (INTEGER) | INVOICE_ID (INTEGER) | INVOICE_PAYMENT_ID (INTEGER) | LAST_UPDATED_BY (VARCHAR) | LAST_UPDATE_DATE (VARCHAR) | PAYMENT_NUM (INTEGER) | PERIOD_NAME (VARCHAR) | POSTED_FLAG (VARCHAR) | SET_OF_BOOKS_ID (INTEGER) | ASSET_CODE_COMBINATION_ID (INTEGER) | CREATED_BY (VARCHAR) | CREATION_DATE (VARCHAR) | LAST_UPDATE_LOGIN (INTEGER) | BANK_ACCOUNT_NUM (INTEGER) | BANK_ACCOUNT_TYPE (VARCHAR) | BANK_NUM (INTEGER) | DISCOUNT_LOST (INTEGER) | EXCHANGE_DATE (VARCHAR) | FUTURE_PAY_POSTED_FLAG (VARCHAR) | ASSETS_ADDITION_FLAG (VARCHAR) | INVOICE_PAYMENT_TYPE (VARCHAR) | ORG_ID (INTEGER) | EXTERNAL_BANK_ACCOUNT_ID (INTEGER) | INVOICING_PARTY_ID (INTEGER) | INVOICING_PARTY_SITE_ID (INTEGER) | INVOICING_VENDOR_SITE_ID (INTEGER) | REMIT_TO_SUPPLIER_NAME (VARCHAR) | REMIT_TO_SUPPLIER_ID (INTEGER) | REMIT_TO_SUPPLIER_SITE (VARCHAR) | REMIT_TO_SUPPLIER_SITE_ID (INTEGER)\n",
            "*/\n",
            "\n",
            "Table name: AP_INVOICE_DISTRIBUTIONS_ALL_processed \n",
            "/* \n",
            "col : ACCOUNTING_DATE (VARCHAR) | ACCRUAL_POSTED_FLAG (VARCHAR) | ASSETS_ADDITION_FLAG (VARCHAR) | ASSETS_TRACKING_FLAG (VARCHAR) | CASH_POSTED_FLAG (VARCHAR) | DISTRIBUTION_LINE_NUMBER (INTEGER) | DIST_CODE_COMBINATION_ID (INTEGER) | INVOICE_ID (INTEGER) | LAST_UPDATED_BY (VARCHAR) | LAST_UPDATE_DATE (VARCHAR) | LINE_TYPE_LOOKUP_CODE (VARCHAR) | PERIOD_NAME (VARCHAR) | SET_OF_BOOKS_ID (INTEGER) | AMOUNT (INTEGER) | BATCH_ID (INTEGER) | CREATED_BY (VARCHAR) | CREATION_DATE (VARCHAR) | DESCRIPTION (VARCHAR) | LAST_UPDATE_LOGIN (INTEGER) | PO_DISTRIBUTION_ID (INTEGER)\n",
            "*/\n",
            "\n",
            "Table name: PO_DISTRIBUTIONS_ALL_processed \n",
            "/* \n",
            "col : PO_DISTRIBUTION_ID (INTEGER) | LAST_UPDATE_DATE (VARCHAR) | LAST_UPDATED_BY (VARCHAR) | PO_HEADER_ID (INTEGER) | PO_LINE_ID (INTEGER) | LINE_LOCATION_ID (INTEGER) | SET_OF_BOOKS_ID (INTEGER) | CODE_COMBINATION_ID (INTEGER) | QUANTITY_ORDERED (INTEGER) | LAST_UPDATE_LOGIN (INTEGER) | CREATION_DATE (VARCHAR) | CREATED_BY (VARCHAR) | QUANTITY_DELIVERED (INTEGER) | QUANTITY_BILLED (INTEGER) | QUANTITY_CANCELLED (INTEGER) | RATE_DATE (VARCHAR) | RATE (INTEGER) | AMOUNT_BILLED (INTEGER) | ENCUMBERED_FLAG (VARCHAR) | GL_CANCELLED_DATE (VARCHAR) | DESTINATION_TYPE_CODE (VARCHAR) | DESTINATION_ORGANIZATION_ID (INTEGER) | DESTINATION_SUBINVENTORY (VARCHAR) | ATTRIBUTE14 (VARCHAR) | ATTRIBUTE15 (VARCHAR) | WIP_ENTITY_ID (INTEGER) | ACCRUAL_ACCOUNT_ID (INTEGER) | VARIANCE_ACCOUNT_ID (INTEGER) | PREVENT_ENCUMBRANCE_FLAG (VARCHAR) | DESTINATION_CONTEXT (VARCHAR) | DISTRIBUTION_NUM (INTEGER) | REQUEST_ID (INTEGER) | PROGRAM_APPLICATION_ID (INTEGER) | PROGRAM_ID (INTEGER) | PROGRAM_UPDATE_DATE (VARCHAR) | ACCRUE_ON_RECEIPT_FLAG (VARCHAR) | ORG_ID (INTEGER) | DISTRIBUTION_TYPE (VARCHAR) | WF_ITEM_KEY (INTEGER) | INVOICED_VAL_IN_NTFN (INTEGER) | PARTIAL_FUNDED_FLAG (VARCHAR) | AMOUNT_CHANGED_FLAG (VARCHAR)\n",
            "*/\n",
            "\n",
            "Table name: PO_HEADERS_ALL_processed \n",
            "/* \n",
            "col : PO_HEADER_ID (INTEGER) | AGENT_ID (INTEGER) | TYPE_LOOKUP_CODE (VARCHAR) | LAST_UPDATE_DATE (VARCHAR) | LAST_UPDATED_BY (VARCHAR) | SUMMARY_FLAG (VARCHAR) | ENABLED_FLAG (VARCHAR) | LAST_UPDATE_LOGIN (INTEGER) | CREATION_DATE (VARCHAR) | CREATED_BY (VARCHAR) | VENDOR_ID (INTEGER) | VENDOR_SITE_ID (INTEGER) | VENDOR_CONTACT_ID (INTEGER) | SHIP_TO_LOCATION_ID (INTEGER) | BILL_TO_LOCATION_ID (INTEGER) | TERMS_ID (INTEGER) | SHIP_VIA_LOOKUP_CODE (VARCHAR) | FOB_LOOKUP_CODE (VARCHAR) | FREIGHT_TERMS_LOOKUP_CODE (VARCHAR) | STATUS_LOOKUP_CODE (VARCHAR) | CURRENCY_CODE (VARCHAR) | RATE_TYPE (VARCHAR) | RATE_DATE (VARCHAR) | RATE (INTEGER) | END_DATE (VARCHAR) | AUTHORIZATION_STATUS (VARCHAR) | REVISION_NUM (INTEGER) | REVISED_DATE (VARCHAR) | APPROVED_FLAG (VARCHAR) | APPROVED_DATE (VARCHAR) | PRINT_COUNT (INTEGER) | PRINTED_DATE (VARCHAR) | CONFIRMING_ORDER_FLAG (VARCHAR) | CLOSED_DATE (VARCHAR) | CANCEL_FLAG (VARCHAR) | FROZEN_FLAG (VARCHAR) | ATTRIBUTE15 (VARCHAR) | CLOSED_CODE (VARCHAR) | REQUEST_ID (INTEGER) | PROGRAM_APPLICATION_ID (INTEGER) | PROGRAM_ID (INTEGER) | PROGRAM_UPDATE_DATE (VARCHAR) | ORG_ID (INTEGER) | WF_ITEM_TYPE (VARCHAR) | WF_ITEM_KEY (INTEGER) | GLOBAL_AGREEMENT_FLAG (VARCHAR) | PENDING_SIGNATURE_FLAG (VARCHAR) | DOCUMENT_CREATION_METHOD (VARCHAR) | CREATED_LANGUAGE (VARCHAR) | STYLE_ID (INTEGER) | CLM_DOCUMENT_NUMBER (INTEGER) | CLM_EFFECTIVE_DATE (VARCHAR)\n",
            "*/\n",
            "\n",
            "\n",
            "Prediction(\n",
            "    rationale='produce the SQL. We need to find the status of the invoice number 1687546526, which is stored in the AP_INVOICES_ALL_processed table.',\n",
            "    sql='```sql\\nSELECT DISTINCT APPROVAL_STATUS AS invoice_status\\nFROM AP_INVOICES_ALL_processed\\nWHERE INVOICE_NUM = 1687546526;\\n```'\n",
            ")\n",
            "Extracted rows: \n"
          ]
        }
      ],
      "source": [
        "from typing import Any\n",
        "import re\n",
        "\n",
        "class TextToSQLQueryModule(dspy.Module):\n",
        "    \"\"\"Text to SQL to final module\"\"\"\n",
        "    def __init__(self,region:str,use_cot:bool=True,max_retries:int=3):\n",
        "        \"\"\"Text to Answer init module\n",
        "\n",
        "        Args:\n",
        "            region (str): Region for which the module will be used.\n",
        "            use_cot (bool, optional): Whether to use chain of thought for sql query generation. Defaults to True.\n",
        "            max_retries (int, optional): Number of max retries for SQLError. Defaults to 3.\n",
        "        \"\"\"\n",
        "        super().__init__()\n",
        "        self.region = region\n",
        "        db,table_collection,row_collection = db_collection_dict[region]\n",
        "        # print(db,table_collection,row_collection)\n",
        "        self.table_collection = table_collection\n",
        "        self.use_cot = use_cot\n",
        "        self.db = db\n",
        "        self.row_collection = row_collection\n",
        "        if self.use_cot == True:\n",
        "            self.sqlAnswer = dspy.ChainOfThought(TextToSQLAnswer)\n",
        "        else:\n",
        "            self.sqlAnswer = dspy.Predict(TextToSQLAnswer)\n",
        "        self.final_output = dspy.Predict(SQLReturnToAnswer)\n",
        "        self.max_tries = max_retries\n",
        "        # Initialize the sql rectifier with CoT reasoning\n",
        "        self.sql_rectifier = dspy.ChainOfThought(SQLRectifier,rationale_type=dspy.OutputField(\n",
        "            prefix=\"Reasoning: Let's think step by step in order to\",\n",
        "            desc=\"${produce the answer}. We ...\"\n",
        "        ))\n",
        "\n",
        "    def __call__(self, *args: Any, **kwargs: Any) -> Any:\n",
        "        return self.forward(*args, **kwargs)\n",
        "\n",
        "    def forward(self,question):\n",
        "        # Embed the question with embedding function\n",
        "        question_emb = emb_fn([question])[0]\n",
        "        # Retrieve the relevant tables from table schema and table summary\n",
        "        docs = self.table_collection.query(\n",
        "            query_embeddings = question_emb,\n",
        "            n_results = 5\n",
        "        )\n",
        "        # docs = get_table_results(db_collection_dict[self.region][1],question)\n",
        "        relevant_rows_schemas = \"\"\n",
        "\n",
        "        existing_table_names = []\n",
        "\n",
        "        for table_idx,metadata_name in enumerate(docs['metadatas'][0]):\n",
        "            table_metadata = metadata_name['table_metadata']\n",
        "            table_name = metadata_name['table_name']\n",
        "            # If the table name is already in the list of existing table names, skip it\n",
        "            # if table_name in existing_table_names:\n",
        "            #     continue\n",
        "            existing_table_names.append(table_name)\n",
        "            # Retrieve the relevant rows from the current table\n",
        "            rows = self.row_collection.query(\n",
        "                query_embeddings = question_emb,\n",
        "                n_results = 5,\n",
        "                # where clause to filter the rows\n",
        "                where = {\"table_name\":table_name}\n",
        "            )\n",
        "            # Retrieve the relevant table with the schema and summary\n",
        "            relevant_rows_schemas += f'Table name: {table_name} \\n'\n",
        "            relevant_rows_schemas += \"/* \\n\"\n",
        "            for match in re.finditer(\"columns: \",table_metadata):\n",
        "                cols_end = match.end()\n",
        "            relevant_rows_schemas += \"col : \" + \" | \".join(table_metadata[cols_end:].split(\", \")) + \"\\n\"\n",
        "            for row_idx,row in enumerate(rows['metadatas'][0]):\n",
        "                # Get the relevant rows from the current table\n",
        "                # relevant_rows_schemas += f'\\tRow {row_idx+1} from table {table_name}: {row[\"full_rows\"]}\\n'\n",
        "                relevant_rows_schemas += f'row {row_idx+1} : {\" | \".join(row[\"full_rows\"].split(\", \"))}\\n'\n",
        "            relevant_rows_schemas += \"*/\" + '\\n\\n'\n",
        "        print(colored(relevant_rows_schemas,\"yellow\"))\n",
        "        # return\n",
        "        sql_query = self.sqlAnswer(question=question,relevant_table_schemas_rows=relevant_rows_schemas)\n",
        "\n",
        "        num_tries = 0\n",
        "        print(sql_query)\n",
        "        while num_tries <= self.max_tries:\n",
        "            with self.db.connect() as conn:\n",
        "                try:\n",
        "                    # Try executing the sql query for the database\n",
        "                    result = conn.execute(text(process_sql_str(sql_query.sql)))\n",
        "                    num_tries = self.max_tries + 1\n",
        "                except Exception as error:\n",
        "                    # If there is an sql error, then try again with the sql rectifier\n",
        "                    print(colored(str(error),'red'))\n",
        "                    sql_query = self.sql_rectifier(input_sql=sql_query.sql,error_str=str(error),relevant_table_schemas_rows=relevant_rows_schemas)\n",
        "                    print(colored(sql_query.rationale,'green'))\n",
        "                    print()\n",
        "                    print(colored(sql_query.sql,'green'))\n",
        "                    # If all the num_retries are exhausted, then exit the program\n",
        "                    num_tries += 1\n",
        "                    if num_tries == self.max_tries+1:\n",
        "                        return sql_query,error\n",
        "        # With the retrieved rows from the database, then try to answer the question with dspy context\n",
        "        with dspy.context(lm=sql_to_answer):\n",
        "            row_str = \"\"\n",
        "            key = tuple(result.keys())\n",
        "            for row in result.fetchall():\n",
        "                for r,k in zip(row,key):\n",
        "                    row_str += f\" {k} = {r},\"\n",
        "                row_str = row_str[:-1]\n",
        "                row_str += \"\\n\"\n",
        "            print(f\"Extracted rows: {row_str}\")\n",
        "            final_answer = self.final_output(question=question,sql=sql_query.sql,relevant_rows=row_str)\n",
        "            return final_answer\n",
        "tsql_ = TextToSQLQueryModule(\"main\")\n",
        "question = \"Can you give me the status of invoice number 1687546526?\"\n",
        "sq = tsql_(question = question)"
      ]
    },
    {
      "cell_type": "code",
      "execution_count": 48,
      "metadata": {
        "id": "kYQwGB8Bbenk",
        "outputId": "b3c09ce3-0acb-4e90-b96d-c8556952cd05",
        "colab": {
          "base_uri": "https://localhost:8080/"
        }
      },
      "outputs": [
        {
          "output_type": "stream",
          "name": "stdout",
          "text": [
            "Prediction(\n",
            "    answer='| invoice_status |\\n|----------------|\\n| APPROVED       |\\n\\nAnswer: The status of invoice number 1687546526 is APPROVED.'\n",
            ")\n"
          ]
        }
      ],
      "source": [
        "print(sq)"
      ]
    },
    {
      "cell_type": "code",
      "source": [
        "print(sq.answer)"
      ],
      "metadata": {
        "colab": {
          "base_uri": "https://localhost:8080/"
        },
        "id": "7DrZIYWpN7vf",
        "outputId": "ab09c9fa-0dda-4a03-a1c2-3a9a6ffe35d2"
      },
      "execution_count": 50,
      "outputs": [
        {
          "output_type": "stream",
          "name": "stdout",
          "text": [
            "| invoice_status |\n",
            "|----------------|\n",
            "| APPROVED       |\n",
            "\n",
            "Answer: The status of invoice number 1687546526 is APPROVED.\n"
          ]
        }
      ]
    },
    {
      "cell_type": "code",
      "execution_count": 51,
      "metadata": {
        "id": "YiPGie4ebenl",
        "outputId": "fc9ca4c9-b351-45bf-b40c-7c093fcfc1b0",
        "colab": {
          "base_uri": "https://localhost:8080/"
        }
      },
      "outputs": [
        {
          "output_type": "stream",
          "name": "stdout",
          "text": [
            "Table name: AP_INVOICES_ALL_processed \n",
            "/* \n",
            "col : INVOICE_ID (INTEGER) | INVOICE_NUM (INTEGER) | VENDOR_ID (INTEGER) | VENDOR_NAME (VARCHAR) | PO_HEADER_ID (INTEGER) | INVOICE_AMOUNT (INTEGER) | INVOICE_DATE (VARCHAR) | LAST_UPDATE_DATE (VARCHAR) | LAST_UPDATED_BY (VARCHAR) | SET_OF_BOOKS_ID (INTEGER) | INVOICE_CURRENCY_CODE (VARCHAR) | PAYMENT_CURRENCY_CODE (VARCHAR) | PAYMENT_CROSS_RATE (INTEGER) | VENDOR_SITE_ID (INTEGER) | AMOUNT_PAID (INTEGER) | DISCOUNT_AMOUNT_TAKEN (INTEGER) | SOURCE (VARCHAR) | INVOICE_TYPE_LOOKUP_CODE (VARCHAR) | DESCRIPTION (VARCHAR) | BATCH_ID (INTEGER) | AMOUNT_APPLICABLE_TO_DISCOUNT (INTEGER) | TAX_AMOUNT (INTEGER) | TERMS_ID (INTEGER) | TERMS_DATE (VARCHAR) | PAYMENT_METHOD_CODE (VARCHAR) | PAY_GROUP_LOOKUP_CODE (VARCHAR) | ACCTS_PAY_CODE_COMBINATION_ID (INTEGER) | PAYMENT_STATUS_FLAG (VARCHAR) | CREATION_DATE (VARCHAR) | LAST_UPDATE_LOGIN (INTEGER) | EXCLUSIVE_PAYMENT_FLAG (VARCHAR) | FREIGHT_AMOUNT (INTEGER) | DOC_CATEGORY_CODE (VARCHAR) | APPROVAL_STATUS (VARCHAR) | APPROVAL_DESCRIPTION (VARCHAR) | INVOICE_DISTRIBUTION_TOTAL (INTEGER) | POSTING_STATUS (VARCHAR) | PREPAY_FLAG (VARCHAR) | VENDOR_PREPAY_AMOUNT (INTEGER) | PAYMENT_AMOUNT_TOTAL (INTEGER) | ORG_ID (INTEGER) | PAYMENT_CROSS_RATE_DATE (VARCHAR) | PAY_CURR_INVOICE_AMOUNT (INTEGER) | APPROVAL_READY_FLAG (VARCHAR) | APPROVAL_ITERATION (INTEGER) | WFAPPROVAL_STATUS (VARCHAR) | VALIDATION_REQUEST_ID (INTEGER) | VALIDATED_TAX_AMOUNT (INTEGER) | REQUESTER_ID (INTEGER) | TOTAL_TAX_AMOUNT (INTEGER) | TAXATION_COUNTRY (VARCHAR) | LEGAL_ENTITY_ID (INTEGER) | HISTORICAL_FLAG (VARCHAR) | FORCE_REVALIDATION_FLAG (VARCHAR) | URI_CHECK_DIGIT (INTEGER) | SETTLEMENT_PRIORITY (INTEGER) | PAYMENT_REASON_CODE (VARCHAR) | PAYMENT_REASON_COMMENTS (VARCHAR) | PARTY_ID (INTEGER) | PARTY_SITE_ID (INTEGER) | PAY_PROC_TRXN_TYPE_CODE (VARCHAR) | PAYMENT_FUNCTION (VARCHAR) | EXTERNAL_BANK_ACCOUNT_ID (INTEGER) | DISC_IS_INV_LESS_TAX_FLAG (VARCHAR) | EXCLUDE_FREIGHT_FROM_DISCOUNT (VARCHAR) | RELATIONSHIP_ID (INTEGER) | PO_MATCHED_FLAG (VARCHAR) | VALIDATION_WORKER_ID (INTEGER) | PAYMENT_METHOD_LOOKUP_CODE (VARCHAR)\n",
            "*/\n",
            "\n",
            "Table name: AP_INVOICE_PAYMENTS_ALL_processed \n",
            "/* \n",
            "col : ACCOUNTING_EVENT_ID (INTEGER) | ACCOUNTING_DATE (VARCHAR) | ACCRUAL_POSTED_FLAG (VARCHAR) | AMOUNT (INTEGER) | CASH_POSTED_FLAG (VARCHAR) | CHECK_ID (INTEGER) | INVOICE_ID (INTEGER) | INVOICE_PAYMENT_ID (INTEGER) | LAST_UPDATED_BY (VARCHAR) | LAST_UPDATE_DATE (VARCHAR) | PAYMENT_NUM (INTEGER) | PERIOD_NAME (VARCHAR) | POSTED_FLAG (VARCHAR) | SET_OF_BOOKS_ID (INTEGER) | ASSET_CODE_COMBINATION_ID (INTEGER) | CREATED_BY (VARCHAR) | CREATION_DATE (VARCHAR) | LAST_UPDATE_LOGIN (INTEGER) | BANK_ACCOUNT_NUM (INTEGER) | BANK_ACCOUNT_TYPE (VARCHAR) | BANK_NUM (INTEGER) | DISCOUNT_LOST (INTEGER) | EXCHANGE_DATE (VARCHAR) | FUTURE_PAY_POSTED_FLAG (VARCHAR) | ASSETS_ADDITION_FLAG (VARCHAR) | INVOICE_PAYMENT_TYPE (VARCHAR) | ORG_ID (INTEGER) | EXTERNAL_BANK_ACCOUNT_ID (INTEGER) | INVOICING_PARTY_ID (INTEGER) | INVOICING_PARTY_SITE_ID (INTEGER) | INVOICING_VENDOR_SITE_ID (INTEGER) | REMIT_TO_SUPPLIER_NAME (VARCHAR) | REMIT_TO_SUPPLIER_ID (INTEGER) | REMIT_TO_SUPPLIER_SITE (VARCHAR) | REMIT_TO_SUPPLIER_SITE_ID (INTEGER)\n",
            "*/\n",
            "\n",
            "Table name: AP_INVOICE_DISTRIBUTIONS_ALL_processed \n",
            "/* \n",
            "col : ACCOUNTING_DATE (VARCHAR) | ACCRUAL_POSTED_FLAG (VARCHAR) | ASSETS_ADDITION_FLAG (VARCHAR) | ASSETS_TRACKING_FLAG (VARCHAR) | CASH_POSTED_FLAG (VARCHAR) | DISTRIBUTION_LINE_NUMBER (INTEGER) | DIST_CODE_COMBINATION_ID (INTEGER) | INVOICE_ID (INTEGER) | LAST_UPDATED_BY (VARCHAR) | LAST_UPDATE_DATE (VARCHAR) | LINE_TYPE_LOOKUP_CODE (VARCHAR) | PERIOD_NAME (VARCHAR) | SET_OF_BOOKS_ID (INTEGER) | AMOUNT (INTEGER) | BATCH_ID (INTEGER) | CREATED_BY (VARCHAR) | CREATION_DATE (VARCHAR) | DESCRIPTION (VARCHAR) | LAST_UPDATE_LOGIN (INTEGER) | PO_DISTRIBUTION_ID (INTEGER)\n",
            "*/\n",
            "\n",
            "Table name: PO_HEADERS_ALL_processed \n",
            "/* \n",
            "col : PO_HEADER_ID (INTEGER) | AGENT_ID (INTEGER) | TYPE_LOOKUP_CODE (VARCHAR) | LAST_UPDATE_DATE (VARCHAR) | LAST_UPDATED_BY (VARCHAR) | SUMMARY_FLAG (VARCHAR) | ENABLED_FLAG (VARCHAR) | LAST_UPDATE_LOGIN (INTEGER) | CREATION_DATE (VARCHAR) | CREATED_BY (VARCHAR) | VENDOR_ID (INTEGER) | VENDOR_SITE_ID (INTEGER) | VENDOR_CONTACT_ID (INTEGER) | SHIP_TO_LOCATION_ID (INTEGER) | BILL_TO_LOCATION_ID (INTEGER) | TERMS_ID (INTEGER) | SHIP_VIA_LOOKUP_CODE (VARCHAR) | FOB_LOOKUP_CODE (VARCHAR) | FREIGHT_TERMS_LOOKUP_CODE (VARCHAR) | STATUS_LOOKUP_CODE (VARCHAR) | CURRENCY_CODE (VARCHAR) | RATE_TYPE (VARCHAR) | RATE_DATE (VARCHAR) | RATE (INTEGER) | END_DATE (VARCHAR) | AUTHORIZATION_STATUS (VARCHAR) | REVISION_NUM (INTEGER) | REVISED_DATE (VARCHAR) | APPROVED_FLAG (VARCHAR) | APPROVED_DATE (VARCHAR) | PRINT_COUNT (INTEGER) | PRINTED_DATE (VARCHAR) | CONFIRMING_ORDER_FLAG (VARCHAR) | CLOSED_DATE (VARCHAR) | CANCEL_FLAG (VARCHAR) | FROZEN_FLAG (VARCHAR) | ATTRIBUTE15 (VARCHAR) | CLOSED_CODE (VARCHAR) | REQUEST_ID (INTEGER) | PROGRAM_APPLICATION_ID (INTEGER) | PROGRAM_ID (INTEGER) | PROGRAM_UPDATE_DATE (VARCHAR) | ORG_ID (INTEGER) | WF_ITEM_TYPE (VARCHAR) | WF_ITEM_KEY (INTEGER) | GLOBAL_AGREEMENT_FLAG (VARCHAR) | PENDING_SIGNATURE_FLAG (VARCHAR) | DOCUMENT_CREATION_METHOD (VARCHAR) | CREATED_LANGUAGE (VARCHAR) | STYLE_ID (INTEGER) | CLM_DOCUMENT_NUMBER (INTEGER) | CLM_EFFECTIVE_DATE (VARCHAR)\n",
            "*/\n",
            "\n",
            "Table name: PO_DISTRIBUTIONS_ALL_processed \n",
            "/* \n",
            "col : PO_DISTRIBUTION_ID (INTEGER) | LAST_UPDATE_DATE (VARCHAR) | LAST_UPDATED_BY (VARCHAR) | PO_HEADER_ID (INTEGER) | PO_LINE_ID (INTEGER) | LINE_LOCATION_ID (INTEGER) | SET_OF_BOOKS_ID (INTEGER) | CODE_COMBINATION_ID (INTEGER) | QUANTITY_ORDERED (INTEGER) | LAST_UPDATE_LOGIN (INTEGER) | CREATION_DATE (VARCHAR) | CREATED_BY (VARCHAR) | QUANTITY_DELIVERED (INTEGER) | QUANTITY_BILLED (INTEGER) | QUANTITY_CANCELLED (INTEGER) | RATE_DATE (VARCHAR) | RATE (INTEGER) | AMOUNT_BILLED (INTEGER) | ENCUMBERED_FLAG (VARCHAR) | GL_CANCELLED_DATE (VARCHAR) | DESTINATION_TYPE_CODE (VARCHAR) | DESTINATION_ORGANIZATION_ID (INTEGER) | DESTINATION_SUBINVENTORY (VARCHAR) | ATTRIBUTE14 (VARCHAR) | ATTRIBUTE15 (VARCHAR) | WIP_ENTITY_ID (INTEGER) | ACCRUAL_ACCOUNT_ID (INTEGER) | VARIANCE_ACCOUNT_ID (INTEGER) | PREVENT_ENCUMBRANCE_FLAG (VARCHAR) | DESTINATION_CONTEXT (VARCHAR) | DISTRIBUTION_NUM (INTEGER) | REQUEST_ID (INTEGER) | PROGRAM_APPLICATION_ID (INTEGER) | PROGRAM_ID (INTEGER) | PROGRAM_UPDATE_DATE (VARCHAR) | ACCRUE_ON_RECEIPT_FLAG (VARCHAR) | ORG_ID (INTEGER) | DISTRIBUTION_TYPE (VARCHAR) | WF_ITEM_KEY (INTEGER) | INVOICED_VAL_IN_NTFN (INTEGER) | PARTIAL_FUNDED_FLAG (VARCHAR) | AMOUNT_CHANGED_FLAG (VARCHAR)\n",
            "*/\n",
            "\n",
            "\n",
            "Prediction(\n",
            "    rationale='produce the SQL. We need to find the currency code for a specific invoice number. We can achieve this by joining the AP_INVOICES_ALL_processed table with the PO_HEADERS_ALL_processed table on the PO_HEADER_ID column, as the currency code is present in the PO_HEADERS_ALL_processed table.',\n",
            "    sql='```sql\\nSELECT DISTINCT PO_HEADERS_ALL_processed.CURRENCY_CODE AS CURRENCY_CODE\\nFROM AP_INVOICES_ALL_processed\\nJOIN PO_HEADERS_ALL_processed ON AP_INVOICES_ALL_processed.PO_HEADER_ID = PO_HEADERS_ALL_processed.PO_HEADER_ID\\nWHERE AP_INVOICES_ALL_processed.INVOICE_NUM = 1687546526;\\n```'\n",
            ")\n",
            "Extracted rows: \n",
            "| CURRENCY_CODE |\n",
            "|---------------|\n",
            "| USD           |\n",
            "\n",
            "Answer: The currency code for the invoice number 1687546526 is USD.\n"
          ]
        }
      ],
      "source": [
        "# tsql = TextToSQLQueryModule(\"main\")\n",
        "sq = tsql_(question=\"What is the currency code for the invoice number 1687546526?\")\n",
        "print(sq.answer)"
      ]
    },
    {
      "cell_type": "code",
      "execution_count": 52,
      "metadata": {
        "id": "aAxBYa2Cbenm",
        "outputId": "1e01fadd-32a5-4a88-96d4-7395b4e15f81",
        "colab": {
          "base_uri": "https://localhost:8080/"
        }
      },
      "outputs": [
        {
          "output_type": "stream",
          "name": "stdout",
          "text": [
            "Table name: AP_SUPPLIERS_processed \n",
            "/* \n",
            "col : VENDOR_ID (INTEGER) | LAST_UPDATE_DATE (VARCHAR) | LAST_UPDATED_BY (VARCHAR) | VENDOR_NAME (VARCHAR) | VENDOR_NAME_ALT (VARCHAR) | SEGMENT1 (VARCHAR) | SUMMARY_FLAG (VARCHAR) | ENABLED_FLAG (VARCHAR) | LAST_UPDATE_LOGIN (INTEGER) | CREATION_DATE (VARCHAR) | CREATED_BY (VARCHAR) | EMPLOYEE_ID (INTEGER) | VENDOR_TYPE_LOOKUP_CODE (VARCHAR) | ONE_TIME_FLAG (VARCHAR) | TERMS_ID (INTEGER) | ALWAYS_TAKE_DISC_FLAG (VARCHAR) | PAY_DATE_BASIS_LOOKUP_CODE (VARCHAR) | PAYMENT_PRIORITY (INTEGER) | INVOICE_CURRENCY_CODE (VARCHAR) | PAYMENT_CURRENCY_CODE (VARCHAR) | INVOICE_AMOUNT_LIMIT (INTEGER) | HOLD_ALL_PAYMENTS_FLAG (VARCHAR) | HOLD_FUTURE_PAYMENTS_FLAG (VARCHAR) | START_DATE_ACTIVE (VARCHAR) | END_DATE_ACTIVE (VARCHAR) | PAYMENT_METHOD_LOOKUP_CODE (VARCHAR) | BANK_ACCOUNT_NAME (VARCHAR) | BANK_ACCOUNT_NUM (INTEGER) | BANK_NUM (INTEGER) | BANK_ACCOUNT_TYPE (VARCHAR) | WOMEN_OWNED_FLAG (VARCHAR) | SMALL_BUSINESS_FLAG (VARCHAR) | HOLD_FLAG (VARCHAR) | TERMS_DATE_BASIS (VARCHAR) | HOLD_UNMATCHED_INVOICES_FLAG (VARCHAR) | AP_TAX_ROUNDING_RULE (VARCHAR) | AUTO_TAX_CALC_FLAG (VARCHAR) | AMOUNT_INCLUDES_TAX_FLAG (VARCHAR) | PROGRAM_UPDATE_DATE (VARCHAR) | VAT_REGISTRATION_NUM (INTEGER) | AUTO_CALCULATE_INTEREST_FLAG (VARCHAR) | EXCLUDE_FREIGHT_FROM_DISCOUNT (VARCHAR) | MATCH_OPTION (VARCHAR) | OFFSET_TAX_FLAG (VARCHAR) | PARTY_ID (INTEGER) | TCA_SYNC_VENDOR_NAME (VARCHAR) | TCA_SYNC_VAT_REG_NUM (INTEGER)\n",
            "*/\n",
            "\n",
            "Table name: AP_INVOICES_ALL_processed \n",
            "/* \n",
            "col : INVOICE_ID (INTEGER) | INVOICE_NUM (INTEGER) | VENDOR_ID (INTEGER) | VENDOR_NAME (VARCHAR) | PO_HEADER_ID (INTEGER) | INVOICE_AMOUNT (INTEGER) | INVOICE_DATE (VARCHAR) | LAST_UPDATE_DATE (VARCHAR) | LAST_UPDATED_BY (VARCHAR) | SET_OF_BOOKS_ID (INTEGER) | INVOICE_CURRENCY_CODE (VARCHAR) | PAYMENT_CURRENCY_CODE (VARCHAR) | PAYMENT_CROSS_RATE (INTEGER) | VENDOR_SITE_ID (INTEGER) | AMOUNT_PAID (INTEGER) | DISCOUNT_AMOUNT_TAKEN (INTEGER) | SOURCE (VARCHAR) | INVOICE_TYPE_LOOKUP_CODE (VARCHAR) | DESCRIPTION (VARCHAR) | BATCH_ID (INTEGER) | AMOUNT_APPLICABLE_TO_DISCOUNT (INTEGER) | TAX_AMOUNT (INTEGER) | TERMS_ID (INTEGER) | TERMS_DATE (VARCHAR) | PAYMENT_METHOD_CODE (VARCHAR) | PAY_GROUP_LOOKUP_CODE (VARCHAR) | ACCTS_PAY_CODE_COMBINATION_ID (INTEGER) | PAYMENT_STATUS_FLAG (VARCHAR) | CREATION_DATE (VARCHAR) | LAST_UPDATE_LOGIN (INTEGER) | EXCLUSIVE_PAYMENT_FLAG (VARCHAR) | FREIGHT_AMOUNT (INTEGER) | DOC_CATEGORY_CODE (VARCHAR) | APPROVAL_STATUS (VARCHAR) | APPROVAL_DESCRIPTION (VARCHAR) | INVOICE_DISTRIBUTION_TOTAL (INTEGER) | POSTING_STATUS (VARCHAR) | PREPAY_FLAG (VARCHAR) | VENDOR_PREPAY_AMOUNT (INTEGER) | PAYMENT_AMOUNT_TOTAL (INTEGER) | ORG_ID (INTEGER) | PAYMENT_CROSS_RATE_DATE (VARCHAR) | PAY_CURR_INVOICE_AMOUNT (INTEGER) | APPROVAL_READY_FLAG (VARCHAR) | APPROVAL_ITERATION (INTEGER) | WFAPPROVAL_STATUS (VARCHAR) | VALIDATION_REQUEST_ID (INTEGER) | VALIDATED_TAX_AMOUNT (INTEGER) | REQUESTER_ID (INTEGER) | TOTAL_TAX_AMOUNT (INTEGER) | TAXATION_COUNTRY (VARCHAR) | LEGAL_ENTITY_ID (INTEGER) | HISTORICAL_FLAG (VARCHAR) | FORCE_REVALIDATION_FLAG (VARCHAR) | URI_CHECK_DIGIT (INTEGER) | SETTLEMENT_PRIORITY (INTEGER) | PAYMENT_REASON_CODE (VARCHAR) | PAYMENT_REASON_COMMENTS (VARCHAR) | PARTY_ID (INTEGER) | PARTY_SITE_ID (INTEGER) | PAY_PROC_TRXN_TYPE_CODE (VARCHAR) | PAYMENT_FUNCTION (VARCHAR) | EXTERNAL_BANK_ACCOUNT_ID (INTEGER) | DISC_IS_INV_LESS_TAX_FLAG (VARCHAR) | EXCLUDE_FREIGHT_FROM_DISCOUNT (VARCHAR) | RELATIONSHIP_ID (INTEGER) | PO_MATCHED_FLAG (VARCHAR) | VALIDATION_WORKER_ID (INTEGER) | PAYMENT_METHOD_LOOKUP_CODE (VARCHAR)\n",
            "*/\n",
            "\n",
            "Table name: AP_CHECKS_ALL_processed \n",
            "/* \n",
            "col : AMOUNT (INTEGER) | BANK_ACCOUNT_ID (INTEGER) | BANK_ACCOUNT_NAME (VARCHAR) | CHECK_DATE (VARCHAR) | CHECK_ID (INTEGER) | CHECK_NUMBER (INTEGER) | CURRENCY_CODE (VARCHAR) | LAST_UPDATED_BY (VARCHAR) | LAST_UPDATE_DATE (VARCHAR) | PAYMENT_METHOD_LOOKUP_CODE (VARCHAR) | PAYMENT_TYPE_FLAG (VARCHAR) | ADDRESS_LINE1 (VARCHAR) | CHECKRUN_NAME (VARCHAR) | CITY (VARCHAR) | COUNTRY (VARCHAR) | CREATED_BY (VARCHAR) | CREATION_DATE (VARCHAR) | STATUS_LOOKUP_CODE (VARCHAR) | VENDOR_NAME (VARCHAR) | ZIP (INTEGER) | BANK_ACCOUNT_NUM (INTEGER) | BANK_ACCOUNT_TYPE (VARCHAR) | BANK_NUM (INTEGER) | CHECK_VOUCHER_NUM (INTEGER) | CLEARED_AMOUNT (INTEGER) | CLEARED_DATE (VARCHAR) | ORG_ID (INTEGER) | VENDOR_ID (INTEGER) | VENDOR_SITE_ID (INTEGER) | EXCHANGE_DATE (VARCHAR) | CHECKRUN_ID (INTEGER) | REQUEST_ID (INTEGER) | POSITIVE_PAY_STATUS_CODE (VARCHAR) | ANTICIPATED_VALUE_DATE (VARCHAR) | CE_BANK_ACCT_USE_ID (INTEGER) | PAYMENT_METHOD_CODE (VARCHAR) | PARTY_ID (INTEGER) | PARTY_SITE_ID (INTEGER) | PAYMENT_PROFILE_ID (INTEGER) | LEGAL_ENTITY_ID (INTEGER) | PAYMENT_DOCUMENT_ID (INTEGER) | COMPLETED_PMTS_GROUP_ID (INTEGER) | PAYMENT_ID (INTEGER) | PAYMENT_INSTRUCTION_ID (INTEGER) | REMIT_TO_SUPPLIER_NAME (VARCHAR) | REMIT_TO_SUPPLIER_ID (INTEGER) | REMIT_TO_SUPPLIER_SITE (VARCHAR) | REMIT_TO_SUPPLIER_SITE_ID (INTEGER) | RELATIONSHIP_ID (INTEGER)\n",
            "*/\n",
            "\n",
            "Table name: PO_HEADERS_ALL_processed \n",
            "/* \n",
            "col : PO_HEADER_ID (INTEGER) | AGENT_ID (INTEGER) | TYPE_LOOKUP_CODE (VARCHAR) | LAST_UPDATE_DATE (VARCHAR) | LAST_UPDATED_BY (VARCHAR) | SUMMARY_FLAG (VARCHAR) | ENABLED_FLAG (VARCHAR) | LAST_UPDATE_LOGIN (INTEGER) | CREATION_DATE (VARCHAR) | CREATED_BY (VARCHAR) | VENDOR_ID (INTEGER) | VENDOR_SITE_ID (INTEGER) | VENDOR_CONTACT_ID (INTEGER) | SHIP_TO_LOCATION_ID (INTEGER) | BILL_TO_LOCATION_ID (INTEGER) | TERMS_ID (INTEGER) | SHIP_VIA_LOOKUP_CODE (VARCHAR) | FOB_LOOKUP_CODE (VARCHAR) | FREIGHT_TERMS_LOOKUP_CODE (VARCHAR) | STATUS_LOOKUP_CODE (VARCHAR) | CURRENCY_CODE (VARCHAR) | RATE_TYPE (VARCHAR) | RATE_DATE (VARCHAR) | RATE (INTEGER) | END_DATE (VARCHAR) | AUTHORIZATION_STATUS (VARCHAR) | REVISION_NUM (INTEGER) | REVISED_DATE (VARCHAR) | APPROVED_FLAG (VARCHAR) | APPROVED_DATE (VARCHAR) | PRINT_COUNT (INTEGER) | PRINTED_DATE (VARCHAR) | CONFIRMING_ORDER_FLAG (VARCHAR) | CLOSED_DATE (VARCHAR) | CANCEL_FLAG (VARCHAR) | FROZEN_FLAG (VARCHAR) | ATTRIBUTE15 (VARCHAR) | CLOSED_CODE (VARCHAR) | REQUEST_ID (INTEGER) | PROGRAM_APPLICATION_ID (INTEGER) | PROGRAM_ID (INTEGER) | PROGRAM_UPDATE_DATE (VARCHAR) | ORG_ID (INTEGER) | WF_ITEM_TYPE (VARCHAR) | WF_ITEM_KEY (INTEGER) | GLOBAL_AGREEMENT_FLAG (VARCHAR) | PENDING_SIGNATURE_FLAG (VARCHAR) | DOCUMENT_CREATION_METHOD (VARCHAR) | CREATED_LANGUAGE (VARCHAR) | STYLE_ID (INTEGER) | CLM_DOCUMENT_NUMBER (INTEGER) | CLM_EFFECTIVE_DATE (VARCHAR)\n",
            "*/\n",
            "\n",
            "Table name: PO_DISTRIBUTIONS_ALL_processed \n",
            "/* \n",
            "col : PO_DISTRIBUTION_ID (INTEGER) | LAST_UPDATE_DATE (VARCHAR) | LAST_UPDATED_BY (VARCHAR) | PO_HEADER_ID (INTEGER) | PO_LINE_ID (INTEGER) | LINE_LOCATION_ID (INTEGER) | SET_OF_BOOKS_ID (INTEGER) | CODE_COMBINATION_ID (INTEGER) | QUANTITY_ORDERED (INTEGER) | LAST_UPDATE_LOGIN (INTEGER) | CREATION_DATE (VARCHAR) | CREATED_BY (VARCHAR) | QUANTITY_DELIVERED (INTEGER) | QUANTITY_BILLED (INTEGER) | QUANTITY_CANCELLED (INTEGER) | RATE_DATE (VARCHAR) | RATE (INTEGER) | AMOUNT_BILLED (INTEGER) | ENCUMBERED_FLAG (VARCHAR) | GL_CANCELLED_DATE (VARCHAR) | DESTINATION_TYPE_CODE (VARCHAR) | DESTINATION_ORGANIZATION_ID (INTEGER) | DESTINATION_SUBINVENTORY (VARCHAR) | ATTRIBUTE14 (VARCHAR) | ATTRIBUTE15 (VARCHAR) | WIP_ENTITY_ID (INTEGER) | ACCRUAL_ACCOUNT_ID (INTEGER) | VARIANCE_ACCOUNT_ID (INTEGER) | PREVENT_ENCUMBRANCE_FLAG (VARCHAR) | DESTINATION_CONTEXT (VARCHAR) | DISTRIBUTION_NUM (INTEGER) | REQUEST_ID (INTEGER) | PROGRAM_APPLICATION_ID (INTEGER) | PROGRAM_ID (INTEGER) | PROGRAM_UPDATE_DATE (VARCHAR) | ACCRUE_ON_RECEIPT_FLAG (VARCHAR) | ORG_ID (INTEGER) | DISTRIBUTION_TYPE (VARCHAR) | WF_ITEM_KEY (INTEGER) | INVOICED_VAL_IN_NTFN (INTEGER) | PARTIAL_FUNDED_FLAG (VARCHAR) | AMOUNT_CHANGED_FLAG (VARCHAR)\n",
            "*/\n",
            "\n",
            "\n",
            "Prediction(\n",
            "    rationale='produce the SQL. We need to join the tables AP_SUPPLIERS_processed, AP_INVOICES_ALL_processed, and AP_CHECKS_ALL_processed on the VENDOR_ID column to get the vendor name, amount paid, and source.',\n",
            "    sql='```sql\\nSELECT DISTINCT AP_SUPPLIERS.VENDOR_NAME AS vendor_name, AP_INVOICES.INVOICE_AMOUNT AS amount_paid, AP_INVOICES.SOURCE AS source\\nFROM AP_SUPPLIERS_processed AS AP_SUPPLIERS\\nJOIN AP_INVOICES_ALL_processed AS AP_INVOICES ON AP_SUPPLIERS.VENDOR_ID = AP_INVOICES.VENDOR_ID\\nJOIN AP_CHECKS_ALL_processed AS AP_CHECKS ON AP_SUPPLIERS.VENDOR_ID = AP_CHECKS.VENDOR_ID;\\n```'\n",
            ")\n",
            "Extracted rows:  vendor_name = Ware-Williams, amount_paid = 13262.66, source = allow\n",
            " vendor_name = Burnett PLC, amount_paid = 21609.66, source = over\n",
            " vendor_name = Martin-Hudson, amount_paid = 37144.23, source = certain\n",
            " vendor_name = Spencer-Garner, amount_paid = 19350.77, source = task\n",
            " vendor_name = Moore-Gill, amount_paid = 10586.99, source = animal\n",
            " vendor_name = Rodriguez Inc, amount_paid = 41523.28, source = team\n",
            " vendor_name = Rocha, Adams and Hanson, amount_paid = 4299.78, source = beat\n",
            " vendor_name = Mendoza, Clark and Mckenzie, amount_paid = 9271.57, source = past\n",
            " vendor_name = Herman, Lawrence and Glenn, amount_paid = 23483.89, source = crime\n",
            " vendor_name = Barker, Dixon and Stone, amount_paid = 47410.6, source = fly\n",
            " vendor_name = Allison, Wilson and Vazquez, amount_paid = 46772.36, source = pass\n",
            " vendor_name = Holden, Bautista and Alvarez, amount_paid = 33334.71, source = property\n",
            " vendor_name = Cruz, Herrera and Cook, amount_paid = 2275.9, source = may\n",
            " vendor_name = Green, Serrano and Wilkinson, amount_paid = 40795.78, source = friend\n",
            " vendor_name = Hughes-Lopez, amount_paid = 23383.51, source = people\n",
            " vendor_name = Allen and Sons, amount_paid = 27177.84, source = treatment\n",
            " vendor_name = Miller, Wade and Davis, amount_paid = 45707.34, source = a\n",
            " vendor_name = Davis-Nelson, amount_paid = 19365.38, source = message\n",
            " vendor_name = Nelson, Malone and Davies, amount_paid = 32198.66, source = past\n",
            " vendor_name = King, Holloway and Schroeder, amount_paid = 33659.7, source = keep\n",
            " vendor_name = Thompson, Carlson and Salazar, amount_paid = 13284.25, source = investment\n",
            " vendor_name = Hall PLC, amount_paid = 37904.72, source = business\n",
            " vendor_name = Stephens-House, amount_paid = 48718.67, source = film\n",
            " vendor_name = Deleon-Martin, amount_paid = 18853.06, source = your\n",
            " vendor_name = Peck-Gould, amount_paid = 37046.04, source = though\n",
            " vendor_name = Thompson LLC, amount_paid = 8808.33, source = rule\n",
            " vendor_name = Elliott, Dennis and Wang, amount_paid = 21174.79, source = church\n",
            " vendor_name = Snyder-Ramirez, amount_paid = 46779.19, source = reduce\n",
            " vendor_name = Mays Inc, amount_paid = 31261.58, source = father\n",
            " vendor_name = Winters, Williams and Boone, amount_paid = 11855.36, source = line\n",
            " vendor_name = Williams Ltd, amount_paid = 3820.84, source = again\n",
            " vendor_name = Harrell-Snyder, amount_paid = 22432.94, source = responsibility\n",
            " vendor_name = Jimenez PLC, amount_paid = 37852.7, source = including\n",
            " vendor_name = Calhoun and Sons, amount_paid = 49006.17, source = interesting\n",
            " vendor_name = Walters-Crawford, amount_paid = 13778.22, source = nearly\n",
            " vendor_name = Calderon, Stokes and Davis, amount_paid = 21634.45, source = attention\n",
            " vendor_name = Jones, Davidson and Camacho, amount_paid = 45013.79, source = hair\n",
            " vendor_name = Lee Group, amount_paid = 41695.39, source = least\n",
            " vendor_name = Duarte and Sons, amount_paid = 29145.92, source = community\n",
            " vendor_name = Murphy, Young and Santana, amount_paid = 2870.21, source = soon\n",
            " vendor_name = Miller, Chung and Martinez, amount_paid = 29103.59, source = continue\n",
            " vendor_name = Johnson, Shelton and Brooks, amount_paid = 25540.25, source = society\n",
            " vendor_name = Gonzalez-Stevenson, amount_paid = 11914.43, source = data\n",
            " vendor_name = Hartman-Gardner, amount_paid = 24211.14, source = listen\n",
            " vendor_name = Marshall LLC, amount_paid = 33565.72, source = news\n",
            " vendor_name = Miranda, Gill and Smith, amount_paid = 13320.11, source = it\n",
            " vendor_name = Meyers-Eaton, amount_paid = 33362.26, source = with\n",
            " vendor_name = Hale, Torres and Pena, amount_paid = 41717.59, source = rest\n",
            " vendor_name = Washington, Figueroa and Mathews, amount_paid = 2006.17, source = exactly\n",
            " vendor_name = Burnett Inc, amount_paid = 35616.25, source = blood\n",
            " vendor_name = Dickerson and Sons, amount_paid = 39600.61, source = state\n",
            " vendor_name = Blake, Stanley and Johnson, amount_paid = 32481.64, source = street\n",
            " vendor_name = Mccoy and Sons, amount_paid = 21953.1, source = her\n",
            " vendor_name = Taylor, Harrison and Carrillo, amount_paid = 46851.55, source = effect\n",
            " vendor_name = Thornton LLC, amount_paid = 42981.03, source = wait\n",
            " vendor_name = Porter-Golden, amount_paid = 36374.47, source = condition\n",
            " vendor_name = Collins-Osborne, amount_paid = 6441.58, source = call\n",
            " vendor_name = Martinez-Wolf, amount_paid = 6989.9, source = forward\n",
            " vendor_name = Johnson Inc, amount_paid = 2122.29, source = free\n",
            " vendor_name = Kelly PLC, amount_paid = 42888.68, source = TV\n",
            " vendor_name = Burke, Garrett and Zavala, amount_paid = 35490.12, source = set\n",
            " vendor_name = Nichols, Daniels and Holt, amount_paid = 46145.79, source = key\n",
            " vendor_name = Baker, Klein and Blake, amount_paid = 4357.24, source = pull\n",
            " vendor_name = Schultz-Fletcher, amount_paid = 24445.14, source = somebody\n",
            " vendor_name = Brown, Mendez and Lam, amount_paid = 36558.25, source = organization\n",
            " vendor_name = Moore, Bonilla and Mccann, amount_paid = 32389.17, source = management\n",
            " vendor_name = Gutierrez-Oneill, amount_paid = 20720.74, source = thank\n",
            " vendor_name = Frazier, Vasquez and Gray, amount_paid = 14261.31, source = newspaper\n",
            " vendor_name = Bean-Barnes, amount_paid = 21772.18, source = environment\n",
            " vendor_name = Schmidt LLC, amount_paid = 1872.25, source = always\n",
            " vendor_name = Williams, Hill and Nelson, amount_paid = 6470.87, source = lead\n",
            " vendor_name = Holloway-Turner, amount_paid = 28405.76, source = investment\n",
            " vendor_name = Wright, Cunningham and Fleming, amount_paid = 44328.88, source = organization\n",
            " vendor_name = Fernandez-Tate, amount_paid = 25010.52, source = great\n",
            " vendor_name = Ortiz, Berry and Garcia, amount_paid = 29897.13, source = effect\n",
            " vendor_name = Watson-Johnson, amount_paid = 8447.64, source = thousand\n",
            " vendor_name = Fleming-Newton, amount_paid = 31236.36, source = shake\n",
            " vendor_name = Lee-Cortez, amount_paid = 30470.97, source = several\n",
            " vendor_name = Smith, Jenkins and Allen, amount_paid = 35097.71, source = debate\n",
            " vendor_name = Marquez Group, amount_paid = 42650.32, source = natural\n",
            " vendor_name = Craig-English, amount_paid = 4356.39, source = pay\n",
            " vendor_name = Torres-Peters, amount_paid = 39185.38, source = discover\n",
            " vendor_name = Garcia, Herrera and Bradley, amount_paid = 39745.37, source = above\n",
            " vendor_name = Martin LLC, amount_paid = 43406.37, source = everybody\n",
            " vendor_name = Barron, White and Meza, amount_paid = 1165.79, source = anything\n",
            " vendor_name = Thompson, Mcknight and Williams, amount_paid = 1218.66, source = next\n",
            " vendor_name = Stevenson, Hill and Robinson, amount_paid = 8408.47, source = current\n",
            " vendor_name = Dougherty, Gray and Lee, amount_paid = 2483.28, source = game\n",
            " vendor_name = Watson Ltd, amount_paid = 43843.72, source = enter\n",
            " vendor_name = Mills-Palmer, amount_paid = 24864.25, source = really\n",
            " vendor_name = Ritter-Young, amount_paid = 17094.34, source = hold\n",
            " vendor_name = Hall-Hammond, amount_paid = 36167.37, source = around\n",
            " vendor_name = Parsons-Ryan, amount_paid = 7099.74, source = walk\n",
            " vendor_name = Walker Group, amount_paid = 48044.13, source = east\n",
            " vendor_name = Ford and Sons, amount_paid = 12990.56, source = yard\n",
            " vendor_name = Thompson-Wilkinson, amount_paid = 17383.46, source = particular\n",
            " vendor_name = Kline-Nelson, amount_paid = 35318.27, source = make\n",
            " vendor_name = Rodriguez-Strickland, amount_paid = 29371.3, source = argue\n",
            " vendor_name = Hernandez, Navarro and Arroyo, amount_paid = 27219.35, source = capital\n",
            " vendor_name = Cochran, Zhang and Jones, amount_paid = 2898.79, source = theory\n",
            " vendor_name = Johnson-Barrett, amount_paid = 7294.25, source = hundred\n",
            " vendor_name = Cuevas, Page and Patterson, amount_paid = 22832.4, source = program\n",
            " vendor_name = Moore, Jarvis and Gomez, amount_paid = 24123.57, source = half\n",
            " vendor_name = Bowen, Casey and Johnson, amount_paid = 6322.73, source = direction\n",
            " vendor_name = Bates, Lopez and Martin, amount_paid = 38815.94, source = off\n",
            " vendor_name = Collins LLC, amount_paid = 4601.5, source = after\n",
            " vendor_name = Perry PLC, amount_paid = 23375.33, source = west\n",
            " vendor_name = Crawford-Richard, amount_paid = 28697.03, source = program\n",
            " vendor_name = Hall-Scott, amount_paid = 15666.67, source = common\n",
            " vendor_name = Harris, Obrien and Chapman, amount_paid = 8902.55, source = real\n",
            " vendor_name = Johnson, Erickson and Mcdonald, amount_paid = 17413.87, source = marriage\n",
            " vendor_name = West-Duncan, amount_paid = 40340.44, source = oil\n",
            " vendor_name = Pierce, Roman and Sherman, amount_paid = 16790.86, source = firm\n",
            " vendor_name = Owens Inc, amount_paid = 19189.62, source = yet\n",
            " vendor_name = Craig, Walker and Hahn, amount_paid = 43089.9, source = plan\n",
            " vendor_name = Chen, Malone and Reynolds, amount_paid = 47596.16, source = interest\n",
            " vendor_name = Long-Duarte, amount_paid = 36534.41, source = positive\n",
            " vendor_name = Cohen-Myers, amount_paid = 33414.53, source = hear\n",
            " vendor_name = Hill PLC, amount_paid = 31703.56, source = throughout\n",
            " vendor_name = Holt, Flores and Kelley, amount_paid = 3452.94, source = performance\n",
            " vendor_name = Higgins, Carney and Austin, amount_paid = 45573.55, source = follow\n",
            " vendor_name = Dorsey, Guerra and Freeman, amount_paid = 31479.2, source = form\n",
            " vendor_name = Shepherd, Noble and Johnson, amount_paid = 47944.14, source = no\n",
            " vendor_name = Reyes-Barr, amount_paid = 8079.31, source = party\n",
            " vendor_name = Stone, Dickson and Carter, amount_paid = 38841.94, source = window\n",
            " vendor_name = Shaw-Singleton, amount_paid = 40211.62, source = ball\n",
            " vendor_name = Joseph Ltd, amount_paid = 28617.98, source = development\n",
            " vendor_name = Rivera-Sloan, amount_paid = 16894.58, source = involve\n",
            " vendor_name = Martin-Jones, amount_paid = 21789.28, source = use\n",
            " vendor_name = Pennington, Moore and James, amount_paid = 42048.36, source = many\n",
            " vendor_name = Miller LLC, amount_paid = 24304.12, source = eye\n",
            " vendor_name = Cooper-Williams, amount_paid = 43080.14, source = friend\n",
            " vendor_name = Collins-Brown, amount_paid = 34319.67, source = serious\n",
            " vendor_name = Lewis Ltd, amount_paid = 33003.54, source = glass\n",
            " vendor_name = Johnson and Sons, amount_paid = 24922.51, source = until\n",
            " vendor_name = Edwards, Smith and Baird, amount_paid = 38833.47, source = teach\n",
            " vendor_name = Lucas-Williams, amount_paid = 10229.92, source = business\n",
            " vendor_name = Mccann, Salas and Kirk, amount_paid = 42292.69, source = wide\n",
            " vendor_name = Little PLC, amount_paid = 28582.82, source = take\n",
            " vendor_name = Boone, Mahoney and York, amount_paid = 16742.65, source = foreign\n",
            " vendor_name = Scott-Jones, amount_paid = 13129.47, source = should\n",
            " vendor_name = Wright, Townsend and Hernandez, amount_paid = 37417.29, source = how\n",
            " vendor_name = Smith-Fletcher, amount_paid = 1045.16, source = quality\n",
            " vendor_name = Holland, Herring and Flores, amount_paid = 13456.91, source = different\n",
            " vendor_name = Thompson, Robinson and Barker, amount_paid = 3871.02, source = name\n",
            " vendor_name = Snyder, Hansen and Thompson, amount_paid = 28577.76, source = science\n",
            " vendor_name = Smith, Phillips and George, amount_paid = 46577.15, source = herself\n",
            " vendor_name = Brennan, Clay and Casey, amount_paid = 3349.07, source = lose\n",
            " vendor_name = Vasquez-Johnson, amount_paid = 23926.56, source = rather\n",
            " vendor_name = Mitchell, Lowe and Ingram, amount_paid = 3251.61, source = deal\n",
            " vendor_name = Perez PLC, amount_paid = 38345.93, source = choose\n",
            " vendor_name = Griffin-Romero, amount_paid = 45786.18, source = education\n",
            " vendor_name = White PLC, amount_paid = 18462.3, source = movie\n",
            " vendor_name = Floyd, Graham and Whitaker, amount_paid = 29667.17, source = foreign\n",
            " vendor_name = Glenn Inc, amount_paid = 24304.01, source = rest\n",
            " vendor_name = Weaver Ltd, amount_paid = 47492.3, source = position\n",
            " vendor_name = Powers-Kramer, amount_paid = 34642.31, source = six\n",
            " vendor_name = Sanchez Ltd, amount_paid = 19298.3, source = maintain\n",
            " vendor_name = Hampton Ltd, amount_paid = 32288.94, source = institution\n",
            " vendor_name = Cooper Inc, amount_paid = 30488.48, source = marriage\n",
            " vendor_name = Patton, Evans and Pena, amount_paid = 15311.32, source = scientist\n",
            " vendor_name = Hunt Inc, amount_paid = 14212.29, source = miss\n",
            " vendor_name = Lewis Inc, amount_paid = 43306.14, source = five\n",
            " vendor_name = Gonzalez-Evans, amount_paid = 49393.64, source = chair\n",
            " vendor_name = Johnson, Briggs and Mills, amount_paid = 19963.61, source = hair\n",
            " vendor_name = George LLC, amount_paid = 42932.9, source = there\n",
            " vendor_name = Costa-Adams, amount_paid = 6420.67, source = serve\n",
            " vendor_name = Heath, Stone and Alvarado, amount_paid = 24116.75, source = bill\n",
            " vendor_name = Wood-Fuller, amount_paid = 13872.66, source = day\n",
            " vendor_name = Peterson LLC, amount_paid = 38555.29, source = these\n",
            " vendor_name = Smith Ltd, amount_paid = 4024.22, source = back\n",
            " vendor_name = Phillips and Sons, amount_paid = 23903.64, source = rest\n",
            " vendor_name = Fernandez-Carpenter, amount_paid = 28145.45, source = produce\n",
            " vendor_name = Contreras LLC, amount_paid = 35474.56, source = recognize\n",
            " vendor_name = Wheeler Inc, amount_paid = 40084.15, source = food\n",
            " vendor_name = Quinn, Benjamin and Terry, amount_paid = 37474.34, source = yeah\n",
            " vendor_name = Fernandez-Mendoza, amount_paid = 39910.2, source = side\n",
            " vendor_name = Thomas LLC, amount_paid = 46688.01, source = politics\n",
            " vendor_name = Edwards Ltd, amount_paid = 17267.7, source = daughter\n",
            " vendor_name = Morgan-Hensley, amount_paid = 32885.46, source = major\n",
            " vendor_name = Coleman-Guzman, amount_paid = 44146.75, source = back\n",
            " vendor_name = Oliver-Watson, amount_paid = 32764.48, source = tree\n",
            " vendor_name = Green, Coleman and Chavez, amount_paid = 19709.04, source = education\n",
            " vendor_name = Hunter Inc, amount_paid = 45823.28, source = above\n",
            " vendor_name = Mcdonald, Walker and Stone, amount_paid = 10321.89, source = lawyer\n",
            " vendor_name = Roberts PLC, amount_paid = 11132.75, source = street\n",
            " vendor_name = Turner-Duncan, amount_paid = 29020.14, source = environment\n",
            " vendor_name = Johnson-Hayes, amount_paid = 37913.82, source = surface\n",
            " vendor_name = Wilson-Johnson, amount_paid = 27974.62, source = manage\n",
            " vendor_name = Oneill, Michael and Williams, amount_paid = 42064.57, source = view\n",
            " vendor_name = Clark, Fuller and Rangel, amount_paid = 33563.72, source = church\n",
            " vendor_name = Vega LLC, amount_paid = 1150.2, source = enjoy\n",
            " vendor_name = Gonzalez, Pena and Bennett, amount_paid = 13693.42, source = glass\n",
            " vendor_name = Melton, Camacho and Vazquez, amount_paid = 1256.37, source = customer\n",
            " vendor_name = Acosta PLC, amount_paid = 33296.2, source = certainly\n",
            " vendor_name = Chandler, Jones and Anderson, amount_paid = 16037.62, source = argue\n",
            " vendor_name = Stewart-Hill, amount_paid = 3065.98, source = result\n",
            " vendor_name = Wood-Lopez, amount_paid = 6749.54, source = gas\n",
            " vendor_name = Robinson, Powell and Bell, amount_paid = 19059.7, source = economy\n",
            " vendor_name = Contreras-Thomas, amount_paid = 6044.22, source = all\n",
            " vendor_name = Baker Ltd, amount_paid = 5342.77, source = artist\n",
            " vendor_name = Robinson PLC, amount_paid = 29029.75, source = crime\n",
            " vendor_name = Stevenson LLC, amount_paid = 44034.92, source = official\n",
            " vendor_name = Hill and Sons, amount_paid = 6797.07, source = politics\n",
            " vendor_name = Wallace, Bryant and Bradford, amount_paid = 48005.79, source = writer\n",
            " vendor_name = Lewis-Moore, amount_paid = 25472.81, source = economy\n",
            " vendor_name = Graves, Jackson and Kramer, amount_paid = 27401.53, source = bag\n",
            " vendor_name = Schwartz, Rodriguez and Johnson, amount_paid = 29788.05, source = buy\n",
            " vendor_name = Martin, Hansen and Haynes, amount_paid = 20949.64, source = treat\n",
            " vendor_name = Jones-Smith, amount_paid = 5053.12, source = employee\n",
            " vendor_name = Jones-Davidson, amount_paid = 30427.27, source = chance\n",
            " vendor_name = Lawrence Ltd, amount_paid = 19004.2, source = company\n",
            " vendor_name = Matthews, Bennett and Fleming, amount_paid = 24498.14, source = read\n",
            " vendor_name = Jimenez-Johnson, amount_paid = 2655.27, source = sit\n",
            " vendor_name = Ellis-Vega, amount_paid = 15519.46, source = red\n",
            " vendor_name = Stewart-Smith, amount_paid = 8067.34, source = authority\n",
            " vendor_name = Miller, Roberson and Mitchell, amount_paid = 42518.2, source = war\n",
            " vendor_name = Stout LLC, amount_paid = 31892.17, source = free\n",
            " vendor_name = Vincent-Carlson, amount_paid = 2849.71, source = place\n",
            " vendor_name = Keller-Medina, amount_paid = 45620.65, source = life\n",
            " vendor_name = Brown, Smith and Hall, amount_paid = 37688.88, source = central\n",
            " vendor_name = Wolf and Sons, amount_paid = 20420.74, source = top\n",
            " vendor_name = Johnson, Vargas and Mcfarland, amount_paid = 21263.49, source = Congress\n",
            " vendor_name = Allen-Guerra, amount_paid = 19725.86, source = relate\n",
            " vendor_name = Luna-Fischer, amount_paid = 7963.11, source = next\n",
            " vendor_name = Delacruz Group, amount_paid = 49084.23, source = also\n",
            " vendor_name = Norris Inc, amount_paid = 8406.47, source = before\n",
            " vendor_name = Turner, Johnson and Howard, amount_paid = 24717, source = itself\n",
            " vendor_name = Obrien-Carroll, amount_paid = 30515.27, source = office\n",
            " vendor_name = Escobar-Wise, amount_paid = 44157.92, source = response\n",
            " vendor_name = Miller, Moses and James, amount_paid = 13526.27, source = above\n",
            " vendor_name = Espinoza Group, amount_paid = 21111.69, source = campaign\n",
            " vendor_name = Velasquez, Kelley and Wilson, amount_paid = 9550.99, source = upon\n",
            " vendor_name = Leblanc-Jones, amount_paid = 21454.51, source = risk\n",
            " vendor_name = Adams PLC, amount_paid = 35113.09, source = become\n",
            " vendor_name = Williams, Long and Fleming, amount_paid = 9612.46, source = main\n",
            " vendor_name = Hill, Ramos and Morrison, amount_paid = 41936.3, source = key\n",
            " vendor_name = Santos-Blair, amount_paid = 31446.04, source = manage\n",
            " vendor_name = Edwards-Miller, amount_paid = 42707.79, source = despite\n",
            " vendor_name = Roberts, Gonzalez and Cook, amount_paid = 36718.97, source = line\n",
            " vendor_name = Simpson-Anthony, amount_paid = 45032.37, source = major\n",
            " vendor_name = Wilson-Reyes, amount_paid = 23224.02, source = second\n",
            " vendor_name = Salinas, Garcia and Davis, amount_paid = 42327.65, source = safe\n",
            " vendor_name = White, Nichols and Juarez, amount_paid = 47369.68, source = society\n",
            " vendor_name = Smith-Murphy, amount_paid = 23449.68, source = event\n",
            " vendor_name = Rogers Inc, amount_paid = 22437.53, source = above\n",
            " vendor_name = Diaz and Sons, amount_paid = 44678.52, source = suddenly\n",
            " vendor_name = Walker, Wright and Bowers, amount_paid = 38857, source = measure\n",
            " vendor_name = Dunn, Ferguson and Clark, amount_paid = 10826.26, source = TV\n",
            " vendor_name = Jordan-Vasquez, amount_paid = 38396.59, source = notice\n",
            " vendor_name = Harris PLC, amount_paid = 5882.76, source = nature\n",
            " vendor_name = Becker-Mcgee, amount_paid = 10198.39, source = like\n",
            " vendor_name = Wells-Green, amount_paid = 26994.28, source = pattern\n",
            " vendor_name = Thomas-Stein, amount_paid = 39791.8, source = television\n",
            " vendor_name = Curry and Sons, amount_paid = 35689.24, source = according\n",
            " vendor_name = Carpenter-Contreras, amount_paid = 4676.73, source = take\n",
            " vendor_name = Johnson, Meyer and Ryan, amount_paid = 7845.1, source = my\n",
            " vendor_name = York and Sons, amount_paid = 43603.33, source = lay\n",
            " vendor_name = Sims-Clark, amount_paid = 36448.26, source = nothing\n",
            " vendor_name = Tucker-Wilson, amount_paid = 21092.62, source = alone\n",
            " vendor_name = Mooney and Sons, amount_paid = 33488.66, source = painting\n",
            " vendor_name = Schaefer, Costa and Donovan, amount_paid = 17744.93, source = enough\n",
            " vendor_name = Mayo, Barnett and Kirby, amount_paid = 15025.64, source = improve\n",
            " vendor_name = Lewis-Mayer, amount_paid = 42651.38, source = very\n",
            " vendor_name = Ward and Sons, amount_paid = 20228.19, source = TV\n",
            " vendor_name = Vaughn-Cook, amount_paid = 12146.83, source = various\n",
            " vendor_name = Johnson, Pierce and Caldwell, amount_paid = 11948.69, source = series\n",
            " vendor_name = Powell Group, amount_paid = 14431.87, source = arm\n",
            " vendor_name = Lee PLC, amount_paid = 11439.81, source = edge\n",
            " vendor_name = Branch-Hill, amount_paid = 1202.17, source = bag\n",
            " vendor_name = Jones Inc, amount_paid = 28648.77, source = do\n",
            " vendor_name = Carroll Inc, amount_paid = 34128.75, source = effort\n",
            " vendor_name = Garcia-Miller, amount_paid = 49554.31, source = common\n",
            " vendor_name = Adkins PLC, amount_paid = 35302.81, source = boy\n",
            " vendor_name = Perez-Gonzalez, amount_paid = 37034.79, source = provide\n",
            " vendor_name = Robinson and Sons, amount_paid = 42048.84, source = other\n",
            " vendor_name = Garcia-Jones, amount_paid = 39990.16, source = once\n",
            " vendor_name = Palmer, Collins and Scott, amount_paid = 38596.79, source = exactly\n",
            " vendor_name = Mclaughlin, Robinson and Williamson, amount_paid = 36830.93, source = southern\n",
            " vendor_name = Cannon Inc, amount_paid = 7232.17, source = social\n",
            " vendor_name = Weaver-Vaughn, amount_paid = 44718.49, source = rest\n",
            " vendor_name = Alvarado-Cohen, amount_paid = 30819.51, source = able\n",
            " vendor_name = Young, Mcdonald and Strickland, amount_paid = 40307.05, source = beautiful\n",
            " vendor_name = Khan-Miller, amount_paid = 16943.84, source = again\n",
            " vendor_name = Good, Bullock and Smith, amount_paid = 30889.52, source = front\n",
            " vendor_name = Turner-Clarke, amount_paid = 19592.65, source = family\n",
            " vendor_name = Kent-Green, amount_paid = 28062.5, source = community\n",
            " vendor_name = Adams Ltd, amount_paid = 41919.67, source = several\n",
            " vendor_name = Mann, Hoffman and Smith, amount_paid = 34860.03, source = hard\n",
            " vendor_name = Lee-Navarro, amount_paid = 26223.89, source = for\n",
            " vendor_name = Johnson Group, amount_paid = 41766.21, source = receive\n",
            " vendor_name = Ingram, Sloan and Ward, amount_paid = 6161.98, source = design\n",
            " vendor_name = Friedman Group, amount_paid = 33229.32, source = mouth\n",
            " vendor_name = Glenn-Williams, amount_paid = 27520.79, source = TRUE\n",
            " vendor_name = Bartlett, Carter and Gardner, amount_paid = 37352.42, source = civil\n",
            " vendor_name = Meza-Pruitt, amount_paid = 49355.59, source = ahead\n",
            " vendor_name = Burch, Peters and Tran, amount_paid = 15853.08, source = seven\n",
            " vendor_name = Greene-Rodriguez, amount_paid = 21236.18, source = minute\n",
            " vendor_name = Martinez PLC, amount_paid = 14495.51, source = after\n",
            " vendor_name = Perez LLC, amount_paid = 6893.5, source = nearly\n",
            " vendor_name = Thompson-Hensley, amount_paid = 45657.82, source = successful\n",
            " vendor_name = Craig, Hernandez and Calderon, amount_paid = 14770.31, source = rest\n",
            " vendor_name = Bryant, Flynn and Malone, amount_paid = 34117.05, source = town\n",
            " vendor_name = Marshall, Higgins and Harris, amount_paid = 6581.19, source = challenge\n",
            " vendor_name = Ruiz Ltd, amount_paid = 16913, source = note\n",
            " vendor_name = Key, Stokes and Rivera, amount_paid = 47127.24, source = husband\n",
            " vendor_name = Weiss-Perry, amount_paid = 45686.04, source = over\n",
            " vendor_name = Valdez-Mccarty, amount_paid = 49494.66, source = decide\n",
            " vendor_name = Knapp, Lee and Herrera, amount_paid = 23832.38, source = within\n",
            " vendor_name = Thomas-Hansen, amount_paid = 23866.44, source = nation\n",
            " vendor_name = Taylor, Spencer and Barrera, amount_paid = 44392.42, source = turn\n",
            " vendor_name = Bishop Inc, amount_paid = 13574.34, source = property\n",
            " vendor_name = Francis Group, amount_paid = 34639.06, source = part\n",
            " vendor_name = Goodman Inc, amount_paid = 46750.52, source = skin\n",
            " vendor_name = Anderson PLC, amount_paid = 43130.43, source = floor\n",
            " vendor_name = Brown Inc, amount_paid = 35361.21, source = sport\n",
            " vendor_name = Moore, Rodriguez and Maldonado, amount_paid = 3246.99, source = ability\n",
            " vendor_name = Huffman-Tucker, amount_paid = 33499, source = argue\n",
            " vendor_name = Solis Group, amount_paid = 36370.85, source = song\n",
            " vendor_name = Dunn Group, amount_paid = 1052.8, source = space\n",
            " vendor_name = Jones LLC, amount_paid = 36718.2, source = ability\n",
            " vendor_name = Chang, Thompson and Stephenson, amount_paid = 8906, source = term\n",
            " vendor_name = Miller-Burns, amount_paid = 49652.06, source = skin\n",
            " vendor_name = Adams Inc, amount_paid = 14434.5, source = size\n",
            " vendor_name = Haley, Young and Williamson, amount_paid = 48795.6, source = attack\n",
            " vendor_name = Taylor Ltd, amount_paid = 31202.25, source = anyone\n",
            " vendor_name = Sampson, Strickland and Smith, amount_paid = 30152.03, source = note\n",
            " vendor_name = Barker-Carter, amount_paid = 2965.93, source = society\n",
            " vendor_name = Koch PLC, amount_paid = 31713.73, source = throughout\n",
            " vendor_name = Wood Ltd, amount_paid = 26235.09, source = happen\n",
            " vendor_name = Hampton, Blair and Butler, amount_paid = 7402.2, source = one\n",
            " vendor_name = Payne-Barton, amount_paid = 10601.98, source = provide\n",
            " vendor_name = Leblanc, Crawford and Edwards, amount_paid = 25287.64, source = be\n",
            " vendor_name = Hester-Webster, amount_paid = 40565.95, source = similar\n",
            " vendor_name = Hancock, Ingram and Harris, amount_paid = 11977.07, source = compare\n",
            " vendor_name = Mcdonald-Turner, amount_paid = 36761.29, source = run\n",
            " vendor_name = Barker LLC, amount_paid = 37909.27, source = always\n",
            " vendor_name = Todd Group, amount_paid = 8438.23, source = agency\n",
            " vendor_name = Miller, Rice and Kelly, amount_paid = 27423.61, source = and\n",
            " vendor_name = Gordon LLC, amount_paid = 44422.63, source = sister\n",
            " vendor_name = Crawford, Cardenas and Rivera, amount_paid = 33006.1, source = eight\n",
            " vendor_name = Freeman LLC, amount_paid = 27810.01, source = rest\n",
            " vendor_name = Schultz-Hubbard, amount_paid = 21248.95, source = message\n",
            " vendor_name = Mcclain, Vargas and Pitts, amount_paid = 20121.17, source = activity\n",
            " vendor_name = Davis LLC, amount_paid = 34713, source = four\n",
            " vendor_name = Carson Group, amount_paid = 49119.23, source = left\n",
            " vendor_name = Wheeler-Matthews, amount_paid = 34679.66, source = data\n",
            " vendor_name = Bonilla, Green and Garcia, amount_paid = 13213.9, source = responsibility\n",
            " vendor_name = Jones, Hunt and Stone, amount_paid = 33368.29, source = around\n",
            " vendor_name = Mclean, Martinez and Conner, amount_paid = 43479.23, source = create\n",
            " vendor_name = Haynes, Sherman and Wells, amount_paid = 22015.72, source = program\n",
            " vendor_name = Sims and Sons, amount_paid = 31752.12, source = sell\n",
            " vendor_name = Glenn, Smith and Vega, amount_paid = 16419.23, source = standard\n",
            " vendor_name = Stewart, Munoz and Davis, amount_paid = 40703.11, source = majority\n",
            " vendor_name = Maxwell, Clark and Navarro, amount_paid = 8504.75, source = window\n",
            " vendor_name = Baker-Hays, amount_paid = 33758.57, source = draw\n",
            " vendor_name = Navarro, Hill and Williams, amount_paid = 3293.36, source = exactly\n",
            " vendor_name = Hoover-Wright, amount_paid = 12316.24, source = quickly\n",
            " vendor_name = Barnes, Frye and Brown, amount_paid = 26094.48, source = loss\n",
            " vendor_name = Meyer-Lewis, amount_paid = 40162.5, source = hospital\n",
            " vendor_name = Burke-Myers, amount_paid = 4399.36, source = compare\n",
            " vendor_name = Ayers, Garcia and May, amount_paid = 20470.58, source = face\n",
            " vendor_name = Bond-Perry, amount_paid = 32692.09, source = later\n",
            " vendor_name = Clay and Sons, amount_paid = 41087.92, source = result\n",
            " vendor_name = Oneill, Cherry and Blackwell, amount_paid = 23781.6, source = able\n",
            " vendor_name = Campbell, Abbott and Davila, amount_paid = 46126, source = short\n",
            " vendor_name = Scott-Coleman, amount_paid = 38902.18, source = agree\n",
            " vendor_name = Hansen, Burgess and Hernandez, amount_paid = 20347.89, source = gas\n",
            " vendor_name = Wiggins-Figueroa, amount_paid = 21324.23, source = compare\n",
            " vendor_name = Bell, Valdez and Moore, amount_paid = 30706.69, source = performance\n",
            " vendor_name = Richards PLC, amount_paid = 32033.37, source = behavior\n",
            " vendor_name = Hoffman-Sampson, amount_paid = 4944.58, source = physical\n",
            " vendor_name = Murillo LLC, amount_paid = 13491.17, source = involve\n",
            " vendor_name = Bates PLC, amount_paid = 16436.48, source = someone\n",
            " vendor_name = Johnson-Patel, amount_paid = 39978.63, source = ball\n",
            " vendor_name = Moran, Johnson and Lucas, amount_paid = 20574.74, source = especially\n",
            " vendor_name = Tucker, Rice and Bond, amount_paid = 30268.73, source = much\n",
            " vendor_name = Butler, Lee and Hernandez, amount_paid = 35453.04, source = whole\n",
            " vendor_name = Caldwell, Cline and Adams, amount_paid = 11602.81, source = professor\n",
            " vendor_name = Ramsey-Friedman, amount_paid = 34808.61, source = government\n",
            " vendor_name = Baldwin Ltd, amount_paid = 10913.3, source = his\n",
            " vendor_name = Robinson, Reese and Chapman, amount_paid = 33751.99, source = area\n",
            " vendor_name = Phillips LLC, amount_paid = 10894.62, source = race\n",
            " vendor_name = Hayes LLC, amount_paid = 14063.15, source = never\n",
            " vendor_name = Anderson-Robinson, amount_paid = 4100.65, source = air\n",
            " vendor_name = Lambert, Blackwell and Gomez, amount_paid = 16720.39, source = arrive\n",
            " vendor_name = Watts Group, amount_paid = 32540.74, source = movement\n",
            " vendor_name = Norman-Garcia, amount_paid = 25544.11, source = any\n",
            " vendor_name = Mcgee, Osborn and Patrick, amount_paid = 23576.27, source = at\n",
            " vendor_name = Macdonald and Sons, amount_paid = 26450.79, source = necessary\n",
            " vendor_name = Krueger LLC, amount_paid = 31464.09, source = alone\n",
            " vendor_name = Hodge-Hunter, amount_paid = 24509.44, source = human\n",
            " vendor_name = Vega, Hamilton and Lawrence, amount_paid = 21043.36, source = serve\n",
            " vendor_name = Lindsey, Weaver and Myers, amount_paid = 29809.76, source = reduce\n",
            " vendor_name = Vega-Lee, amount_paid = 31648.91, source = trial\n",
            " vendor_name = Larsen-Kramer, amount_paid = 23852.56, source = physical\n",
            " vendor_name = Vazquez, Martinez and Montgomery, amount_paid = 28912.83, source = together\n",
            " vendor_name = Gonzalez-Valencia, amount_paid = 44759.03, source = husband\n",
            " vendor_name = Perez, Smith and Mitchell, amount_paid = 32442.29, source = parent\n",
            " vendor_name = Paul, Peterson and Chapman, amount_paid = 24004, source = above\n",
            " vendor_name = Cervantes-Mitchell, amount_paid = 6317.59, source = form\n",
            " vendor_name = Spence-Singleton, amount_paid = 20336.78, source = interesting\n",
            " vendor_name = Church, Grimes and Walter, amount_paid = 13953.56, source = accept\n",
            " vendor_name = Hawkins Ltd, amount_paid = 7808.4, source = hope\n",
            " vendor_name = Miller-Sanchez, amount_paid = 10472.71, source = night\n",
            " vendor_name = Jones, Lamb and Raymond, amount_paid = 16448.28, source = three\n",
            " vendor_name = Wiggins, Jones and Andrews, amount_paid = 29307.27, source = doctor\n",
            " vendor_name = Henson, Williams and Mcknight, amount_paid = 13793.52, source = piece\n",
            " vendor_name = Gordon-Stout, amount_paid = 18963.54, source = worker\n",
            " vendor_name = Blair LLC, amount_paid = 20780.59, source = guess\n",
            " vendor_name = Foster-Johnson, amount_paid = 4430.52, source = rest\n",
            " vendor_name = Mcclure-Walker, amount_paid = 45678.44, source = see\n",
            " vendor_name = Waters, Washington and Kane, amount_paid = 19570.04, source = simply\n",
            " vendor_name = Harrison, Pena and Sawyer, amount_paid = 20162.54, source = work\n",
            " vendor_name = Campbell, Reeves and Wright, amount_paid = 42700.43, source = material\n",
            " vendor_name = Yang Group, amount_paid = 42509.99, source = interesting\n",
            " vendor_name = Martinez-Cook, amount_paid = 16566.47, source = much\n",
            " vendor_name = Rodriguez, Williams and Murphy, amount_paid = 2752.36, source = positive\n",
            " vendor_name = Contreras, Chandler and Porter, amount_paid = 3559.95, source = movie\n",
            " vendor_name = Buchanan-Smith, amount_paid = 17212.16, source = agree\n",
            " vendor_name = Roberts Group, amount_paid = 1095.79, source = explain\n",
            " vendor_name = Andrews Inc, amount_paid = 12887.53, source = there\n",
            " vendor_name = Harris LLC, amount_paid = 37869.31, source = I\n",
            " vendor_name = Craig, Quinn and Adkins, amount_paid = 6566.98, source = traditional\n",
            " vendor_name = Riley and Sons, amount_paid = 29605.84, source = dog\n",
            " vendor_name = Rodgers-Nelson, amount_paid = 13877.03, source = despite\n",
            " vendor_name = Lopez-Richards, amount_paid = 5968.95, source = talk\n",
            " vendor_name = Foley Inc, amount_paid = 25900.34, source = skill\n",
            " vendor_name = Patton PLC, amount_paid = 28888.95, source = first\n",
            " vendor_name = Valdez and Sons, amount_paid = 42464.12, source = really\n",
            " vendor_name = Curtis-Mccoy, amount_paid = 20459.31, source = sometimes\n",
            " vendor_name = Weaver Inc, amount_paid = 42041.37, source = class\n",
            " vendor_name = Hayes, Davenport and Mccoy, amount_paid = 19372.63, source = deal\n",
            " vendor_name = Ross Group, amount_paid = 6866.95, source = hospital\n",
            " vendor_name = Johnson-Jackson, amount_paid = 14169.85, source = close\n",
            " vendor_name = Baker, Alexander and Davenport, amount_paid = 4132.37, source = suggest\n",
            " vendor_name = Lowe Group, amount_paid = 26674.3, source = letter\n",
            " vendor_name = English-Wilson, amount_paid = 42047.04, source = no\n",
            " vendor_name = Hughes-Clements, amount_paid = 24954.09, source = hold\n",
            " vendor_name = Gill-Jacobson, amount_paid = 32250.62, source = professor\n",
            " vendor_name = Sexton-Holt, amount_paid = 16200.85, source = wait\n",
            " vendor_name = English, Keith and Douglas, amount_paid = 34063.81, source = onto\n",
            " vendor_name = Campbell Group, amount_paid = 24260.14, source = identify\n",
            " vendor_name = Young LLC, amount_paid = 19209.09, source = throw\n",
            " vendor_name = Erickson, Brown and Clark, amount_paid = 19223.75, source = pattern\n",
            " vendor_name = Patrick-Khan, amount_paid = 28373.33, source = race\n",
            " vendor_name = Sanchez-Hale, amount_paid = 49445.96, source = north\n",
            " vendor_name = Crawford Ltd, amount_paid = 22235.05, source = land\n",
            " vendor_name = Horton Group, amount_paid = 42017.9, source = run\n",
            " vendor_name = Henderson Group, amount_paid = 11044.04, source = hour\n",
            " vendor_name = Gonzalez PLC, amount_paid = 23548.58, source = minute\n",
            " vendor_name = Johnson LLC, amount_paid = 37166.39, source = land\n",
            " vendor_name = Salazar Ltd, amount_paid = 28320.96, source = trip\n",
            " vendor_name = Ramirez LLC, amount_paid = 26484.14, source = her\n",
            " vendor_name = Beck and Sons, amount_paid = 16597.52, source = trip\n",
            " vendor_name = Mendoza-Curry, amount_paid = 22534.06, source = PM\n",
            " vendor_name = Wagner-Sanchez, amount_paid = 26411.05, source = customer\n",
            " vendor_name = Hernandez-Hernandez, amount_paid = 23712.4, source = focus\n",
            " vendor_name = Wood, Fernandez and Thomas, amount_paid = 2466.92, source = include\n",
            " vendor_name = Ramirez-Young, amount_paid = 27188, source = want\n",
            " vendor_name = Cortez PLC, amount_paid = 7485, source = wonder\n",
            " vendor_name = Olsen-Adams, amount_paid = 17773.64, source = magazine\n",
            " vendor_name = Higgins-Wallace, amount_paid = 19476.88, source = method\n",
            " vendor_name = Valentine, Mcneil and Lamb, amount_paid = 49501.02, source = money\n",
            " vendor_name = Fox, Barnes and Arellano, amount_paid = 31615.55, source = clearly\n",
            " vendor_name = Green and Sons, amount_paid = 41219.7, source = bar\n",
            " vendor_name = Miranda, Branch and Garza, amount_paid = 28793.16, source = certain\n",
            " vendor_name = Sanchez LLC, amount_paid = 4480.86, source = family\n",
            " vendor_name = Kelly-Kirk, amount_paid = 39319.45, source = manager\n",
            " vendor_name = Murphy Ltd, amount_paid = 45941.43, source = garden\n",
            " vendor_name = Reynolds, Bailey and Petty, amount_paid = 22425.1, source = else\n",
            " vendor_name = Williams, Rodriguez and Mcdaniel, amount_paid = 36361.95, source = rest\n",
            " vendor_name = Turner, Vega and Gates, amount_paid = 2243.29, source = fast\n",
            " vendor_name = Edwards, Wallace and Howard, amount_paid = 40472.3, source = democratic\n",
            " vendor_name = Woods-Hooper, amount_paid = 4992.75, source = several\n",
            " vendor_name = Martin Inc, amount_paid = 36086.4, source = wind\n",
            " vendor_name = Serrano LLC, amount_paid = 46695.34, source = impact\n",
            " vendor_name = Patton, Johnson and Cochran, amount_paid = 14623.85, source = happy\n",
            " vendor_name = Jordan-Johnson, amount_paid = 12193.73, source = allow\n",
            " vendor_name = Reynolds and Sons, amount_paid = 4973.36, source = rock\n",
            " vendor_name = Johnson Ltd, amount_paid = 38112.94, source = fire\n",
            " vendor_name = Williams-Jackson, amount_paid = 33392.94, source = area\n",
            " vendor_name = Moore-Lewis, amount_paid = 2986.23, source = behind\n",
            " vendor_name = Lucero, Ford and Nguyen, amount_paid = 45682.3, source = also\n",
            " vendor_name = Dixon, Curry and Brooks, amount_paid = 28298.42, source = here\n",
            " vendor_name = Jones-Taylor, amount_paid = 15272.31, source = poor\n",
            " vendor_name = Johnson-Rosario, amount_paid = 3424.07, source = civil\n",
            " vendor_name = Willis-Adams, amount_paid = 13465.38, source = account\n",
            " vendor_name = Anderson Inc, amount_paid = 14190.91, source = always\n",
            " vendor_name = Jones Group, amount_paid = 10926.38, source = heart\n",
            " vendor_name = Davis Ltd, amount_paid = 46256.66, source = thus\n",
            " vendor_name = Waller-Miller, amount_paid = 30252.37, source = analysis\n",
            " vendor_name = Reed-Morrison, amount_paid = 3617.61, source = market\n",
            " vendor_name = Robles, Anderson and Campbell, amount_paid = 8993.53, source = poor\n",
            " vendor_name = Porter, Carlson and Burnett, amount_paid = 29079.08, source = wind\n",
            " vendor_name = Kramer, Hardy and Marquez, amount_paid = 24295.4, source = value\n",
            " vendor_name = Perez and Sons, amount_paid = 5801.3, source = throughout\n",
            " vendor_name = Villanueva Ltd, amount_paid = 6996.09, source = data\n",
            " vendor_name = Johnston, Walters and Miller, amount_paid = 5819.97, source = about\n",
            " vendor_name = White, Robinson and Frazier, amount_paid = 21757.11, source = drug\n",
            "\n",
            "Vendor Name: Turner, Johnson and Howard, Amount Paid: 24717, Source: itself\n"
          ]
        }
      ],
      "source": [
        "sq = tsql_(question=\"Can you give me the vendor name, amount paid and source for the same?\")\n",
        "print(sq.answer)"
      ]
    },
    {
      "cell_type": "code",
      "execution_count": 53,
      "metadata": {
        "id": "rd0cQGanbenm",
        "outputId": "a0b87c9f-c654-4be1-e543-3d0608da9791",
        "colab": {
          "base_uri": "https://localhost:8080/"
        }
      },
      "outputs": [
        {
          "output_type": "stream",
          "name": "stdout",
          "text": [
            "Table name: AP_INVOICES_ALL_processed \n",
            "/* \n",
            "col : INVOICE_ID (INTEGER) | INVOICE_NUM (INTEGER) | VENDOR_ID (INTEGER) | VENDOR_NAME (VARCHAR) | PO_HEADER_ID (INTEGER) | INVOICE_AMOUNT (INTEGER) | INVOICE_DATE (VARCHAR) | LAST_UPDATE_DATE (VARCHAR) | LAST_UPDATED_BY (VARCHAR) | SET_OF_BOOKS_ID (INTEGER) | INVOICE_CURRENCY_CODE (VARCHAR) | PAYMENT_CURRENCY_CODE (VARCHAR) | PAYMENT_CROSS_RATE (INTEGER) | VENDOR_SITE_ID (INTEGER) | AMOUNT_PAID (INTEGER) | DISCOUNT_AMOUNT_TAKEN (INTEGER) | SOURCE (VARCHAR) | INVOICE_TYPE_LOOKUP_CODE (VARCHAR) | DESCRIPTION (VARCHAR) | BATCH_ID (INTEGER) | AMOUNT_APPLICABLE_TO_DISCOUNT (INTEGER) | TAX_AMOUNT (INTEGER) | TERMS_ID (INTEGER) | TERMS_DATE (VARCHAR) | PAYMENT_METHOD_CODE (VARCHAR) | PAY_GROUP_LOOKUP_CODE (VARCHAR) | ACCTS_PAY_CODE_COMBINATION_ID (INTEGER) | PAYMENT_STATUS_FLAG (VARCHAR) | CREATION_DATE (VARCHAR) | LAST_UPDATE_LOGIN (INTEGER) | EXCLUSIVE_PAYMENT_FLAG (VARCHAR) | FREIGHT_AMOUNT (INTEGER) | DOC_CATEGORY_CODE (VARCHAR) | APPROVAL_STATUS (VARCHAR) | APPROVAL_DESCRIPTION (VARCHAR) | INVOICE_DISTRIBUTION_TOTAL (INTEGER) | POSTING_STATUS (VARCHAR) | PREPAY_FLAG (VARCHAR) | VENDOR_PREPAY_AMOUNT (INTEGER) | PAYMENT_AMOUNT_TOTAL (INTEGER) | ORG_ID (INTEGER) | PAYMENT_CROSS_RATE_DATE (VARCHAR) | PAY_CURR_INVOICE_AMOUNT (INTEGER) | APPROVAL_READY_FLAG (VARCHAR) | APPROVAL_ITERATION (INTEGER) | WFAPPROVAL_STATUS (VARCHAR) | VALIDATION_REQUEST_ID (INTEGER) | VALIDATED_TAX_AMOUNT (INTEGER) | REQUESTER_ID (INTEGER) | TOTAL_TAX_AMOUNT (INTEGER) | TAXATION_COUNTRY (VARCHAR) | LEGAL_ENTITY_ID (INTEGER) | HISTORICAL_FLAG (VARCHAR) | FORCE_REVALIDATION_FLAG (VARCHAR) | URI_CHECK_DIGIT (INTEGER) | SETTLEMENT_PRIORITY (INTEGER) | PAYMENT_REASON_CODE (VARCHAR) | PAYMENT_REASON_COMMENTS (VARCHAR) | PARTY_ID (INTEGER) | PARTY_SITE_ID (INTEGER) | PAY_PROC_TRXN_TYPE_CODE (VARCHAR) | PAYMENT_FUNCTION (VARCHAR) | EXTERNAL_BANK_ACCOUNT_ID (INTEGER) | DISC_IS_INV_LESS_TAX_FLAG (VARCHAR) | EXCLUDE_FREIGHT_FROM_DISCOUNT (VARCHAR) | RELATIONSHIP_ID (INTEGER) | PO_MATCHED_FLAG (VARCHAR) | VALIDATION_WORKER_ID (INTEGER) | PAYMENT_METHOD_LOOKUP_CODE (VARCHAR)\n",
            "*/\n",
            "\n",
            "Table name: AP_INVOICE_PAYMENTS_ALL_processed \n",
            "/* \n",
            "col : ACCOUNTING_EVENT_ID (INTEGER) | ACCOUNTING_DATE (VARCHAR) | ACCRUAL_POSTED_FLAG (VARCHAR) | AMOUNT (INTEGER) | CASH_POSTED_FLAG (VARCHAR) | CHECK_ID (INTEGER) | INVOICE_ID (INTEGER) | INVOICE_PAYMENT_ID (INTEGER) | LAST_UPDATED_BY (VARCHAR) | LAST_UPDATE_DATE (VARCHAR) | PAYMENT_NUM (INTEGER) | PERIOD_NAME (VARCHAR) | POSTED_FLAG (VARCHAR) | SET_OF_BOOKS_ID (INTEGER) | ASSET_CODE_COMBINATION_ID (INTEGER) | CREATED_BY (VARCHAR) | CREATION_DATE (VARCHAR) | LAST_UPDATE_LOGIN (INTEGER) | BANK_ACCOUNT_NUM (INTEGER) | BANK_ACCOUNT_TYPE (VARCHAR) | BANK_NUM (INTEGER) | DISCOUNT_LOST (INTEGER) | EXCHANGE_DATE (VARCHAR) | FUTURE_PAY_POSTED_FLAG (VARCHAR) | ASSETS_ADDITION_FLAG (VARCHAR) | INVOICE_PAYMENT_TYPE (VARCHAR) | ORG_ID (INTEGER) | EXTERNAL_BANK_ACCOUNT_ID (INTEGER) | INVOICING_PARTY_ID (INTEGER) | INVOICING_PARTY_SITE_ID (INTEGER) | INVOICING_VENDOR_SITE_ID (INTEGER) | REMIT_TO_SUPPLIER_NAME (VARCHAR) | REMIT_TO_SUPPLIER_ID (INTEGER) | REMIT_TO_SUPPLIER_SITE (VARCHAR) | REMIT_TO_SUPPLIER_SITE_ID (INTEGER)\n",
            "*/\n",
            "\n",
            "Table name: AP_INVOICE_DISTRIBUTIONS_ALL_processed \n",
            "/* \n",
            "col : ACCOUNTING_DATE (VARCHAR) | ACCRUAL_POSTED_FLAG (VARCHAR) | ASSETS_ADDITION_FLAG (VARCHAR) | ASSETS_TRACKING_FLAG (VARCHAR) | CASH_POSTED_FLAG (VARCHAR) | DISTRIBUTION_LINE_NUMBER (INTEGER) | DIST_CODE_COMBINATION_ID (INTEGER) | INVOICE_ID (INTEGER) | LAST_UPDATED_BY (VARCHAR) | LAST_UPDATE_DATE (VARCHAR) | LINE_TYPE_LOOKUP_CODE (VARCHAR) | PERIOD_NAME (VARCHAR) | SET_OF_BOOKS_ID (INTEGER) | AMOUNT (INTEGER) | BATCH_ID (INTEGER) | CREATED_BY (VARCHAR) | CREATION_DATE (VARCHAR) | DESCRIPTION (VARCHAR) | LAST_UPDATE_LOGIN (INTEGER) | PO_DISTRIBUTION_ID (INTEGER)\n",
            "*/\n",
            "\n",
            "Table name: PO_HEADERS_ALL_processed \n",
            "/* \n",
            "col : PO_HEADER_ID (INTEGER) | AGENT_ID (INTEGER) | TYPE_LOOKUP_CODE (VARCHAR) | LAST_UPDATE_DATE (VARCHAR) | LAST_UPDATED_BY (VARCHAR) | SUMMARY_FLAG (VARCHAR) | ENABLED_FLAG (VARCHAR) | LAST_UPDATE_LOGIN (INTEGER) | CREATION_DATE (VARCHAR) | CREATED_BY (VARCHAR) | VENDOR_ID (INTEGER) | VENDOR_SITE_ID (INTEGER) | VENDOR_CONTACT_ID (INTEGER) | SHIP_TO_LOCATION_ID (INTEGER) | BILL_TO_LOCATION_ID (INTEGER) | TERMS_ID (INTEGER) | SHIP_VIA_LOOKUP_CODE (VARCHAR) | FOB_LOOKUP_CODE (VARCHAR) | FREIGHT_TERMS_LOOKUP_CODE (VARCHAR) | STATUS_LOOKUP_CODE (VARCHAR) | CURRENCY_CODE (VARCHAR) | RATE_TYPE (VARCHAR) | RATE_DATE (VARCHAR) | RATE (INTEGER) | END_DATE (VARCHAR) | AUTHORIZATION_STATUS (VARCHAR) | REVISION_NUM (INTEGER) | REVISED_DATE (VARCHAR) | APPROVED_FLAG (VARCHAR) | APPROVED_DATE (VARCHAR) | PRINT_COUNT (INTEGER) | PRINTED_DATE (VARCHAR) | CONFIRMING_ORDER_FLAG (VARCHAR) | CLOSED_DATE (VARCHAR) | CANCEL_FLAG (VARCHAR) | FROZEN_FLAG (VARCHAR) | ATTRIBUTE15 (VARCHAR) | CLOSED_CODE (VARCHAR) | REQUEST_ID (INTEGER) | PROGRAM_APPLICATION_ID (INTEGER) | PROGRAM_ID (INTEGER) | PROGRAM_UPDATE_DATE (VARCHAR) | ORG_ID (INTEGER) | WF_ITEM_TYPE (VARCHAR) | WF_ITEM_KEY (INTEGER) | GLOBAL_AGREEMENT_FLAG (VARCHAR) | PENDING_SIGNATURE_FLAG (VARCHAR) | DOCUMENT_CREATION_METHOD (VARCHAR) | CREATED_LANGUAGE (VARCHAR) | STYLE_ID (INTEGER) | CLM_DOCUMENT_NUMBER (INTEGER) | CLM_EFFECTIVE_DATE (VARCHAR)\n",
            "*/\n",
            "\n",
            "Table name: AP_CHECKS_ALL_processed \n",
            "/* \n",
            "col : AMOUNT (INTEGER) | BANK_ACCOUNT_ID (INTEGER) | BANK_ACCOUNT_NAME (VARCHAR) | CHECK_DATE (VARCHAR) | CHECK_ID (INTEGER) | CHECK_NUMBER (INTEGER) | CURRENCY_CODE (VARCHAR) | LAST_UPDATED_BY (VARCHAR) | LAST_UPDATE_DATE (VARCHAR) | PAYMENT_METHOD_LOOKUP_CODE (VARCHAR) | PAYMENT_TYPE_FLAG (VARCHAR) | ADDRESS_LINE1 (VARCHAR) | CHECKRUN_NAME (VARCHAR) | CITY (VARCHAR) | COUNTRY (VARCHAR) | CREATED_BY (VARCHAR) | CREATION_DATE (VARCHAR) | STATUS_LOOKUP_CODE (VARCHAR) | VENDOR_NAME (VARCHAR) | ZIP (INTEGER) | BANK_ACCOUNT_NUM (INTEGER) | BANK_ACCOUNT_TYPE (VARCHAR) | BANK_NUM (INTEGER) | CHECK_VOUCHER_NUM (INTEGER) | CLEARED_AMOUNT (INTEGER) | CLEARED_DATE (VARCHAR) | ORG_ID (INTEGER) | VENDOR_ID (INTEGER) | VENDOR_SITE_ID (INTEGER) | EXCHANGE_DATE (VARCHAR) | CHECKRUN_ID (INTEGER) | REQUEST_ID (INTEGER) | POSITIVE_PAY_STATUS_CODE (VARCHAR) | ANTICIPATED_VALUE_DATE (VARCHAR) | CE_BANK_ACCT_USE_ID (INTEGER) | PAYMENT_METHOD_CODE (VARCHAR) | PARTY_ID (INTEGER) | PARTY_SITE_ID (INTEGER) | PAYMENT_PROFILE_ID (INTEGER) | LEGAL_ENTITY_ID (INTEGER) | PAYMENT_DOCUMENT_ID (INTEGER) | COMPLETED_PMTS_GROUP_ID (INTEGER) | PAYMENT_ID (INTEGER) | PAYMENT_INSTRUCTION_ID (INTEGER) | REMIT_TO_SUPPLIER_NAME (VARCHAR) | REMIT_TO_SUPPLIER_ID (INTEGER) | REMIT_TO_SUPPLIER_SITE (VARCHAR) | REMIT_TO_SUPPLIER_SITE_ID (INTEGER) | RELATIONSHIP_ID (INTEGER)\n",
            "*/\n",
            "\n",
            "\n",
            "Prediction(\n",
            "    rationale='produce the SQL. We need to find the amount paid for a specific invoice number, which means we need to join the AP_INVOICES_ALL_processed table with the AP_INVOICE_PAYMENTS_ALL_processed table on the INVOICE_ID column.',\n",
            "    sql='```sql\\nSELECT DISTINCT AP_INVOICES_ALL_processed.INVOICE_NUM AS Invoice_Number, \\n                AP_INVOICE_PAYMENTS_ALL_processed.AMOUNT AS Amount_Paid\\nFROM AP_INVOICES_ALL_processed\\nJOIN AP_INVOICE_PAYMENTS_ALL_processed ON AP_INVOICES_ALL_processed.INVOICE_ID = AP_INVOICE_PAYMENTS_ALL_processed.INVOICE_ID\\nWHERE AP_INVOICES_ALL_processed.INVOICE_NUM = 1687546526;\\n```'\n",
            ")\n",
            "Extracted rows: \n",
            "| Invoice_Number | Amount_Paid |\n",
            "|----------------|-------------|\n",
            "| 1687546526     | 500         |\n",
            "\n",
            "Answer: The amount paid for the invoice number 1687546526 is $500.\n"
          ]
        }
      ],
      "source": [
        "sq = tsql_(question=\"What is the amount paid for the invoice number 1687546526?\")\n",
        "print(sq.answer)"
      ]
    },
    {
      "cell_type": "code",
      "execution_count": 54,
      "metadata": {
        "id": "8xcwQ1PKbenn",
        "outputId": "66c7033c-806b-4fa3-98a9-4c8f7235c324",
        "colab": {
          "base_uri": "https://localhost:8080/"
        }
      },
      "outputs": [
        {
          "output_type": "stream",
          "name": "stdout",
          "text": [
            "| Invoice_Number | Amount_Paid |\n",
            "|----------------|-------------|\n",
            "| 1687546526     | 500         |\n",
            "\n",
            "Answer: The amount paid for the invoice number 1687546526 is $500.\n"
          ]
        }
      ],
      "source": [
        "print(sq.answer)"
      ]
    },
    {
      "cell_type": "code",
      "execution_count": 55,
      "metadata": {
        "id": "L1GA2Jr0beno",
        "outputId": "5d225ea0-72fb-4397-f13a-0c2deb344323",
        "colab": {
          "base_uri": "https://localhost:8080/"
        }
      },
      "outputs": [
        {
          "output_type": "stream",
          "name": "stdout",
          "text": [
            "Table name: PO_DISTRIBUTIONS_ALL_processed \n",
            "/* \n",
            "col : PO_DISTRIBUTION_ID (INTEGER) | LAST_UPDATE_DATE (VARCHAR) | LAST_UPDATED_BY (VARCHAR) | PO_HEADER_ID (INTEGER) | PO_LINE_ID (INTEGER) | LINE_LOCATION_ID (INTEGER) | SET_OF_BOOKS_ID (INTEGER) | CODE_COMBINATION_ID (INTEGER) | QUANTITY_ORDERED (INTEGER) | LAST_UPDATE_LOGIN (INTEGER) | CREATION_DATE (VARCHAR) | CREATED_BY (VARCHAR) | QUANTITY_DELIVERED (INTEGER) | QUANTITY_BILLED (INTEGER) | QUANTITY_CANCELLED (INTEGER) | RATE_DATE (VARCHAR) | RATE (INTEGER) | AMOUNT_BILLED (INTEGER) | ENCUMBERED_FLAG (VARCHAR) | GL_CANCELLED_DATE (VARCHAR) | DESTINATION_TYPE_CODE (VARCHAR) | DESTINATION_ORGANIZATION_ID (INTEGER) | DESTINATION_SUBINVENTORY (VARCHAR) | ATTRIBUTE14 (VARCHAR) | ATTRIBUTE15 (VARCHAR) | WIP_ENTITY_ID (INTEGER) | ACCRUAL_ACCOUNT_ID (INTEGER) | VARIANCE_ACCOUNT_ID (INTEGER) | PREVENT_ENCUMBRANCE_FLAG (VARCHAR) | DESTINATION_CONTEXT (VARCHAR) | DISTRIBUTION_NUM (INTEGER) | REQUEST_ID (INTEGER) | PROGRAM_APPLICATION_ID (INTEGER) | PROGRAM_ID (INTEGER) | PROGRAM_UPDATE_DATE (VARCHAR) | ACCRUE_ON_RECEIPT_FLAG (VARCHAR) | ORG_ID (INTEGER) | DISTRIBUTION_TYPE (VARCHAR) | WF_ITEM_KEY (INTEGER) | INVOICED_VAL_IN_NTFN (INTEGER) | PARTIAL_FUNDED_FLAG (VARCHAR) | AMOUNT_CHANGED_FLAG (VARCHAR)\n",
            "*/\n",
            "\n",
            "Table name: PO_HEADERS_ALL_processed \n",
            "/* \n",
            "col : PO_HEADER_ID (INTEGER) | AGENT_ID (INTEGER) | TYPE_LOOKUP_CODE (VARCHAR) | LAST_UPDATE_DATE (VARCHAR) | LAST_UPDATED_BY (VARCHAR) | SUMMARY_FLAG (VARCHAR) | ENABLED_FLAG (VARCHAR) | LAST_UPDATE_LOGIN (INTEGER) | CREATION_DATE (VARCHAR) | CREATED_BY (VARCHAR) | VENDOR_ID (INTEGER) | VENDOR_SITE_ID (INTEGER) | VENDOR_CONTACT_ID (INTEGER) | SHIP_TO_LOCATION_ID (INTEGER) | BILL_TO_LOCATION_ID (INTEGER) | TERMS_ID (INTEGER) | SHIP_VIA_LOOKUP_CODE (VARCHAR) | FOB_LOOKUP_CODE (VARCHAR) | FREIGHT_TERMS_LOOKUP_CODE (VARCHAR) | STATUS_LOOKUP_CODE (VARCHAR) | CURRENCY_CODE (VARCHAR) | RATE_TYPE (VARCHAR) | RATE_DATE (VARCHAR) | RATE (INTEGER) | END_DATE (VARCHAR) | AUTHORIZATION_STATUS (VARCHAR) | REVISION_NUM (INTEGER) | REVISED_DATE (VARCHAR) | APPROVED_FLAG (VARCHAR) | APPROVED_DATE (VARCHAR) | PRINT_COUNT (INTEGER) | PRINTED_DATE (VARCHAR) | CONFIRMING_ORDER_FLAG (VARCHAR) | CLOSED_DATE (VARCHAR) | CANCEL_FLAG (VARCHAR) | FROZEN_FLAG (VARCHAR) | ATTRIBUTE15 (VARCHAR) | CLOSED_CODE (VARCHAR) | REQUEST_ID (INTEGER) | PROGRAM_APPLICATION_ID (INTEGER) | PROGRAM_ID (INTEGER) | PROGRAM_UPDATE_DATE (VARCHAR) | ORG_ID (INTEGER) | WF_ITEM_TYPE (VARCHAR) | WF_ITEM_KEY (INTEGER) | GLOBAL_AGREEMENT_FLAG (VARCHAR) | PENDING_SIGNATURE_FLAG (VARCHAR) | DOCUMENT_CREATION_METHOD (VARCHAR) | CREATED_LANGUAGE (VARCHAR) | STYLE_ID (INTEGER) | CLM_DOCUMENT_NUMBER (INTEGER) | CLM_EFFECTIVE_DATE (VARCHAR)\n",
            "*/\n",
            "\n",
            "Table name: AP_INVOICES_ALL_processed \n",
            "/* \n",
            "col : INVOICE_ID (INTEGER) | INVOICE_NUM (INTEGER) | VENDOR_ID (INTEGER) | VENDOR_NAME (VARCHAR) | PO_HEADER_ID (INTEGER) | INVOICE_AMOUNT (INTEGER) | INVOICE_DATE (VARCHAR) | LAST_UPDATE_DATE (VARCHAR) | LAST_UPDATED_BY (VARCHAR) | SET_OF_BOOKS_ID (INTEGER) | INVOICE_CURRENCY_CODE (VARCHAR) | PAYMENT_CURRENCY_CODE (VARCHAR) | PAYMENT_CROSS_RATE (INTEGER) | VENDOR_SITE_ID (INTEGER) | AMOUNT_PAID (INTEGER) | DISCOUNT_AMOUNT_TAKEN (INTEGER) | SOURCE (VARCHAR) | INVOICE_TYPE_LOOKUP_CODE (VARCHAR) | DESCRIPTION (VARCHAR) | BATCH_ID (INTEGER) | AMOUNT_APPLICABLE_TO_DISCOUNT (INTEGER) | TAX_AMOUNT (INTEGER) | TERMS_ID (INTEGER) | TERMS_DATE (VARCHAR) | PAYMENT_METHOD_CODE (VARCHAR) | PAY_GROUP_LOOKUP_CODE (VARCHAR) | ACCTS_PAY_CODE_COMBINATION_ID (INTEGER) | PAYMENT_STATUS_FLAG (VARCHAR) | CREATION_DATE (VARCHAR) | LAST_UPDATE_LOGIN (INTEGER) | EXCLUSIVE_PAYMENT_FLAG (VARCHAR) | FREIGHT_AMOUNT (INTEGER) | DOC_CATEGORY_CODE (VARCHAR) | APPROVAL_STATUS (VARCHAR) | APPROVAL_DESCRIPTION (VARCHAR) | INVOICE_DISTRIBUTION_TOTAL (INTEGER) | POSTING_STATUS (VARCHAR) | PREPAY_FLAG (VARCHAR) | VENDOR_PREPAY_AMOUNT (INTEGER) | PAYMENT_AMOUNT_TOTAL (INTEGER) | ORG_ID (INTEGER) | PAYMENT_CROSS_RATE_DATE (VARCHAR) | PAY_CURR_INVOICE_AMOUNT (INTEGER) | APPROVAL_READY_FLAG (VARCHAR) | APPROVAL_ITERATION (INTEGER) | WFAPPROVAL_STATUS (VARCHAR) | VALIDATION_REQUEST_ID (INTEGER) | VALIDATED_TAX_AMOUNT (INTEGER) | REQUESTER_ID (INTEGER) | TOTAL_TAX_AMOUNT (INTEGER) | TAXATION_COUNTRY (VARCHAR) | LEGAL_ENTITY_ID (INTEGER) | HISTORICAL_FLAG (VARCHAR) | FORCE_REVALIDATION_FLAG (VARCHAR) | URI_CHECK_DIGIT (INTEGER) | SETTLEMENT_PRIORITY (INTEGER) | PAYMENT_REASON_CODE (VARCHAR) | PAYMENT_REASON_COMMENTS (VARCHAR) | PARTY_ID (INTEGER) | PARTY_SITE_ID (INTEGER) | PAY_PROC_TRXN_TYPE_CODE (VARCHAR) | PAYMENT_FUNCTION (VARCHAR) | EXTERNAL_BANK_ACCOUNT_ID (INTEGER) | DISC_IS_INV_LESS_TAX_FLAG (VARCHAR) | EXCLUDE_FREIGHT_FROM_DISCOUNT (VARCHAR) | RELATIONSHIP_ID (INTEGER) | PO_MATCHED_FLAG (VARCHAR) | VALIDATION_WORKER_ID (INTEGER) | PAYMENT_METHOD_LOOKUP_CODE (VARCHAR)\n",
            "*/\n",
            "\n",
            "Table name: AP_INVOICE_DISTRIBUTIONS_ALL_processed \n",
            "/* \n",
            "col : ACCOUNTING_DATE (VARCHAR) | ACCRUAL_POSTED_FLAG (VARCHAR) | ASSETS_ADDITION_FLAG (VARCHAR) | ASSETS_TRACKING_FLAG (VARCHAR) | CASH_POSTED_FLAG (VARCHAR) | DISTRIBUTION_LINE_NUMBER (INTEGER) | DIST_CODE_COMBINATION_ID (INTEGER) | INVOICE_ID (INTEGER) | LAST_UPDATED_BY (VARCHAR) | LAST_UPDATE_DATE (VARCHAR) | LINE_TYPE_LOOKUP_CODE (VARCHAR) | PERIOD_NAME (VARCHAR) | SET_OF_BOOKS_ID (INTEGER) | AMOUNT (INTEGER) | BATCH_ID (INTEGER) | CREATED_BY (VARCHAR) | CREATION_DATE (VARCHAR) | DESCRIPTION (VARCHAR) | LAST_UPDATE_LOGIN (INTEGER) | PO_DISTRIBUTION_ID (INTEGER)\n",
            "*/\n",
            "\n",
            "Table name: AP_INVOICE_PAYMENTS_ALL_processed \n",
            "/* \n",
            "col : ACCOUNTING_EVENT_ID (INTEGER) | ACCOUNTING_DATE (VARCHAR) | ACCRUAL_POSTED_FLAG (VARCHAR) | AMOUNT (INTEGER) | CASH_POSTED_FLAG (VARCHAR) | CHECK_ID (INTEGER) | INVOICE_ID (INTEGER) | INVOICE_PAYMENT_ID (INTEGER) | LAST_UPDATED_BY (VARCHAR) | LAST_UPDATE_DATE (VARCHAR) | PAYMENT_NUM (INTEGER) | PERIOD_NAME (VARCHAR) | POSTED_FLAG (VARCHAR) | SET_OF_BOOKS_ID (INTEGER) | ASSET_CODE_COMBINATION_ID (INTEGER) | CREATED_BY (VARCHAR) | CREATION_DATE (VARCHAR) | LAST_UPDATE_LOGIN (INTEGER) | BANK_ACCOUNT_NUM (INTEGER) | BANK_ACCOUNT_TYPE (VARCHAR) | BANK_NUM (INTEGER) | DISCOUNT_LOST (INTEGER) | EXCHANGE_DATE (VARCHAR) | FUTURE_PAY_POSTED_FLAG (VARCHAR) | ASSETS_ADDITION_FLAG (VARCHAR) | INVOICE_PAYMENT_TYPE (VARCHAR) | ORG_ID (INTEGER) | EXTERNAL_BANK_ACCOUNT_ID (INTEGER) | INVOICING_PARTY_ID (INTEGER) | INVOICING_PARTY_SITE_ID (INTEGER) | INVOICING_VENDOR_SITE_ID (INTEGER) | REMIT_TO_SUPPLIER_NAME (VARCHAR) | REMIT_TO_SUPPLIER_ID (INTEGER) | REMIT_TO_SUPPLIER_SITE (VARCHAR) | REMIT_TO_SUPPLIER_SITE_ID (INTEGER)\n",
            "*/\n",
            "\n",
            "\n",
            "Prediction(\n",
            "    rationale='produce the SQL. We need to find the PO number for a specific invoice number, which means we need to join the AP_INVOICES_ALL_processed table with the PO_HEADERS_ALL_processed table on the PO_HEADER_ID column.',\n",
            "    sql='```sql\\nSELECT DISTINCT ph.PO_HEADER_ID AS PO_NUMBER\\nFROM AP_INVOICES_ALL_processed ai\\nJOIN PO_HEADERS_ALL_processed ph ON ai.PO_HEADER_ID = ph.PO_HEADER_ID\\nWHERE ai.INVOICE_NUM = 9302587107;\\n```'\n",
            ")\n",
            "Extracted rows: \n",
            "| PO_NUMBER |\n",
            "|-----------|\n",
            "| 123456    |\n",
            "\n",
            "Answer: The PO number for the invoice number 9302587107 is 123456.\n"
          ]
        }
      ],
      "source": [
        "sq = tsql_(question=\"What is the PO number for the invoice number 9302587107?\")\n",
        "print(sq.answer)"
      ]
    },
    {
      "cell_type": "code",
      "execution_count": 56,
      "metadata": {
        "id": "dVsMQ-Zibenp",
        "outputId": "9ba25a37-b901-4f45-82de-fd6bfe584db5",
        "colab": {
          "base_uri": "https://localhost:8080/"
        }
      },
      "outputs": [
        {
          "output_type": "stream",
          "name": "stdout",
          "text": [
            "| PO_NUMBER |\n",
            "|-----------|\n",
            "| 123456    |\n",
            "\n",
            "Answer: The PO number for the invoice number 9302587107 is 123456.\n"
          ]
        }
      ],
      "source": [
        "print(sq.answer)"
      ]
    },
    {
      "cell_type": "code",
      "execution_count": 57,
      "metadata": {
        "id": "tMg-HvxXbenq",
        "outputId": "56168763-9a42-46b2-bdf3-663b4e82e1ae",
        "colab": {
          "base_uri": "https://localhost:8080/"
        }
      },
      "outputs": [
        {
          "output_type": "stream",
          "name": "stdout",
          "text": [
            "Table name: AP_INVOICES_ALL_processed \n",
            "/* \n",
            "col : INVOICE_ID (INTEGER) | INVOICE_NUM (INTEGER) | VENDOR_ID (INTEGER) | VENDOR_NAME (VARCHAR) | PO_HEADER_ID (INTEGER) | INVOICE_AMOUNT (INTEGER) | INVOICE_DATE (VARCHAR) | LAST_UPDATE_DATE (VARCHAR) | LAST_UPDATED_BY (VARCHAR) | SET_OF_BOOKS_ID (INTEGER) | INVOICE_CURRENCY_CODE (VARCHAR) | PAYMENT_CURRENCY_CODE (VARCHAR) | PAYMENT_CROSS_RATE (INTEGER) | VENDOR_SITE_ID (INTEGER) | AMOUNT_PAID (INTEGER) | DISCOUNT_AMOUNT_TAKEN (INTEGER) | SOURCE (VARCHAR) | INVOICE_TYPE_LOOKUP_CODE (VARCHAR) | DESCRIPTION (VARCHAR) | BATCH_ID (INTEGER) | AMOUNT_APPLICABLE_TO_DISCOUNT (INTEGER) | TAX_AMOUNT (INTEGER) | TERMS_ID (INTEGER) | TERMS_DATE (VARCHAR) | PAYMENT_METHOD_CODE (VARCHAR) | PAY_GROUP_LOOKUP_CODE (VARCHAR) | ACCTS_PAY_CODE_COMBINATION_ID (INTEGER) | PAYMENT_STATUS_FLAG (VARCHAR) | CREATION_DATE (VARCHAR) | LAST_UPDATE_LOGIN (INTEGER) | EXCLUSIVE_PAYMENT_FLAG (VARCHAR) | FREIGHT_AMOUNT (INTEGER) | DOC_CATEGORY_CODE (VARCHAR) | APPROVAL_STATUS (VARCHAR) | APPROVAL_DESCRIPTION (VARCHAR) | INVOICE_DISTRIBUTION_TOTAL (INTEGER) | POSTING_STATUS (VARCHAR) | PREPAY_FLAG (VARCHAR) | VENDOR_PREPAY_AMOUNT (INTEGER) | PAYMENT_AMOUNT_TOTAL (INTEGER) | ORG_ID (INTEGER) | PAYMENT_CROSS_RATE_DATE (VARCHAR) | PAY_CURR_INVOICE_AMOUNT (INTEGER) | APPROVAL_READY_FLAG (VARCHAR) | APPROVAL_ITERATION (INTEGER) | WFAPPROVAL_STATUS (VARCHAR) | VALIDATION_REQUEST_ID (INTEGER) | VALIDATED_TAX_AMOUNT (INTEGER) | REQUESTER_ID (INTEGER) | TOTAL_TAX_AMOUNT (INTEGER) | TAXATION_COUNTRY (VARCHAR) | LEGAL_ENTITY_ID (INTEGER) | HISTORICAL_FLAG (VARCHAR) | FORCE_REVALIDATION_FLAG (VARCHAR) | URI_CHECK_DIGIT (INTEGER) | SETTLEMENT_PRIORITY (INTEGER) | PAYMENT_REASON_CODE (VARCHAR) | PAYMENT_REASON_COMMENTS (VARCHAR) | PARTY_ID (INTEGER) | PARTY_SITE_ID (INTEGER) | PAY_PROC_TRXN_TYPE_CODE (VARCHAR) | PAYMENT_FUNCTION (VARCHAR) | EXTERNAL_BANK_ACCOUNT_ID (INTEGER) | DISC_IS_INV_LESS_TAX_FLAG (VARCHAR) | EXCLUDE_FREIGHT_FROM_DISCOUNT (VARCHAR) | RELATIONSHIP_ID (INTEGER) | PO_MATCHED_FLAG (VARCHAR) | VALIDATION_WORKER_ID (INTEGER) | PAYMENT_METHOD_LOOKUP_CODE (VARCHAR)\n",
            "*/\n",
            "\n",
            "Table name: AP_INVOICE_PAYMENTS_ALL_processed \n",
            "/* \n",
            "col : ACCOUNTING_EVENT_ID (INTEGER) | ACCOUNTING_DATE (VARCHAR) | ACCRUAL_POSTED_FLAG (VARCHAR) | AMOUNT (INTEGER) | CASH_POSTED_FLAG (VARCHAR) | CHECK_ID (INTEGER) | INVOICE_ID (INTEGER) | INVOICE_PAYMENT_ID (INTEGER) | LAST_UPDATED_BY (VARCHAR) | LAST_UPDATE_DATE (VARCHAR) | PAYMENT_NUM (INTEGER) | PERIOD_NAME (VARCHAR) | POSTED_FLAG (VARCHAR) | SET_OF_BOOKS_ID (INTEGER) | ASSET_CODE_COMBINATION_ID (INTEGER) | CREATED_BY (VARCHAR) | CREATION_DATE (VARCHAR) | LAST_UPDATE_LOGIN (INTEGER) | BANK_ACCOUNT_NUM (INTEGER) | BANK_ACCOUNT_TYPE (VARCHAR) | BANK_NUM (INTEGER) | DISCOUNT_LOST (INTEGER) | EXCHANGE_DATE (VARCHAR) | FUTURE_PAY_POSTED_FLAG (VARCHAR) | ASSETS_ADDITION_FLAG (VARCHAR) | INVOICE_PAYMENT_TYPE (VARCHAR) | ORG_ID (INTEGER) | EXTERNAL_BANK_ACCOUNT_ID (INTEGER) | INVOICING_PARTY_ID (INTEGER) | INVOICING_PARTY_SITE_ID (INTEGER) | INVOICING_VENDOR_SITE_ID (INTEGER) | REMIT_TO_SUPPLIER_NAME (VARCHAR) | REMIT_TO_SUPPLIER_ID (INTEGER) | REMIT_TO_SUPPLIER_SITE (VARCHAR) | REMIT_TO_SUPPLIER_SITE_ID (INTEGER)\n",
            "*/\n",
            "\n",
            "Table name: AP_INVOICE_DISTRIBUTIONS_ALL_processed \n",
            "/* \n",
            "col : ACCOUNTING_DATE (VARCHAR) | ACCRUAL_POSTED_FLAG (VARCHAR) | ASSETS_ADDITION_FLAG (VARCHAR) | ASSETS_TRACKING_FLAG (VARCHAR) | CASH_POSTED_FLAG (VARCHAR) | DISTRIBUTION_LINE_NUMBER (INTEGER) | DIST_CODE_COMBINATION_ID (INTEGER) | INVOICE_ID (INTEGER) | LAST_UPDATED_BY (VARCHAR) | LAST_UPDATE_DATE (VARCHAR) | LINE_TYPE_LOOKUP_CODE (VARCHAR) | PERIOD_NAME (VARCHAR) | SET_OF_BOOKS_ID (INTEGER) | AMOUNT (INTEGER) | BATCH_ID (INTEGER) | CREATED_BY (VARCHAR) | CREATION_DATE (VARCHAR) | DESCRIPTION (VARCHAR) | LAST_UPDATE_LOGIN (INTEGER) | PO_DISTRIBUTION_ID (INTEGER)\n",
            "*/\n",
            "\n",
            "Table name: PO_DISTRIBUTIONS_ALL_processed \n",
            "/* \n",
            "col : PO_DISTRIBUTION_ID (INTEGER) | LAST_UPDATE_DATE (VARCHAR) | LAST_UPDATED_BY (VARCHAR) | PO_HEADER_ID (INTEGER) | PO_LINE_ID (INTEGER) | LINE_LOCATION_ID (INTEGER) | SET_OF_BOOKS_ID (INTEGER) | CODE_COMBINATION_ID (INTEGER) | QUANTITY_ORDERED (INTEGER) | LAST_UPDATE_LOGIN (INTEGER) | CREATION_DATE (VARCHAR) | CREATED_BY (VARCHAR) | QUANTITY_DELIVERED (INTEGER) | QUANTITY_BILLED (INTEGER) | QUANTITY_CANCELLED (INTEGER) | RATE_DATE (VARCHAR) | RATE (INTEGER) | AMOUNT_BILLED (INTEGER) | ENCUMBERED_FLAG (VARCHAR) | GL_CANCELLED_DATE (VARCHAR) | DESTINATION_TYPE_CODE (VARCHAR) | DESTINATION_ORGANIZATION_ID (INTEGER) | DESTINATION_SUBINVENTORY (VARCHAR) | ATTRIBUTE14 (VARCHAR) | ATTRIBUTE15 (VARCHAR) | WIP_ENTITY_ID (INTEGER) | ACCRUAL_ACCOUNT_ID (INTEGER) | VARIANCE_ACCOUNT_ID (INTEGER) | PREVENT_ENCUMBRANCE_FLAG (VARCHAR) | DESTINATION_CONTEXT (VARCHAR) | DISTRIBUTION_NUM (INTEGER) | REQUEST_ID (INTEGER) | PROGRAM_APPLICATION_ID (INTEGER) | PROGRAM_ID (INTEGER) | PROGRAM_UPDATE_DATE (VARCHAR) | ACCRUE_ON_RECEIPT_FLAG (VARCHAR) | ORG_ID (INTEGER) | DISTRIBUTION_TYPE (VARCHAR) | WF_ITEM_KEY (INTEGER) | INVOICED_VAL_IN_NTFN (INTEGER) | PARTIAL_FUNDED_FLAG (VARCHAR) | AMOUNT_CHANGED_FLAG (VARCHAR)\n",
            "*/\n",
            "\n",
            "Table name: AP_SUPPLIERS_processed \n",
            "/* \n",
            "col : VENDOR_ID (INTEGER) | LAST_UPDATE_DATE (VARCHAR) | LAST_UPDATED_BY (VARCHAR) | VENDOR_NAME (VARCHAR) | VENDOR_NAME_ALT (VARCHAR) | SEGMENT1 (VARCHAR) | SUMMARY_FLAG (VARCHAR) | ENABLED_FLAG (VARCHAR) | LAST_UPDATE_LOGIN (INTEGER) | CREATION_DATE (VARCHAR) | CREATED_BY (VARCHAR) | EMPLOYEE_ID (INTEGER) | VENDOR_TYPE_LOOKUP_CODE (VARCHAR) | ONE_TIME_FLAG (VARCHAR) | TERMS_ID (INTEGER) | ALWAYS_TAKE_DISC_FLAG (VARCHAR) | PAY_DATE_BASIS_LOOKUP_CODE (VARCHAR) | PAYMENT_PRIORITY (INTEGER) | INVOICE_CURRENCY_CODE (VARCHAR) | PAYMENT_CURRENCY_CODE (VARCHAR) | INVOICE_AMOUNT_LIMIT (INTEGER) | HOLD_ALL_PAYMENTS_FLAG (VARCHAR) | HOLD_FUTURE_PAYMENTS_FLAG (VARCHAR) | START_DATE_ACTIVE (VARCHAR) | END_DATE_ACTIVE (VARCHAR) | PAYMENT_METHOD_LOOKUP_CODE (VARCHAR) | BANK_ACCOUNT_NAME (VARCHAR) | BANK_ACCOUNT_NUM (INTEGER) | BANK_NUM (INTEGER) | BANK_ACCOUNT_TYPE (VARCHAR) | WOMEN_OWNED_FLAG (VARCHAR) | SMALL_BUSINESS_FLAG (VARCHAR) | HOLD_FLAG (VARCHAR) | TERMS_DATE_BASIS (VARCHAR) | HOLD_UNMATCHED_INVOICES_FLAG (VARCHAR) | AP_TAX_ROUNDING_RULE (VARCHAR) | AUTO_TAX_CALC_FLAG (VARCHAR) | AMOUNT_INCLUDES_TAX_FLAG (VARCHAR) | PROGRAM_UPDATE_DATE (VARCHAR) | VAT_REGISTRATION_NUM (INTEGER) | AUTO_CALCULATE_INTEREST_FLAG (VARCHAR) | EXCLUDE_FREIGHT_FROM_DISCOUNT (VARCHAR) | MATCH_OPTION (VARCHAR) | OFFSET_TAX_FLAG (VARCHAR) | PARTY_ID (INTEGER) | TCA_SYNC_VENDOR_NAME (VARCHAR) | TCA_SYNC_VAT_REG_NUM (INTEGER)\n",
            "*/\n",
            "\n",
            "\n",
            "Prediction(\n",
            "    rationale='produce the sql. We need to find the invoice amount, payment status, and invoice date for a specific invoice number. We will need to join the AP_INVOICES_ALL_processed table with the AP_INVOICE_PAYMENTS_ALL_processed table on the INVOICE_ID column to get the required information.',\n",
            "    sql=\"```sql\\nSELECT DISTINCT \\n    a.INVOICE_AMOUNT AS invoice_amount,\\n    a.PAYMENT_STATUS_FLAG AS payment_status,\\n    a.INVOICE_DATE AS invoice_date\\nFROM \\n    AP_INVOICES_ALL_processed a\\nJOIN \\n    AP_INVOICE_PAYMENTS_ALL_processed b ON a.INVOICE_ID = b.INVOICE_ID\\nWHERE \\n    a.INVOICE_NUM = 'SC16616G-DEC-24';\\n```\"\n",
            ")\n",
            "Extracted rows: \n",
            "| invoice_amount | payment_status | invoice_date |\n",
            "|----------------|----------------|--------------|\n",
            "| 500.00         | PAID           | 2024-12-24   |\n",
            "\n",
            "Answer: The invoice amount for invoice number SC16616G-DEC-24 is $500.00, the payment status is PAID, and the invoice date is December 24, 2024.\n"
          ]
        }
      ],
      "source": [
        "sq = tsql_(question=\"What is the invoice amount, payment status and invoice date for invoice number SC16616G-DEC-24?\")\n",
        "print(sq.answer)"
      ]
    },
    {
      "cell_type": "code",
      "execution_count": 58,
      "metadata": {
        "id": "71W2OxZZbenq",
        "outputId": "3c753eac-f420-4b06-dde9-0ac28a79e1fb",
        "colab": {
          "base_uri": "https://localhost:8080/"
        }
      },
      "outputs": [
        {
          "output_type": "stream",
          "name": "stdout",
          "text": [
            "| invoice_amount | payment_status | invoice_date |\n",
            "|----------------|----------------|--------------|\n",
            "| 500.00         | PAID           | 2024-12-24   |\n",
            "\n",
            "Answer: The invoice amount for invoice number SC16616G-DEC-24 is $500.00, the payment status is PAID, and the invoice date is December 24, 2024.\n"
          ]
        }
      ],
      "source": [
        "print(sq.answer)"
      ]
    },
    {
      "cell_type": "code",
      "execution_count": 59,
      "metadata": {
        "id": "il4bcAICbenq",
        "outputId": "fe540ef2-ea76-4c72-d822-76a40f71f5f6",
        "colab": {
          "base_uri": "https://localhost:8080/"
        }
      },
      "outputs": [
        {
          "output_type": "stream",
          "name": "stdout",
          "text": [
            "Table name: AP_INVOICES_ALL_processed \n",
            "/* \n",
            "col : INVOICE_ID (INTEGER) | INVOICE_NUM (INTEGER) | VENDOR_ID (INTEGER) | VENDOR_NAME (VARCHAR) | PO_HEADER_ID (INTEGER) | INVOICE_AMOUNT (INTEGER) | INVOICE_DATE (VARCHAR) | LAST_UPDATE_DATE (VARCHAR) | LAST_UPDATED_BY (VARCHAR) | SET_OF_BOOKS_ID (INTEGER) | INVOICE_CURRENCY_CODE (VARCHAR) | PAYMENT_CURRENCY_CODE (VARCHAR) | PAYMENT_CROSS_RATE (INTEGER) | VENDOR_SITE_ID (INTEGER) | AMOUNT_PAID (INTEGER) | DISCOUNT_AMOUNT_TAKEN (INTEGER) | SOURCE (VARCHAR) | INVOICE_TYPE_LOOKUP_CODE (VARCHAR) | DESCRIPTION (VARCHAR) | BATCH_ID (INTEGER) | AMOUNT_APPLICABLE_TO_DISCOUNT (INTEGER) | TAX_AMOUNT (INTEGER) | TERMS_ID (INTEGER) | TERMS_DATE (VARCHAR) | PAYMENT_METHOD_CODE (VARCHAR) | PAY_GROUP_LOOKUP_CODE (VARCHAR) | ACCTS_PAY_CODE_COMBINATION_ID (INTEGER) | PAYMENT_STATUS_FLAG (VARCHAR) | CREATION_DATE (VARCHAR) | LAST_UPDATE_LOGIN (INTEGER) | EXCLUSIVE_PAYMENT_FLAG (VARCHAR) | FREIGHT_AMOUNT (INTEGER) | DOC_CATEGORY_CODE (VARCHAR) | APPROVAL_STATUS (VARCHAR) | APPROVAL_DESCRIPTION (VARCHAR) | INVOICE_DISTRIBUTION_TOTAL (INTEGER) | POSTING_STATUS (VARCHAR) | PREPAY_FLAG (VARCHAR) | VENDOR_PREPAY_AMOUNT (INTEGER) | PAYMENT_AMOUNT_TOTAL (INTEGER) | ORG_ID (INTEGER) | PAYMENT_CROSS_RATE_DATE (VARCHAR) | PAY_CURR_INVOICE_AMOUNT (INTEGER) | APPROVAL_READY_FLAG (VARCHAR) | APPROVAL_ITERATION (INTEGER) | WFAPPROVAL_STATUS (VARCHAR) | VALIDATION_REQUEST_ID (INTEGER) | VALIDATED_TAX_AMOUNT (INTEGER) | REQUESTER_ID (INTEGER) | TOTAL_TAX_AMOUNT (INTEGER) | TAXATION_COUNTRY (VARCHAR) | LEGAL_ENTITY_ID (INTEGER) | HISTORICAL_FLAG (VARCHAR) | FORCE_REVALIDATION_FLAG (VARCHAR) | URI_CHECK_DIGIT (INTEGER) | SETTLEMENT_PRIORITY (INTEGER) | PAYMENT_REASON_CODE (VARCHAR) | PAYMENT_REASON_COMMENTS (VARCHAR) | PARTY_ID (INTEGER) | PARTY_SITE_ID (INTEGER) | PAY_PROC_TRXN_TYPE_CODE (VARCHAR) | PAYMENT_FUNCTION (VARCHAR) | EXTERNAL_BANK_ACCOUNT_ID (INTEGER) | DISC_IS_INV_LESS_TAX_FLAG (VARCHAR) | EXCLUDE_FREIGHT_FROM_DISCOUNT (VARCHAR) | RELATIONSHIP_ID (INTEGER) | PO_MATCHED_FLAG (VARCHAR) | VALIDATION_WORKER_ID (INTEGER) | PAYMENT_METHOD_LOOKUP_CODE (VARCHAR)\n",
            "*/\n",
            "\n",
            "Table name: AP_SUPPLIERS_processed \n",
            "/* \n",
            "col : VENDOR_ID (INTEGER) | LAST_UPDATE_DATE (VARCHAR) | LAST_UPDATED_BY (VARCHAR) | VENDOR_NAME (VARCHAR) | VENDOR_NAME_ALT (VARCHAR) | SEGMENT1 (VARCHAR) | SUMMARY_FLAG (VARCHAR) | ENABLED_FLAG (VARCHAR) | LAST_UPDATE_LOGIN (INTEGER) | CREATION_DATE (VARCHAR) | CREATED_BY (VARCHAR) | EMPLOYEE_ID (INTEGER) | VENDOR_TYPE_LOOKUP_CODE (VARCHAR) | ONE_TIME_FLAG (VARCHAR) | TERMS_ID (INTEGER) | ALWAYS_TAKE_DISC_FLAG (VARCHAR) | PAY_DATE_BASIS_LOOKUP_CODE (VARCHAR) | PAYMENT_PRIORITY (INTEGER) | INVOICE_CURRENCY_CODE (VARCHAR) | PAYMENT_CURRENCY_CODE (VARCHAR) | INVOICE_AMOUNT_LIMIT (INTEGER) | HOLD_ALL_PAYMENTS_FLAG (VARCHAR) | HOLD_FUTURE_PAYMENTS_FLAG (VARCHAR) | START_DATE_ACTIVE (VARCHAR) | END_DATE_ACTIVE (VARCHAR) | PAYMENT_METHOD_LOOKUP_CODE (VARCHAR) | BANK_ACCOUNT_NAME (VARCHAR) | BANK_ACCOUNT_NUM (INTEGER) | BANK_NUM (INTEGER) | BANK_ACCOUNT_TYPE (VARCHAR) | WOMEN_OWNED_FLAG (VARCHAR) | SMALL_BUSINESS_FLAG (VARCHAR) | HOLD_FLAG (VARCHAR) | TERMS_DATE_BASIS (VARCHAR) | HOLD_UNMATCHED_INVOICES_FLAG (VARCHAR) | AP_TAX_ROUNDING_RULE (VARCHAR) | AUTO_TAX_CALC_FLAG (VARCHAR) | AMOUNT_INCLUDES_TAX_FLAG (VARCHAR) | PROGRAM_UPDATE_DATE (VARCHAR) | VAT_REGISTRATION_NUM (INTEGER) | AUTO_CALCULATE_INTEREST_FLAG (VARCHAR) | EXCLUDE_FREIGHT_FROM_DISCOUNT (VARCHAR) | MATCH_OPTION (VARCHAR) | OFFSET_TAX_FLAG (VARCHAR) | PARTY_ID (INTEGER) | TCA_SYNC_VENDOR_NAME (VARCHAR) | TCA_SYNC_VAT_REG_NUM (INTEGER)\n",
            "*/\n",
            "\n",
            "Table name: AP_INVOICE_PAYMENTS_ALL_processed \n",
            "/* \n",
            "col : ACCOUNTING_EVENT_ID (INTEGER) | ACCOUNTING_DATE (VARCHAR) | ACCRUAL_POSTED_FLAG (VARCHAR) | AMOUNT (INTEGER) | CASH_POSTED_FLAG (VARCHAR) | CHECK_ID (INTEGER) | INVOICE_ID (INTEGER) | INVOICE_PAYMENT_ID (INTEGER) | LAST_UPDATED_BY (VARCHAR) | LAST_UPDATE_DATE (VARCHAR) | PAYMENT_NUM (INTEGER) | PERIOD_NAME (VARCHAR) | POSTED_FLAG (VARCHAR) | SET_OF_BOOKS_ID (INTEGER) | ASSET_CODE_COMBINATION_ID (INTEGER) | CREATED_BY (VARCHAR) | CREATION_DATE (VARCHAR) | LAST_UPDATE_LOGIN (INTEGER) | BANK_ACCOUNT_NUM (INTEGER) | BANK_ACCOUNT_TYPE (VARCHAR) | BANK_NUM (INTEGER) | DISCOUNT_LOST (INTEGER) | EXCHANGE_DATE (VARCHAR) | FUTURE_PAY_POSTED_FLAG (VARCHAR) | ASSETS_ADDITION_FLAG (VARCHAR) | INVOICE_PAYMENT_TYPE (VARCHAR) | ORG_ID (INTEGER) | EXTERNAL_BANK_ACCOUNT_ID (INTEGER) | INVOICING_PARTY_ID (INTEGER) | INVOICING_PARTY_SITE_ID (INTEGER) | INVOICING_VENDOR_SITE_ID (INTEGER) | REMIT_TO_SUPPLIER_NAME (VARCHAR) | REMIT_TO_SUPPLIER_ID (INTEGER) | REMIT_TO_SUPPLIER_SITE (VARCHAR) | REMIT_TO_SUPPLIER_SITE_ID (INTEGER)\n",
            "*/\n",
            "\n",
            "Table name: AP_CHECKS_ALL_processed \n",
            "/* \n",
            "col : AMOUNT (INTEGER) | BANK_ACCOUNT_ID (INTEGER) | BANK_ACCOUNT_NAME (VARCHAR) | CHECK_DATE (VARCHAR) | CHECK_ID (INTEGER) | CHECK_NUMBER (INTEGER) | CURRENCY_CODE (VARCHAR) | LAST_UPDATED_BY (VARCHAR) | LAST_UPDATE_DATE (VARCHAR) | PAYMENT_METHOD_LOOKUP_CODE (VARCHAR) | PAYMENT_TYPE_FLAG (VARCHAR) | ADDRESS_LINE1 (VARCHAR) | CHECKRUN_NAME (VARCHAR) | CITY (VARCHAR) | COUNTRY (VARCHAR) | CREATED_BY (VARCHAR) | CREATION_DATE (VARCHAR) | STATUS_LOOKUP_CODE (VARCHAR) | VENDOR_NAME (VARCHAR) | ZIP (INTEGER) | BANK_ACCOUNT_NUM (INTEGER) | BANK_ACCOUNT_TYPE (VARCHAR) | BANK_NUM (INTEGER) | CHECK_VOUCHER_NUM (INTEGER) | CLEARED_AMOUNT (INTEGER) | CLEARED_DATE (VARCHAR) | ORG_ID (INTEGER) | VENDOR_ID (INTEGER) | VENDOR_SITE_ID (INTEGER) | EXCHANGE_DATE (VARCHAR) | CHECKRUN_ID (INTEGER) | REQUEST_ID (INTEGER) | POSITIVE_PAY_STATUS_CODE (VARCHAR) | ANTICIPATED_VALUE_DATE (VARCHAR) | CE_BANK_ACCT_USE_ID (INTEGER) | PAYMENT_METHOD_CODE (VARCHAR) | PARTY_ID (INTEGER) | PARTY_SITE_ID (INTEGER) | PAYMENT_PROFILE_ID (INTEGER) | LEGAL_ENTITY_ID (INTEGER) | PAYMENT_DOCUMENT_ID (INTEGER) | COMPLETED_PMTS_GROUP_ID (INTEGER) | PAYMENT_ID (INTEGER) | PAYMENT_INSTRUCTION_ID (INTEGER) | REMIT_TO_SUPPLIER_NAME (VARCHAR) | REMIT_TO_SUPPLIER_ID (INTEGER) | REMIT_TO_SUPPLIER_SITE (VARCHAR) | REMIT_TO_SUPPLIER_SITE_ID (INTEGER) | RELATIONSHIP_ID (INTEGER)\n",
            "*/\n",
            "\n",
            "Table name: PO_HEADERS_ALL_processed \n",
            "/* \n",
            "col : PO_HEADER_ID (INTEGER) | AGENT_ID (INTEGER) | TYPE_LOOKUP_CODE (VARCHAR) | LAST_UPDATE_DATE (VARCHAR) | LAST_UPDATED_BY (VARCHAR) | SUMMARY_FLAG (VARCHAR) | ENABLED_FLAG (VARCHAR) | LAST_UPDATE_LOGIN (INTEGER) | CREATION_DATE (VARCHAR) | CREATED_BY (VARCHAR) | VENDOR_ID (INTEGER) | VENDOR_SITE_ID (INTEGER) | VENDOR_CONTACT_ID (INTEGER) | SHIP_TO_LOCATION_ID (INTEGER) | BILL_TO_LOCATION_ID (INTEGER) | TERMS_ID (INTEGER) | SHIP_VIA_LOOKUP_CODE (VARCHAR) | FOB_LOOKUP_CODE (VARCHAR) | FREIGHT_TERMS_LOOKUP_CODE (VARCHAR) | STATUS_LOOKUP_CODE (VARCHAR) | CURRENCY_CODE (VARCHAR) | RATE_TYPE (VARCHAR) | RATE_DATE (VARCHAR) | RATE (INTEGER) | END_DATE (VARCHAR) | AUTHORIZATION_STATUS (VARCHAR) | REVISION_NUM (INTEGER) | REVISED_DATE (VARCHAR) | APPROVED_FLAG (VARCHAR) | APPROVED_DATE (VARCHAR) | PRINT_COUNT (INTEGER) | PRINTED_DATE (VARCHAR) | CONFIRMING_ORDER_FLAG (VARCHAR) | CLOSED_DATE (VARCHAR) | CANCEL_FLAG (VARCHAR) | FROZEN_FLAG (VARCHAR) | ATTRIBUTE15 (VARCHAR) | CLOSED_CODE (VARCHAR) | REQUEST_ID (INTEGER) | PROGRAM_APPLICATION_ID (INTEGER) | PROGRAM_ID (INTEGER) | PROGRAM_UPDATE_DATE (VARCHAR) | ORG_ID (INTEGER) | WF_ITEM_TYPE (VARCHAR) | WF_ITEM_KEY (INTEGER) | GLOBAL_AGREEMENT_FLAG (VARCHAR) | PENDING_SIGNATURE_FLAG (VARCHAR) | DOCUMENT_CREATION_METHOD (VARCHAR) | CREATED_LANGUAGE (VARCHAR) | STYLE_ID (INTEGER) | CLM_DOCUMENT_NUMBER (INTEGER) | CLM_EFFECTIVE_DATE (VARCHAR)\n",
            "*/\n",
            "\n",
            "\n",
            "Prediction(\n",
            "    rationale='produce the sql. We need to retrieve the vendor id, payment currency code, total tax amount, and payment status for a specific invoice number. This information is spread across multiple tables - AP_INVOICES_ALL_processed, AP_SUPPLIERS_processed, AP_INVOICE_PAYMENTS_ALL_processed, AP_CHECKS_ALL_processed, and PO_HEADERS_ALL_processed. We need to join these tables on the relevant keys to get the required information.',\n",
            "    sql='```sql\\nSELECT DISTINCT \\n    AP_INVOICES_ALL_processed.VENDOR_ID AS vendor_id,\\n    AP_INVOICES_ALL_processed.PAYMENT_CURRENCY_CODE AS payment_currency_code,\\n    AP_INVOICES_ALL_processed.TOTAL_TAX_AMOUNT AS total_tax_amount,\\n    AP_INVOICES_ALL_processed.PAYMENT_STATUS_FLAG AS payment_status\\nFROM \\n    AP_INVOICES_ALL_processed\\nJOIN \\n    AP_SUPPLIERS_processed ON AP_INVOICES_ALL_processed.VENDOR_ID = AP_SUPPLIERS_processed.VENDOR_ID\\nJOIN \\n    AP_INVOICE_PAYMENTS_ALL_processed ON AP_INVOICES_ALL_processed.INVOICE_ID = AP_INVOICE_PAYMENTS_ALL_processed.INVOICE_ID\\nJOIN \\n    AP_CHECKS_ALL_processed ON AP_INVOICE_PAYMENTS_ALL_processed.CHECK_ID = AP_CHECKS_ALL_processed.CHECK_ID\\nJOIN \\n    PO_HEADERS_ALL_processed ON AP_INVOICES_ALL_processed.PO_HEADER_ID = PO_HEADERS_ALL_processed.PO_HEADER_ID\\nWHERE \\n    AP_INVOICES_ALL_processed.INVOICE_NUM = 9016618879;\\n```'\n",
            ")\n",
            "Extracted rows: \n",
            "| vendor_id | payment_currency_code | total_tax_amount | payment_status |\n",
            "|-----------|-----------------------|------------------|-----------------|\n",
            "| 12345     | USD                   | 50.00            | PAID            |\n",
            "\n",
            "Answer: The vendor id for invoice number 9016618879 is 12345, the payment currency code is USD, the total tax amount is 50.00, and the payment status is PAID.\n"
          ]
        }
      ],
      "source": [
        "sq = tsql_(question=\"What is the vendor id, payment currency code, total tax amount and payment status for invoice number 9016618879 ?\")\n",
        "print(sq.answer)"
      ]
    },
    {
      "cell_type": "code",
      "source": [
        "print(sq.answer)"
      ],
      "metadata": {
        "colab": {
          "base_uri": "https://localhost:8080/"
        },
        "id": "pO-2U_qiQGXi",
        "outputId": "8c69a79e-c2ec-4bae-c9c4-58c55daf7c7f"
      },
      "execution_count": 60,
      "outputs": [
        {
          "output_type": "stream",
          "name": "stdout",
          "text": [
            "| vendor_id | payment_currency_code | total_tax_amount | payment_status |\n",
            "|-----------|-----------------------|------------------|-----------------|\n",
            "| 12345     | USD                   | 50.00            | PAID            |\n",
            "\n",
            "Answer: The vendor id for invoice number 9016618879 is 12345, the payment currency code is USD, the total tax amount is 50.00, and the payment status is PAID.\n"
          ]
        }
      ]
    },
    {
      "cell_type": "code",
      "execution_count": 61,
      "metadata": {
        "id": "8EYlU1ffbenr",
        "outputId": "821633ee-fe95-4aca-8964-db305de16b76",
        "colab": {
          "base_uri": "https://localhost:8080/"
        }
      },
      "outputs": [
        {
          "output_type": "stream",
          "name": "stdout",
          "text": [
            "Table name: AP_INVOICES_ALL_processed \n",
            "/* \n",
            "col : INVOICE_ID (INTEGER) | INVOICE_NUM (INTEGER) | VENDOR_ID (INTEGER) | VENDOR_NAME (VARCHAR) | PO_HEADER_ID (INTEGER) | INVOICE_AMOUNT (INTEGER) | INVOICE_DATE (VARCHAR) | LAST_UPDATE_DATE (VARCHAR) | LAST_UPDATED_BY (VARCHAR) | SET_OF_BOOKS_ID (INTEGER) | INVOICE_CURRENCY_CODE (VARCHAR) | PAYMENT_CURRENCY_CODE (VARCHAR) | PAYMENT_CROSS_RATE (INTEGER) | VENDOR_SITE_ID (INTEGER) | AMOUNT_PAID (INTEGER) | DISCOUNT_AMOUNT_TAKEN (INTEGER) | SOURCE (VARCHAR) | INVOICE_TYPE_LOOKUP_CODE (VARCHAR) | DESCRIPTION (VARCHAR) | BATCH_ID (INTEGER) | AMOUNT_APPLICABLE_TO_DISCOUNT (INTEGER) | TAX_AMOUNT (INTEGER) | TERMS_ID (INTEGER) | TERMS_DATE (VARCHAR) | PAYMENT_METHOD_CODE (VARCHAR) | PAY_GROUP_LOOKUP_CODE (VARCHAR) | ACCTS_PAY_CODE_COMBINATION_ID (INTEGER) | PAYMENT_STATUS_FLAG (VARCHAR) | CREATION_DATE (VARCHAR) | LAST_UPDATE_LOGIN (INTEGER) | EXCLUSIVE_PAYMENT_FLAG (VARCHAR) | FREIGHT_AMOUNT (INTEGER) | DOC_CATEGORY_CODE (VARCHAR) | APPROVAL_STATUS (VARCHAR) | APPROVAL_DESCRIPTION (VARCHAR) | INVOICE_DISTRIBUTION_TOTAL (INTEGER) | POSTING_STATUS (VARCHAR) | PREPAY_FLAG (VARCHAR) | VENDOR_PREPAY_AMOUNT (INTEGER) | PAYMENT_AMOUNT_TOTAL (INTEGER) | ORG_ID (INTEGER) | PAYMENT_CROSS_RATE_DATE (VARCHAR) | PAY_CURR_INVOICE_AMOUNT (INTEGER) | APPROVAL_READY_FLAG (VARCHAR) | APPROVAL_ITERATION (INTEGER) | WFAPPROVAL_STATUS (VARCHAR) | VALIDATION_REQUEST_ID (INTEGER) | VALIDATED_TAX_AMOUNT (INTEGER) | REQUESTER_ID (INTEGER) | TOTAL_TAX_AMOUNT (INTEGER) | TAXATION_COUNTRY (VARCHAR) | LEGAL_ENTITY_ID (INTEGER) | HISTORICAL_FLAG (VARCHAR) | FORCE_REVALIDATION_FLAG (VARCHAR) | URI_CHECK_DIGIT (INTEGER) | SETTLEMENT_PRIORITY (INTEGER) | PAYMENT_REASON_CODE (VARCHAR) | PAYMENT_REASON_COMMENTS (VARCHAR) | PARTY_ID (INTEGER) | PARTY_SITE_ID (INTEGER) | PAY_PROC_TRXN_TYPE_CODE (VARCHAR) | PAYMENT_FUNCTION (VARCHAR) | EXTERNAL_BANK_ACCOUNT_ID (INTEGER) | DISC_IS_INV_LESS_TAX_FLAG (VARCHAR) | EXCLUDE_FREIGHT_FROM_DISCOUNT (VARCHAR) | RELATIONSHIP_ID (INTEGER) | PO_MATCHED_FLAG (VARCHAR) | VALIDATION_WORKER_ID (INTEGER) | PAYMENT_METHOD_LOOKUP_CODE (VARCHAR)\n",
            "*/\n",
            "\n",
            "Table name: AP_INVOICE_DISTRIBUTIONS_ALL_processed \n",
            "/* \n",
            "col : ACCOUNTING_DATE (VARCHAR) | ACCRUAL_POSTED_FLAG (VARCHAR) | ASSETS_ADDITION_FLAG (VARCHAR) | ASSETS_TRACKING_FLAG (VARCHAR) | CASH_POSTED_FLAG (VARCHAR) | DISTRIBUTION_LINE_NUMBER (INTEGER) | DIST_CODE_COMBINATION_ID (INTEGER) | INVOICE_ID (INTEGER) | LAST_UPDATED_BY (VARCHAR) | LAST_UPDATE_DATE (VARCHAR) | LINE_TYPE_LOOKUP_CODE (VARCHAR) | PERIOD_NAME (VARCHAR) | SET_OF_BOOKS_ID (INTEGER) | AMOUNT (INTEGER) | BATCH_ID (INTEGER) | CREATED_BY (VARCHAR) | CREATION_DATE (VARCHAR) | DESCRIPTION (VARCHAR) | LAST_UPDATE_LOGIN (INTEGER) | PO_DISTRIBUTION_ID (INTEGER)\n",
            "*/\n",
            "\n",
            "Table name: AP_INVOICE_PAYMENTS_ALL_processed \n",
            "/* \n",
            "col : ACCOUNTING_EVENT_ID (INTEGER) | ACCOUNTING_DATE (VARCHAR) | ACCRUAL_POSTED_FLAG (VARCHAR) | AMOUNT (INTEGER) | CASH_POSTED_FLAG (VARCHAR) | CHECK_ID (INTEGER) | INVOICE_ID (INTEGER) | INVOICE_PAYMENT_ID (INTEGER) | LAST_UPDATED_BY (VARCHAR) | LAST_UPDATE_DATE (VARCHAR) | PAYMENT_NUM (INTEGER) | PERIOD_NAME (VARCHAR) | POSTED_FLAG (VARCHAR) | SET_OF_BOOKS_ID (INTEGER) | ASSET_CODE_COMBINATION_ID (INTEGER) | CREATED_BY (VARCHAR) | CREATION_DATE (VARCHAR) | LAST_UPDATE_LOGIN (INTEGER) | BANK_ACCOUNT_NUM (INTEGER) | BANK_ACCOUNT_TYPE (VARCHAR) | BANK_NUM (INTEGER) | DISCOUNT_LOST (INTEGER) | EXCHANGE_DATE (VARCHAR) | FUTURE_PAY_POSTED_FLAG (VARCHAR) | ASSETS_ADDITION_FLAG (VARCHAR) | INVOICE_PAYMENT_TYPE (VARCHAR) | ORG_ID (INTEGER) | EXTERNAL_BANK_ACCOUNT_ID (INTEGER) | INVOICING_PARTY_ID (INTEGER) | INVOICING_PARTY_SITE_ID (INTEGER) | INVOICING_VENDOR_SITE_ID (INTEGER) | REMIT_TO_SUPPLIER_NAME (VARCHAR) | REMIT_TO_SUPPLIER_ID (INTEGER) | REMIT_TO_SUPPLIER_SITE (VARCHAR) | REMIT_TO_SUPPLIER_SITE_ID (INTEGER)\n",
            "*/\n",
            "\n",
            "Table name: PO_DISTRIBUTIONS_ALL_processed \n",
            "/* \n",
            "col : PO_DISTRIBUTION_ID (INTEGER) | LAST_UPDATE_DATE (VARCHAR) | LAST_UPDATED_BY (VARCHAR) | PO_HEADER_ID (INTEGER) | PO_LINE_ID (INTEGER) | LINE_LOCATION_ID (INTEGER) | SET_OF_BOOKS_ID (INTEGER) | CODE_COMBINATION_ID (INTEGER) | QUANTITY_ORDERED (INTEGER) | LAST_UPDATE_LOGIN (INTEGER) | CREATION_DATE (VARCHAR) | CREATED_BY (VARCHAR) | QUANTITY_DELIVERED (INTEGER) | QUANTITY_BILLED (INTEGER) | QUANTITY_CANCELLED (INTEGER) | RATE_DATE (VARCHAR) | RATE (INTEGER) | AMOUNT_BILLED (INTEGER) | ENCUMBERED_FLAG (VARCHAR) | GL_CANCELLED_DATE (VARCHAR) | DESTINATION_TYPE_CODE (VARCHAR) | DESTINATION_ORGANIZATION_ID (INTEGER) | DESTINATION_SUBINVENTORY (VARCHAR) | ATTRIBUTE14 (VARCHAR) | ATTRIBUTE15 (VARCHAR) | WIP_ENTITY_ID (INTEGER) | ACCRUAL_ACCOUNT_ID (INTEGER) | VARIANCE_ACCOUNT_ID (INTEGER) | PREVENT_ENCUMBRANCE_FLAG (VARCHAR) | DESTINATION_CONTEXT (VARCHAR) | DISTRIBUTION_NUM (INTEGER) | REQUEST_ID (INTEGER) | PROGRAM_APPLICATION_ID (INTEGER) | PROGRAM_ID (INTEGER) | PROGRAM_UPDATE_DATE (VARCHAR) | ACCRUE_ON_RECEIPT_FLAG (VARCHAR) | ORG_ID (INTEGER) | DISTRIBUTION_TYPE (VARCHAR) | WF_ITEM_KEY (INTEGER) | INVOICED_VAL_IN_NTFN (INTEGER) | PARTIAL_FUNDED_FLAG (VARCHAR) | AMOUNT_CHANGED_FLAG (VARCHAR)\n",
            "*/\n",
            "\n",
            "Table name: AP_SUPPLIERS_processed \n",
            "/* \n",
            "col : VENDOR_ID (INTEGER) | LAST_UPDATE_DATE (VARCHAR) | LAST_UPDATED_BY (VARCHAR) | VENDOR_NAME (VARCHAR) | VENDOR_NAME_ALT (VARCHAR) | SEGMENT1 (VARCHAR) | SUMMARY_FLAG (VARCHAR) | ENABLED_FLAG (VARCHAR) | LAST_UPDATE_LOGIN (INTEGER) | CREATION_DATE (VARCHAR) | CREATED_BY (VARCHAR) | EMPLOYEE_ID (INTEGER) | VENDOR_TYPE_LOOKUP_CODE (VARCHAR) | ONE_TIME_FLAG (VARCHAR) | TERMS_ID (INTEGER) | ALWAYS_TAKE_DISC_FLAG (VARCHAR) | PAY_DATE_BASIS_LOOKUP_CODE (VARCHAR) | PAYMENT_PRIORITY (INTEGER) | INVOICE_CURRENCY_CODE (VARCHAR) | PAYMENT_CURRENCY_CODE (VARCHAR) | INVOICE_AMOUNT_LIMIT (INTEGER) | HOLD_ALL_PAYMENTS_FLAG (VARCHAR) | HOLD_FUTURE_PAYMENTS_FLAG (VARCHAR) | START_DATE_ACTIVE (VARCHAR) | END_DATE_ACTIVE (VARCHAR) | PAYMENT_METHOD_LOOKUP_CODE (VARCHAR) | BANK_ACCOUNT_NAME (VARCHAR) | BANK_ACCOUNT_NUM (INTEGER) | BANK_NUM (INTEGER) | BANK_ACCOUNT_TYPE (VARCHAR) | WOMEN_OWNED_FLAG (VARCHAR) | SMALL_BUSINESS_FLAG (VARCHAR) | HOLD_FLAG (VARCHAR) | TERMS_DATE_BASIS (VARCHAR) | HOLD_UNMATCHED_INVOICES_FLAG (VARCHAR) | AP_TAX_ROUNDING_RULE (VARCHAR) | AUTO_TAX_CALC_FLAG (VARCHAR) | AMOUNT_INCLUDES_TAX_FLAG (VARCHAR) | PROGRAM_UPDATE_DATE (VARCHAR) | VAT_REGISTRATION_NUM (INTEGER) | AUTO_CALCULATE_INTEREST_FLAG (VARCHAR) | EXCLUDE_FREIGHT_FROM_DISCOUNT (VARCHAR) | MATCH_OPTION (VARCHAR) | OFFSET_TAX_FLAG (VARCHAR) | PARTY_ID (INTEGER) | TCA_SYNC_VENDOR_NAME (VARCHAR) | TCA_SYNC_VAT_REG_NUM (INTEGER)\n",
            "*/\n",
            "\n",
            "\n",
            "Prediction(\n",
            "    rationale='produce the SQL. We need to find the invoice date for a specific invoice number. We can achieve this by joining the AP_INVOICES_ALL_processed table with the AP_INVOICE_PAYMENTS_ALL_processed table on the INVOICE_ID column.',\n",
            "    sql='```sql\\nSELECT DISTINCT AP_INVOICES_ALL_processed.INVOICE_DATE AS Invoice_Date\\nFROM AP_INVOICES_ALL_processed\\nJOIN AP_INVOICE_PAYMENTS_ALL_processed ON AP_INVOICES_ALL_processed.INVOICE_ID = AP_INVOICE_PAYMENTS_ALL_processed.INVOICE_ID\\nWHERE AP_INVOICES_ALL_processed.INVOICE_NUM = 9016618879;\\n```'\n",
            ")\n",
            "Extracted rows: \n",
            "| Invoice_Date |\n",
            "|--------------|\n",
            "| 2022-01-15   |\n",
            "\n",
            "Answer: The invoice date for invoice number 9016618879 is 2022-01-15.\n"
          ]
        }
      ],
      "source": [
        "sq = tsql_(question=\"What is the invoice date for invoice number 9016618879 ?\")\n",
        "print(sq.answer)"
      ]
    },
    {
      "cell_type": "code",
      "execution_count": 62,
      "metadata": {
        "id": "HAeQtLQibenr",
        "colab": {
          "base_uri": "https://localhost:8080/"
        },
        "outputId": "13f4723b-11c1-4063-e056-ebfccbccbaac"
      },
      "outputs": [
        {
          "output_type": "stream",
          "name": "stdout",
          "text": [
            "| Invoice_Date |\n",
            "|--------------|\n",
            "| 2022-01-15   |\n",
            "\n",
            "Answer: The invoice date for invoice number 9016618879 is 2022-01-15.\n"
          ]
        }
      ],
      "source": [
        "print(sq.answer)"
      ]
    },
    {
      "cell_type": "code",
      "source": [
        "sq = tsql_(question=\"Can you give the payment status for above too?\")\n",
        "print(sq.answer)"
      ],
      "metadata": {
        "colab": {
          "base_uri": "https://localhost:8080/"
        },
        "id": "6AvdGXJDQSUy",
        "outputId": "d70e6293-9946-43a3-d722-5d24478702ce"
      },
      "execution_count": 85,
      "outputs": [
        {
          "output_type": "stream",
          "name": "stdout",
          "text": [
            "Table name: AP_CHECKS_ALL_processed \n",
            "/* \n",
            "col : AMOUNT (INTEGER) | BANK_ACCOUNT_ID (INTEGER) | BANK_ACCOUNT_NAME (VARCHAR) | CHECK_DATE (VARCHAR) | CHECK_ID (INTEGER) | CHECK_NUMBER (INTEGER) | CURRENCY_CODE (VARCHAR) | LAST_UPDATED_BY (VARCHAR) | LAST_UPDATE_DATE (VARCHAR) | PAYMENT_METHOD_LOOKUP_CODE (VARCHAR) | PAYMENT_TYPE_FLAG (VARCHAR) | ADDRESS_LINE1 (VARCHAR) | CHECKRUN_NAME (VARCHAR) | CITY (VARCHAR) | COUNTRY (VARCHAR) | CREATED_BY (VARCHAR) | CREATION_DATE (VARCHAR) | STATUS_LOOKUP_CODE (VARCHAR) | VENDOR_NAME (VARCHAR) | ZIP (INTEGER) | BANK_ACCOUNT_NUM (INTEGER) | BANK_ACCOUNT_TYPE (VARCHAR) | BANK_NUM (INTEGER) | CHECK_VOUCHER_NUM (INTEGER) | CLEARED_AMOUNT (INTEGER) | CLEARED_DATE (VARCHAR) | ORG_ID (INTEGER) | VENDOR_ID (INTEGER) | VENDOR_SITE_ID (INTEGER) | EXCHANGE_DATE (VARCHAR) | CHECKRUN_ID (INTEGER) | REQUEST_ID (INTEGER) | POSITIVE_PAY_STATUS_CODE (VARCHAR) | ANTICIPATED_VALUE_DATE (VARCHAR) | CE_BANK_ACCT_USE_ID (INTEGER) | PAYMENT_METHOD_CODE (VARCHAR) | PARTY_ID (INTEGER) | PARTY_SITE_ID (INTEGER) | PAYMENT_PROFILE_ID (INTEGER) | LEGAL_ENTITY_ID (INTEGER) | PAYMENT_DOCUMENT_ID (INTEGER) | COMPLETED_PMTS_GROUP_ID (INTEGER) | PAYMENT_ID (INTEGER) | PAYMENT_INSTRUCTION_ID (INTEGER) | REMIT_TO_SUPPLIER_NAME (VARCHAR) | REMIT_TO_SUPPLIER_ID (INTEGER) | REMIT_TO_SUPPLIER_SITE (VARCHAR) | REMIT_TO_SUPPLIER_SITE_ID (INTEGER) | RELATIONSHIP_ID (INTEGER)\n",
            "*/\n",
            "\n",
            "Table name: AP_INVOICES_ALL_processed \n",
            "/* \n",
            "col : INVOICE_ID (INTEGER) | INVOICE_NUM (INTEGER) | VENDOR_ID (INTEGER) | VENDOR_NAME (VARCHAR) | PO_HEADER_ID (INTEGER) | INVOICE_AMOUNT (INTEGER) | INVOICE_DATE (VARCHAR) | LAST_UPDATE_DATE (VARCHAR) | LAST_UPDATED_BY (VARCHAR) | SET_OF_BOOKS_ID (INTEGER) | INVOICE_CURRENCY_CODE (VARCHAR) | PAYMENT_CURRENCY_CODE (VARCHAR) | PAYMENT_CROSS_RATE (INTEGER) | VENDOR_SITE_ID (INTEGER) | AMOUNT_PAID (INTEGER) | DISCOUNT_AMOUNT_TAKEN (INTEGER) | SOURCE (VARCHAR) | INVOICE_TYPE_LOOKUP_CODE (VARCHAR) | DESCRIPTION (VARCHAR) | BATCH_ID (INTEGER) | AMOUNT_APPLICABLE_TO_DISCOUNT (INTEGER) | TAX_AMOUNT (INTEGER) | TERMS_ID (INTEGER) | TERMS_DATE (VARCHAR) | PAYMENT_METHOD_CODE (VARCHAR) | PAY_GROUP_LOOKUP_CODE (VARCHAR) | ACCTS_PAY_CODE_COMBINATION_ID (INTEGER) | PAYMENT_STATUS_FLAG (VARCHAR) | CREATION_DATE (VARCHAR) | LAST_UPDATE_LOGIN (INTEGER) | EXCLUSIVE_PAYMENT_FLAG (VARCHAR) | FREIGHT_AMOUNT (INTEGER) | DOC_CATEGORY_CODE (VARCHAR) | APPROVAL_STATUS (VARCHAR) | APPROVAL_DESCRIPTION (VARCHAR) | INVOICE_DISTRIBUTION_TOTAL (INTEGER) | POSTING_STATUS (VARCHAR) | PREPAY_FLAG (VARCHAR) | VENDOR_PREPAY_AMOUNT (INTEGER) | PAYMENT_AMOUNT_TOTAL (INTEGER) | ORG_ID (INTEGER) | PAYMENT_CROSS_RATE_DATE (VARCHAR) | PAY_CURR_INVOICE_AMOUNT (INTEGER) | APPROVAL_READY_FLAG (VARCHAR) | APPROVAL_ITERATION (INTEGER) | WFAPPROVAL_STATUS (VARCHAR) | VALIDATION_REQUEST_ID (INTEGER) | VALIDATED_TAX_AMOUNT (INTEGER) | REQUESTER_ID (INTEGER) | TOTAL_TAX_AMOUNT (INTEGER) | TAXATION_COUNTRY (VARCHAR) | LEGAL_ENTITY_ID (INTEGER) | HISTORICAL_FLAG (VARCHAR) | FORCE_REVALIDATION_FLAG (VARCHAR) | URI_CHECK_DIGIT (INTEGER) | SETTLEMENT_PRIORITY (INTEGER) | PAYMENT_REASON_CODE (VARCHAR) | PAYMENT_REASON_COMMENTS (VARCHAR) | PARTY_ID (INTEGER) | PARTY_SITE_ID (INTEGER) | PAY_PROC_TRXN_TYPE_CODE (VARCHAR) | PAYMENT_FUNCTION (VARCHAR) | EXTERNAL_BANK_ACCOUNT_ID (INTEGER) | DISC_IS_INV_LESS_TAX_FLAG (VARCHAR) | EXCLUDE_FREIGHT_FROM_DISCOUNT (VARCHAR) | RELATIONSHIP_ID (INTEGER) | PO_MATCHED_FLAG (VARCHAR) | VALIDATION_WORKER_ID (INTEGER) | PAYMENT_METHOD_LOOKUP_CODE (VARCHAR)\n",
            "*/\n",
            "\n",
            "Table name: AP_INVOICE_PAYMENTS_ALL_processed \n",
            "/* \n",
            "col : ACCOUNTING_EVENT_ID (INTEGER) | ACCOUNTING_DATE (VARCHAR) | ACCRUAL_POSTED_FLAG (VARCHAR) | AMOUNT (INTEGER) | CASH_POSTED_FLAG (VARCHAR) | CHECK_ID (INTEGER) | INVOICE_ID (INTEGER) | INVOICE_PAYMENT_ID (INTEGER) | LAST_UPDATED_BY (VARCHAR) | LAST_UPDATE_DATE (VARCHAR) | PAYMENT_NUM (INTEGER) | PERIOD_NAME (VARCHAR) | POSTED_FLAG (VARCHAR) | SET_OF_BOOKS_ID (INTEGER) | ASSET_CODE_COMBINATION_ID (INTEGER) | CREATED_BY (VARCHAR) | CREATION_DATE (VARCHAR) | LAST_UPDATE_LOGIN (INTEGER) | BANK_ACCOUNT_NUM (INTEGER) | BANK_ACCOUNT_TYPE (VARCHAR) | BANK_NUM (INTEGER) | DISCOUNT_LOST (INTEGER) | EXCHANGE_DATE (VARCHAR) | FUTURE_PAY_POSTED_FLAG (VARCHAR) | ASSETS_ADDITION_FLAG (VARCHAR) | INVOICE_PAYMENT_TYPE (VARCHAR) | ORG_ID (INTEGER) | EXTERNAL_BANK_ACCOUNT_ID (INTEGER) | INVOICING_PARTY_ID (INTEGER) | INVOICING_PARTY_SITE_ID (INTEGER) | INVOICING_VENDOR_SITE_ID (INTEGER) | REMIT_TO_SUPPLIER_NAME (VARCHAR) | REMIT_TO_SUPPLIER_ID (INTEGER) | REMIT_TO_SUPPLIER_SITE (VARCHAR) | REMIT_TO_SUPPLIER_SITE_ID (INTEGER)\n",
            "*/\n",
            "\n",
            "Table name: AP_SUPPLIERS_processed \n",
            "/* \n",
            "col : VENDOR_ID (INTEGER) | LAST_UPDATE_DATE (VARCHAR) | LAST_UPDATED_BY (VARCHAR) | VENDOR_NAME (VARCHAR) | VENDOR_NAME_ALT (VARCHAR) | SEGMENT1 (VARCHAR) | SUMMARY_FLAG (VARCHAR) | ENABLED_FLAG (VARCHAR) | LAST_UPDATE_LOGIN (INTEGER) | CREATION_DATE (VARCHAR) | CREATED_BY (VARCHAR) | EMPLOYEE_ID (INTEGER) | VENDOR_TYPE_LOOKUP_CODE (VARCHAR) | ONE_TIME_FLAG (VARCHAR) | TERMS_ID (INTEGER) | ALWAYS_TAKE_DISC_FLAG (VARCHAR) | PAY_DATE_BASIS_LOOKUP_CODE (VARCHAR) | PAYMENT_PRIORITY (INTEGER) | INVOICE_CURRENCY_CODE (VARCHAR) | PAYMENT_CURRENCY_CODE (VARCHAR) | INVOICE_AMOUNT_LIMIT (INTEGER) | HOLD_ALL_PAYMENTS_FLAG (VARCHAR) | HOLD_FUTURE_PAYMENTS_FLAG (VARCHAR) | START_DATE_ACTIVE (VARCHAR) | END_DATE_ACTIVE (VARCHAR) | PAYMENT_METHOD_LOOKUP_CODE (VARCHAR) | BANK_ACCOUNT_NAME (VARCHAR) | BANK_ACCOUNT_NUM (INTEGER) | BANK_NUM (INTEGER) | BANK_ACCOUNT_TYPE (VARCHAR) | WOMEN_OWNED_FLAG (VARCHAR) | SMALL_BUSINESS_FLAG (VARCHAR) | HOLD_FLAG (VARCHAR) | TERMS_DATE_BASIS (VARCHAR) | HOLD_UNMATCHED_INVOICES_FLAG (VARCHAR) | AP_TAX_ROUNDING_RULE (VARCHAR) | AUTO_TAX_CALC_FLAG (VARCHAR) | AMOUNT_INCLUDES_TAX_FLAG (VARCHAR) | PROGRAM_UPDATE_DATE (VARCHAR) | VAT_REGISTRATION_NUM (INTEGER) | AUTO_CALCULATE_INTEREST_FLAG (VARCHAR) | EXCLUDE_FREIGHT_FROM_DISCOUNT (VARCHAR) | MATCH_OPTION (VARCHAR) | OFFSET_TAX_FLAG (VARCHAR) | PARTY_ID (INTEGER) | TCA_SYNC_VENDOR_NAME (VARCHAR) | TCA_SYNC_VAT_REG_NUM (INTEGER)\n",
            "*/\n",
            "\n",
            "Table name: PO_HEADERS_ALL_processed \n",
            "/* \n",
            "col : PO_HEADER_ID (INTEGER) | AGENT_ID (INTEGER) | TYPE_LOOKUP_CODE (VARCHAR) | LAST_UPDATE_DATE (VARCHAR) | LAST_UPDATED_BY (VARCHAR) | SUMMARY_FLAG (VARCHAR) | ENABLED_FLAG (VARCHAR) | LAST_UPDATE_LOGIN (INTEGER) | CREATION_DATE (VARCHAR) | CREATED_BY (VARCHAR) | VENDOR_ID (INTEGER) | VENDOR_SITE_ID (INTEGER) | VENDOR_CONTACT_ID (INTEGER) | SHIP_TO_LOCATION_ID (INTEGER) | BILL_TO_LOCATION_ID (INTEGER) | TERMS_ID (INTEGER) | SHIP_VIA_LOOKUP_CODE (VARCHAR) | FOB_LOOKUP_CODE (VARCHAR) | FREIGHT_TERMS_LOOKUP_CODE (VARCHAR) | STATUS_LOOKUP_CODE (VARCHAR) | CURRENCY_CODE (VARCHAR) | RATE_TYPE (VARCHAR) | RATE_DATE (VARCHAR) | RATE (INTEGER) | END_DATE (VARCHAR) | AUTHORIZATION_STATUS (VARCHAR) | REVISION_NUM (INTEGER) | REVISED_DATE (VARCHAR) | APPROVED_FLAG (VARCHAR) | APPROVED_DATE (VARCHAR) | PRINT_COUNT (INTEGER) | PRINTED_DATE (VARCHAR) | CONFIRMING_ORDER_FLAG (VARCHAR) | CLOSED_DATE (VARCHAR) | CANCEL_FLAG (VARCHAR) | FROZEN_FLAG (VARCHAR) | ATTRIBUTE15 (VARCHAR) | CLOSED_CODE (VARCHAR) | REQUEST_ID (INTEGER) | PROGRAM_APPLICATION_ID (INTEGER) | PROGRAM_ID (INTEGER) | PROGRAM_UPDATE_DATE (VARCHAR) | ORG_ID (INTEGER) | WF_ITEM_TYPE (VARCHAR) | WF_ITEM_KEY (INTEGER) | GLOBAL_AGREEMENT_FLAG (VARCHAR) | PENDING_SIGNATURE_FLAG (VARCHAR) | DOCUMENT_CREATION_METHOD (VARCHAR) | CREATED_LANGUAGE (VARCHAR) | STYLE_ID (INTEGER) | CLM_DOCUMENT_NUMBER (INTEGER) | CLM_EFFECTIVE_DATE (VARCHAR)\n",
            "*/\n",
            "\n",
            "\n",
            "Prediction(\n",
            "    rationale='produce the sql. We need to find the payment status for the invoices. We can do this by joining the AP_INVOICES_ALL_processed table with the AP_INVOICE_PAYMENTS_ALL_processed table on the INVOICE_ID column.',\n",
            "    sql='```sql\\nSELECT DISTINCT\\n    AP_INVOICES_ALL_processed.INVOICE_NUM AS Invoice_Number,\\n    AP_INVOICES_ALL_processed.PAYMENT_STATUS_FLAG AS Payment_Status\\nFROM\\n    AP_INVOICES_ALL_processed\\nJOIN\\n    AP_INVOICE_PAYMENTS_ALL_processed ON AP_INVOICES_ALL_processed.INVOICE_ID = AP_INVOICE_PAYMENTS_ALL_processed.INVOICE_ID;\\n```'\n",
            ")\n",
            "Extracted rows:  Invoice_Number = 62889162, Payment_Status = PAID\n",
            " Invoice_Number = 72099384, Payment_Status = PAID\n",
            " Invoice_Number = 56502398, Payment_Status = UNPAID\n",
            " Invoice_Number = 60031884, Payment_Status = PAID\n",
            " Invoice_Number = 16721258, Payment_Status = PARTIAL_PAID\n",
            " Invoice_Number = 6874377, Payment_Status = PARTIAL_PAID\n",
            " Invoice_Number = 79815369, Payment_Status = UNPAID\n",
            " Invoice_Number = 2135236, Payment_Status = PAID\n",
            " Invoice_Number = 92203686, Payment_Status = UNPAID\n",
            " Invoice_Number = 74115266, Payment_Status = UNPAID\n",
            " Invoice_Number = 95290119, Payment_Status = PAID\n",
            " Invoice_Number = 27889633, Payment_Status = UNPAID\n",
            " Invoice_Number = 21283451, Payment_Status = UNPAID\n",
            " Invoice_Number = 12628988, Payment_Status = PAID\n",
            " Invoice_Number = 23164574, Payment_Status = PARTIAL_PAID\n",
            " Invoice_Number = 96486306, Payment_Status = UNPAID\n",
            " Invoice_Number = 98824823, Payment_Status = UNPAID\n",
            " Invoice_Number = 64223087, Payment_Status = PARTIAL_PAID\n",
            " Invoice_Number = 25828962, Payment_Status = PARTIAL_PAID\n",
            " Invoice_Number = 51347956, Payment_Status = PAID\n",
            " Invoice_Number = 84383938, Payment_Status = UNPAID\n",
            " Invoice_Number = 91476746, Payment_Status = PARTIAL_PAID\n",
            " Invoice_Number = 17909143, Payment_Status = PAID\n",
            " Invoice_Number = 77565600, Payment_Status = PAID\n",
            " Invoice_Number = 15249616, Payment_Status = PARTIAL_PAID\n",
            " Invoice_Number = 56020779, Payment_Status = PAID\n",
            " Invoice_Number = 1831214, Payment_Status = PAID\n",
            " Invoice_Number = 66759607, Payment_Status = PARTIAL_PAID\n",
            " Invoice_Number = 66982753, Payment_Status = UNPAID\n",
            " Invoice_Number = 47915206, Payment_Status = UNPAID\n",
            " Invoice_Number = 57098937, Payment_Status = PARTIAL_PAID\n",
            " Invoice_Number = 33556864, Payment_Status = UNPAID\n",
            " Invoice_Number = 54497221, Payment_Status = PAID\n",
            " Invoice_Number = 52164897, Payment_Status = UNPAID\n",
            " Invoice_Number = 40655413, Payment_Status = PAID\n",
            " Invoice_Number = 38848919, Payment_Status = PARTIAL_PAID\n",
            " Invoice_Number = 34293799, Payment_Status = UNPAID\n",
            " Invoice_Number = 19957753, Payment_Status = UNPAID\n",
            " Invoice_Number = 94457889, Payment_Status = UNPAID\n",
            " Invoice_Number = 54603172, Payment_Status = PAID\n",
            " Invoice_Number = 68996895, Payment_Status = UNPAID\n",
            " Invoice_Number = 2397825, Payment_Status = PARTIAL_PAID\n",
            " Invoice_Number = 39728142, Payment_Status = PARTIAL_PAID\n",
            " Invoice_Number = 22393500, Payment_Status = PAID\n",
            " Invoice_Number = 81992829, Payment_Status = UNPAID\n",
            " Invoice_Number = 39308061, Payment_Status = PAID\n",
            " Invoice_Number = 76552113, Payment_Status = UNPAID\n",
            " Invoice_Number = 14730979, Payment_Status = PARTIAL_PAID\n",
            " Invoice_Number = 84975188, Payment_Status = UNPAID\n",
            " Invoice_Number = 84858238, Payment_Status = PARTIAL_PAID\n",
            " Invoice_Number = 68003807, Payment_Status = PAID\n",
            " Invoice_Number = 88435763, Payment_Status = PARTIAL_PAID\n",
            " Invoice_Number = 77922861, Payment_Status = PARTIAL_PAID\n",
            " Invoice_Number = 67062560, Payment_Status = PARTIAL_PAID\n",
            " Invoice_Number = 42713586, Payment_Status = UNPAID\n",
            " Invoice_Number = 81037858, Payment_Status = PARTIAL_PAID\n",
            " Invoice_Number = 53836106, Payment_Status = PAID\n",
            " Invoice_Number = 29449880, Payment_Status = UNPAID\n",
            " Invoice_Number = 33031262, Payment_Status = PAID\n",
            " Invoice_Number = 51884765, Payment_Status = UNPAID\n",
            " Invoice_Number = 48085021, Payment_Status = PAID\n",
            " Invoice_Number = 92720701, Payment_Status = PAID\n",
            " Invoice_Number = 77385857, Payment_Status = PAID\n",
            " Invoice_Number = 44147099, Payment_Status = PAID\n",
            " Invoice_Number = 57887005, Payment_Status = UNPAID\n",
            " Invoice_Number = 60124944, Payment_Status = PARTIAL_PAID\n",
            " Invoice_Number = 41243107, Payment_Status = PARTIAL_PAID\n",
            " Invoice_Number = 75588496, Payment_Status = PARTIAL_PAID\n",
            " Invoice_Number = 86872638, Payment_Status = PAID\n",
            " Invoice_Number = 7325281, Payment_Status = UNPAID\n",
            " Invoice_Number = 60811004, Payment_Status = PAID\n",
            " Invoice_Number = 60010896, Payment_Status = UNPAID\n",
            " Invoice_Number = 24336963, Payment_Status = PAID\n",
            " Invoice_Number = 519977, Payment_Status = PARTIAL_PAID\n",
            " Invoice_Number = 33340586, Payment_Status = PAID\n",
            " Invoice_Number = 8843999, Payment_Status = UNPAID\n",
            " Invoice_Number = 65245200, Payment_Status = PAID\n",
            " Invoice_Number = 28610595, Payment_Status = PARTIAL_PAID\n",
            " Invoice_Number = 91967084, Payment_Status = UNPAID\n",
            " Invoice_Number = 55760072, Payment_Status = PAID\n",
            " Invoice_Number = 21093135, Payment_Status = PARTIAL_PAID\n",
            " Invoice_Number = 67564224, Payment_Status = PARTIAL_PAID\n",
            " Invoice_Number = 71070230, Payment_Status = PAID\n",
            " Invoice_Number = 86471978, Payment_Status = PAID\n",
            " Invoice_Number = 81292417, Payment_Status = UNPAID\n",
            " Invoice_Number = 55469227, Payment_Status = PAID\n",
            " Invoice_Number = 25483024, Payment_Status = UNPAID\n",
            " Invoice_Number = 44480554, Payment_Status = PARTIAL_PAID\n",
            " Invoice_Number = 50351145, Payment_Status = PARTIAL_PAID\n",
            " Invoice_Number = 46001382, Payment_Status = PAID\n",
            " Invoice_Number = 25823646, Payment_Status = PARTIAL_PAID\n",
            " Invoice_Number = 37884659, Payment_Status = UNPAID\n",
            " Invoice_Number = 92780286, Payment_Status = UNPAID\n",
            " Invoice_Number = 15482563, Payment_Status = UNPAID\n",
            " Invoice_Number = 92178717, Payment_Status = PAID\n",
            " Invoice_Number = 81042098, Payment_Status = UNPAID\n",
            " Invoice_Number = 88592671, Payment_Status = PAID\n",
            " Invoice_Number = 76600548, Payment_Status = UNPAID\n",
            " Invoice_Number = 13950200, Payment_Status = UNPAID\n",
            " Invoice_Number = 53140951, Payment_Status = UNPAID\n",
            " Invoice_Number = 53559609, Payment_Status = PAID\n",
            " Invoice_Number = 73194699, Payment_Status = UNPAID\n",
            " Invoice_Number = 67333226, Payment_Status = UNPAID\n",
            " Invoice_Number = 63530667, Payment_Status = PAID\n",
            " Invoice_Number = 21349638, Payment_Status = UNPAID\n",
            " Invoice_Number = 45173424, Payment_Status = PARTIAL_PAID\n",
            " Invoice_Number = 42438649, Payment_Status = PARTIAL_PAID\n",
            " Invoice_Number = 21590436, Payment_Status = PAID\n",
            " Invoice_Number = 17688826, Payment_Status = UNPAID\n",
            " Invoice_Number = 83141225, Payment_Status = UNPAID\n",
            " Invoice_Number = 90658235, Payment_Status = PARTIAL_PAID\n",
            " Invoice_Number = 95210742, Payment_Status = UNPAID\n",
            " Invoice_Number = 41442043, Payment_Status = PAID\n",
            " Invoice_Number = 96849309, Payment_Status = UNPAID\n",
            " Invoice_Number = 54689732, Payment_Status = PAID\n",
            " Invoice_Number = 54292468, Payment_Status = PAID\n",
            " Invoice_Number = 68312596, Payment_Status = PAID\n",
            " Invoice_Number = 84968937, Payment_Status = UNPAID\n",
            " Invoice_Number = 35752806, Payment_Status = PAID\n",
            " Invoice_Number = 25103809, Payment_Status = PAID\n",
            " Invoice_Number = 22414823, Payment_Status = PARTIAL_PAID\n",
            " Invoice_Number = 49896879, Payment_Status = UNPAID\n",
            " Invoice_Number = 7259586, Payment_Status = PARTIAL_PAID\n",
            " Invoice_Number = 97730248, Payment_Status = UNPAID\n",
            " Invoice_Number = 32817751, Payment_Status = UNPAID\n",
            " Invoice_Number = 39239495, Payment_Status = PARTIAL_PAID\n",
            " Invoice_Number = 9110397, Payment_Status = PAID\n",
            " Invoice_Number = 96030943, Payment_Status = PARTIAL_PAID\n",
            " Invoice_Number = 98762057, Payment_Status = PARTIAL_PAID\n",
            " Invoice_Number = 47024076, Payment_Status = UNPAID\n",
            " Invoice_Number = 31356688, Payment_Status = PARTIAL_PAID\n",
            " Invoice_Number = 55387552, Payment_Status = PAID\n",
            " Invoice_Number = 64572949, Payment_Status = PARTIAL_PAID\n",
            " Invoice_Number = 49734966, Payment_Status = PAID\n",
            " Invoice_Number = 37574703, Payment_Status = PARTIAL_PAID\n",
            " Invoice_Number = 91535641, Payment_Status = PAID\n",
            " Invoice_Number = 10169780, Payment_Status = UNPAID\n",
            " Invoice_Number = 47383258, Payment_Status = PARTIAL_PAID\n",
            " Invoice_Number = 62943925, Payment_Status = PAID\n",
            " Invoice_Number = 62921534, Payment_Status = UNPAID\n",
            " Invoice_Number = 24148153, Payment_Status = UNPAID\n",
            " Invoice_Number = 97500063, Payment_Status = PAID\n",
            " Invoice_Number = 30922723, Payment_Status = PAID\n",
            " Invoice_Number = 95514888, Payment_Status = PARTIAL_PAID\n",
            " Invoice_Number = 89866832, Payment_Status = UNPAID\n",
            " Invoice_Number = 94927863, Payment_Status = PARTIAL_PAID\n",
            " Invoice_Number = 94680270, Payment_Status = PARTIAL_PAID\n",
            " Invoice_Number = 47996557, Payment_Status = PAID\n",
            " Invoice_Number = 2223483, Payment_Status = UNPAID\n",
            " Invoice_Number = 86861571, Payment_Status = UNPAID\n",
            " Invoice_Number = 91747679, Payment_Status = PARTIAL_PAID\n",
            " Invoice_Number = 25845440, Payment_Status = PARTIAL_PAID\n",
            " Invoice_Number = 57672236, Payment_Status = UNPAID\n",
            " Invoice_Number = 28863946, Payment_Status = UNPAID\n",
            " Invoice_Number = 79369350, Payment_Status = PARTIAL_PAID\n",
            " Invoice_Number = 667722, Payment_Status = PARTIAL_PAID\n",
            " Invoice_Number = 87204018, Payment_Status = PARTIAL_PAID\n",
            " Invoice_Number = 25169942, Payment_Status = PARTIAL_PAID\n",
            " Invoice_Number = 9103160, Payment_Status = PARTIAL_PAID\n",
            " Invoice_Number = 34202265, Payment_Status = PAID\n",
            " Invoice_Number = 21949524, Payment_Status = PAID\n",
            " Invoice_Number = 29489640, Payment_Status = PAID\n",
            " Invoice_Number = 70844764, Payment_Status = UNPAID\n",
            " Invoice_Number = 98472246, Payment_Status = PARTIAL_PAID\n",
            " Invoice_Number = 57259871, Payment_Status = PARTIAL_PAID\n",
            " Invoice_Number = 56157284, Payment_Status = PARTIAL_PAID\n",
            " Invoice_Number = 17050821, Payment_Status = UNPAID\n",
            " Invoice_Number = 2176864, Payment_Status = PARTIAL_PAID\n",
            " Invoice_Number = 75480943, Payment_Status = PAID\n",
            " Invoice_Number = 32130904, Payment_Status = PAID\n",
            " Invoice_Number = 44577599, Payment_Status = UNPAID\n",
            " Invoice_Number = 73733942, Payment_Status = PARTIAL_PAID\n",
            " Invoice_Number = 98336685, Payment_Status = UNPAID\n",
            " Invoice_Number = 91283191, Payment_Status = UNPAID\n",
            " Invoice_Number = 95734149, Payment_Status = PARTIAL_PAID\n",
            " Invoice_Number = 57893358, Payment_Status = UNPAID\n",
            " Invoice_Number = 10446614, Payment_Status = UNPAID\n",
            " Invoice_Number = 25882858, Payment_Status = PARTIAL_PAID\n",
            " Invoice_Number = 66315384, Payment_Status = PARTIAL_PAID\n",
            " Invoice_Number = 22205681, Payment_Status = PARTIAL_PAID\n",
            " Invoice_Number = 83210464, Payment_Status = PAID\n",
            " Invoice_Number = 31159111, Payment_Status = UNPAID\n",
            " Invoice_Number = 98138777, Payment_Status = PAID\n",
            " Invoice_Number = 369800, Payment_Status = PAID\n",
            " Invoice_Number = 90620409, Payment_Status = PAID\n",
            " Invoice_Number = 48345095, Payment_Status = PARTIAL_PAID\n",
            " Invoice_Number = 66919933, Payment_Status = PAID\n",
            " Invoice_Number = 40800622, Payment_Status = PAID\n",
            " Invoice_Number = 74966707, Payment_Status = PAID\n",
            " Invoice_Number = 90064944, Payment_Status = PAID\n",
            " Invoice_Number = 67780679, Payment_Status = PARTIAL_PAID\n",
            " Invoice_Number = 39370648, Payment_Status = PAID\n",
            " Invoice_Number = 17564052, Payment_Status = PAID\n",
            " Invoice_Number = 12716142, Payment_Status = UNPAID\n",
            " Invoice_Number = 97323303, Payment_Status = PARTIAL_PAID\n",
            " Invoice_Number = 82497330, Payment_Status = PARTIAL_PAID\n",
            " Invoice_Number = 47253445, Payment_Status = UNPAID\n",
            " Invoice_Number = 20770747, Payment_Status = PAID\n",
            " Invoice_Number = 24811743, Payment_Status = PARTIAL_PAID\n",
            " Invoice_Number = 81194148, Payment_Status = UNPAID\n",
            " Invoice_Number = 52957727, Payment_Status = PAID\n",
            " Invoice_Number = 1534719, Payment_Status = PARTIAL_PAID\n",
            " Invoice_Number = 59196051, Payment_Status = PARTIAL_PAID\n",
            " Invoice_Number = 94764468, Payment_Status = PARTIAL_PAID\n",
            " Invoice_Number = 17119924, Payment_Status = PARTIAL_PAID\n",
            " Invoice_Number = 16068070, Payment_Status = UNPAID\n",
            " Invoice_Number = 74388301, Payment_Status = PARTIAL_PAID\n",
            " Invoice_Number = 12259489, Payment_Status = UNPAID\n",
            " Invoice_Number = 24765329, Payment_Status = UNPAID\n",
            " Invoice_Number = 56799262, Payment_Status = PAID\n",
            " Invoice_Number = 37280819, Payment_Status = PARTIAL_PAID\n",
            " Invoice_Number = 22250070, Payment_Status = UNPAID\n",
            " Invoice_Number = 16976450, Payment_Status = PAID\n",
            " Invoice_Number = 68995171, Payment_Status = PAID\n",
            " Invoice_Number = 24230940, Payment_Status = UNPAID\n",
            " Invoice_Number = 40037561, Payment_Status = UNPAID\n",
            " Invoice_Number = 17784658, Payment_Status = UNPAID\n",
            " Invoice_Number = 17211857, Payment_Status = UNPAID\n",
            " Invoice_Number = 3237090, Payment_Status = PARTIAL_PAID\n",
            " Invoice_Number = 69072680, Payment_Status = PAID\n",
            " Invoice_Number = 29271788, Payment_Status = PARTIAL_PAID\n",
            " Invoice_Number = 47724167, Payment_Status = PARTIAL_PAID\n",
            " Invoice_Number = 84773005, Payment_Status = PAID\n",
            " Invoice_Number = 55780926, Payment_Status = UNPAID\n",
            " Invoice_Number = 78165595, Payment_Status = UNPAID\n",
            " Invoice_Number = 41873311, Payment_Status = PAID\n",
            " Invoice_Number = 50932801, Payment_Status = PARTIAL_PAID\n",
            " Invoice_Number = 63419177, Payment_Status = PAID\n",
            " Invoice_Number = 32016260, Payment_Status = PARTIAL_PAID\n",
            " Invoice_Number = 89552131, Payment_Status = UNPAID\n",
            " Invoice_Number = 46143976, Payment_Status = PARTIAL_PAID\n",
            " Invoice_Number = 49053401, Payment_Status = PARTIAL_PAID\n",
            " Invoice_Number = 60167620, Payment_Status = PAID\n",
            " Invoice_Number = 2066264, Payment_Status = PAID\n",
            " Invoice_Number = 58869666, Payment_Status = PARTIAL_PAID\n",
            " Invoice_Number = 81601110, Payment_Status = PAID\n",
            " Invoice_Number = 80897880, Payment_Status = UNPAID\n",
            " Invoice_Number = 72746493, Payment_Status = UNPAID\n",
            " Invoice_Number = 66895022, Payment_Status = PARTIAL_PAID\n",
            " Invoice_Number = 98807857, Payment_Status = PARTIAL_PAID\n",
            " Invoice_Number = 90551147, Payment_Status = UNPAID\n",
            " Invoice_Number = 64750255, Payment_Status = PARTIAL_PAID\n",
            " Invoice_Number = 7501005, Payment_Status = UNPAID\n",
            " Invoice_Number = 50906376, Payment_Status = UNPAID\n",
            " Invoice_Number = 25436082, Payment_Status = PARTIAL_PAID\n",
            " Invoice_Number = 17014045, Payment_Status = PAID\n",
            " Invoice_Number = 48601030, Payment_Status = UNPAID\n",
            " Invoice_Number = 83004513, Payment_Status = UNPAID\n",
            " Invoice_Number = 58483824, Payment_Status = UNPAID\n",
            " Invoice_Number = 52715617, Payment_Status = PAID\n",
            " Invoice_Number = 34423844, Payment_Status = UNPAID\n",
            " Invoice_Number = 58560136, Payment_Status = PARTIAL_PAID\n",
            " Invoice_Number = 29185535, Payment_Status = UNPAID\n",
            " Invoice_Number = 29137831, Payment_Status = PARTIAL_PAID\n",
            " Invoice_Number = 45775710, Payment_Status = UNPAID\n",
            " Invoice_Number = 55985277, Payment_Status = UNPAID\n",
            " Invoice_Number = 85790506, Payment_Status = UNPAID\n",
            " Invoice_Number = 90400889, Payment_Status = PARTIAL_PAID\n",
            " Invoice_Number = 5741700, Payment_Status = PARTIAL_PAID\n",
            " Invoice_Number = 63991680, Payment_Status = PAID\n",
            " Invoice_Number = 7024825, Payment_Status = PARTIAL_PAID\n",
            " Invoice_Number = 77248602, Payment_Status = UNPAID\n",
            " Invoice_Number = 93409001, Payment_Status = PARTIAL_PAID\n",
            " Invoice_Number = 34412886, Payment_Status = UNPAID\n",
            " Invoice_Number = 98850853, Payment_Status = PARTIAL_PAID\n",
            " Invoice_Number = 25959383, Payment_Status = UNPAID\n",
            " Invoice_Number = 70117356, Payment_Status = UNPAID\n",
            " Invoice_Number = 94605969, Payment_Status = PAID\n",
            " Invoice_Number = 15341068, Payment_Status = PARTIAL_PAID\n",
            " Invoice_Number = 32518436, Payment_Status = UNPAID\n",
            " Invoice_Number = 22920928, Payment_Status = PARTIAL_PAID\n",
            " Invoice_Number = 51527242, Payment_Status = UNPAID\n",
            " Invoice_Number = 43339174, Payment_Status = PARTIAL_PAID\n",
            " Invoice_Number = 88316116, Payment_Status = PAID\n",
            " Invoice_Number = 75485238, Payment_Status = UNPAID\n",
            " Invoice_Number = 57209937, Payment_Status = PARTIAL_PAID\n",
            " Invoice_Number = 54270855, Payment_Status = UNPAID\n",
            " Invoice_Number = 56499735, Payment_Status = PARTIAL_PAID\n",
            " Invoice_Number = 12520466, Payment_Status = PAID\n",
            " Invoice_Number = 22504159, Payment_Status = PAID\n",
            " Invoice_Number = 26942551, Payment_Status = UNPAID\n",
            " Invoice_Number = 60769534, Payment_Status = PARTIAL_PAID\n",
            " Invoice_Number = 50711642, Payment_Status = UNPAID\n",
            " Invoice_Number = 20465551, Payment_Status = PARTIAL_PAID\n",
            " Invoice_Number = 9876279, Payment_Status = PARTIAL_PAID\n",
            " Invoice_Number = 31015363, Payment_Status = UNPAID\n",
            " Invoice_Number = 68500313, Payment_Status = PARTIAL_PAID\n",
            " Invoice_Number = 60343789, Payment_Status = PAID\n",
            " Invoice_Number = 43130122, Payment_Status = UNPAID\n",
            " Invoice_Number = 36180417, Payment_Status = PARTIAL_PAID\n",
            " Invoice_Number = 12938742, Payment_Status = PARTIAL_PAID\n",
            " Invoice_Number = 83129971, Payment_Status = UNPAID\n",
            " Invoice_Number = 27662359, Payment_Status = PARTIAL_PAID\n",
            " Invoice_Number = 44798277, Payment_Status = PARTIAL_PAID\n",
            " Invoice_Number = 99766993, Payment_Status = PAID\n",
            " Invoice_Number = 58392980, Payment_Status = PARTIAL_PAID\n",
            " Invoice_Number = 46092939, Payment_Status = UNPAID\n",
            " Invoice_Number = 31823111, Payment_Status = PARTIAL_PAID\n",
            " Invoice_Number = 64452432, Payment_Status = PARTIAL_PAID\n",
            " Invoice_Number = 19105734, Payment_Status = UNPAID\n",
            " Invoice_Number = 41102190, Payment_Status = PAID\n",
            " Invoice_Number = 38823190, Payment_Status = PAID\n",
            " Invoice_Number = 87374711, Payment_Status = UNPAID\n",
            " Invoice_Number = 64713137, Payment_Status = PARTIAL_PAID\n",
            " Invoice_Number = 67971428, Payment_Status = PARTIAL_PAID\n",
            " Invoice_Number = 5437054, Payment_Status = PAID\n",
            " Invoice_Number = 7136764, Payment_Status = UNPAID\n",
            " Invoice_Number = 16113879, Payment_Status = PAID\n",
            " Invoice_Number = 41593073, Payment_Status = UNPAID\n",
            " Invoice_Number = 14675089, Payment_Status = PARTIAL_PAID\n",
            " Invoice_Number = 42815846, Payment_Status = PARTIAL_PAID\n",
            " Invoice_Number = 21412882, Payment_Status = PARTIAL_PAID\n",
            " Invoice_Number = 61357624, Payment_Status = PARTIAL_PAID\n",
            " Invoice_Number = 4538158, Payment_Status = PARTIAL_PAID\n",
            " Invoice_Number = 49395327, Payment_Status = PAID\n",
            " Invoice_Number = 45675379, Payment_Status = PARTIAL_PAID\n",
            " Invoice_Number = 66495604, Payment_Status = PARTIAL_PAID\n",
            " Invoice_Number = 22731814, Payment_Status = UNPAID\n",
            " Invoice_Number = 91468598, Payment_Status = PARTIAL_PAID\n",
            " Invoice_Number = 69583933, Payment_Status = PARTIAL_PAID\n",
            " Invoice_Number = 35539407, Payment_Status = UNPAID\n",
            " Invoice_Number = 62178297, Payment_Status = PAID\n",
            " Invoice_Number = 66941736, Payment_Status = UNPAID\n",
            " Invoice_Number = 33280769, Payment_Status = PARTIAL_PAID\n",
            " Invoice_Number = 54064843, Payment_Status = UNPAID\n",
            " Invoice_Number = 91781475, Payment_Status = PARTIAL_PAID\n",
            " Invoice_Number = 45579257, Payment_Status = PAID\n",
            " Invoice_Number = 84895066, Payment_Status = PAID\n",
            " Invoice_Number = 1462401, Payment_Status = PAID\n",
            " Invoice_Number = 76246746, Payment_Status = PAID\n",
            " Invoice_Number = 73832577, Payment_Status = UNPAID\n",
            " Invoice_Number = 11003731, Payment_Status = UNPAID\n",
            " Invoice_Number = 26801957, Payment_Status = PARTIAL_PAID\n",
            " Invoice_Number = 45983443, Payment_Status = PAID\n",
            " Invoice_Number = 12017973, Payment_Status = UNPAID\n",
            " Invoice_Number = 16953468, Payment_Status = PAID\n",
            " Invoice_Number = 33313344, Payment_Status = UNPAID\n",
            " Invoice_Number = 63115444, Payment_Status = PAID\n",
            " Invoice_Number = 67414819, Payment_Status = UNPAID\n",
            " Invoice_Number = 5693849, Payment_Status = PARTIAL_PAID\n",
            " Invoice_Number = 31121620, Payment_Status = PARTIAL_PAID\n",
            " Invoice_Number = 29016679, Payment_Status = PAID\n",
            " Invoice_Number = 26989389, Payment_Status = PAID\n",
            " Invoice_Number = 92152069, Payment_Status = PARTIAL_PAID\n",
            " Invoice_Number = 70217681, Payment_Status = UNPAID\n",
            " Invoice_Number = 58126554, Payment_Status = UNPAID\n",
            " Invoice_Number = 35482970, Payment_Status = UNPAID\n",
            " Invoice_Number = 43815760, Payment_Status = PARTIAL_PAID\n",
            " Invoice_Number = 96154793, Payment_Status = PAID\n",
            " Invoice_Number = 78171930, Payment_Status = PARTIAL_PAID\n",
            " Invoice_Number = 31926614, Payment_Status = PARTIAL_PAID\n",
            " Invoice_Number = 1346930, Payment_Status = PAID\n",
            " Invoice_Number = 68335267, Payment_Status = PARTIAL_PAID\n",
            " Invoice_Number = 93892643, Payment_Status = PAID\n",
            " Invoice_Number = 52275326, Payment_Status = PARTIAL_PAID\n",
            " Invoice_Number = 70622850, Payment_Status = PAID\n",
            " Invoice_Number = 72915356, Payment_Status = PARTIAL_PAID\n",
            " Invoice_Number = 55053754, Payment_Status = PAID\n",
            " Invoice_Number = 55736183, Payment_Status = PAID\n",
            " Invoice_Number = 43586264, Payment_Status = PARTIAL_PAID\n",
            " Invoice_Number = 80785262, Payment_Status = UNPAID\n",
            " Invoice_Number = 13856298, Payment_Status = UNPAID\n",
            " Invoice_Number = 72746462, Payment_Status = UNPAID\n",
            " Invoice_Number = 65267424, Payment_Status = PAID\n",
            " Invoice_Number = 89353448, Payment_Status = PAID\n",
            " Invoice_Number = 34698709, Payment_Status = PAID\n",
            " Invoice_Number = 71637945, Payment_Status = UNPAID\n",
            " Invoice_Number = 5507443, Payment_Status = UNPAID\n",
            " Invoice_Number = 65887189, Payment_Status = PAID\n",
            " Invoice_Number = 84130914, Payment_Status = UNPAID\n",
            " Invoice_Number = 30106215, Payment_Status = UNPAID\n",
            " Invoice_Number = 95309514, Payment_Status = PAID\n",
            " Invoice_Number = 91476982, Payment_Status = PAID\n",
            " Invoice_Number = 855747, Payment_Status = PARTIAL_PAID\n",
            " Invoice_Number = 20282523, Payment_Status = UNPAID\n",
            " Invoice_Number = 81081721, Payment_Status = PAID\n",
            " Invoice_Number = 15834478, Payment_Status = PARTIAL_PAID\n",
            " Invoice_Number = 37405120, Payment_Status = PARTIAL_PAID\n",
            " Invoice_Number = 75907792, Payment_Status = PARTIAL_PAID\n",
            " Invoice_Number = 52662843, Payment_Status = UNPAID\n",
            " Invoice_Number = 24613385, Payment_Status = UNPAID\n",
            " Invoice_Number = 57207469, Payment_Status = PARTIAL_PAID\n",
            " Invoice_Number = 63876826, Payment_Status = UNPAID\n",
            " Invoice_Number = 66128908, Payment_Status = PARTIAL_PAID\n",
            " Invoice_Number = 50129553, Payment_Status = PAID\n",
            " Invoice_Number = 33290126, Payment_Status = PAID\n",
            " Invoice_Number = 88812205, Payment_Status = PARTIAL_PAID\n",
            " Invoice_Number = 19497365, Payment_Status = PAID\n",
            " Invoice_Number = 50005123, Payment_Status = UNPAID\n",
            " Invoice_Number = 41411155, Payment_Status = PARTIAL_PAID\n",
            " Invoice_Number = 7454851, Payment_Status = PAID\n",
            " Invoice_Number = 23964570, Payment_Status = PAID\n",
            " Invoice_Number = 99517786, Payment_Status = PAID\n",
            " Invoice_Number = 18622034, Payment_Status = PARTIAL_PAID\n",
            " Invoice_Number = 14852527, Payment_Status = PAID\n",
            " Invoice_Number = 10909713, Payment_Status = PARTIAL_PAID\n",
            " Invoice_Number = 31502450, Payment_Status = PAID\n",
            " Invoice_Number = 68593261, Payment_Status = UNPAID\n",
            " Invoice_Number = 82517250, Payment_Status = PAID\n",
            " Invoice_Number = 32276817, Payment_Status = PARTIAL_PAID\n",
            " Invoice_Number = 91406798, Payment_Status = PARTIAL_PAID\n",
            " Invoice_Number = 38725302, Payment_Status = UNPAID\n",
            " Invoice_Number = 57749518, Payment_Status = PAID\n",
            " Invoice_Number = 58504413, Payment_Status = UNPAID\n",
            " Invoice_Number = 7984938, Payment_Status = UNPAID\n",
            " Invoice_Number = 38835216, Payment_Status = PARTIAL_PAID\n",
            " Invoice_Number = 91276940, Payment_Status = UNPAID\n",
            " Invoice_Number = 56555547, Payment_Status = PARTIAL_PAID\n",
            " Invoice_Number = 11423362, Payment_Status = PAID\n",
            " Invoice_Number = 3395844, Payment_Status = PARTIAL_PAID\n",
            " Invoice_Number = 79230391, Payment_Status = UNPAID\n",
            " Invoice_Number = 52006029, Payment_Status = PAID\n",
            " Invoice_Number = 44985110, Payment_Status = UNPAID\n",
            " Invoice_Number = 44780241, Payment_Status = PARTIAL_PAID\n",
            " Invoice_Number = 24814485, Payment_Status = PARTIAL_PAID\n",
            " Invoice_Number = 63026634, Payment_Status = PARTIAL_PAID\n",
            " Invoice_Number = 43013944, Payment_Status = PAID\n",
            " Invoice_Number = 95572949, Payment_Status = UNPAID\n",
            " Invoice_Number = 16282780, Payment_Status = UNPAID\n",
            " Invoice_Number = 12973811, Payment_Status = PAID\n",
            " Invoice_Number = 10137130, Payment_Status = PARTIAL_PAID\n",
            " Invoice_Number = 61974319, Payment_Status = UNPAID\n",
            " Invoice_Number = 21467912, Payment_Status = UNPAID\n",
            " Invoice_Number = 97223634, Payment_Status = UNPAID\n",
            " Invoice_Number = 3322833, Payment_Status = PAID\n",
            " Invoice_Number = 45194771, Payment_Status = PAID\n",
            " Invoice_Number = 87484045, Payment_Status = PARTIAL_PAID\n",
            " Invoice_Number = 37603540, Payment_Status = UNPAID\n",
            " Invoice_Number = 79951609, Payment_Status = PAID\n",
            " Invoice_Number = 21290305, Payment_Status = PARTIAL_PAID\n",
            " Invoice_Number = 83031557, Payment_Status = UNPAID\n",
            " Invoice_Number = 20808143, Payment_Status = PARTIAL_PAID\n",
            " Invoice_Number = 94088687, Payment_Status = UNPAID\n",
            " Invoice_Number = 54320970, Payment_Status = PARTIAL_PAID\n",
            " Invoice_Number = 4826293, Payment_Status = PAID\n",
            " Invoice_Number = 22251848, Payment_Status = PAID\n",
            " Invoice_Number = 60448477, Payment_Status = UNPAID\n",
            " Invoice_Number = 20294991, Payment_Status = UNPAID\n",
            " Invoice_Number = 13061616, Payment_Status = UNPAID\n",
            " Invoice_Number = 33505169, Payment_Status = PARTIAL_PAID\n",
            " Invoice_Number = 48121477, Payment_Status = UNPAID\n",
            " Invoice_Number = 22683588, Payment_Status = UNPAID\n",
            " Invoice_Number = 28353232, Payment_Status = PAID\n",
            " Invoice_Number = 47061231, Payment_Status = PAID\n",
            " Invoice_Number = 95652719, Payment_Status = PAID\n",
            " Invoice_Number = 18426816, Payment_Status = UNPAID\n",
            " Invoice_Number = 47026728, Payment_Status = UNPAID\n",
            " Invoice_Number = 5046751, Payment_Status = UNPAID\n",
            " Invoice_Number = 72014134, Payment_Status = PAID\n",
            " Invoice_Number = 2064239, Payment_Status = PARTIAL_PAID\n",
            " Invoice_Number = 21116414, Payment_Status = UNPAID\n",
            " Invoice_Number = 59012610, Payment_Status = UNPAID\n",
            " Invoice_Number = 77300676, Payment_Status = PARTIAL_PAID\n",
            " Invoice_Number = 49594409, Payment_Status = UNPAID\n",
            " Invoice_Number = 11812593, Payment_Status = UNPAID\n",
            " Invoice_Number = 90193149, Payment_Status = UNPAID\n",
            " Invoice_Number = 77119674, Payment_Status = PARTIAL_PAID\n",
            " Invoice_Number = 45987984, Payment_Status = PAID\n",
            " Invoice_Number = 89157046, Payment_Status = UNPAID\n",
            " Invoice_Number = 26625904, Payment_Status = UNPAID\n",
            " Invoice_Number = 37501723, Payment_Status = UNPAID\n",
            " Invoice_Number = 9139893, Payment_Status = PAID\n",
            " Invoice_Number = 9151192, Payment_Status = PARTIAL_PAID\n",
            " Invoice_Number = 17197175, Payment_Status = PARTIAL_PAID\n",
            " Invoice_Number = 82339296, Payment_Status = UNPAID\n",
            " Invoice_Number = 78570443, Payment_Status = PARTIAL_PAID\n",
            " Invoice_Number = 95689227, Payment_Status = UNPAID\n",
            " Invoice_Number = 80738435, Payment_Status = PAID\n",
            " Invoice_Number = 17590501, Payment_Status = PARTIAL_PAID\n",
            " Invoice_Number = 50002696, Payment_Status = UNPAID\n",
            " Invoice_Number = 16290501, Payment_Status = PARTIAL_PAID\n",
            " Invoice_Number = 72395462, Payment_Status = PARTIAL_PAID\n",
            " Invoice_Number = 36754939, Payment_Status = UNPAID\n",
            " Invoice_Number = 49639940, Payment_Status = PAID\n",
            " Invoice_Number = 7871290, Payment_Status = PARTIAL_PAID\n",
            " Invoice_Number = 12720224, Payment_Status = PARTIAL_PAID\n",
            " Invoice_Number = 58512692, Payment_Status = PARTIAL_PAID\n",
            " Invoice_Number = 21374470, Payment_Status = UNPAID\n",
            " Invoice_Number = 78651869, Payment_Status = PARTIAL_PAID\n",
            " Invoice_Number = 26675886, Payment_Status = PAID\n",
            " Invoice_Number = 77763150, Payment_Status = UNPAID\n",
            " Invoice_Number = 33879642, Payment_Status = UNPAID\n",
            " Invoice_Number = 43314270, Payment_Status = PAID\n",
            " Invoice_Number = 71738338, Payment_Status = UNPAID\n",
            " Invoice_Number = 92988231, Payment_Status = PARTIAL_PAID\n",
            " Invoice_Number = 80669708, Payment_Status = PAID\n",
            " Invoice_Number = 17774703, Payment_Status = PARTIAL_PAID\n",
            " Invoice_Number = 68929060, Payment_Status = PAID\n",
            " Invoice_Number = 12512645, Payment_Status = PAID\n",
            " Invoice_Number = 16308541, Payment_Status = UNPAID\n",
            " Invoice_Number = 58177662, Payment_Status = PAID\n",
            " Invoice_Number = 38767630, Payment_Status = UNPAID\n",
            " Invoice_Number = 97757825, Payment_Status = PAID\n",
            " Invoice_Number = 60535290, Payment_Status = PARTIAL_PAID\n",
            " Invoice_Number = 13658366, Payment_Status = PARTIAL_PAID\n",
            " Invoice_Number = 68400996, Payment_Status = UNPAID\n",
            " Invoice_Number = 60239921, Payment_Status = PAID\n",
            " Invoice_Number = 61028562, Payment_Status = PAID\n",
            " Invoice_Number = 85242449, Payment_Status = PARTIAL_PAID\n",
            " Invoice_Number = 31134118, Payment_Status = PARTIAL_PAID\n",
            "\n",
            "The payment status for the invoices mentioned is as follows:\n",
            "- Invoice_Number = 62889162, Payment_Status = PAID\n",
            "- Invoice_Number = 72099384, Payment_Status = PAID\n",
            "- Invoice_Number = 56502398, Payment_Status = UNPAID\n",
            "- Invoice_Number = 60031884, Payment_Status = PAID\n",
            "- Invoice_Number = 16721258, Payment_Status = PARTIAL_PAID\n"
          ]
        }
      ]
    },
    {
      "cell_type": "code",
      "source": [],
      "metadata": {
        "id": "T1ez1IRvU50y"
      },
      "execution_count": null,
      "outputs": []
    },
    {
      "cell_type": "code",
      "source": [
        "import shutil\n",
        "from google.colab import files\n",
        "folder_to_zip = \"./main_TABLE\"\n",
        "out = \"main_TABLE.zip\"\n",
        "shutil.make_archive(\"main_TABLE\", 'zip', folder_to_zip)\n",
        "files.download(out)"
      ],
      "metadata": {
        "colab": {
          "base_uri": "https://localhost:8080/",
          "height": 34
        },
        "id": "ZpRnsC-QXBwH",
        "outputId": "68a2f731-34e9-4280-eec2-6a726e1f9d7b"
      },
      "execution_count": 82,
      "outputs": [
        {
          "output_type": "display_data",
          "data": {
            "text/plain": [
              "<IPython.core.display.Javascript object>"
            ],
            "application/javascript": [
              "\n",
              "    async function download(id, filename, size) {\n",
              "      if (!google.colab.kernel.accessAllowed) {\n",
              "        return;\n",
              "      }\n",
              "      const div = document.createElement('div');\n",
              "      const label = document.createElement('label');\n",
              "      label.textContent = `Downloading \"${filename}\": `;\n",
              "      div.appendChild(label);\n",
              "      const progress = document.createElement('progress');\n",
              "      progress.max = size;\n",
              "      div.appendChild(progress);\n",
              "      document.body.appendChild(div);\n",
              "\n",
              "      const buffers = [];\n",
              "      let downloaded = 0;\n",
              "\n",
              "      const channel = await google.colab.kernel.comms.open(id);\n",
              "      // Send a message to notify the kernel that we're ready.\n",
              "      channel.send({})\n",
              "\n",
              "      for await (const message of channel.messages) {\n",
              "        // Send a message to notify the kernel that we're ready.\n",
              "        channel.send({})\n",
              "        if (message.buffers) {\n",
              "          for (const buffer of message.buffers) {\n",
              "            buffers.push(buffer);\n",
              "            downloaded += buffer.byteLength;\n",
              "            progress.value = downloaded;\n",
              "          }\n",
              "        }\n",
              "      }\n",
              "      const blob = new Blob(buffers, {type: 'application/binary'});\n",
              "      const a = document.createElement('a');\n",
              "      a.href = window.URL.createObjectURL(blob);\n",
              "      a.download = filename;\n",
              "      div.appendChild(a);\n",
              "      a.click();\n",
              "      div.remove();\n",
              "    }\n",
              "  "
            ]
          },
          "metadata": {}
        },
        {
          "output_type": "display_data",
          "data": {
            "text/plain": [
              "<IPython.core.display.Javascript object>"
            ],
            "application/javascript": [
              "download(\"download_03769cfc-eb8b-4aa0-bf1b-494e1460deef\", \"main_TABLE.zip\", 81904762)"
            ]
          },
          "metadata": {}
        }
      ]
    },
    {
      "cell_type": "code",
      "source": [],
      "metadata": {
        "id": "H7W6t0FtZAqt"
      },
      "execution_count": null,
      "outputs": []
    }
  ],
  "metadata": {
    "kernelspec": {
      "display_name": "Python 3",
      "name": "python3"
    },
    "language_info": {
      "codemirror_mode": {
        "name": "ipython",
        "version": 3
      },
      "file_extension": ".py",
      "mimetype": "text/x-python",
      "name": "python",
      "nbconvert_exporter": "python",
      "pygments_lexer": "ipython3",
      "version": "3.10.12"
    },
    "colab": {
      "provenance": [],
      "gpuType": "T4"
    },
    "accelerator": "GPU"
  },
  "nbformat": 4,
  "nbformat_minor": 0
}