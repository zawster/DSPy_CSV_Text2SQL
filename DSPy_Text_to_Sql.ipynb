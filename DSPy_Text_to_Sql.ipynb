{
  "cells": [
    {
      "cell_type": "code",
      "execution_count": null,
      "metadata": {
        "id": "gIuN4gBNcIGD"
      },
      "outputs": [],
      "source": []
    },
    {
      "cell_type": "code",
      "execution_count": 2,
      "metadata": {
        "colab": {
          "base_uri": "https://localhost:8080/"
        },
        "id": "Yl1q4WYlbem-",
        "outputId": "a87ceb84-a5cf-4576-9427-d52050d788ed"
      },
      "outputs": [
        {
          "name": "stdout",
          "output_type": "stream",
          "text": [
            "\u001b[2K     \u001b[90m━━━━━━━━━━━━━━━━━━━━━━━━━━━━━━━━━━━━━━━━\u001b[0m \u001b[32m276.3/276.3 kB\u001b[0m \u001b[31m5.2 MB/s\u001b[0m eta \u001b[36m0:00:00\u001b[0m\n",
            "\u001b[2K     \u001b[90m━━━━━━━━━━━━━━━━━━━━━━━━━━━━━━━━━━━━━━━━\u001b[0m \u001b[32m547.8/547.8 kB\u001b[0m \u001b[31m9.0 MB/s\u001b[0m eta \u001b[36m0:00:00\u001b[0m\n",
            "\u001b[2K     \u001b[90m━━━━━━━━━━━━━━━━━━━━━━━━━━━━━━━━━━━━━━━━\u001b[0m \u001b[32m302.2/302.2 kB\u001b[0m \u001b[31m10.8 MB/s\u001b[0m eta \u001b[36m0:00:00\u001b[0m\n",
            "\u001b[2K     \u001b[90m━━━━━━━━━━━━━━━━━━━━━━━━━━━━━━━━━━━━━━━━\u001b[0m \u001b[32m328.5/328.5 kB\u001b[0m \u001b[31m12.9 MB/s\u001b[0m eta \u001b[36m0:00:00\u001b[0m\n",
            "\u001b[2K     \u001b[90m━━━━━━━━━━━━━━━━━━━━━━━━━━━━━━━━━━━━━━━━\u001b[0m \u001b[32m380.1/380.1 kB\u001b[0m \u001b[31m14.8 MB/s\u001b[0m eta \u001b[36m0:00:00\u001b[0m\n",
            "\u001b[2K     \u001b[90m━━━━━━━━━━━━━━━━━━━━━━━━━━━━━━━━━━━━━━━━\u001b[0m \u001b[32m65.8/65.8 kB\u001b[0m \u001b[31m12.7 MB/s\u001b[0m eta \u001b[36m0:00:00\u001b[0m\n",
            "\u001b[2K     \u001b[90m━━━━━━━━━━━━━━━━━━━━━━━━━━━━━━━━━━━━━━━━\u001b[0m \u001b[32m53.6/53.6 kB\u001b[0m \u001b[31m6.7 MB/s\u001b[0m eta \u001b[36m0:00:00\u001b[0m\n",
            "\u001b[2K     \u001b[90m━━━━━━━━━━━━━━━━━━━━━━━━━━━━━━━━━━━━━━━━\u001b[0m \u001b[32m525.5/525.5 kB\u001b[0m \u001b[31m16.0 MB/s\u001b[0m eta \u001b[36m0:00:00\u001b[0m\n",
            "\u001b[2K     \u001b[90m━━━━━━━━━━━━━━━━━━━━━━━━━━━━━━━━━━━━━━━━\u001b[0m \u001b[32m2.4/2.4 MB\u001b[0m \u001b[31m24.4 MB/s\u001b[0m eta \u001b[36m0:00:00\u001b[0m\n",
            "\u001b[2K     \u001b[90m━━━━━━━━━━━━━━━━━━━━━━━━━━━━━━━━━━━━━━━━\u001b[0m \u001b[32m92.0/92.0 kB\u001b[0m \u001b[31m15.5 MB/s\u001b[0m eta \u001b[36m0:00:00\u001b[0m\n",
            "\u001b[2K     \u001b[90m━━━━━━━━━━━━━━━━━━━━━━━━━━━━━━━━━━━━━━━━\u001b[0m \u001b[32m62.4/62.4 kB\u001b[0m \u001b[31m11.8 MB/s\u001b[0m eta \u001b[36m0:00:00\u001b[0m\n",
            "\u001b[2K     \u001b[90m━━━━━━━━━━━━━━━━━━━━━━━━━━━━━━━━━━━━━━━━\u001b[0m \u001b[32m41.3/41.3 kB\u001b[0m \u001b[31m7.2 MB/s\u001b[0m eta \u001b[36m0:00:00\u001b[0m\n",
            "\u001b[2K     \u001b[90m━━━━━━━━━━━━━━━━━━━━━━━━━━━━━━━━━━━━━━━━\u001b[0m \u001b[32m5.4/5.4 MB\u001b[0m \u001b[31m41.2 MB/s\u001b[0m eta \u001b[36m0:00:00\u001b[0m\n",
            "\u001b[2K     \u001b[90m━━━━━━━━━━━━━━━━━━━━━━━━━━━━━━━━━━━━━━━━\u001b[0m \u001b[32m6.8/6.8 MB\u001b[0m \u001b[31m61.5 MB/s\u001b[0m eta \u001b[36m0:00:00\u001b[0m\n",
            "\u001b[2K     \u001b[90m━━━━━━━━━━━━━━━━━━━━━━━━━━━━━━━━━━━━━━━━\u001b[0m \u001b[32m59.9/59.9 kB\u001b[0m \u001b[31m9.5 MB/s\u001b[0m eta \u001b[36m0:00:00\u001b[0m\n",
            "\u001b[2K     \u001b[90m━━━━━━━━━━━━━━━━━━━━━━━━━━━━━━━━━━━━━━━━\u001b[0m \u001b[32m107.0/107.0 kB\u001b[0m \u001b[31m18.0 MB/s\u001b[0m eta \u001b[36m0:00:00\u001b[0m\n",
            "\u001b[2K     \u001b[90m━━━━━━━━━━━━━━━━━━━━━━━━━━━━━━━━━━━━━━━━\u001b[0m \u001b[32m67.3/67.3 kB\u001b[0m \u001b[31m13.2 MB/s\u001b[0m eta \u001b[36m0:00:00\u001b[0m\n",
            "\u001b[?25h  Installing build dependencies ... \u001b[?25l\u001b[?25hdone\n",
            "  Getting requirements to build wheel ... \u001b[?25l\u001b[?25hdone\n",
            "  Preparing metadata (pyproject.toml) ... \u001b[?25l\u001b[?25hdone\n",
            "\u001b[2K     \u001b[90m━━━━━━━━━━━━━━━━━━━━━━━━━━━━━━━━━━━━━━━━\u001b[0m \u001b[32m283.7/283.7 kB\u001b[0m \u001b[31m41.1 MB/s\u001b[0m eta \u001b[36m0:00:00\u001b[0m\n",
            "\u001b[2K     \u001b[90m━━━━━━━━━━━━━━━━━━━━━━━━━━━━━━━━━━━━━━━━\u001b[0m \u001b[32m1.7/1.7 MB\u001b[0m \u001b[31m66.1 MB/s\u001b[0m eta \u001b[36m0:00:00\u001b[0m\n",
            "\u001b[2K     \u001b[90m━━━━━━━━━━━━━━━━━━━━━━━━━━━━━━━━━━━━━━━━\u001b[0m \u001b[32m67.6/67.6 kB\u001b[0m \u001b[31m11.5 MB/s\u001b[0m eta \u001b[36m0:00:00\u001b[0m\n",
            "\u001b[2K     \u001b[90m━━━━━━━━━━━━━━━━━━━━━━━━━━━━━━━━━━━━━━━━\u001b[0m \u001b[32m141.1/141.1 kB\u001b[0m \u001b[31m25.4 MB/s\u001b[0m eta \u001b[36m0:00:00\u001b[0m\n",
            "\u001b[2K     \u001b[90m━━━━━━━━━━━━━━━━━━━━━━━━━━━━━━━━━━━━━━━━\u001b[0m \u001b[32m75.6/75.6 kB\u001b[0m \u001b[31m11.8 MB/s\u001b[0m eta \u001b[36m0:00:00\u001b[0m\n",
            "\u001b[2K     \u001b[90m━━━━━━━━━━━━━━━━━━━━━━━━━━━━━━━━━━━━━━━━\u001b[0m \u001b[32m40.8/40.8 MB\u001b[0m \u001b[31m16.8 MB/s\u001b[0m eta \u001b[36m0:00:00\u001b[0m\n",
            "\u001b[2K     \u001b[90m━━━━━━━━━━━━━━━━━━━━━━━━━━━━━━━━━━━━━━━━\u001b[0m \u001b[32m116.3/116.3 kB\u001b[0m \u001b[31m18.9 MB/s\u001b[0m eta \u001b[36m0:00:00\u001b[0m\n",
            "\u001b[2K     \u001b[90m━━━━━━━━━━━━━━━━━━━━━━━━━━━━━━━━━━━━━━━━\u001b[0m \u001b[32m64.9/64.9 kB\u001b[0m \u001b[31m11.1 MB/s\u001b[0m eta \u001b[36m0:00:00\u001b[0m\n",
            "\u001b[2K     \u001b[90m━━━━━━━━━━━━━━━━━━━━━━━━━━━━━━━━━━━━━━━━\u001b[0m \u001b[32m194.1/194.1 kB\u001b[0m \u001b[31m28.4 MB/s\u001b[0m eta \u001b[36m0:00:00\u001b[0m\n",
            "\u001b[2K     \u001b[90m━━━━━━━━━━━━━━━━━━━━━━━━━━━━━━━━━━━━━━━━\u001b[0m \u001b[32m134.8/134.8 kB\u001b[0m \u001b[31m22.3 MB/s\u001b[0m eta \u001b[36m0:00:00\u001b[0m\n",
            "\u001b[2K     \u001b[90m━━━━━━━━━━━━━━━━━━━━━━━━━━━━━━━━━━━━━━━━\u001b[0m \u001b[32m233.0/233.0 kB\u001b[0m \u001b[31m36.6 MB/s\u001b[0m eta \u001b[36m0:00:00\u001b[0m\n",
            "\u001b[2K     \u001b[90m━━━━━━━━━━━━━━━━━━━━━━━━━━━━━━━━━━━━━━━━\u001b[0m \u001b[32m78.6/78.6 kB\u001b[0m \u001b[31m13.3 MB/s\u001b[0m eta \u001b[36m0:00:00\u001b[0m\n",
            "\u001b[2K     \u001b[90m━━━━━━━━━━━━━━━━━━━━━━━━━━━━━━━━━━━━━━━━\u001b[0m \u001b[32m71.9/71.9 kB\u001b[0m \u001b[31m12.8 MB/s\u001b[0m eta \u001b[36m0:00:00\u001b[0m\n",
            "\u001b[2K     \u001b[90m━━━━━━━━━━━━━━━━━━━━━━━━━━━━━━━━━━━━━━━━\u001b[0m \u001b[32m77.9/77.9 kB\u001b[0m \u001b[31m12.4 MB/s\u001b[0m eta \u001b[36m0:00:00\u001b[0m\n",
            "\u001b[2K     \u001b[90m━━━━━━━━━━━━━━━━━━━━━━━━━━━━━━━━━━━━━━━━\u001b[0m \u001b[32m58.3/58.3 kB\u001b[0m \u001b[31m11.6 MB/s\u001b[0m eta \u001b[36m0:00:00\u001b[0m\n",
            "\u001b[2K     \u001b[90m━━━━━━━━━━━━━━━━━━━━━━━━━━━━━━━━━━━━━━━━\u001b[0m \u001b[32m46.0/46.0 kB\u001b[0m \u001b[31m7.9 MB/s\u001b[0m eta \u001b[36m0:00:00\u001b[0m\n",
            "\u001b[2K     \u001b[90m━━━━━━━━━━━━━━━━━━━━━━━━━━━━━━━━━━━━━━━━\u001b[0m \u001b[32m52.5/52.5 kB\u001b[0m \u001b[31m10.1 MB/s\u001b[0m eta \u001b[36m0:00:00\u001b[0m\n",
            "\u001b[2K     \u001b[90m━━━━━━━━━━━━━━━━━━━━━━━━━━━━━━━━━━━━━━━━\u001b[0m \u001b[32m130.5/130.5 kB\u001b[0m \u001b[31m23.4 MB/s\u001b[0m eta \u001b[36m0:00:00\u001b[0m\n",
            "\u001b[2K     \u001b[90m━━━━━━━━━━━━━━━━━━━━━━━━━━━━━━━━━━━━━━━━\u001b[0m \u001b[32m341.4/341.4 kB\u001b[0m \u001b[31m48.1 MB/s\u001b[0m eta \u001b[36m0:00:00\u001b[0m\n",
            "\u001b[2K     \u001b[90m━━━━━━━━━━━━━━━━━━━━━━━━━━━━━━━━━━━━━━━━\u001b[0m \u001b[32m3.4/3.4 MB\u001b[0m \u001b[31m103.7 MB/s\u001b[0m eta \u001b[36m0:00:00\u001b[0m\n",
            "\u001b[2K     \u001b[90m━━━━━━━━━━━━━━━━━━━━━━━━━━━━━━━━━━━━━━━━\u001b[0m \u001b[32m1.2/1.2 MB\u001b[0m \u001b[31m81.4 MB/s\u001b[0m eta \u001b[36m0:00:00\u001b[0m\n",
            "\u001b[2K     \u001b[90m━━━━━━━━━━━━━━━━━━━━━━━━━━━━━━━━━━━━━━━━\u001b[0m \u001b[32m130.2/130.2 kB\u001b[0m \u001b[31m20.9 MB/s\u001b[0m eta \u001b[36m0:00:00\u001b[0m\n",
            "\u001b[2K     \u001b[90m━━━━━━━━━━━━━━━━━━━━━━━━━━━━━━━━━━━━━━━━\u001b[0m \u001b[32m307.7/307.7 kB\u001b[0m \u001b[31m33.6 MB/s\u001b[0m eta \u001b[36m0:00:00\u001b[0m\n",
            "\u001b[2K     \u001b[90m━━━━━━━━━━━━━━━━━━━━━━━━━━━━━━━━━━━━━━━━\u001b[0m \u001b[32m86.8/86.8 kB\u001b[0m \u001b[31m16.3 MB/s\u001b[0m eta \u001b[36m0:00:00\u001b[0m\n",
            "\u001b[?25h  Building wheel for pypika (pyproject.toml) ... \u001b[?25l\u001b[?25hdone\n",
            "\u001b[31mERROR: pip's dependency resolver does not currently take into account all the packages that are installed. This behaviour is the source of the following dependency conflicts.\n",
            "cudf-cu12 24.4.1 requires pyarrow<15.0.0a0,>=14.0.1, but you have pyarrow 16.1.0 which is incompatible.\n",
            "google-colab 1.0.0 requires requests==2.31.0, but you have requests 2.32.3 which is incompatible.\n",
            "ibis-framework 8.0.0 requires pyarrow<16,>=2, but you have pyarrow 16.1.0 which is incompatible.\u001b[0m\u001b[31m\n",
            "\u001b[0m"
          ]
        }
      ],
      "source": [
        "#Dependencies\n",
        "!pip install dspy-ai[chromadb] -Uqq\n",
        "!pip install termcolor -Uqq\n",
        "!pip install sqlalchemy -Uqq"
      ]
    },
    {
      "cell_type": "markdown",
      "metadata": {
        "id": "Fo3nYGSCbenB"
      },
      "source": [
        "#### Importing utilities"
      ]
    },
    {
      "cell_type": "code",
      "execution_count": 3,
      "metadata": {
        "id": "htY_35VdbenE"
      },
      "outputs": [],
      "source": [
        "#imports\n",
        "from bs4 import BeautifulSoup\n",
        "import urllib.request\n",
        "import ssl\n",
        "import openai\n",
        "import os\n",
        "import requests\n",
        "import warnings\n",
        "warnings.filterwarnings(\"ignore\")\n",
        "from tqdm import tqdm\n",
        "import pandas as pd\n",
        "import json\n",
        "from sqlalchemy import (\n",
        "    create_engine,\n",
        "    MetaData,\n",
        "    Table,\n",
        "    Column,\n",
        "    String,\n",
        "    Integer,\n",
        ")\n",
        "import re\n",
        "from sqlalchemy import inspect\n",
        "import sqlalchemy\n",
        "from sqlalchemy import text\n",
        "import dspy\n",
        "from typing import List\n",
        "from termcolor import colored\n",
        "import chromadb"
      ]
    },
    {
      "cell_type": "code",
      "execution_count": 4,
      "metadata": {
        "colab": {
          "base_uri": "https://localhost:8080/"
        },
        "id": "jB9jvfSJbenG",
        "outputId": "f0ec0b7b-defe-4e26-b5f8-b5c8ed48f908"
      },
      "outputs": [
        {
          "data": {
            "text/plain": [
              "True"
            ]
          },
          "execution_count": 4,
          "metadata": {},
          "output_type": "execute_result"
        }
      ],
      "source": [
        "from dsp.modules.cache_utils import cache_turn_on\n",
        "\n",
        "cache_turn_on"
      ]
    },
    {
      "cell_type": "markdown",
      "metadata": {
        "id": "ZM-FsGibqggF"
      },
      "source": [
        "### Loading data"
      ]
    },
    {
      "cell_type": "code",
      "execution_count": null,
      "metadata": {
        "id": "ftLf60fRqfKb"
      },
      "outputs": [],
      "source": []
    },
    {
      "cell_type": "code",
      "execution_count": 11,
      "metadata": {
        "id": "iNs7oAo0benN"
      },
      "outputs": [],
      "source": [
        "df = pd.read_csv(\"ERP_Data/PA_PYMENTS.csv\")"
      ]
    },
    {
      "cell_type": "code",
      "execution_count": 12,
      "metadata": {
        "colab": {
          "base_uri": "https://localhost:8080/",
          "height": 360
        },
        "id": "wj7gcDRxr4fk",
        "outputId": "9d1e51cf-9d36-46f4-f500-d9b28e9bdc02"
      },
      "outputs": [
        {
          "data": {
            "application/vnd.google.colaboratory.intrinsic+json": {
              "type": "dataframe",
              "variable_name": "df"
            },
            "text/html": [
              "\n",
              "  <div id=\"df-db222e5c-5747-4a0a-bdfc-e78b8dca6e8a\" class=\"colab-df-container\">\n",
              "    <div>\n",
              "<style scoped>\n",
              "    .dataframe tbody tr th:only-of-type {\n",
              "        vertical-align: middle;\n",
              "    }\n",
              "\n",
              "    .dataframe tbody tr th {\n",
              "        vertical-align: top;\n",
              "    }\n",
              "\n",
              "    .dataframe thead th {\n",
              "        text-align: right;\n",
              "    }\n",
              "</style>\n",
              "<table border=\"1\" class=\"dataframe\">\n",
              "  <thead>\n",
              "    <tr style=\"text-align: right;\">\n",
              "      <th></th>\n",
              "      <th>VENDOR_ID</th>\n",
              "      <th>LAST_UPDATE_DATE</th>\n",
              "      <th>LAST_UPDATED_BY</th>\n",
              "      <th>VENDOR_NAME</th>\n",
              "      <th>VENDOR_NAME_ALT</th>\n",
              "      <th>SEGMENT1</th>\n",
              "      <th>SUMMARY_FLAG</th>\n",
              "      <th>ENABLED_FLAG</th>\n",
              "      <th>LAST_UPDATE_LOGIN</th>\n",
              "      <th>CREATION_DATE</th>\n",
              "      <th>...</th>\n",
              "      <th>AMOUNT_INCLUDES_TAX_FLAG</th>\n",
              "      <th>PROGRAM_UPDATE_DATE</th>\n",
              "      <th>VAT_REGISTRATION_NUM</th>\n",
              "      <th>AUTO_CALCULATE_INTEREST_FLAG</th>\n",
              "      <th>EXCLUDE_FREIGHT_FROM_DISCOUNT</th>\n",
              "      <th>MATCH_OPTION</th>\n",
              "      <th>OFFSET_TAX_FLAG</th>\n",
              "      <th>PARTY_ID</th>\n",
              "      <th>TCA_SYNC_VENDOR_NAME</th>\n",
              "      <th>TCA_SYNC_VAT_REG_NUM</th>\n",
              "    </tr>\n",
              "  </thead>\n",
              "  <tbody>\n",
              "    <tr>\n",
              "      <th>0</th>\n",
              "      <td>7136</td>\n",
              "      <td>5/25/2024</td>\n",
              "      <td>Sylvia Brooks</td>\n",
              "      <td>Ware-Williams</td>\n",
              "      <td>Hernandez, George and Ramirez</td>\n",
              "      <td>throw</td>\n",
              "      <td>Y</td>\n",
              "      <td>N</td>\n",
              "      <td>649559</td>\n",
              "      <td>2/28/2024</td>\n",
              "      <td>...</td>\n",
              "      <td>N</td>\n",
              "      <td>4/10/2024</td>\n",
              "      <td>232818</td>\n",
              "      <td>N</td>\n",
              "      <td>N</td>\n",
              "      <td>foot</td>\n",
              "      <td>Y</td>\n",
              "      <td>962003</td>\n",
              "      <td>century</td>\n",
              "      <td>637630</td>\n",
              "    </tr>\n",
              "    <tr>\n",
              "      <th>1</th>\n",
              "      <td>8667</td>\n",
              "      <td>3/29/2024</td>\n",
              "      <td>Samuel Cunningham</td>\n",
              "      <td>Burnett PLC</td>\n",
              "      <td>Larson, Mcdaniel and Jarvis</td>\n",
              "      <td>trouble</td>\n",
              "      <td>Y</td>\n",
              "      <td>Y</td>\n",
              "      <td>887153</td>\n",
              "      <td>3/5/2024</td>\n",
              "      <td>...</td>\n",
              "      <td>Y</td>\n",
              "      <td>5/6/2024</td>\n",
              "      <td>983779</td>\n",
              "      <td>Y</td>\n",
              "      <td>Y</td>\n",
              "      <td>commercial</td>\n",
              "      <td>Y</td>\n",
              "      <td>936681</td>\n",
              "      <td>like</td>\n",
              "      <td>811016</td>\n",
              "    </tr>\n",
              "    <tr>\n",
              "      <th>2</th>\n",
              "      <td>2023</td>\n",
              "      <td>2/24/2024</td>\n",
              "      <td>Monica Scott</td>\n",
              "      <td>Martin-Hudson</td>\n",
              "      <td>Stewart, Franklin and George</td>\n",
              "      <td>say</td>\n",
              "      <td>Y</td>\n",
              "      <td>N</td>\n",
              "      <td>435433</td>\n",
              "      <td>6/13/2024</td>\n",
              "      <td>...</td>\n",
              "      <td>Y</td>\n",
              "      <td>6/12/2024</td>\n",
              "      <td>995433</td>\n",
              "      <td>N</td>\n",
              "      <td>N</td>\n",
              "      <td>outside</td>\n",
              "      <td>N</td>\n",
              "      <td>644458</td>\n",
              "      <td>lawyer</td>\n",
              "      <td>959161</td>\n",
              "    </tr>\n",
              "    <tr>\n",
              "      <th>3</th>\n",
              "      <td>6187</td>\n",
              "      <td>3/24/2024</td>\n",
              "      <td>Mark Reynolds</td>\n",
              "      <td>Spencer-Garner</td>\n",
              "      <td>Sullivan Ltd</td>\n",
              "      <td>when</td>\n",
              "      <td>N</td>\n",
              "      <td>Y</td>\n",
              "      <td>997477</td>\n",
              "      <td>6/16/2024</td>\n",
              "      <td>...</td>\n",
              "      <td>Y</td>\n",
              "      <td>3/16/2024</td>\n",
              "      <td>776490</td>\n",
              "      <td>Y</td>\n",
              "      <td>Y</td>\n",
              "      <td>father</td>\n",
              "      <td>Y</td>\n",
              "      <td>208584</td>\n",
              "      <td>truth</td>\n",
              "      <td>800789</td>\n",
              "    </tr>\n",
              "    <tr>\n",
              "      <th>4</th>\n",
              "      <td>9934</td>\n",
              "      <td>4/21/2024</td>\n",
              "      <td>Heidi Simpson</td>\n",
              "      <td>Moore-Gill</td>\n",
              "      <td>Glenn, Dawson and Lewis</td>\n",
              "      <td>if</td>\n",
              "      <td>Y</td>\n",
              "      <td>N</td>\n",
              "      <td>600852</td>\n",
              "      <td>2/2/2024</td>\n",
              "      <td>...</td>\n",
              "      <td>Y</td>\n",
              "      <td>5/21/2024</td>\n",
              "      <td>520238</td>\n",
              "      <td>Y</td>\n",
              "      <td>N</td>\n",
              "      <td>without</td>\n",
              "      <td>N</td>\n",
              "      <td>268863</td>\n",
              "      <td>imagine</td>\n",
              "      <td>881960</td>\n",
              "    </tr>\n",
              "  </tbody>\n",
              "</table>\n",
              "<p>5 rows × 47 columns</p>\n",
              "</div>\n",
              "    <div class=\"colab-df-buttons\">\n",
              "\n",
              "  <div class=\"colab-df-container\">\n",
              "    <button class=\"colab-df-convert\" onclick=\"convertToInteractive('df-db222e5c-5747-4a0a-bdfc-e78b8dca6e8a')\"\n",
              "            title=\"Convert this dataframe to an interactive table.\"\n",
              "            style=\"display:none;\">\n",
              "\n",
              "  <svg xmlns=\"http://www.w3.org/2000/svg\" height=\"24px\" viewBox=\"0 -960 960 960\">\n",
              "    <path d=\"M120-120v-720h720v720H120Zm60-500h600v-160H180v160Zm220 220h160v-160H400v160Zm0 220h160v-160H400v160ZM180-400h160v-160H180v160Zm440 0h160v-160H620v160ZM180-180h160v-160H180v160Zm440 0h160v-160H620v160Z\"/>\n",
              "  </svg>\n",
              "    </button>\n",
              "\n",
              "  <style>\n",
              "    .colab-df-container {\n",
              "      display:flex;\n",
              "      gap: 12px;\n",
              "    }\n",
              "\n",
              "    .colab-df-convert {\n",
              "      background-color: #E8F0FE;\n",
              "      border: none;\n",
              "      border-radius: 50%;\n",
              "      cursor: pointer;\n",
              "      display: none;\n",
              "      fill: #1967D2;\n",
              "      height: 32px;\n",
              "      padding: 0 0 0 0;\n",
              "      width: 32px;\n",
              "    }\n",
              "\n",
              "    .colab-df-convert:hover {\n",
              "      background-color: #E2EBFA;\n",
              "      box-shadow: 0px 1px 2px rgba(60, 64, 67, 0.3), 0px 1px 3px 1px rgba(60, 64, 67, 0.15);\n",
              "      fill: #174EA6;\n",
              "    }\n",
              "\n",
              "    .colab-df-buttons div {\n",
              "      margin-bottom: 4px;\n",
              "    }\n",
              "\n",
              "    [theme=dark] .colab-df-convert {\n",
              "      background-color: #3B4455;\n",
              "      fill: #D2E3FC;\n",
              "    }\n",
              "\n",
              "    [theme=dark] .colab-df-convert:hover {\n",
              "      background-color: #434B5C;\n",
              "      box-shadow: 0px 1px 3px 1px rgba(0, 0, 0, 0.15);\n",
              "      filter: drop-shadow(0px 1px 2px rgba(0, 0, 0, 0.3));\n",
              "      fill: #FFFFFF;\n",
              "    }\n",
              "  </style>\n",
              "\n",
              "    <script>\n",
              "      const buttonEl =\n",
              "        document.querySelector('#df-db222e5c-5747-4a0a-bdfc-e78b8dca6e8a button.colab-df-convert');\n",
              "      buttonEl.style.display =\n",
              "        google.colab.kernel.accessAllowed ? 'block' : 'none';\n",
              "\n",
              "      async function convertToInteractive(key) {\n",
              "        const element = document.querySelector('#df-db222e5c-5747-4a0a-bdfc-e78b8dca6e8a');\n",
              "        const dataTable =\n",
              "          await google.colab.kernel.invokeFunction('convertToInteractive',\n",
              "                                                    [key], {});\n",
              "        if (!dataTable) return;\n",
              "\n",
              "        const docLinkHtml = 'Like what you see? Visit the ' +\n",
              "          '<a target=\"_blank\" href=https://colab.research.google.com/notebooks/data_table.ipynb>data table notebook</a>'\n",
              "          + ' to learn more about interactive tables.';\n",
              "        element.innerHTML = '';\n",
              "        dataTable['output_type'] = 'display_data';\n",
              "        await google.colab.output.renderOutput(dataTable, element);\n",
              "        const docLink = document.createElement('div');\n",
              "        docLink.innerHTML = docLinkHtml;\n",
              "        element.appendChild(docLink);\n",
              "      }\n",
              "    </script>\n",
              "  </div>\n",
              "\n",
              "\n",
              "<div id=\"df-326444e5-dcac-4f74-917a-fe4d3676ea28\">\n",
              "  <button class=\"colab-df-quickchart\" onclick=\"quickchart('df-326444e5-dcac-4f74-917a-fe4d3676ea28')\"\n",
              "            title=\"Suggest charts\"\n",
              "            style=\"display:none;\">\n",
              "\n",
              "<svg xmlns=\"http://www.w3.org/2000/svg\" height=\"24px\"viewBox=\"0 0 24 24\"\n",
              "     width=\"24px\">\n",
              "    <g>\n",
              "        <path d=\"M19 3H5c-1.1 0-2 .9-2 2v14c0 1.1.9 2 2 2h14c1.1 0 2-.9 2-2V5c0-1.1-.9-2-2-2zM9 17H7v-7h2v7zm4 0h-2V7h2v10zm4 0h-2v-4h2v4z\"/>\n",
              "    </g>\n",
              "</svg>\n",
              "  </button>\n",
              "\n",
              "<style>\n",
              "  .colab-df-quickchart {\n",
              "      --bg-color: #E8F0FE;\n",
              "      --fill-color: #1967D2;\n",
              "      --hover-bg-color: #E2EBFA;\n",
              "      --hover-fill-color: #174EA6;\n",
              "      --disabled-fill-color: #AAA;\n",
              "      --disabled-bg-color: #DDD;\n",
              "  }\n",
              "\n",
              "  [theme=dark] .colab-df-quickchart {\n",
              "      --bg-color: #3B4455;\n",
              "      --fill-color: #D2E3FC;\n",
              "      --hover-bg-color: #434B5C;\n",
              "      --hover-fill-color: #FFFFFF;\n",
              "      --disabled-bg-color: #3B4455;\n",
              "      --disabled-fill-color: #666;\n",
              "  }\n",
              "\n",
              "  .colab-df-quickchart {\n",
              "    background-color: var(--bg-color);\n",
              "    border: none;\n",
              "    border-radius: 50%;\n",
              "    cursor: pointer;\n",
              "    display: none;\n",
              "    fill: var(--fill-color);\n",
              "    height: 32px;\n",
              "    padding: 0;\n",
              "    width: 32px;\n",
              "  }\n",
              "\n",
              "  .colab-df-quickchart:hover {\n",
              "    background-color: var(--hover-bg-color);\n",
              "    box-shadow: 0 1px 2px rgba(60, 64, 67, 0.3), 0 1px 3px 1px rgba(60, 64, 67, 0.15);\n",
              "    fill: var(--button-hover-fill-color);\n",
              "  }\n",
              "\n",
              "  .colab-df-quickchart-complete:disabled,\n",
              "  .colab-df-quickchart-complete:disabled:hover {\n",
              "    background-color: var(--disabled-bg-color);\n",
              "    fill: var(--disabled-fill-color);\n",
              "    box-shadow: none;\n",
              "  }\n",
              "\n",
              "  .colab-df-spinner {\n",
              "    border: 2px solid var(--fill-color);\n",
              "    border-color: transparent;\n",
              "    border-bottom-color: var(--fill-color);\n",
              "    animation:\n",
              "      spin 1s steps(1) infinite;\n",
              "  }\n",
              "\n",
              "  @keyframes spin {\n",
              "    0% {\n",
              "      border-color: transparent;\n",
              "      border-bottom-color: var(--fill-color);\n",
              "      border-left-color: var(--fill-color);\n",
              "    }\n",
              "    20% {\n",
              "      border-color: transparent;\n",
              "      border-left-color: var(--fill-color);\n",
              "      border-top-color: var(--fill-color);\n",
              "    }\n",
              "    30% {\n",
              "      border-color: transparent;\n",
              "      border-left-color: var(--fill-color);\n",
              "      border-top-color: var(--fill-color);\n",
              "      border-right-color: var(--fill-color);\n",
              "    }\n",
              "    40% {\n",
              "      border-color: transparent;\n",
              "      border-right-color: var(--fill-color);\n",
              "      border-top-color: var(--fill-color);\n",
              "    }\n",
              "    60% {\n",
              "      border-color: transparent;\n",
              "      border-right-color: var(--fill-color);\n",
              "    }\n",
              "    80% {\n",
              "      border-color: transparent;\n",
              "      border-right-color: var(--fill-color);\n",
              "      border-bottom-color: var(--fill-color);\n",
              "    }\n",
              "    90% {\n",
              "      border-color: transparent;\n",
              "      border-bottom-color: var(--fill-color);\n",
              "    }\n",
              "  }\n",
              "</style>\n",
              "\n",
              "  <script>\n",
              "    async function quickchart(key) {\n",
              "      const quickchartButtonEl =\n",
              "        document.querySelector('#' + key + ' button');\n",
              "      quickchartButtonEl.disabled = true;  // To prevent multiple clicks.\n",
              "      quickchartButtonEl.classList.add('colab-df-spinner');\n",
              "      try {\n",
              "        const charts = await google.colab.kernel.invokeFunction(\n",
              "            'suggestCharts', [key], {});\n",
              "      } catch (error) {\n",
              "        console.error('Error during call to suggestCharts:', error);\n",
              "      }\n",
              "      quickchartButtonEl.classList.remove('colab-df-spinner');\n",
              "      quickchartButtonEl.classList.add('colab-df-quickchart-complete');\n",
              "    }\n",
              "    (() => {\n",
              "      let quickchartButtonEl =\n",
              "        document.querySelector('#df-326444e5-dcac-4f74-917a-fe4d3676ea28 button');\n",
              "      quickchartButtonEl.style.display =\n",
              "        google.colab.kernel.accessAllowed ? 'block' : 'none';\n",
              "    })();\n",
              "  </script>\n",
              "</div>\n",
              "\n",
              "    </div>\n",
              "  </div>\n"
            ],
            "text/plain": [
              "   VENDOR_ID LAST_UPDATE_DATE    LAST_UPDATED_BY     VENDOR_NAME  \\\n",
              "0       7136        5/25/2024      Sylvia Brooks   Ware-Williams   \n",
              "1       8667        3/29/2024  Samuel Cunningham     Burnett PLC   \n",
              "2       2023        2/24/2024       Monica Scott   Martin-Hudson   \n",
              "3       6187        3/24/2024      Mark Reynolds  Spencer-Garner   \n",
              "4       9934        4/21/2024      Heidi Simpson      Moore-Gill   \n",
              "\n",
              "                 VENDOR_NAME_ALT SEGMENT1 SUMMARY_FLAG ENABLED_FLAG  \\\n",
              "0  Hernandez, George and Ramirez    throw            Y            N   \n",
              "1    Larson, Mcdaniel and Jarvis  trouble            Y            Y   \n",
              "2   Stewart, Franklin and George      say            Y            N   \n",
              "3                   Sullivan Ltd     when            N            Y   \n",
              "4        Glenn, Dawson and Lewis       if            Y            N   \n",
              "\n",
              "   LAST_UPDATE_LOGIN CREATION_DATE  ... AMOUNT_INCLUDES_TAX_FLAG  \\\n",
              "0             649559     2/28/2024  ...                        N   \n",
              "1             887153      3/5/2024  ...                        Y   \n",
              "2             435433     6/13/2024  ...                        Y   \n",
              "3             997477     6/16/2024  ...                        Y   \n",
              "4             600852      2/2/2024  ...                        Y   \n",
              "\n",
              "   PROGRAM_UPDATE_DATE VAT_REGISTRATION_NUM AUTO_CALCULATE_INTEREST_FLAG  \\\n",
              "0            4/10/2024               232818                            N   \n",
              "1             5/6/2024               983779                            Y   \n",
              "2            6/12/2024               995433                            N   \n",
              "3            3/16/2024               776490                            Y   \n",
              "4            5/21/2024               520238                            Y   \n",
              "\n",
              "   EXCLUDE_FREIGHT_FROM_DISCOUNT MATCH_OPTION OFFSET_TAX_FLAG  PARTY_ID  \\\n",
              "0                              N         foot               Y    962003   \n",
              "1                              Y   commercial               Y    936681   \n",
              "2                              N      outside               N    644458   \n",
              "3                              Y       father               Y    208584   \n",
              "4                              N      without               N    268863   \n",
              "\n",
              "  TCA_SYNC_VENDOR_NAME TCA_SYNC_VAT_REG_NUM  \n",
              "0              century               637630  \n",
              "1                 like               811016  \n",
              "2               lawyer               959161  \n",
              "3                truth               800789  \n",
              "4              imagine               881960  \n",
              "\n",
              "[5 rows x 47 columns]"
            ]
          },
          "execution_count": 12,
          "metadata": {},
          "output_type": "execute_result"
        }
      ],
      "source": [
        "df.head()"
      ]
    },
    {
      "cell_type": "markdown",
      "metadata": {
        "id": "KqCZBPLUbenT"
      },
      "source": [
        "## BUILD TABLE NAMES AND METADATA\n",
        "\n",
        "* Here I use a DSPy signature given the first 10 rows of the dataframe, I generate the table name and table explanation. It will help to dynamically select the correct table based on the query."
      ]
    },
    {
      "cell_type": "code",
      "execution_count": null,
      "metadata": {
        "colab": {
          "base_uri": "https://localhost:8080/",
          "height": 139
        },
        "id": "U8inxu-ibenU",
        "outputId": "56d43dd6-3a12-4cdf-b832-7eb65d881b09"
      },
      "outputs": [],
      "source": [
        "df.head(10).to_csv()"
      ]
    },
    {
      "cell_type": "code",
      "execution_count": 18,
      "metadata": {
        "id": "9IaOKDGZbenU"
      },
      "outputs": [],
      "source": [
        "import os\n",
        "key = \"sk-***************\"\n",
        "os.environ[\"OPENAI_API_KEY\"] = key\n",
        "openai.api_key = key"
      ]
    },
    {
      "cell_type": "code",
      "execution_count": 6,
      "metadata": {
        "id": "J4Nv4xSfbenU"
      },
      "outputs": [],
      "source": [
        "import dspy\n",
        "# turbo = dspy.OpenAI(model='gpt-3.5-turbo-instruct', max_tokens=250)\n",
        "turbo = dspy.OpenAI(model='gpt-3.5-turbo', max_tokens=250)\n",
        "dspy.settings.configure(lm=turbo)\n",
        "\n",
        "class SQLTableMetadata(dspy.Signature):\n",
        "    \"\"\"Give a suitable table name and description about the given table\"\"\"\n",
        "    pandas_dataframe_str = dspy.InputField(desc=\"First 10 rows of a pandas dataframe delimited by newline character\")\n",
        "    table_name = dspy.OutputField(desc=\"suitable table name\")\n",
        "    table_summary = dspy.OutputField(desc=\"a summary about the table\")\n",
        "\n",
        "class CoT(dspy.Module):\n",
        "    def __init__(self):\n",
        "        super().__init__()\n",
        "        self.prog = dspy.ChainOfThought(SQLTableMetadata)\n",
        "\n",
        "    def forward(self, pandas_dataframe_str):\n",
        "        return self.prog(pandas_dataframe_str=pandas_dataframe_str)\n",
        "\n",
        "cot = CoT()"
      ]
    },
    {
      "cell_type": "code",
      "execution_count": 15,
      "metadata": {
        "colab": {
          "base_uri": "https://localhost:8080/"
        },
        "id": "lWafjVFqcv9r",
        "outputId": "2f854c98-b9c3-4c2c-fa50-4601b87d17ce"
      },
      "outputs": [
        {
          "data": {
            "text/plain": [
              "Prediction(\n",
              "    rationale='produce the table summary. We have a dataset containing information about different vendors, including their IDs, names, payment details, currency codes, payment methods, and various flags indicating specific attributes. This table provides a comprehensive overview of vendor information that can be used for analysis and decision-making.',\n",
              "    table_name='Vendor Information Table',\n",
              "    table_summary='This table contains detailed information about various vendors, including their IDs, names, payment details, currency codes, payment methods, and flags indicating specific attributes. It can be used for analysis and decision-making related to vendor management.'\n",
              ")"
            ]
          },
          "execution_count": 15,
          "metadata": {},
          "output_type": "execute_result"
        }
      ],
      "source": [
        "cot(pandas_dataframe_str = df.head(10).to_csv())"
      ]
    },
    {
      "cell_type": "code",
      "execution_count": 7,
      "metadata": {
        "colab": {
          "base_uri": "https://localhost:8080/"
        },
        "id": "nlAd7onpsSHs",
        "outputId": "30d3ef90-8560-4a94-fb92-004b4a0b976c"
      },
      "outputs": [
        {
          "name": "stderr",
          "output_type": "stream",
          "text": [
            "100%|██████████| 7/7 [00:00<00:00, 32.82it/s]"
          ]
        },
        {
          "name": "stdout",
          "output_type": "stream",
          "text": [
            "Processing completed.\n"
          ]
        },
        {
          "name": "stderr",
          "output_type": "stream",
          "text": [
            "\n"
          ]
        }
      ],
      "source": [
        "import pandas as pd\n",
        "import os\n",
        "import json\n",
        "from tqdm import tqdm\n",
        "\n",
        "def sanitize_column_name(col_name):\n",
        "    # Remove special characters and replace spaces with underscores\n",
        "    return re.sub(r\"\\W+\", \"_\", col_name)\n",
        "\n",
        "# Specify the directory containing the processed data\n",
        "processed_dir = \"ERP_Data\"\n",
        "\n",
        "# Initialize an empty list to store dictionaries\n",
        "all_infos_dict = []\n",
        "final_dir = os.path.join(processed_dir, \"\")\n",
        "\n",
        "\n",
        "# Iterate over all CSV files within the country directory\n",
        "for csv_file in tqdm(os.listdir(processed_dir)):\n",
        "    full_file_name = os.path.join(final_dir, csv_file)\n",
        "    if not full_file_name.endswith(\".csv\"):\n",
        "        continue\n",
        "    # print(full_file_name)\n",
        "\n",
        "    # Load the CSV file into a DataFrame\n",
        "    df = pd.read_csv(full_file_name)\n",
        "    df.dropna(how='all', inplace=True)\n",
        "\n",
        "    # Convert the DataFrame to a dictionary (example)\n",
        "    info_dict = df.to_dict(orient='records')[0]  # Convert the first row to a dict\n",
        "\n",
        "    # Save the DataFrame to a CSV file\n",
        "    save_name = full_file_name.split(\".\")[0].split(os.sep)[-1]\n",
        "    save_file_path = os.path.join(final_dir, f\"{save_name}_processed.csv\")\n",
        "    df.to_csv(save_file_path, index=False)\n",
        "\n",
        "    # Save the info_dict to a JSON file\n",
        "    with open(save_file_path.replace('.csv', '.json'), 'w') as outfile:\n",
        "        json.dump(info_dict, outfile)\n",
        "\n",
        "print(\"Processing completed.\")\n"
      ]
    },
    {
      "cell_type": "code",
      "execution_count": null,
      "metadata": {
        "colab": {
          "base_uri": "https://localhost:8080/"
        },
        "id": "cRYWRhtkbenU",
        "outputId": "0b1d8a72-49f8-4345-facc-80c4bdb64668"
      },
      "outputs": [],
      "source": [
        "processed_dir = \"ERP_Data\"\n",
        "dfs_str = []\n",
        "for files in tqdm(os.listdir(processed_dir)): # Building the summary and name for tables\n",
        "    if files.endswith(\"processed.csv\"):\n",
        "        file_name = files.split(\".\")[0]\n",
        "        csv_file_path = os.path.join(processed_dir,files)\n",
        "        df = pd.read_csv(csv_file_path,index_col=False)\n",
        "        json_file_path = os.path.join(processed_dir,f\"{file_name}.json\")\n",
        "        print(f\"\\n#### {json_file_path}\")\n",
        "        with open(json_file_path,'r') as f:\n",
        "            data = json.loads(f.read())\n",
        "            if 'table_name' in data and 'table_summary' in data:\n",
        "                if data['table_summary'] == \"\":\n",
        "                    pass\n",
        "                else:\n",
        "                    continue\n",
        "        dfs_str.append(df.head(10).to_csv())\n",
        "        table_preds = cot(pandas_dataframe_str = df.head(10).to_csv())\n",
        "        print(table_preds.table_name)\n",
        "        print(table_preds.table_summary)\n",
        "        data['table_name'] = file_name\n",
        "        data['table_summary'] = table_preds.table_summary\n",
        "        with open(json_file_path,'w') as f:\n",
        "            json.dump(data, f)"
      ]
    },
    {
      "cell_type": "markdown",
      "metadata": {
        "id": "vXw4POqabenV"
      },
      "source": [
        "## NEXT TASKS\n",
        "1. Build database for each table\n",
        "2. Embed the table summary and table SCHEMA. Also, embed the table rows\n",
        "3. Retrieval at table level and embed the rows to retrieve relevant rows from the retrieved schema of table\n",
        "4. Text-to-SQL pipeline"
      ]
    },
    {
      "cell_type": "markdown",
      "metadata": {
        "id": "CndEXfYWbenV"
      },
      "source": [
        "#### BUILD THE SQLITE DATABASE FROM THE CSV FILES"
      ]
    },
    {
      "cell_type": "code",
      "execution_count": 9,
      "metadata": {
        "id": "XOvmmorhbenW"
      },
      "outputs": [],
      "source": [
        "# Function to create a sanitized column name\n",
        "def sanitize_column_name(col_name):\n",
        "    # Remove special characters and replace spaces with underscores\n",
        "    return re.sub(r\"\\W+\", \"_\", col_name)\n",
        "\n",
        "\n",
        "# Function to create a table from a DataFrame using SQLAlchemy\n",
        "def create_table_from_dataframe(\n",
        "    df: pd.DataFrame, table_name: str, engine, metadata_obj\n",
        "):\n",
        "    # Sanitize column names\n",
        "    sanitized_columns = {col: sanitize_column_name(col) for col in df.columns}\n",
        "    df = df.rename(columns=sanitized_columns)\n",
        "\n",
        "    # Dynamically create columns based on DataFrame columns and data types\n",
        "    columns = [\n",
        "        Column(col, String if dtype == \"object\" else Integer)\n",
        "        for col, dtype in zip(df.columns, df.dtypes)\n",
        "    ]\n",
        "\n",
        "    # Create a table with the defined columns\n",
        "    table = Table(table_name, metadata_obj, *columns)\n",
        "\n",
        "    # Create the table in the database\n",
        "    metadata_obj.create_all(engine)\n",
        "\n",
        "    # Insert data from DataFrame into the table\n",
        "    with engine.connect() as conn:\n",
        "        for _, row in df.iterrows():\n",
        "            insert_stmt = table.insert().values(**row.to_dict())\n",
        "            conn.execute(insert_stmt)\n",
        "        conn.commit()"
      ]
    },
    {
      "cell_type": "markdown",
      "metadata": {
        "id": "6BuLvzDzbenW"
      },
      "source": [
        "## DATABASE CREATION"
      ]
    },
    {
      "cell_type": "code",
      "execution_count": 10,
      "metadata": {
        "id": "69LkrLu0benX"
      },
      "outputs": [],
      "source": [
        "processed_dir  = \"ERP_Data\"\n",
        "def sqlalchemy_engine(region:str):\n",
        "    \"\"\"Create a SQLAlchemy engine for the given region\"\"\"\n",
        "    # Create a SQLAlchemy database for each region\n",
        "    engine = create_engine(f\"sqlite:///{region}.db\")\n",
        "    metadata_obj = MetaData()\n",
        "    # region_path = os.path.join(processed_dir,region)\n",
        "    dfs = []\n",
        "    for dataframes_path in os.listdir(processed_dir):\n",
        "        if dataframes_path.endswith(\"processed.csv\"):\n",
        "            df = pd.read_csv(os.path.join(processed_dir,dataframes_path),index_col=False)\n",
        "            dfs.append((dataframes_path,df))\n",
        "    pbar = tqdm(total=len(dfs),desc=f\"Creating tables for {region}\")\n",
        "    for _, df_table_name in enumerate(dfs):\n",
        "        table_name = df_table_name[0]\n",
        "        table_name = table_name.split(\".\")[0]\n",
        "        df = df_table_name[1]\n",
        "        # print(f\"Creating table: {table_name}\")\n",
        "        create_table_from_dataframe(df,table_name, engine, metadata_obj)\n",
        "        # print(f\"Done creating table for: {table_name}\")\n",
        "        pbar.update(1)\n",
        "    return engine"
      ]
    },
    {
      "cell_type": "code",
      "execution_count": 11,
      "metadata": {
        "colab": {
          "base_uri": "https://localhost:8080/"
        },
        "id": "mqHbnzZObenX",
        "outputId": "dac5e903-1cfb-479a-e32b-6e28cd9cb8f1"
      },
      "outputs": [
        {
          "name": "stderr",
          "output_type": "stream",
          "text": [
            "Creating tables for main: 100%|██████████| 7/7 [00:04<00:00,  1.45it/s]\n"
          ]
        }
      ],
      "source": [
        "db_engine = sqlalchemy_engine(\"main\")"
      ]
    },
    {
      "cell_type": "code",
      "execution_count": 12,
      "metadata": {
        "id": "I0hJ06gGbenX"
      },
      "outputs": [],
      "source": [
        "def get_table_infos(sql_engine:sqlalchemy.engine.base.Engine,region:str):\n",
        "    \"\"\"Get all the tables info in the database based on the given region\"\"\"\n",
        "    inspector = inspect(sql_engine)\n",
        "    table_names = inspector.get_table_names()\n",
        "    table_infos_dict = {tb: [] for tb in table_names}\n",
        "    for tb in table_names:\n",
        "        column_dict = inspector.get_columns(tb)\n",
        "        schema_str = \"\"\n",
        "        primary_keys = []\n",
        "        for col in column_dict:\n",
        "            schema_str += f\"{col['name']} ({col['type']}), \"\n",
        "            if col[\"primary_key\"] not in primary_keys:\n",
        "                primary_keys.append(col[\"name\"])\n",
        "        with open(os.path.join(processed_dir,f\"{tb}.json\")) as f:\n",
        "            table_info = json.loads(f.read())\n",
        "        table_infos_dict[tb] = [\n",
        "            {\n",
        "                \"table_info\": f\"Table {tb} has columns: {schema_str[:-2]}\",\n",
        "                \"table_summary\": f'{table_info[\"table_summary\"]}. ',\n",
        "            }\n",
        "        ]\n",
        "    return table_infos_dict"
      ]
    },
    {
      "cell_type": "code",
      "execution_count": 13,
      "metadata": {
        "id": "AvTdj9R_benY"
      },
      "outputs": [],
      "source": [
        "tb_dict = get_table_infos(db_engine,\"main\")"
      ]
    },
    {
      "cell_type": "code",
      "execution_count": null,
      "metadata": {
        "colab": {
          "base_uri": "https://localhost:8080/"
        },
        "id": "T7O_9JueEaMM",
        "outputId": "317cc55f-6875-4924-f877-618bea8656b5"
      },
      "outputs": [],
      "source": [
        "tb_dict"
      ]
    },
    {
      "cell_type": "code",
      "execution_count": 15,
      "metadata": {
        "colab": {
          "base_uri": "https://localhost:8080/"
        },
        "id": "xblO37iyBMAE",
        "outputId": "40dc6274-56a7-4bac-a7c2-8fd90aef0da2"
      },
      "outputs": [
        {
          "data": {
            "text/plain": [
              "dict"
            ]
          },
          "execution_count": 15,
          "metadata": {},
          "output_type": "execute_result"
        }
      ],
      "source": [
        "type(tb_dict)"
      ]
    },
    {
      "cell_type": "markdown",
      "metadata": {
        "id": "7SDF_U0NbenZ"
      },
      "source": [
        "## EMBEDDINGS\n",
        "\n",
        "1. Embed the table summary and table SCHEMA to get the table that the user is looking for\n",
        "2. Embed the table rows for each table, so as to get relevant rows from the retrieved table"
      ]
    },
    {
      "cell_type": "markdown",
      "metadata": {
        "id": "z5eYgOj7bena"
      },
      "source": [
        "## EMBED THE TABLE SUMMARY AND TABLE SCHEMA"
      ]
    },
    {
      "cell_type": "code",
      "execution_count": null,
      "metadata": {
        "colab": {
          "base_uri": "https://localhost:8080/"
        },
        "id": "9bhy4C88FKMM",
        "outputId": "29b4bea9-0e9b-4654-9044-12340cce17fd"
      },
      "outputs": [],
      "source": [
        "os.environ['OPENAI_API_KEY'],"
      ]
    },
    {
      "cell_type": "code",
      "execution_count": 34,
      "metadata": {
        "id": "Pxlr9J4IKRCN"
      },
      "outputs": [],
      "source": [
        "from chromadb.db.base import UniqueConstraintError  # Correct import statement"
      ]
    },
    {
      "cell_type": "code",
      "execution_count": 39,
      "metadata": {
        "colab": {
          "base_uri": "https://localhost:8080/"
        },
        "id": "VXvTgSpcbena",
        "outputId": "731d3d1f-06b2-4a1e-c964-077dfc106992"
      },
      "outputs": [
        {
          "name": "stdout",
          "output_type": "stream",
          "text": [
            "7 7\n"
          ]
        },
        {
          "name": "stderr",
          "output_type": "stream",
          "text": [
            "Embedding table info: 100%|██████████| 1/1 [00:00<00:00,  2.78it/s]\n"
          ]
        }
      ],
      "source": [
        "import chromadb\n",
        "import chromadb.utils.embedding_functions as embedding_functions\n",
        "from chromadb.utils.batch_utils import create_batches\n",
        "from chromadb.config import Settings\n",
        "\n",
        "emb_fn = embedding_functions.OpenAIEmbeddingFunction(\n",
        "                api_key=os.environ['OPENAI_API_KEY'],\n",
        "                model_name=\"text-embedding-3-small\")\n",
        "# EMBEDDING_MODEL = \"mixedbread-ai/mxbai-embed-large-v1\"\n",
        "# emb_fn = embedding_functions.HuggingFaceEmbeddingFunction(model_name=EMBEDDING_MODEL,api_key=os.environ[\"HF_API_KEY\"])\n",
        "def embed_table_info(region:str,tb_dict):\n",
        "    \"\"\"Embed the table summary and table SCHEMA to get the table that the user is looking for\"\"\"\n",
        "    settings = Settings(allow_reset=True)\n",
        "    client = chromadb.PersistentClient(path=\"./main_TABLE\", settings=settings)\n",
        "    # client = chromadb.PersistentClient(path=f\"{region}_TABLE\")\n",
        "    try:\n",
        "        table_collection = client.create_collection(name=\"table\",embedding_function=emb_fn)\n",
        "    except UniqueConstraintError:\n",
        "        print(\"Collection 'table' already exists. Skipping creation.\")\n",
        "\n",
        "    table_docs = []\n",
        "    table_metadata = []\n",
        "\n",
        "\n",
        "    for table_name,table_data in tb_dict.items():\n",
        "        table_docs.append(table_data[0]['table_info'] + \". \" + table_data[0]['table_summary'])\n",
        "        table_metadata.append({\"table_name\":table_name,'table_metadata':table_data[0]['table_info']})\n",
        "    table_ids = [f\"id{i}\" for i in range(len(table_docs))]\n",
        "    assert len(table_docs) == len(table_metadata)\n",
        "    print(len(table_docs),len(table_metadata))\n",
        "    # Create a batch of data to be sent to OpenAI Embedding API\n",
        "    batches = create_batches(api=client,ids=table_ids, documents=table_docs, metadatas=table_metadata)\n",
        "    for batch in tqdm(batches,desc=\"Embedding table info\"):\n",
        "        table_collection.add(ids=batch[0],\n",
        "                    documents=batch[3],\n",
        "                    metadatas=batch[2])\n",
        "\n",
        "embed_table_info(\"main\",tb_dict)"
      ]
    },
    {
      "cell_type": "code",
      "execution_count": 41,
      "metadata": {
        "id": "yNNe_0a8bena"
      },
      "outputs": [],
      "source": [
        "\n",
        "def embed_rows(region:str,batch_size:int=24):\n",
        "    client = chromadb.PersistentClient(path=f\"{region}_TABLE\")\n",
        "    # client.delete_collection(name=\"rows\")\n",
        "    settings = Settings(allow_reset=True)\n",
        "    client = chromadb.PersistentClient(path=\"./main_TABLE\", settings=settings)\n",
        "    # client = chromadb.PersistentClient(path=f\"{region}_TABLE\")\n",
        "    try:\n",
        "        rows_collection = client.create_collection(name=\"rows\",embedding_function=emb_fn)\n",
        "    except UniqueConstraintError:\n",
        "        print(\"Collection 'rows' already exists. Skipping creation.\")\n",
        "\n",
        "    rows_docs = []\n",
        "    rows_metadata = []\n",
        "    region_path = os.path.join(processed_dir,\"\")\n",
        "    for df_path in os.listdir(region_path):\n",
        "        df_full_path = os.path.join(region_path,df_path)\n",
        "        df = pd.read_csv(df_full_path,index_col=False)\n",
        "        for idx,row in df.iterrows():\n",
        "            row_str = \"\"\n",
        "            full_rows = []\n",
        "            for rv in row.values:\n",
        "                if isinstance(rv,str):\n",
        "                    row_str+= rv + \", \"\n",
        "                full_rows.append(str(rv))\n",
        "                row_str = row_str.replace('\"',\"\")\n",
        "                # row_str = row_str.replace(\"'\",'\"')\n",
        "            full_rows_str = \", \".join(full_rows)[:-2]\n",
        "            full_rows_str = full_rows_str.replace('\"',\"\")\n",
        "            rows_docs.append(row_str[:-2])\n",
        "            rows_metadata.append({\"table_name\":df_path.split(\".\")[0],\"region\":region,\"index\":idx,\"full_rows\":full_rows_str})\n",
        "    row_ids = [f\"id{i}\" for i in range(len(rows_docs))]\n",
        "    # print(len(rows_docs),len(rows_metadata))\n",
        "    assert len(rows_docs) == len(rows_metadata) == len(row_ids)\n",
        "    # return rows_docs,rows_metadata,row_ids\n",
        "    for start in tqdm(range(0,len(rows_docs),batch_size),desc=\"Embedding rows\"):\n",
        "        end = min(start+batch_size,len(rows_docs))\n",
        "        batch_ids = row_ids[start:end]\n",
        "        batch_rows = rows_docs[start:end]\n",
        "        batch_metadatas = rows_metadata[start:end]\n",
        "        rows_collection.add(ids=batch_ids,\n",
        "                    documents=batch_rows,\n",
        "                    metadatas=batch_metadatas)\n",
        "    # return batches"
      ]
    },
    {
      "cell_type": "code",
      "execution_count": 42,
      "metadata": {
        "colab": {
          "base_uri": "https://localhost:8080/"
        },
        "id": "iN7UN5b3bena",
        "outputId": "39d89517-48f1-4e33-8afb-1ad162c6594a"
      },
      "outputs": [
        {
          "name": "stderr",
          "output_type": "stream",
          "text": [
            "Embedding rows: 100%|██████████| 4/4 [00:26<00:00,  6.56s/it]\n"
          ]
        }
      ],
      "source": [
        "region = \"main\"\n",
        "# embed_table_info(region,tb_dict)\n",
        "embed_rows(region,2000)"
      ]
    },
    {
      "cell_type": "markdown",
      "metadata": {
        "id": "T62EH6Gobenf"
      },
      "source": [
        "## TEXT-TO-SQL PIPELINE"
      ]
    },
    {
      "cell_type": "markdown",
      "metadata": {
        "id": "tAmw3LY9benf"
      },
      "source": [
        "### LOAD DATABASE"
      ]
    },
    {
      "cell_type": "code",
      "execution_count": 43,
      "metadata": {
        "id": "lZj6UJm4beng"
      },
      "outputs": [],
      "source": [
        "db_dict = {\n",
        "    \"main\":db_engine,\n",
        "}\n",
        "\n",
        "def get_collections_db(region:str):\n",
        "    # Get the database for the given region, table collection and row collection\n",
        "    client = chromadb.PersistentClient(path=f\"{region}_TABLE\")\n",
        "    table_collection = client.get_collection(name=\"table\",embedding_function=emb_fn)\n",
        "    row_collection = client.get_collection(name=\"rows\",embedding_function=emb_fn)\n",
        "    return [db_dict[region],table_collection,row_collection]"
      ]
    },
    {
      "cell_type": "code",
      "execution_count": 44,
      "metadata": {
        "id": "St4pl7z4benh"
      },
      "outputs": [],
      "source": [
        "db_collection_dict = {\n",
        "    \"main\":get_collections_db(\"main\")\n",
        "}"
      ]
    },
    {
      "cell_type": "code",
      "execution_count": 45,
      "metadata": {
        "id": "9B0za5Ahbenh"
      },
      "outputs": [],
      "source": [
        "text_to_sql = dspy.OpenAI(model='gpt-3.5-turbo', max_tokens=1024)\n",
        "sql_to_answer = dspy.OpenAI(model='gpt-3.5-turbo',max_tokens=1024)\n",
        "\n",
        "# DSPy signature for converting text to SQL query\n",
        "class TextToSQLAnswer(dspy.Signature):\n",
        "    \"\"\"Convert natural language text to SQL using suitable schema(s) from multiple schema choices\"\"\"\n",
        "\n",
        "    question:str = dspy.InputField(desc=\"natural language input which will be converted to SQL\")\n",
        "    relevant_table_schemas_rows:str = dspy.InputField(desc=\"Multiple possible tables which has table name and corresponding columns, along with relevant rows from the table (values in the same order as columns above)\")\n",
        "    sql:str = dspy.OutputField(desc=\"Generate syntactically correct sqlite query with correct column names using suitable tables(s) and its rows.\\n Don't forget to add distinct.\\n Please rename the returned columns into suitable names.\\n DON'T OUTPUT anything else other than the sqlite query\")\n",
        "\n",
        "# DSPy signature for converting SQL query and question to natural language text\n",
        "class SQLReturnToAnswer(dspy.Signature):\n",
        "    \"\"\"Answer the question using the rows from the SQL query\"\"\"\n",
        "    question:str = dspy.InputField()\n",
        "    sql:str = dspy.InputField(desc=\"sqlite query that generated the rows\")\n",
        "    relevant_rows:str = dspy.InputField(desc=\"relevant rows to answer the question\")\n",
        "    answer:str = dspy.OutputField(desc=\"answer to the question using relevant rows and the sql query\")\n",
        "\n",
        "# If there is an SQLError, then rectify the error by trying again\n",
        "class SQLRectifier(dspy.Signature):\n",
        "    \"\"\"Correct the SQL query to resolve the error using the proper table names, columns and rows\"\"\"\n",
        "    input_sql:str = dspy.InputField(desc=\"sqlite query that needs to be fixed\")\n",
        "    error_str: str = dspy.InputField(desc=\"error that needs to be resolved\")\n",
        "    relevant_table_schemas_rows:str = dspy.InputField(desc=\"Multiple possible tables which has table name and corresponding columns, along with relevant rows from the table (values in the same order as columns above)\")\n",
        "    sql:str = dspy.OutputField(desc=\"corrected sqlite query to resolve the error and remove and any invalid syntax in the query.\\n Don't output anything else other than the sqlite query\")\n",
        "\n",
        "dspy.settings.configure(lm=text_to_sql)\n",
        "\n",
        "# Filter out the SQL Query\n",
        "def process_sql_str(sql_str:str):\n",
        "    sql_str = sql_str.replace(\"```\",\"\")\n",
        "    sql_str = sql_str.replace(\"sql\",\"\")\n",
        "    sql_str = sql_str.strip()\n",
        "    return sql_str"
      ]
    },
    {
      "cell_type": "markdown",
      "metadata": {
        "id": "yaOM7P4vbeni"
      },
      "source": [
        "<p align=\"center\">\n",
        "  <img src=\"https://raw.githubusercontent.com/Athe-kunal/Text-to-SQL/main/Schema.png\" alt=\"Sublime's custom image\"/>\n",
        "</p>"
      ]
    },
    {
      "cell_type": "code",
      "execution_count": 46,
      "metadata": {
        "id": "5-m9kJf4beni"
      },
      "outputs": [],
      "source": [
        "def get_table_results(table_collection_,question:str):\n",
        "    # question_emb = emb_fn.embed_with_retries(question)[0]\n",
        "    # Get the table results for the given question\n",
        "    table_results = table_collection_.query(\n",
        "        query_texts = question,\n",
        "        n_results = 5\n",
        "    )\n",
        "    # print(table_results['documents'][0])\n",
        "    return table_results\n",
        "\n",
        "def get_row_results(row_collection_,question,table_name:str):\n",
        "    # Get the row results for the given question\n",
        "    row_results = row_collection_.query(\n",
        "        query_texts = question,\n",
        "        where = {\"table_name\":table_name},\n",
        "        n_results = 5\n",
        "    )\n",
        "    print(row_results['documents'][0])\n",
        "    return row_results"
      ]
    },
    {
      "cell_type": "code",
      "execution_count": null,
      "metadata": {
        "colab": {
          "base_uri": "https://localhost:8080/"
        },
        "id": "sK-oPlaQbenj",
        "outputId": "8d82872c-e89a-4670-ec0b-2e531a0640ae"
      },
      "outputs": [],
      "source": [
        "from typing import Any\n",
        "import re\n",
        "\n",
        "class TextToSQLQueryModule(dspy.Module):\n",
        "    \"\"\"Text to SQL to final module\"\"\"\n",
        "    def __init__(self,region:str,use_cot:bool=True,max_retries:int=3):\n",
        "        \"\"\"Text to Answer init module\n",
        "\n",
        "        Args:\n",
        "            region (str): Region for which the module will be used.\n",
        "            use_cot (bool, optional): Whether to use chain of thought for sql query generation. Defaults to True.\n",
        "            max_retries (int, optional): Number of max retries for SQLError. Defaults to 3.\n",
        "        \"\"\"\n",
        "        super().__init__()\n",
        "        self.region = region\n",
        "        db,table_collection,row_collection = db_collection_dict[region]\n",
        "        # print(db,table_collection,row_collection)\n",
        "        self.table_collection = table_collection\n",
        "        self.use_cot = use_cot\n",
        "        self.db = db\n",
        "        self.row_collection = row_collection\n",
        "        if self.use_cot == True:\n",
        "            self.sqlAnswer = dspy.ChainOfThought(TextToSQLAnswer)\n",
        "        else:\n",
        "            self.sqlAnswer = dspy.Predict(TextToSQLAnswer)\n",
        "        self.final_output = dspy.Predict(SQLReturnToAnswer)\n",
        "        self.max_tries = max_retries\n",
        "        # Initialize the sql rectifier with CoT reasoning\n",
        "        self.sql_rectifier = dspy.ChainOfThought(SQLRectifier,rationale_type=dspy.OutputField(\n",
        "            prefix=\"Reasoning: Let's think step by step in order to\",\n",
        "            desc=\"${produce the answer}. We ...\"\n",
        "        ))\n",
        "\n",
        "    def __call__(self, *args: Any, **kwargs: Any) -> Any:\n",
        "        return self.forward(*args, **kwargs)\n",
        "\n",
        "    def forward(self,question):\n",
        "        # Embed the question with embedding function\n",
        "        question_emb = emb_fn([question])[0]\n",
        "        # Retrieve the relevant tables from table schema and table summary\n",
        "        docs = self.table_collection.query(\n",
        "            query_embeddings = question_emb,\n",
        "            n_results = 5\n",
        "        )\n",
        "        # docs = get_table_results(db_collection_dict[self.region][1],question)\n",
        "        relevant_rows_schemas = \"\"\n",
        "\n",
        "        existing_table_names = []\n",
        "\n",
        "        for table_idx,metadata_name in enumerate(docs['metadatas'][0]):\n",
        "            table_metadata = metadata_name['table_metadata']\n",
        "            table_name = metadata_name['table_name']\n",
        "            # If the table name is already in the list of existing table names, skip it\n",
        "            # if table_name in existing_table_names:\n",
        "            #     continue\n",
        "            existing_table_names.append(table_name)\n",
        "            # Retrieve the relevant rows from the current table\n",
        "            rows = self.row_collection.query(\n",
        "                query_embeddings = question_emb,\n",
        "                n_results = 5,\n",
        "                # where clause to filter the rows\n",
        "                where = {\"table_name\":table_name}\n",
        "            )\n",
        "            # Retrieve the relevant table with the schema and summary\n",
        "            relevant_rows_schemas += f'Table name: {table_name} \\n'\n",
        "            relevant_rows_schemas += \"/* \\n\"\n",
        "            for match in re.finditer(\"columns: \",table_metadata):\n",
        "                cols_end = match.end()\n",
        "            relevant_rows_schemas += \"col : \" + \" | \".join(table_metadata[cols_end:].split(\", \")) + \"\\n\"\n",
        "            for row_idx,row in enumerate(rows['metadatas'][0]):\n",
        "                # Get the relevant rows from the current table\n",
        "                # relevant_rows_schemas += f'\\tRow {row_idx+1} from table {table_name}: {row[\"full_rows\"]}\\n'\n",
        "                relevant_rows_schemas += f'row {row_idx+1} : {\" | \".join(row[\"full_rows\"].split(\", \"))}\\n'\n",
        "            relevant_rows_schemas += \"*/\" + '\\n\\n'\n",
        "        print(colored(relevant_rows_schemas,\"yellow\"))\n",
        "        # return\n",
        "        sql_query = self.sqlAnswer(question=question,relevant_table_schemas_rows=relevant_rows_schemas)\n",
        "\n",
        "        num_tries = 0\n",
        "        print(sql_query)\n",
        "        while num_tries <= self.max_tries:\n",
        "            with self.db.connect() as conn:\n",
        "                try:\n",
        "                    # Try executing the sql query for the database\n",
        "                    result = conn.execute(text(process_sql_str(sql_query.sql)))\n",
        "                    num_tries = self.max_tries + 1\n",
        "                except Exception as error:\n",
        "                    # If there is an sql error, then try again with the sql rectifier\n",
        "                    print(colored(str(error),'red'))\n",
        "                    sql_query = self.sql_rectifier(input_sql=sql_query.sql,error_str=str(error),relevant_table_schemas_rows=relevant_rows_schemas)\n",
        "                    print(colored(sql_query.rationale,'green'))\n",
        "                    print()\n",
        "                    print(colored(sql_query.sql,'green'))\n",
        "                    # If all the num_retries are exhausted, then exit the program\n",
        "                    num_tries += 1\n",
        "                    if num_tries == self.max_tries+1:\n",
        "                        return sql_query,error\n",
        "        # With the retrieved rows from the database, then try to answer the question with dspy context\n",
        "        with dspy.context(lm=sql_to_answer):\n",
        "            row_str = \"\"\n",
        "            key = tuple(result.keys())\n",
        "            for row in result.fetchall():\n",
        "                for r,k in zip(row,key):\n",
        "                    row_str += f\" {k} = {r},\"\n",
        "                row_str = row_str[:-1]\n",
        "                row_str += \"\\n\"\n",
        "            print(f\"Extracted rows: {row_str}\")\n",
        "            final_answer = self.final_output(question=question,sql=sql_query.sql,relevant_rows=row_str)\n",
        "            return final_answer\n",
        "tsql_ = TextToSQLQueryModule(\"main\")\n",
        "question = \"Can you give me the status of invoice number 1687546526?\"\n",
        "sq = tsql_(question = question)"
      ]
    },
    {
      "cell_type": "code",
      "execution_count": 48,
      "metadata": {
        "colab": {
          "base_uri": "https://localhost:8080/"
        },
        "id": "kYQwGB8Bbenk",
        "outputId": "b3c09ce3-0acb-4e90-b96d-c8556952cd05"
      },
      "outputs": [
        {
          "name": "stdout",
          "output_type": "stream",
          "text": [
            "Prediction(\n",
            "    answer='| invoice_status |\\n|----------------|\\n| APPROVED       |\\n\\nAnswer: The status of invoice number 1687546526 is APPROVED.'\n",
            ")\n"
          ]
        }
      ],
      "source": [
        "print(sq)"
      ]
    },
    {
      "cell_type": "code",
      "execution_count": 50,
      "metadata": {
        "colab": {
          "base_uri": "https://localhost:8080/"
        },
        "id": "7DrZIYWpN7vf",
        "outputId": "ab09c9fa-0dda-4a03-a1c2-3a9a6ffe35d2"
      },
      "outputs": [
        {
          "name": "stdout",
          "output_type": "stream",
          "text": [
            "| invoice_status |\n",
            "|----------------|\n",
            "| APPROVED       |\n",
            "\n",
            "Answer: The status of invoice number 1687546526 is APPROVED.\n"
          ]
        }
      ],
      "source": [
        "print(sq.answer)"
      ]
    },
    {
      "cell_type": "code",
      "execution_count": null,
      "metadata": {
        "colab": {
          "base_uri": "https://localhost:8080/"
        },
        "id": "YiPGie4ebenl",
        "outputId": "fc9ca4c9-b351-45bf-b40c-7c093fcfc1b0"
      },
      "outputs": [],
      "source": [
        "# tsql = TextToSQLQueryModule(\"main\")\n",
        "sq = tsql_(question=\"What is the currency code for the invoice number 1687546526?\")\n",
        "print(sq.answer)"
      ]
    },
    {
      "cell_type": "code",
      "execution_count": null,
      "metadata": {
        "colab": {
          "base_uri": "https://localhost:8080/"
        },
        "id": "aAxBYa2Cbenm",
        "outputId": "1e01fadd-32a5-4a88-96d4-7395b4e15f81"
      },
      "outputs": [],
      "source": [
        "sq = tsql_(question=\"Can you give me the vendor name, amount paid and source for the same?\")\n",
        "print(sq.answer)"
      ]
    },
    {
      "cell_type": "code",
      "execution_count": null,
      "metadata": {
        "colab": {
          "base_uri": "https://localhost:8080/"
        },
        "id": "rd0cQGanbenm",
        "outputId": "a0b87c9f-c654-4be1-e543-3d0608da9791"
      },
      "outputs": [],
      "source": [
        "sq = tsql_(question=\"What is the amount paid for the invoice number 1687546526?\")\n",
        "print(sq.answer)"
      ]
    },
    {
      "cell_type": "code",
      "execution_count": 54,
      "metadata": {
        "colab": {
          "base_uri": "https://localhost:8080/"
        },
        "id": "8xcwQ1PKbenn",
        "outputId": "66c7033c-806b-4fa3-98a9-4c8f7235c324"
      },
      "outputs": [
        {
          "name": "stdout",
          "output_type": "stream",
          "text": [
            "| Invoice_Number | Amount_Paid |\n",
            "|----------------|-------------|\n",
            "| 1687546526     | 500         |\n",
            "\n",
            "Answer: The amount paid for the invoice number 1687546526 is $500.\n"
          ]
        }
      ],
      "source": [
        "print(sq.answer)"
      ]
    },
    {
      "cell_type": "code",
      "execution_count": null,
      "metadata": {
        "colab": {
          "base_uri": "https://localhost:8080/"
        },
        "id": "L1GA2Jr0beno",
        "outputId": "5d225ea0-72fb-4397-f13a-0c2deb344323"
      },
      "outputs": [],
      "source": [
        "sq = tsql_(question=\"What is the PO number for the invoice number 9302587107?\")\n",
        "print(sq.answer)"
      ]
    },
    {
      "cell_type": "code",
      "execution_count": 56,
      "metadata": {
        "colab": {
          "base_uri": "https://localhost:8080/"
        },
        "id": "dVsMQ-Zibenp",
        "outputId": "9ba25a37-b901-4f45-82de-fd6bfe584db5"
      },
      "outputs": [
        {
          "name": "stdout",
          "output_type": "stream",
          "text": [
            "| PO_NUMBER |\n",
            "|-----------|\n",
            "| 123456    |\n",
            "\n",
            "Answer: The PO number for the invoice number 9302587107 is 123456.\n"
          ]
        }
      ],
      "source": [
        "print(sq.answer)"
      ]
    },
    {
      "cell_type": "code",
      "execution_count": null,
      "metadata": {
        "colab": {
          "base_uri": "https://localhost:8080/"
        },
        "id": "tMg-HvxXbenq",
        "outputId": "56168763-9a42-46b2-bdf3-663b4e82e1ae"
      },
      "outputs": [],
      "source": [
        "sq = tsql_(question=\"What is the invoice amount, payment status and invoice date for invoice number SC16616G-DEC-24?\")\n",
        "print(sq.answer)"
      ]
    },
    {
      "cell_type": "code",
      "execution_count": 58,
      "metadata": {
        "colab": {
          "base_uri": "https://localhost:8080/"
        },
        "id": "71W2OxZZbenq",
        "outputId": "3c753eac-f420-4b06-dde9-0ac28a79e1fb"
      },
      "outputs": [
        {
          "name": "stdout",
          "output_type": "stream",
          "text": [
            "| invoice_amount | payment_status | invoice_date |\n",
            "|----------------|----------------|--------------|\n",
            "| 500.00         | PAID           | 2024-12-24   |\n",
            "\n",
            "Answer: The invoice amount for invoice number SC16616G-DEC-24 is $500.00, the payment status is PAID, and the invoice date is December 24, 2024.\n"
          ]
        }
      ],
      "source": [
        "print(sq.answer)"
      ]
    },
    {
      "cell_type": "code",
      "execution_count": null,
      "metadata": {
        "colab": {
          "base_uri": "https://localhost:8080/"
        },
        "id": "il4bcAICbenq",
        "outputId": "fe540ef2-ea76-4c72-d822-76a40f71f5f6"
      },
      "outputs": [],
      "source": [
        "sq = tsql_(question=\"What is the vendor id, payment currency code, total tax amount and payment status for invoice number 9016618879 ?\")\n",
        "print(sq.answer)"
      ]
    },
    {
      "cell_type": "code",
      "execution_count": 60,
      "metadata": {
        "colab": {
          "base_uri": "https://localhost:8080/"
        },
        "id": "pO-2U_qiQGXi",
        "outputId": "8c69a79e-c2ec-4bae-c9c4-58c55daf7c7f"
      },
      "outputs": [
        {
          "name": "stdout",
          "output_type": "stream",
          "text": [
            "| vendor_id | payment_currency_code | total_tax_amount | payment_status |\n",
            "|-----------|-----------------------|------------------|-----------------|\n",
            "| 12345     | USD                   | 50.00            | PAID            |\n",
            "\n",
            "Answer: The vendor id for invoice number 9016618879 is 12345, the payment currency code is USD, the total tax amount is 50.00, and the payment status is PAID.\n"
          ]
        }
      ],
      "source": [
        "print(sq.answer)"
      ]
    },
    {
      "cell_type": "code",
      "execution_count": null,
      "metadata": {
        "colab": {
          "base_uri": "https://localhost:8080/"
        },
        "id": "8EYlU1ffbenr",
        "outputId": "821633ee-fe95-4aca-8964-db305de16b76"
      },
      "outputs": [],
      "source": [
        "sq = tsql_(question=\"What is the invoice date for invoice number 9016618879 ?\")\n",
        "print(sq.answer)"
      ]
    },
    {
      "cell_type": "code",
      "execution_count": 62,
      "metadata": {
        "colab": {
          "base_uri": "https://localhost:8080/"
        },
        "id": "HAeQtLQibenr",
        "outputId": "13f4723b-11c1-4063-e056-ebfccbccbaac"
      },
      "outputs": [
        {
          "name": "stdout",
          "output_type": "stream",
          "text": [
            "| Invoice_Date |\n",
            "|--------------|\n",
            "| 2022-01-15   |\n",
            "\n",
            "Answer: The invoice date for invoice number 9016618879 is 2022-01-15.\n"
          ]
        }
      ],
      "source": [
        "print(sq.answer)"
      ]
    },
    {
      "cell_type": "code",
      "execution_count": null,
      "metadata": {
        "colab": {
          "base_uri": "https://localhost:8080/"
        },
        "id": "6AvdGXJDQSUy",
        "outputId": "d70e6293-9946-43a3-d722-5d24478702ce"
      },
      "outputs": [],
      "source": [
        "sq = tsql_(question=\"Can you give the payment status for above too?\")\n",
        "print(sq.answer)"
      ]
    },
    {
      "cell_type": "code",
      "execution_count": null,
      "metadata": {
        "id": "T1ez1IRvU50y"
      },
      "outputs": [],
      "source": []
    },
    {
      "cell_type": "code",
      "execution_count": null,
      "metadata": {
        "id": "H7W6t0FtZAqt"
      },
      "outputs": [],
      "source": []
    }
  ],
  "metadata": {
    "accelerator": "GPU",
    "colab": {
      "gpuType": "T4",
      "provenance": []
    },
    "kernelspec": {
      "display_name": "Python 3",
      "name": "python3"
    },
    "language_info": {
      "codemirror_mode": {
        "name": "ipython",
        "version": 3
      },
      "file_extension": ".py",
      "mimetype": "text/x-python",
      "name": "python",
      "nbconvert_exporter": "python",
      "pygments_lexer": "ipython3",
      "version": "3.10.12"
    }
  },
  "nbformat": 4,
  "nbformat_minor": 0
}
